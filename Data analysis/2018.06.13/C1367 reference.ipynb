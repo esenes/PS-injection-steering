{
 "cells": [
  {
   "cell_type": "markdown",
   "metadata": {},
   "source": [
    "# Emi blowup from the bump verification\n",
    "\n",
    "1) fire the bump at second injection\n",
    "\n",
    "2) measure the emittance once with bump and once without at C1373"
   ]
  },
  {
   "cell_type": "code",
   "execution_count": 1,
   "metadata": {
    "scrolled": true
   },
   "outputs": [
    {
     "name": "stdout",
     "output_type": "stream",
     "text": [
      "Version 0.03. This is the latest version.\n",
      "Please help me to improve it reporting bugs to guido.sterbini@cern.ch.\n",
      "Your platform is Linux-3.10.0-693.21.1.el7.x86_64-x86_64-with-redhat-6.9-Carbon\n",
      "Your folder is /eos/user/e/esenes/Injection_missteering/2018.06.13\n",
      "Your IP is 172.17.0.5\n",
      "2018-06-14 11:34:49\n",
      "---\n",
      "Version 0.1\n",
      "Use at your own risk. Please report bugs to eugenio.senes@cern.ch\n",
      "Fork it at https://gitlab.cern.ch/esenes/PS-analysis-tools\n",
      "---\n"
     ]
    }
   ],
   "source": [
    "%run /eos/project/l/liu/Toolbox/myToolbox.py\n",
    "print '---'\n",
    "%run /eos/user/e/esenes/PS-analysis-tools/eTools.py\n",
    "print '---'\n",
    "sys.path.append('/eos/project/l/liu/Instrumentation/Scripts')\n",
    "import metaclass"
   ]
  },
  {
   "cell_type": "code",
   "execution_count": 2,
   "metadata": {},
   "outputs": [],
   "source": [
    "sys.path.append('/eos/project/l/liu/Instrumentation/Scripts')\n",
    "import metaclass"
   ]
  },
  {
   "cell_type": "markdown",
   "metadata": {},
   "source": [
    "# User inputs"
   ]
  },
  {
   "cell_type": "code",
   "execution_count": 3,
   "metadata": {},
   "outputs": [],
   "source": [
    "folderPath = '/eos/project/l/liu/PS/data/2017/MD2586_InjectionEmittanceBlowup/2018.06.13'\n",
    "\n",
    "matlabVars = ['PR_BWS_65_H_ROT.Acquisition.value.projDataSet1', # Wirescanner 65\n",
    "                'PR_BWS_65_H_ROT.Acquisition.value.projPositionSet1',\n",
    "                'PR_BWS_65_H_ROT.Acquisition.value.acqTimeInCycleSet1',\n",
    "                'PR_BWS_85_V_ROT.Acquisition.value.projDataSet1', # Wirescanner 85\n",
    "                'PR_BWS_85_V_ROT.Acquisition.value.projPositionSet1',\n",
    "                'PR_BWS_85_V_ROT.Acquisition.value.acqTimeInCycleSet1',\n",
    "                'PI_KFA45.AQN1.value',\n",
    "                'PI_KFA45.CCV.value', \n",
    "                'PR_BPM.AcquisitionOrbit.value.position', # BPMs\n",
    "                'PR_BPM.AcquisitionTrajectoryBBB.value.position',\n",
    "                'PR_BCT_ST.Samples.value.samples',\n",
    "                'PI2X_SBSW40.OutEnable.value.outEnabled',\n",
    "                'PI2X_SBSW42.OutEnable.value.outEnabled',\n",
    "                'PI2X_SBSW43.OutEnable.value.outEnabled',\n",
    "                'PI2X_SBSW44.OutEnable.value.outEnabled',\n",
    "             ]\n",
    "\n"
   ]
  },
  {
   "cell_type": "code",
   "execution_count": 13,
   "metadata": {},
   "outputs": [
    {
     "name": "stdout",
     "output_type": "stream",
     "text": [
      "Found 18 data files\n",
      "First: /eos/project/l/liu/PS/data/2017/MD2586_InjectionEmittanceBlowup/2018.06.13/WS_reference_C1367/2018.06.13.13.48.37.237.mat\n",
      "End: /eos/project/l/liu/PS/data/2017/MD2586_InjectionEmittanceBlowup/2018.06.13/WS_reference_C1367/2018.06.13.14.01.01.181.mat\n"
     ]
    }
   ],
   "source": [
    "# let's start with the matlab data\n",
    "files = sorted(glob.glob(folderPath+'/WS_reference_C1367/2018*.mat'))\n",
    "\n",
    "del(files[1]) #cleanup\n",
    "\n",
    "print 'Found ' + str(len(files)) + ' data files'\n",
    "print 'First: ' + files[0]\n",
    "print 'End: ' + files[-1]"
   ]
  },
  {
   "cell_type": "code",
   "execution_count": 14,
   "metadata": {},
   "outputs": [],
   "source": [
    "myDataFrame = myToolbox.fromMatlabToDataFrame(files,matlabVars,verbose=False)"
   ]
  },
  {
   "cell_type": "markdown",
   "metadata": {},
   "source": [
    "# Data cleanup"
   ]
  },
  {
   "cell_type": "code",
   "execution_count": 15,
   "metadata": {},
   "outputs": [
    {
     "name": "stdout",
     "output_type": "stream",
     "text": [
      "No duplicates found\n",
      "---\n",
      "BPM data ok\n",
      "---\n"
     ]
    }
   ],
   "source": [
    "myDataFrame = checkDuplicates(myDataFrame) # Drop double acquisitions from matlab\n",
    "myDataFrame = checkBPMData(myDataFrame) # BPMs fault\n",
    "# manual data drop\n",
    "# myDataFrame = myDataFrame.drop(myDataFrame.loc['2017-11-14 17:59:28.300000'].name) # non-phys emittance"
   ]
  },
  {
   "cell_type": "markdown",
   "metadata": {},
   "source": [
    "# Match the tomogram data"
   ]
  },
  {
   "cell_type": "code",
   "execution_count": 16,
   "metadata": {},
   "outputs": [],
   "source": [
    "# directly copied from one of Guido's analyses\n",
    "def extractProfile(fileName):\n",
    "    '''Give me the input file (.dat) of the tomogram and I will give you 2 output:\n",
    "        the deltaP_P and the the momentum distribution profile.\n",
    "    ''' \n",
    "\n",
    "    print('/eos/project/l/liu/Instrumentation/tomography/runofflinetomo ' + fileName)\n",
    "    a=os.system('/eos/project/l/liu/Instrumentation/tomography/runofflinetomo ' + fileName)\n",
    "    \n",
    "    convergence=np.loadtxt(fileName[0:-4] + '/d001.data')\n",
    "    image=np.loadtxt(fileName[0:-4] + '/image001.data')\n",
    "    with open(fileName[0:-4] + '/input_v2.dat','r') as stream: tomofileheader = stream.readlines()[:98]\n",
    "\n",
    "    myInput={'PLSUSER': tomofileheader[0][0:-1],\n",
    "            'NumberOfframes': np.int(tomofileheader[16][0:-1]),\n",
    "            'B_T': np.double(tomofileheader[75][0:-1]),\n",
    "            'Bdot_T_per_s': np.double(tomofileheader[77][0:-1]),\n",
    "            'machineRadius_m': np.double(tomofileheader[79][0:-1]),\n",
    "            'bendingRadius_m': np.double(tomofileheader[81][0:-1]),\n",
    "            'particleMass_eV': np.double(tomofileheader[85][0:-1]),\n",
    "            'h': np.int(np.double(tomofileheader[69][0:-1])),\n",
    "            'ctime': np.int(tomofileheader[2]),\n",
    "            'cycleStamp':np.int(tomofileheader[1]),                    # cyclestamp in unix time\n",
    "            'pickupSensitivity':np.double(tomofileheader[97])          # pickup sensitivity\n",
    "    }\n",
    "\n",
    "    with open(fileName[0:-4] + '/plotinfo.data','r') as stream: tomofileheader = stream.readlines()\n",
    "\n",
    "    myInput['profilecount']=np.int(str.split(tomofileheader[1])[2])\n",
    "    myInput['profilelength']=np.int(str.split(tomofileheader[3])[2])\n",
    "\n",
    "    myInput['dtbin']=np.double(str.split(tomofileheader[5])[2])\n",
    "    myInput['dEbin']=np.double(str.split(tomofileheader[7])[2])\n",
    "    myInput['xat0']=np.double(str.split(tomofileheader[11])[2])\n",
    "    myInput['yat0']=np.double(str.split(tomofileheader[12])[2])\n",
    "    myInput['eperimage']=np.double(str.split(tomofileheader[9])[2])\n",
    "\n",
    "    mySpeedOfLight=299792458. #TODO\n",
    "    myInput['momentum_eV']=myInput['B_T']*myInput['bendingRadius_m']/(10/mySpeedOfLight*1e8)*1.e9 #TODO\n",
    "    myInput['totalEnergy_eV']=np.sqrt(myInput['momentum_eV']**2+myInput['particleMass_eV']**2)\n",
    "    myInput['gamma']=myInput['totalEnergy_eV']/myInput['particleMass_eV']\n",
    "    myInput['beta']=np.sqrt(1-1/myInput['gamma']**2)\n",
    "\n",
    "    image=image*myInput['eperimage']/myInput['dtbin']/myInput['dEbin']\n",
    "\n",
    "    halfProfileLength=myInput['profilelength']/2.\n",
    "\n",
    "    Toffset= (myInput['xat0']-halfProfileLength)*myInput['dtbin']*1e9\n",
    "    Eoffset= (myInput['yat0']-halfProfileLength)*myInput['dEbin']/1e6\n",
    "\n",
    "    t=np.arange(-halfProfileLength,halfProfileLength)*myInput['dtbin']*1e9-Toffset\n",
    "    E=np.arange(-halfProfileLength,halfProfileLength)*myInput['dEbin']/1e6-Eoffset\n",
    "\n",
    "\n",
    "    deltaP_P= 1/myInput['beta']**2*E*1e6/myInput['totalEnergy_eV']\n",
    "    myProfile=np.sum(np.reshape(image, [myInput['profilelength'], myInput['profilelength']]),0)\n",
    "    myProfile=myProfile/np.trapz(myProfile,deltaP_P)\n",
    "    myInput['deltaP_P']=deltaP_P;\n",
    "    myInput['myProfile']=myProfile;\n",
    "    myInput['E_MeV']=E\n",
    "    myInput['t_ns']=t\n",
    "    myInput['phaseSpace_e_per_eVs']=np.reshape(image, [myInput['profilelength'], myInput['profilelength']]);\n",
    "    myProfileNormalized=myProfile/np.trapz(myProfile,deltaP_P)\n",
    "    myMean=np.trapz(deltaP_P*myProfileNormalized,deltaP_P)\n",
    "    myRMS=np.sqrt(np.trapz((deltaP_P-myMean)**2*myProfileNormalized,deltaP_P))\n",
    "    myInput['deltaP_P_RMS']=myRMS\n",
    "    return myInput"
   ]
  },
  {
   "cell_type": "code",
   "execution_count": 17,
   "metadata": {
    "scrolled": true
   },
   "outputs": [
    {
     "name": "stdout",
     "output_type": "stream",
     "text": [
      "/eos/project/l/liu/Instrumentation/tomography/runofflinetomo /eos/project/l/liu/PS/data/2017/MD2586_InjectionEmittanceBlowup/2018.06.13/tomo_data/autosave_001.dat\n",
      "/eos/project/l/liu/Instrumentation/tomography/runofflinetomo /eos/project/l/liu/PS/data/2017/MD2586_InjectionEmittanceBlowup/2018.06.13/tomo_data/autosave_002.dat\n",
      "/eos/project/l/liu/Instrumentation/tomography/runofflinetomo /eos/project/l/liu/PS/data/2017/MD2586_InjectionEmittanceBlowup/2018.06.13/tomo_data/autosave_003.dat\n",
      "/eos/project/l/liu/Instrumentation/tomography/runofflinetomo /eos/project/l/liu/PS/data/2017/MD2586_InjectionEmittanceBlowup/2018.06.13/tomo_data/autosave_004.dat\n",
      "/eos/project/l/liu/Instrumentation/tomography/runofflinetomo /eos/project/l/liu/PS/data/2017/MD2586_InjectionEmittanceBlowup/2018.06.13/tomo_data/autosave_005.dat\n",
      "/eos/project/l/liu/Instrumentation/tomography/runofflinetomo /eos/project/l/liu/PS/data/2017/MD2586_InjectionEmittanceBlowup/2018.06.13/tomo_data/autosave_006.dat\n",
      "/eos/project/l/liu/Instrumentation/tomography/runofflinetomo /eos/project/l/liu/PS/data/2017/MD2586_InjectionEmittanceBlowup/2018.06.13/tomo_data/autosave_007.dat\n",
      "/eos/project/l/liu/Instrumentation/tomography/runofflinetomo /eos/project/l/liu/PS/data/2017/MD2586_InjectionEmittanceBlowup/2018.06.13/tomo_data/autosave_008.dat\n",
      "/eos/project/l/liu/Instrumentation/tomography/runofflinetomo /eos/project/l/liu/PS/data/2017/MD2586_InjectionEmittanceBlowup/2018.06.13/tomo_data/autosave_009.dat\n",
      "/eos/project/l/liu/Instrumentation/tomography/runofflinetomo /eos/project/l/liu/PS/data/2017/MD2586_InjectionEmittanceBlowup/2018.06.13/tomo_data/autosave_010.dat\n",
      "/eos/project/l/liu/Instrumentation/tomography/runofflinetomo /eos/project/l/liu/PS/data/2017/MD2586_InjectionEmittanceBlowup/2018.06.13/tomo_data/autosave_011.dat\n",
      "/eos/project/l/liu/Instrumentation/tomography/runofflinetomo /eos/project/l/liu/PS/data/2017/MD2586_InjectionEmittanceBlowup/2018.06.13/tomo_data/autosave_012.dat\n",
      "/eos/project/l/liu/Instrumentation/tomography/runofflinetomo /eos/project/l/liu/PS/data/2017/MD2586_InjectionEmittanceBlowup/2018.06.13/tomo_data/autosave_013.dat\n",
      "/eos/project/l/liu/Instrumentation/tomography/runofflinetomo /eos/project/l/liu/PS/data/2017/MD2586_InjectionEmittanceBlowup/2018.06.13/tomo_data/autosave_014.dat\n",
      "/eos/project/l/liu/Instrumentation/tomography/runofflinetomo /eos/project/l/liu/PS/data/2017/MD2586_InjectionEmittanceBlowup/2018.06.13/tomo_data/autosave_015.dat\n",
      "/eos/project/l/liu/Instrumentation/tomography/runofflinetomo /eos/project/l/liu/PS/data/2017/MD2586_InjectionEmittanceBlowup/2018.06.13/tomo_data/autosave_016.dat\n",
      "/eos/project/l/liu/Instrumentation/tomography/runofflinetomo /eos/project/l/liu/PS/data/2017/MD2586_InjectionEmittanceBlowup/2018.06.13/tomo_data/autosave_017.dat\n",
      "/eos/project/l/liu/Instrumentation/tomography/runofflinetomo /eos/project/l/liu/PS/data/2017/MD2586_InjectionEmittanceBlowup/2018.06.13/tomo_data/autosave_018.dat\n",
      "/eos/project/l/liu/Instrumentation/tomography/runofflinetomo /eos/project/l/liu/PS/data/2017/MD2586_InjectionEmittanceBlowup/2018.06.13/tomo_data/autosave_019.dat\n",
      "/eos/project/l/liu/Instrumentation/tomography/runofflinetomo /eos/project/l/liu/PS/data/2017/MD2586_InjectionEmittanceBlowup/2018.06.13/tomo_data/autosave_020.dat\n",
      "/eos/project/l/liu/Instrumentation/tomography/runofflinetomo /eos/project/l/liu/PS/data/2017/MD2586_InjectionEmittanceBlowup/2018.06.13/tomo_data/autosave_021.dat\n",
      "/eos/project/l/liu/Instrumentation/tomography/runofflinetomo /eos/project/l/liu/PS/data/2017/MD2586_InjectionEmittanceBlowup/2018.06.13/tomo_data/autosave_022.dat\n",
      "/eos/project/l/liu/Instrumentation/tomography/runofflinetomo /eos/project/l/liu/PS/data/2017/MD2586_InjectionEmittanceBlowup/2018.06.13/tomo_data/autosave_023.dat\n",
      "/eos/project/l/liu/Instrumentation/tomography/runofflinetomo /eos/project/l/liu/PS/data/2017/MD2586_InjectionEmittanceBlowup/2018.06.13/tomo_data/autosave_024.dat\n",
      "/eos/project/l/liu/Instrumentation/tomography/runofflinetomo /eos/project/l/liu/PS/data/2017/MD2586_InjectionEmittanceBlowup/2018.06.13/tomo_data/autosave_025.dat\n",
      "/eos/project/l/liu/Instrumentation/tomography/runofflinetomo /eos/project/l/liu/PS/data/2017/MD2586_InjectionEmittanceBlowup/2018.06.13/tomo_data/autosave_026.dat\n",
      "/eos/project/l/liu/Instrumentation/tomography/runofflinetomo /eos/project/l/liu/PS/data/2017/MD2586_InjectionEmittanceBlowup/2018.06.13/tomo_data/autosave_027.dat\n",
      "/eos/project/l/liu/Instrumentation/tomography/runofflinetomo /eos/project/l/liu/PS/data/2017/MD2586_InjectionEmittanceBlowup/2018.06.13/tomo_data/autosave_028.dat\n",
      "/eos/project/l/liu/Instrumentation/tomography/runofflinetomo /eos/project/l/liu/PS/data/2017/MD2586_InjectionEmittanceBlowup/2018.06.13/tomo_data/autosave_029.dat\n",
      "/eos/project/l/liu/Instrumentation/tomography/runofflinetomo /eos/project/l/liu/PS/data/2017/MD2586_InjectionEmittanceBlowup/2018.06.13/tomo_data/autosave_030.dat\n",
      "/eos/project/l/liu/Instrumentation/tomography/runofflinetomo /eos/project/l/liu/PS/data/2017/MD2586_InjectionEmittanceBlowup/2018.06.13/tomo_data/autosave_031.dat\n",
      "/eos/project/l/liu/Instrumentation/tomography/runofflinetomo /eos/project/l/liu/PS/data/2017/MD2586_InjectionEmittanceBlowup/2018.06.13/tomo_data/autosave_032.dat\n",
      "/eos/project/l/liu/Instrumentation/tomography/runofflinetomo /eos/project/l/liu/PS/data/2017/MD2586_InjectionEmittanceBlowup/2018.06.13/tomo_data/autosave_033.dat\n",
      "/eos/project/l/liu/Instrumentation/tomography/runofflinetomo /eos/project/l/liu/PS/data/2017/MD2586_InjectionEmittanceBlowup/2018.06.13/tomo_data/autosave_034.dat\n",
      "/eos/project/l/liu/Instrumentation/tomography/runofflinetomo /eos/project/l/liu/PS/data/2017/MD2586_InjectionEmittanceBlowup/2018.06.13/tomo_data/autosave_035.dat\n",
      "/eos/project/l/liu/Instrumentation/tomography/runofflinetomo /eos/project/l/liu/PS/data/2017/MD2586_InjectionEmittanceBlowup/2018.06.13/tomo_data/autosave_036.dat\n",
      "/eos/project/l/liu/Instrumentation/tomography/runofflinetomo /eos/project/l/liu/PS/data/2017/MD2586_InjectionEmittanceBlowup/2018.06.13/tomo_data/autosave_037.dat\n",
      "/eos/project/l/liu/Instrumentation/tomography/runofflinetomo /eos/project/l/liu/PS/data/2017/MD2586_InjectionEmittanceBlowup/2018.06.13/tomo_data/autosave_038.dat\n",
      "/eos/project/l/liu/Instrumentation/tomography/runofflinetomo /eos/project/l/liu/PS/data/2017/MD2586_InjectionEmittanceBlowup/2018.06.13/tomo_data/autosave_039.dat\n",
      "/eos/project/l/liu/Instrumentation/tomography/runofflinetomo /eos/project/l/liu/PS/data/2017/MD2586_InjectionEmittanceBlowup/2018.06.13/tomo_data/autosave_040.dat\n",
      "/eos/project/l/liu/Instrumentation/tomography/runofflinetomo /eos/project/l/liu/PS/data/2017/MD2586_InjectionEmittanceBlowup/2018.06.13/tomo_data/autosave_041.dat\n",
      "/eos/project/l/liu/Instrumentation/tomography/runofflinetomo /eos/project/l/liu/PS/data/2017/MD2586_InjectionEmittanceBlowup/2018.06.13/tomo_data/autosave_042.dat\n",
      "/eos/project/l/liu/Instrumentation/tomography/runofflinetomo /eos/project/l/liu/PS/data/2017/MD2586_InjectionEmittanceBlowup/2018.06.13/tomo_data/autosave_043.dat\n",
      "/eos/project/l/liu/Instrumentation/tomography/runofflinetomo /eos/project/l/liu/PS/data/2017/MD2586_InjectionEmittanceBlowup/2018.06.13/tomo_data/autosave_044.dat\n",
      "/eos/project/l/liu/Instrumentation/tomography/runofflinetomo /eos/project/l/liu/PS/data/2017/MD2586_InjectionEmittanceBlowup/2018.06.13/tomo_data/autosave_045.dat\n",
      "/eos/project/l/liu/Instrumentation/tomography/runofflinetomo /eos/project/l/liu/PS/data/2017/MD2586_InjectionEmittanceBlowup/2018.06.13/tomo_data/autosave_046.dat\n",
      "/eos/project/l/liu/Instrumentation/tomography/runofflinetomo /eos/project/l/liu/PS/data/2017/MD2586_InjectionEmittanceBlowup/2018.06.13/tomo_data/autosave_047.dat\n",
      "/eos/project/l/liu/Instrumentation/tomography/runofflinetomo /eos/project/l/liu/PS/data/2017/MD2586_InjectionEmittanceBlowup/2018.06.13/tomo_data/autosave_048.dat\n",
      "/eos/project/l/liu/Instrumentation/tomography/runofflinetomo /eos/project/l/liu/PS/data/2017/MD2586_InjectionEmittanceBlowup/2018.06.13/tomo_data/autosave_049.dat\n",
      "/eos/project/l/liu/Instrumentation/tomography/runofflinetomo /eos/project/l/liu/PS/data/2017/MD2586_InjectionEmittanceBlowup/2018.06.13/tomo_data/autosave_050.dat\n",
      "/eos/project/l/liu/Instrumentation/tomography/runofflinetomo /eos/project/l/liu/PS/data/2017/MD2586_InjectionEmittanceBlowup/2018.06.13/tomo_data/autosave_051.dat\n"
     ]
    },
    {
     "name": "stdout",
     "output_type": "stream",
     "text": [
      "/eos/project/l/liu/Instrumentation/tomography/runofflinetomo /eos/project/l/liu/PS/data/2017/MD2586_InjectionEmittanceBlowup/2018.06.13/tomo_data/autosave_052.dat\n",
      "/eos/project/l/liu/Instrumentation/tomography/runofflinetomo /eos/project/l/liu/PS/data/2017/MD2586_InjectionEmittanceBlowup/2018.06.13/tomo_data/autosave_053.dat\n",
      "/eos/project/l/liu/Instrumentation/tomography/runofflinetomo /eos/project/l/liu/PS/data/2017/MD2586_InjectionEmittanceBlowup/2018.06.13/tomo_data/autosave_054.dat\n",
      "/eos/project/l/liu/Instrumentation/tomography/runofflinetomo /eos/project/l/liu/PS/data/2017/MD2586_InjectionEmittanceBlowup/2018.06.13/tomo_data/autosave_055.dat\n",
      "/eos/project/l/liu/Instrumentation/tomography/runofflinetomo /eos/project/l/liu/PS/data/2017/MD2586_InjectionEmittanceBlowup/2018.06.13/tomo_data/autosave_056.dat\n",
      "/eos/project/l/liu/Instrumentation/tomography/runofflinetomo /eos/project/l/liu/PS/data/2017/MD2586_InjectionEmittanceBlowup/2018.06.13/tomo_data/autosave_057.dat\n",
      "/eos/project/l/liu/Instrumentation/tomography/runofflinetomo /eos/project/l/liu/PS/data/2017/MD2586_InjectionEmittanceBlowup/2018.06.13/tomo_data/autosave_058.dat\n",
      "/eos/project/l/liu/Instrumentation/tomography/runofflinetomo /eos/project/l/liu/PS/data/2017/MD2586_InjectionEmittanceBlowup/2018.06.13/tomo_data/autosave_059.dat\n",
      "/eos/project/l/liu/Instrumentation/tomography/runofflinetomo /eos/project/l/liu/PS/data/2017/MD2586_InjectionEmittanceBlowup/2018.06.13/tomo_data/autosave_060.dat\n",
      "/eos/project/l/liu/Instrumentation/tomography/runofflinetomo /eos/project/l/liu/PS/data/2017/MD2586_InjectionEmittanceBlowup/2018.06.13/tomo_data/autosave_061.dat\n",
      "/eos/project/l/liu/Instrumentation/tomography/runofflinetomo /eos/project/l/liu/PS/data/2017/MD2586_InjectionEmittanceBlowup/2018.06.13/tomo_data/autosave_062.dat\n",
      "/eos/project/l/liu/Instrumentation/tomography/runofflinetomo /eos/project/l/liu/PS/data/2017/MD2586_InjectionEmittanceBlowup/2018.06.13/tomo_data/autosave_063.dat\n",
      "/eos/project/l/liu/Instrumentation/tomography/runofflinetomo /eos/project/l/liu/PS/data/2017/MD2586_InjectionEmittanceBlowup/2018.06.13/tomo_data/autosave_064.dat\n",
      "/eos/project/l/liu/Instrumentation/tomography/runofflinetomo /eos/project/l/liu/PS/data/2017/MD2586_InjectionEmittanceBlowup/2018.06.13/tomo_data/autosave_065.dat\n",
      "/eos/project/l/liu/Instrumentation/tomography/runofflinetomo /eos/project/l/liu/PS/data/2017/MD2586_InjectionEmittanceBlowup/2018.06.13/tomo_data/autosave_066.dat\n",
      "/eos/project/l/liu/Instrumentation/tomography/runofflinetomo /eos/project/l/liu/PS/data/2017/MD2586_InjectionEmittanceBlowup/2018.06.13/tomo_data/autosave_067.dat\n",
      "/eos/project/l/liu/Instrumentation/tomography/runofflinetomo /eos/project/l/liu/PS/data/2017/MD2586_InjectionEmittanceBlowup/2018.06.13/tomo_data/autosave_068.dat\n",
      "/eos/project/l/liu/Instrumentation/tomography/runofflinetomo /eos/project/l/liu/PS/data/2017/MD2586_InjectionEmittanceBlowup/2018.06.13/tomo_data/autosave_069.dat\n",
      "/eos/project/l/liu/Instrumentation/tomography/runofflinetomo /eos/project/l/liu/PS/data/2017/MD2586_InjectionEmittanceBlowup/2018.06.13/tomo_data/autosave_070.dat\n",
      "/eos/project/l/liu/Instrumentation/tomography/runofflinetomo /eos/project/l/liu/PS/data/2017/MD2586_InjectionEmittanceBlowup/2018.06.13/tomo_data/autosave_071.dat\n",
      "/eos/project/l/liu/Instrumentation/tomography/runofflinetomo /eos/project/l/liu/PS/data/2017/MD2586_InjectionEmittanceBlowup/2018.06.13/tomo_data/autosave_072.dat\n",
      "/eos/project/l/liu/Instrumentation/tomography/runofflinetomo /eos/project/l/liu/PS/data/2017/MD2586_InjectionEmittanceBlowup/2018.06.13/tomo_data/autosave_073.dat\n",
      "/eos/project/l/liu/Instrumentation/tomography/runofflinetomo /eos/project/l/liu/PS/data/2017/MD2586_InjectionEmittanceBlowup/2018.06.13/tomo_data/autosave_074.dat\n",
      "/eos/project/l/liu/Instrumentation/tomography/runofflinetomo /eos/project/l/liu/PS/data/2017/MD2586_InjectionEmittanceBlowup/2018.06.13/tomo_data/autosave_075.dat\n",
      "/eos/project/l/liu/Instrumentation/tomography/runofflinetomo /eos/project/l/liu/PS/data/2017/MD2586_InjectionEmittanceBlowup/2018.06.13/tomo_data/autosave_076.dat\n",
      "/eos/project/l/liu/Instrumentation/tomography/runofflinetomo /eos/project/l/liu/PS/data/2017/MD2586_InjectionEmittanceBlowup/2018.06.13/tomo_data/autosave_077.dat\n",
      "/eos/project/l/liu/Instrumentation/tomography/runofflinetomo /eos/project/l/liu/PS/data/2017/MD2586_InjectionEmittanceBlowup/2018.06.13/tomo_data/autosave_078.dat\n",
      "/eos/project/l/liu/Instrumentation/tomography/runofflinetomo /eos/project/l/liu/PS/data/2017/MD2586_InjectionEmittanceBlowup/2018.06.13/tomo_data/autosave_079.dat\n",
      "/eos/project/l/liu/Instrumentation/tomography/runofflinetomo /eos/project/l/liu/PS/data/2017/MD2586_InjectionEmittanceBlowup/2018.06.13/tomo_data/autosave_080.dat\n",
      "/eos/project/l/liu/Instrumentation/tomography/runofflinetomo /eos/project/l/liu/PS/data/2017/MD2586_InjectionEmittanceBlowup/2018.06.13/tomo_data/autosave_081.dat\n",
      "/eos/project/l/liu/Instrumentation/tomography/runofflinetomo /eos/project/l/liu/PS/data/2017/MD2586_InjectionEmittanceBlowup/2018.06.13/tomo_data/autosave_082.dat\n",
      "/eos/project/l/liu/Instrumentation/tomography/runofflinetomo /eos/project/l/liu/PS/data/2017/MD2586_InjectionEmittanceBlowup/2018.06.13/tomo_data/autosave_083.dat\n",
      "/eos/project/l/liu/Instrumentation/tomography/runofflinetomo /eos/project/l/liu/PS/data/2017/MD2586_InjectionEmittanceBlowup/2018.06.13/tomo_data/autosave_084.dat\n",
      "/eos/project/l/liu/Instrumentation/tomography/runofflinetomo /eos/project/l/liu/PS/data/2017/MD2586_InjectionEmittanceBlowup/2018.06.13/tomo_data/autosave_085.dat\n",
      "/eos/project/l/liu/Instrumentation/tomography/runofflinetomo /eos/project/l/liu/PS/data/2017/MD2586_InjectionEmittanceBlowup/2018.06.13/tomo_data/autosave_086.dat\n",
      "/eos/project/l/liu/Instrumentation/tomography/runofflinetomo /eos/project/l/liu/PS/data/2017/MD2586_InjectionEmittanceBlowup/2018.06.13/tomo_data/autosave_087.dat\n",
      "/eos/project/l/liu/Instrumentation/tomography/runofflinetomo /eos/project/l/liu/PS/data/2017/MD2586_InjectionEmittanceBlowup/2018.06.13/tomo_data/autosave_088.dat\n",
      "/eos/project/l/liu/Instrumentation/tomography/runofflinetomo /eos/project/l/liu/PS/data/2017/MD2586_InjectionEmittanceBlowup/2018.06.13/tomo_data/autosave_089.dat\n",
      "/eos/project/l/liu/Instrumentation/tomography/runofflinetomo /eos/project/l/liu/PS/data/2017/MD2586_InjectionEmittanceBlowup/2018.06.13/tomo_data/autosave_090.dat\n",
      "/eos/project/l/liu/Instrumentation/tomography/runofflinetomo /eos/project/l/liu/PS/data/2017/MD2586_InjectionEmittanceBlowup/2018.06.13/tomo_data/autosave_091.dat\n",
      "/eos/project/l/liu/Instrumentation/tomography/runofflinetomo /eos/project/l/liu/PS/data/2017/MD2586_InjectionEmittanceBlowup/2018.06.13/tomo_data/autosave_092.dat\n",
      "/eos/project/l/liu/Instrumentation/tomography/runofflinetomo /eos/project/l/liu/PS/data/2017/MD2586_InjectionEmittanceBlowup/2018.06.13/tomo_data/autosave_093.dat\n",
      "/eos/project/l/liu/Instrumentation/tomography/runofflinetomo /eos/project/l/liu/PS/data/2017/MD2586_InjectionEmittanceBlowup/2018.06.13/tomo_data/autosave_094.dat\n",
      "/eos/project/l/liu/Instrumentation/tomography/runofflinetomo /eos/project/l/liu/PS/data/2017/MD2586_InjectionEmittanceBlowup/2018.06.13/tomo_data/autosave_095.dat\n",
      "/eos/project/l/liu/Instrumentation/tomography/runofflinetomo /eos/project/l/liu/PS/data/2017/MD2586_InjectionEmittanceBlowup/2018.06.13/tomo_data/autosave_096.dat\n",
      "/eos/project/l/liu/Instrumentation/tomography/runofflinetomo /eos/project/l/liu/PS/data/2017/MD2586_InjectionEmittanceBlowup/2018.06.13/tomo_data/autosave_097.dat\n",
      "/eos/project/l/liu/Instrumentation/tomography/runofflinetomo /eos/project/l/liu/PS/data/2017/MD2586_InjectionEmittanceBlowup/2018.06.13/tomo_data/autosave_098.dat\n",
      "/eos/project/l/liu/Instrumentation/tomography/runofflinetomo /eos/project/l/liu/PS/data/2017/MD2586_InjectionEmittanceBlowup/2018.06.13/tomo_data/autosave_099.dat\n",
      "/eos/project/l/liu/Instrumentation/tomography/runofflinetomo /eos/project/l/liu/PS/data/2017/MD2586_InjectionEmittanceBlowup/2018.06.13/tomo_data/autosave_100.dat\n",
      "/eos/project/l/liu/Instrumentation/tomography/runofflinetomo /eos/project/l/liu/PS/data/2017/MD2586_InjectionEmittanceBlowup/2018.06.13/tomo_data/autosave_101.dat\n",
      "/eos/project/l/liu/Instrumentation/tomography/runofflinetomo /eos/project/l/liu/PS/data/2017/MD2586_InjectionEmittanceBlowup/2018.06.13/tomo_data/autosave_102.dat\n"
     ]
    },
    {
     "name": "stdout",
     "output_type": "stream",
     "text": [
      "/eos/project/l/liu/Instrumentation/tomography/runofflinetomo /eos/project/l/liu/PS/data/2017/MD2586_InjectionEmittanceBlowup/2018.06.13/tomo_data/autosave_103.dat\n",
      "/eos/project/l/liu/Instrumentation/tomography/runofflinetomo /eos/project/l/liu/PS/data/2017/MD2586_InjectionEmittanceBlowup/2018.06.13/tomo_data/autosave_104.dat\n",
      "/eos/project/l/liu/Instrumentation/tomography/runofflinetomo /eos/project/l/liu/PS/data/2017/MD2586_InjectionEmittanceBlowup/2018.06.13/tomo_data/autosave_105.dat\n",
      "/eos/project/l/liu/Instrumentation/tomography/runofflinetomo /eos/project/l/liu/PS/data/2017/MD2586_InjectionEmittanceBlowup/2018.06.13/tomo_data/autosave_106.dat\n",
      "/eos/project/l/liu/Instrumentation/tomography/runofflinetomo /eos/project/l/liu/PS/data/2017/MD2586_InjectionEmittanceBlowup/2018.06.13/tomo_data/autosave_107.dat\n",
      "/eos/project/l/liu/Instrumentation/tomography/runofflinetomo /eos/project/l/liu/PS/data/2017/MD2586_InjectionEmittanceBlowup/2018.06.13/tomo_data/autosave_108.dat\n",
      "/eos/project/l/liu/Instrumentation/tomography/runofflinetomo /eos/project/l/liu/PS/data/2017/MD2586_InjectionEmittanceBlowup/2018.06.13/tomo_data/autosave_109.dat\n",
      "/eos/project/l/liu/Instrumentation/tomography/runofflinetomo /eos/project/l/liu/PS/data/2017/MD2586_InjectionEmittanceBlowup/2018.06.13/tomo_data/autosave_110.dat\n",
      "/eos/project/l/liu/Instrumentation/tomography/runofflinetomo /eos/project/l/liu/PS/data/2017/MD2586_InjectionEmittanceBlowup/2018.06.13/tomo_data/autosave_111.dat\n",
      "/eos/project/l/liu/Instrumentation/tomography/runofflinetomo /eos/project/l/liu/PS/data/2017/MD2586_InjectionEmittanceBlowup/2018.06.13/tomo_data/autosave_112.dat\n",
      "/eos/project/l/liu/Instrumentation/tomography/runofflinetomo /eos/project/l/liu/PS/data/2017/MD2586_InjectionEmittanceBlowup/2018.06.13/tomo_data/autosave_113.dat\n",
      "/eos/project/l/liu/Instrumentation/tomography/runofflinetomo /eos/project/l/liu/PS/data/2017/MD2586_InjectionEmittanceBlowup/2018.06.13/tomo_data/autosave_114.dat\n",
      "/eos/project/l/liu/Instrumentation/tomography/runofflinetomo /eos/project/l/liu/PS/data/2017/MD2586_InjectionEmittanceBlowup/2018.06.13/tomo_data/autosave_115.dat\n",
      "/eos/project/l/liu/Instrumentation/tomography/runofflinetomo /eos/project/l/liu/PS/data/2017/MD2586_InjectionEmittanceBlowup/2018.06.13/tomo_data/autosave_116.dat\n",
      "/eos/project/l/liu/Instrumentation/tomography/runofflinetomo /eos/project/l/liu/PS/data/2017/MD2586_InjectionEmittanceBlowup/2018.06.13/tomo_data/autosave_117.dat\n",
      "/eos/project/l/liu/Instrumentation/tomography/runofflinetomo /eos/project/l/liu/PS/data/2017/MD2586_InjectionEmittanceBlowup/2018.06.13/tomo_data/autosave_118.dat\n",
      "/eos/project/l/liu/Instrumentation/tomography/runofflinetomo /eos/project/l/liu/PS/data/2017/MD2586_InjectionEmittanceBlowup/2018.06.13/tomo_data/autosave_119.dat\n",
      "/eos/project/l/liu/Instrumentation/tomography/runofflinetomo /eos/project/l/liu/PS/data/2017/MD2586_InjectionEmittanceBlowup/2018.06.13/tomo_data/autosave_120.dat\n",
      "/eos/project/l/liu/Instrumentation/tomography/runofflinetomo /eos/project/l/liu/PS/data/2017/MD2586_InjectionEmittanceBlowup/2018.06.13/tomo_data/autosave_121.dat\n",
      "/eos/project/l/liu/Instrumentation/tomography/runofflinetomo /eos/project/l/liu/PS/data/2017/MD2586_InjectionEmittanceBlowup/2018.06.13/tomo_data/autosave_122.dat\n",
      "/eos/project/l/liu/Instrumentation/tomography/runofflinetomo /eos/project/l/liu/PS/data/2017/MD2586_InjectionEmittanceBlowup/2018.06.13/tomo_data/autosave_123.dat\n",
      "/eos/project/l/liu/Instrumentation/tomography/runofflinetomo /eos/project/l/liu/PS/data/2017/MD2586_InjectionEmittanceBlowup/2018.06.13/tomo_data/autosave_124.dat\n",
      "/eos/project/l/liu/Instrumentation/tomography/runofflinetomo /eos/project/l/liu/PS/data/2017/MD2586_InjectionEmittanceBlowup/2018.06.13/tomo_data/autosave_125.dat\n",
      "/eos/project/l/liu/Instrumentation/tomography/runofflinetomo /eos/project/l/liu/PS/data/2017/MD2586_InjectionEmittanceBlowup/2018.06.13/tomo_data/autosave_126.dat\n",
      "/eos/project/l/liu/Instrumentation/tomography/runofflinetomo /eos/project/l/liu/PS/data/2017/MD2586_InjectionEmittanceBlowup/2018.06.13/tomo_data/autosave_127.dat\n",
      "/eos/project/l/liu/Instrumentation/tomography/runofflinetomo /eos/project/l/liu/PS/data/2017/MD2586_InjectionEmittanceBlowup/2018.06.13/tomo_data/autosave_128.dat\n",
      "/eos/project/l/liu/Instrumentation/tomography/runofflinetomo /eos/project/l/liu/PS/data/2017/MD2586_InjectionEmittanceBlowup/2018.06.13/tomo_data/autosave_129.dat\n",
      "/eos/project/l/liu/Instrumentation/tomography/runofflinetomo /eos/project/l/liu/PS/data/2017/MD2586_InjectionEmittanceBlowup/2018.06.13/tomo_data/autosave_130.dat\n",
      "/eos/project/l/liu/Instrumentation/tomography/runofflinetomo /eos/project/l/liu/PS/data/2017/MD2586_InjectionEmittanceBlowup/2018.06.13/tomo_data/autosave_131.dat\n",
      "/eos/project/l/liu/Instrumentation/tomography/runofflinetomo /eos/project/l/liu/PS/data/2017/MD2586_InjectionEmittanceBlowup/2018.06.13/tomo_data/autosave_132.dat\n",
      "/eos/project/l/liu/Instrumentation/tomography/runofflinetomo /eos/project/l/liu/PS/data/2017/MD2586_InjectionEmittanceBlowup/2018.06.13/tomo_data/autosave_133.dat\n",
      "/eos/project/l/liu/Instrumentation/tomography/runofflinetomo /eos/project/l/liu/PS/data/2017/MD2586_InjectionEmittanceBlowup/2018.06.13/tomo_data/autosave_134.dat\n",
      "/eos/project/l/liu/Instrumentation/tomography/runofflinetomo /eos/project/l/liu/PS/data/2017/MD2586_InjectionEmittanceBlowup/2018.06.13/tomo_data/autosave_135.dat\n",
      "/eos/project/l/liu/Instrumentation/tomography/runofflinetomo /eos/project/l/liu/PS/data/2017/MD2586_InjectionEmittanceBlowup/2018.06.13/tomo_data/autosave_136.dat\n",
      "/eos/project/l/liu/Instrumentation/tomography/runofflinetomo /eos/project/l/liu/PS/data/2017/MD2586_InjectionEmittanceBlowup/2018.06.13/tomo_data/autosave_137.dat\n",
      "/eos/project/l/liu/Instrumentation/tomography/runofflinetomo /eos/project/l/liu/PS/data/2017/MD2586_InjectionEmittanceBlowup/2018.06.13/tomo_data/autosave_138.dat\n",
      "/eos/project/l/liu/Instrumentation/tomography/runofflinetomo /eos/project/l/liu/PS/data/2017/MD2586_InjectionEmittanceBlowup/2018.06.13/tomo_data/autosave_139.dat\n",
      "/eos/project/l/liu/Instrumentation/tomography/runofflinetomo /eos/project/l/liu/PS/data/2017/MD2586_InjectionEmittanceBlowup/2018.06.13/tomo_data/autosave_140.dat\n",
      "/eos/project/l/liu/Instrumentation/tomography/runofflinetomo /eos/project/l/liu/PS/data/2017/MD2586_InjectionEmittanceBlowup/2018.06.13/tomo_data/autosave_141.dat\n",
      "/eos/project/l/liu/Instrumentation/tomography/runofflinetomo /eos/project/l/liu/PS/data/2017/MD2586_InjectionEmittanceBlowup/2018.06.13/tomo_data/autosave_142.dat\n",
      "/eos/project/l/liu/Instrumentation/tomography/runofflinetomo /eos/project/l/liu/PS/data/2017/MD2586_InjectionEmittanceBlowup/2018.06.13/tomo_data/autosave_143.dat\n",
      "/eos/project/l/liu/Instrumentation/tomography/runofflinetomo /eos/project/l/liu/PS/data/2017/MD2586_InjectionEmittanceBlowup/2018.06.13/tomo_data/autosave_144.dat\n",
      "/eos/project/l/liu/Instrumentation/tomography/runofflinetomo /eos/project/l/liu/PS/data/2017/MD2586_InjectionEmittanceBlowup/2018.06.13/tomo_data/autosave_145.dat\n",
      "/eos/project/l/liu/Instrumentation/tomography/runofflinetomo /eos/project/l/liu/PS/data/2017/MD2586_InjectionEmittanceBlowup/2018.06.13/tomo_data/autosave_146.dat\n",
      "/eos/project/l/liu/Instrumentation/tomography/runofflinetomo /eos/project/l/liu/PS/data/2017/MD2586_InjectionEmittanceBlowup/2018.06.13/tomo_data/autosave_147.dat\n",
      "/eos/project/l/liu/Instrumentation/tomography/runofflinetomo /eos/project/l/liu/PS/data/2017/MD2586_InjectionEmittanceBlowup/2018.06.13/tomo_data/autosave_148.dat\n",
      "/eos/project/l/liu/Instrumentation/tomography/runofflinetomo /eos/project/l/liu/PS/data/2017/MD2586_InjectionEmittanceBlowup/2018.06.13/tomo_data/autosave_149.dat\n",
      "/eos/project/l/liu/Instrumentation/tomography/runofflinetomo /eos/project/l/liu/PS/data/2017/MD2586_InjectionEmittanceBlowup/2018.06.13/tomo_data/autosave_150.dat\n",
      "/eos/project/l/liu/Instrumentation/tomography/runofflinetomo /eos/project/l/liu/PS/data/2017/MD2586_InjectionEmittanceBlowup/2018.06.13/tomo_data/autosave_151.dat\n",
      "/eos/project/l/liu/Instrumentation/tomography/runofflinetomo /eos/project/l/liu/PS/data/2017/MD2586_InjectionEmittanceBlowup/2018.06.13/tomo_data/autosave_152.dat\n",
      "/eos/project/l/liu/Instrumentation/tomography/runofflinetomo /eos/project/l/liu/PS/data/2017/MD2586_InjectionEmittanceBlowup/2018.06.13/tomo_data/autosave_153.dat\n"
     ]
    },
    {
     "name": "stdout",
     "output_type": "stream",
     "text": [
      "/eos/project/l/liu/Instrumentation/tomography/runofflinetomo /eos/project/l/liu/PS/data/2017/MD2586_InjectionEmittanceBlowup/2018.06.13/tomo_data/autosave_154.dat\n",
      "/eos/project/l/liu/Instrumentation/tomography/runofflinetomo /eos/project/l/liu/PS/data/2017/MD2586_InjectionEmittanceBlowup/2018.06.13/tomo_data/autosave_155.dat\n",
      "/eos/project/l/liu/Instrumentation/tomography/runofflinetomo /eos/project/l/liu/PS/data/2017/MD2586_InjectionEmittanceBlowup/2018.06.13/tomo_data/autosave_156.dat\n",
      "/eos/project/l/liu/Instrumentation/tomography/runofflinetomo /eos/project/l/liu/PS/data/2017/MD2586_InjectionEmittanceBlowup/2018.06.13/tomo_data/autosave_157.dat\n",
      "/eos/project/l/liu/Instrumentation/tomography/runofflinetomo /eos/project/l/liu/PS/data/2017/MD2586_InjectionEmittanceBlowup/2018.06.13/tomo_data/autosave_158.dat\n",
      "/eos/project/l/liu/Instrumentation/tomography/runofflinetomo /eos/project/l/liu/PS/data/2017/MD2586_InjectionEmittanceBlowup/2018.06.13/tomo_data/autosave_159.dat\n",
      "/eos/project/l/liu/Instrumentation/tomography/runofflinetomo /eos/project/l/liu/PS/data/2017/MD2586_InjectionEmittanceBlowup/2018.06.13/tomo_data/autosave_160.dat\n",
      "/eos/project/l/liu/Instrumentation/tomography/runofflinetomo /eos/project/l/liu/PS/data/2017/MD2586_InjectionEmittanceBlowup/2018.06.13/tomo_data/autosave_161.dat\n",
      "/eos/project/l/liu/Instrumentation/tomography/runofflinetomo /eos/project/l/liu/PS/data/2017/MD2586_InjectionEmittanceBlowup/2018.06.13/tomo_data/autosave_162.dat\n",
      "/eos/project/l/liu/Instrumentation/tomography/runofflinetomo /eos/project/l/liu/PS/data/2017/MD2586_InjectionEmittanceBlowup/2018.06.13/tomo_data/autosave_163.dat\n",
      "/eos/project/l/liu/Instrumentation/tomography/runofflinetomo /eos/project/l/liu/PS/data/2017/MD2586_InjectionEmittanceBlowup/2018.06.13/tomo_data/autosave_164.dat\n",
      "/eos/project/l/liu/Instrumentation/tomography/runofflinetomo /eos/project/l/liu/PS/data/2017/MD2586_InjectionEmittanceBlowup/2018.06.13/tomo_data/autosave_165.dat\n",
      "/eos/project/l/liu/Instrumentation/tomography/runofflinetomo /eos/project/l/liu/PS/data/2017/MD2586_InjectionEmittanceBlowup/2018.06.13/tomo_data/autosave_166.dat\n",
      "/eos/project/l/liu/Instrumentation/tomography/runofflinetomo /eos/project/l/liu/PS/data/2017/MD2586_InjectionEmittanceBlowup/2018.06.13/tomo_data/autosave_167.dat\n",
      "/eos/project/l/liu/Instrumentation/tomography/runofflinetomo /eos/project/l/liu/PS/data/2017/MD2586_InjectionEmittanceBlowup/2018.06.13/tomo_data/autosave_168.dat\n",
      "/eos/project/l/liu/Instrumentation/tomography/runofflinetomo /eos/project/l/liu/PS/data/2017/MD2586_InjectionEmittanceBlowup/2018.06.13/tomo_data/autosave_169.dat\n",
      "/eos/project/l/liu/Instrumentation/tomography/runofflinetomo /eos/project/l/liu/PS/data/2017/MD2586_InjectionEmittanceBlowup/2018.06.13/tomo_data/autosave_170.dat\n",
      "/eos/project/l/liu/Instrumentation/tomography/runofflinetomo /eos/project/l/liu/PS/data/2017/MD2586_InjectionEmittanceBlowup/2018.06.13/tomo_data/autosave_171.dat\n",
      "/eos/project/l/liu/Instrumentation/tomography/runofflinetomo /eos/project/l/liu/PS/data/2017/MD2586_InjectionEmittanceBlowup/2018.06.13/tomo_data/autosave_172.dat\n",
      "/eos/project/l/liu/Instrumentation/tomography/runofflinetomo /eos/project/l/liu/PS/data/2017/MD2586_InjectionEmittanceBlowup/2018.06.13/tomo_data/autosave_173.dat\n",
      "/eos/project/l/liu/Instrumentation/tomography/runofflinetomo /eos/project/l/liu/PS/data/2017/MD2586_InjectionEmittanceBlowup/2018.06.13/tomo_data/autosave_174.dat\n",
      "/eos/project/l/liu/Instrumentation/tomography/runofflinetomo /eos/project/l/liu/PS/data/2017/MD2586_InjectionEmittanceBlowup/2018.06.13/tomo_data/autosave_175.dat\n",
      "/eos/project/l/liu/Instrumentation/tomography/runofflinetomo /eos/project/l/liu/PS/data/2017/MD2586_InjectionEmittanceBlowup/2018.06.13/tomo_data/autosave_176.dat\n",
      "/eos/project/l/liu/Instrumentation/tomography/runofflinetomo /eos/project/l/liu/PS/data/2017/MD2586_InjectionEmittanceBlowup/2018.06.13/tomo_data/autosave_177.dat\n",
      "/eos/project/l/liu/Instrumentation/tomography/runofflinetomo /eos/project/l/liu/PS/data/2017/MD2586_InjectionEmittanceBlowup/2018.06.13/tomo_data/autosave_178.dat\n",
      "/eos/project/l/liu/Instrumentation/tomography/runofflinetomo /eos/project/l/liu/PS/data/2017/MD2586_InjectionEmittanceBlowup/2018.06.13/tomo_data/autosave_179.dat\n",
      "/eos/project/l/liu/Instrumentation/tomography/runofflinetomo /eos/project/l/liu/PS/data/2017/MD2586_InjectionEmittanceBlowup/2018.06.13/tomo_data/autosave_180.dat\n",
      "/eos/project/l/liu/Instrumentation/tomography/runofflinetomo /eos/project/l/liu/PS/data/2017/MD2586_InjectionEmittanceBlowup/2018.06.13/tomo_data/autosave_181.dat\n",
      "/eos/project/l/liu/Instrumentation/tomography/runofflinetomo /eos/project/l/liu/PS/data/2017/MD2586_InjectionEmittanceBlowup/2018.06.13/tomo_data/autosave_182.dat\n",
      "/eos/project/l/liu/Instrumentation/tomography/runofflinetomo /eos/project/l/liu/PS/data/2017/MD2586_InjectionEmittanceBlowup/2018.06.13/tomo_data/autosave_183.dat\n",
      "/eos/project/l/liu/Instrumentation/tomography/runofflinetomo /eos/project/l/liu/PS/data/2017/MD2586_InjectionEmittanceBlowup/2018.06.13/tomo_data/autosave_184.dat\n",
      "/eos/project/l/liu/Instrumentation/tomography/runofflinetomo /eos/project/l/liu/PS/data/2017/MD2586_InjectionEmittanceBlowup/2018.06.13/tomo_data/autosave_185.dat\n",
      "/eos/project/l/liu/Instrumentation/tomography/runofflinetomo /eos/project/l/liu/PS/data/2017/MD2586_InjectionEmittanceBlowup/2018.06.13/tomo_data/autosave_186.dat\n",
      "/eos/project/l/liu/Instrumentation/tomography/runofflinetomo /eos/project/l/liu/PS/data/2017/MD2586_InjectionEmittanceBlowup/2018.06.13/tomo_data/autosave_187.dat\n",
      "/eos/project/l/liu/Instrumentation/tomography/runofflinetomo /eos/project/l/liu/PS/data/2017/MD2586_InjectionEmittanceBlowup/2018.06.13/tomo_data/autosave_188.dat\n",
      "/eos/project/l/liu/Instrumentation/tomography/runofflinetomo /eos/project/l/liu/PS/data/2017/MD2586_InjectionEmittanceBlowup/2018.06.13/tomo_data/autosave_189.dat\n",
      "/eos/project/l/liu/Instrumentation/tomography/runofflinetomo /eos/project/l/liu/PS/data/2017/MD2586_InjectionEmittanceBlowup/2018.06.13/tomo_data/autosave_190.dat\n",
      "/eos/project/l/liu/Instrumentation/tomography/runofflinetomo /eos/project/l/liu/PS/data/2017/MD2586_InjectionEmittanceBlowup/2018.06.13/tomo_data/autosave_191.dat\n",
      "/eos/project/l/liu/Instrumentation/tomography/runofflinetomo /eos/project/l/liu/PS/data/2017/MD2586_InjectionEmittanceBlowup/2018.06.13/tomo_data/autosave_192.dat\n",
      "/eos/project/l/liu/Instrumentation/tomography/runofflinetomo /eos/project/l/liu/PS/data/2017/MD2586_InjectionEmittanceBlowup/2018.06.13/tomo_data/autosave_193.dat\n",
      "/eos/project/l/liu/Instrumentation/tomography/runofflinetomo /eos/project/l/liu/PS/data/2017/MD2586_InjectionEmittanceBlowup/2018.06.13/tomo_data/autosave_194.dat\n",
      "/eos/project/l/liu/Instrumentation/tomography/runofflinetomo /eos/project/l/liu/PS/data/2017/MD2586_InjectionEmittanceBlowup/2018.06.13/tomo_data/autosave_195.dat\n",
      "/eos/project/l/liu/Instrumentation/tomography/runofflinetomo /eos/project/l/liu/PS/data/2017/MD2586_InjectionEmittanceBlowup/2018.06.13/tomo_data/autosave_196.dat\n",
      "/eos/project/l/liu/Instrumentation/tomography/runofflinetomo /eos/project/l/liu/PS/data/2017/MD2586_InjectionEmittanceBlowup/2018.06.13/tomo_data/autosave_197.dat\n",
      "/eos/project/l/liu/Instrumentation/tomography/runofflinetomo /eos/project/l/liu/PS/data/2017/MD2586_InjectionEmittanceBlowup/2018.06.13/tomo_data/autosave_198.dat\n",
      "/eos/project/l/liu/Instrumentation/tomography/runofflinetomo /eos/project/l/liu/PS/data/2017/MD2586_InjectionEmittanceBlowup/2018.06.13/tomo_data/autosave_199.dat\n",
      "/eos/project/l/liu/Instrumentation/tomography/runofflinetomo /eos/project/l/liu/PS/data/2017/MD2586_InjectionEmittanceBlowup/2018.06.13/tomo_data/autosave_200.dat\n",
      "/eos/project/l/liu/Instrumentation/tomography/runofflinetomo /eos/project/l/liu/PS/data/2017/MD2586_InjectionEmittanceBlowup/2018.06.13/tomo_data/autosave_201.dat\n",
      "/eos/project/l/liu/Instrumentation/tomography/runofflinetomo /eos/project/l/liu/PS/data/2017/MD2586_InjectionEmittanceBlowup/2018.06.13/tomo_data/autosave_202.dat\n",
      "/eos/project/l/liu/Instrumentation/tomography/runofflinetomo /eos/project/l/liu/PS/data/2017/MD2586_InjectionEmittanceBlowup/2018.06.13/tomo_data/autosave_203.dat\n",
      "/eos/project/l/liu/Instrumentation/tomography/runofflinetomo /eos/project/l/liu/PS/data/2017/MD2586_InjectionEmittanceBlowup/2018.06.13/tomo_data/autosave_204.dat\n"
     ]
    },
    {
     "name": "stdout",
     "output_type": "stream",
     "text": [
      "/eos/project/l/liu/Instrumentation/tomography/runofflinetomo /eos/project/l/liu/PS/data/2017/MD2586_InjectionEmittanceBlowup/2018.06.13/tomo_data/autosave_205.dat\n",
      "/eos/project/l/liu/Instrumentation/tomography/runofflinetomo /eos/project/l/liu/PS/data/2017/MD2586_InjectionEmittanceBlowup/2018.06.13/tomo_data/autosave_206.dat\n",
      "/eos/project/l/liu/Instrumentation/tomography/runofflinetomo /eos/project/l/liu/PS/data/2017/MD2586_InjectionEmittanceBlowup/2018.06.13/tomo_data/autosave_207.dat\n",
      "/eos/project/l/liu/Instrumentation/tomography/runofflinetomo /eos/project/l/liu/PS/data/2017/MD2586_InjectionEmittanceBlowup/2018.06.13/tomo_data/autosave_208.dat\n",
      "/eos/project/l/liu/Instrumentation/tomography/runofflinetomo /eos/project/l/liu/PS/data/2017/MD2586_InjectionEmittanceBlowup/2018.06.13/tomo_data/autosave_209.dat\n",
      "/eos/project/l/liu/Instrumentation/tomography/runofflinetomo /eos/project/l/liu/PS/data/2017/MD2586_InjectionEmittanceBlowup/2018.06.13/tomo_data/autosave_210.dat\n",
      "/eos/project/l/liu/Instrumentation/tomography/runofflinetomo /eos/project/l/liu/PS/data/2017/MD2586_InjectionEmittanceBlowup/2018.06.13/tomo_data/autosave_211.dat\n",
      "/eos/project/l/liu/Instrumentation/tomography/runofflinetomo /eos/project/l/liu/PS/data/2017/MD2586_InjectionEmittanceBlowup/2018.06.13/tomo_data/autosave_212.dat\n",
      "/eos/project/l/liu/Instrumentation/tomography/runofflinetomo /eos/project/l/liu/PS/data/2017/MD2586_InjectionEmittanceBlowup/2018.06.13/tomo_data/autosave_213.dat\n",
      "/eos/project/l/liu/Instrumentation/tomography/runofflinetomo /eos/project/l/liu/PS/data/2017/MD2586_InjectionEmittanceBlowup/2018.06.13/tomo_data/autosave_214.dat\n",
      "/eos/project/l/liu/Instrumentation/tomography/runofflinetomo /eos/project/l/liu/PS/data/2017/MD2586_InjectionEmittanceBlowup/2018.06.13/tomo_data/autosave_215.dat\n",
      "/eos/project/l/liu/Instrumentation/tomography/runofflinetomo /eos/project/l/liu/PS/data/2017/MD2586_InjectionEmittanceBlowup/2018.06.13/tomo_data/autosave_216.dat\n",
      "/eos/project/l/liu/Instrumentation/tomography/runofflinetomo /eos/project/l/liu/PS/data/2017/MD2586_InjectionEmittanceBlowup/2018.06.13/tomo_data/autosave_217.dat\n",
      "/eos/project/l/liu/Instrumentation/tomography/runofflinetomo /eos/project/l/liu/PS/data/2017/MD2586_InjectionEmittanceBlowup/2018.06.13/tomo_data/autosave_218.dat\n",
      "/eos/project/l/liu/Instrumentation/tomography/runofflinetomo /eos/project/l/liu/PS/data/2017/MD2586_InjectionEmittanceBlowup/2018.06.13/tomo_data/autosave_219.dat\n",
      "/eos/project/l/liu/Instrumentation/tomography/runofflinetomo /eos/project/l/liu/PS/data/2017/MD2586_InjectionEmittanceBlowup/2018.06.13/tomo_data/autosave_220.dat\n",
      "/eos/project/l/liu/Instrumentation/tomography/runofflinetomo /eos/project/l/liu/PS/data/2017/MD2586_InjectionEmittanceBlowup/2018.06.13/tomo_data/autosave_221.dat\n",
      "/eos/project/l/liu/Instrumentation/tomography/runofflinetomo /eos/project/l/liu/PS/data/2017/MD2586_InjectionEmittanceBlowup/2018.06.13/tomo_data/autosave_222.dat\n",
      "/eos/project/l/liu/Instrumentation/tomography/runofflinetomo /eos/project/l/liu/PS/data/2017/MD2586_InjectionEmittanceBlowup/2018.06.13/tomo_data/autosave_223.dat\n",
      "/eos/project/l/liu/Instrumentation/tomography/runofflinetomo /eos/project/l/liu/PS/data/2017/MD2586_InjectionEmittanceBlowup/2018.06.13/tomo_data/autosave_224.dat\n",
      "/eos/project/l/liu/Instrumentation/tomography/runofflinetomo /eos/project/l/liu/PS/data/2017/MD2586_InjectionEmittanceBlowup/2018.06.13/tomo_data/autosave_225.dat\n",
      "/eos/project/l/liu/Instrumentation/tomography/runofflinetomo /eos/project/l/liu/PS/data/2017/MD2586_InjectionEmittanceBlowup/2018.06.13/tomo_data/autosave_226.dat\n",
      "/eos/project/l/liu/Instrumentation/tomography/runofflinetomo /eos/project/l/liu/PS/data/2017/MD2586_InjectionEmittanceBlowup/2018.06.13/tomo_data/autosave_227.dat\n",
      "/eos/project/l/liu/Instrumentation/tomography/runofflinetomo /eos/project/l/liu/PS/data/2017/MD2586_InjectionEmittanceBlowup/2018.06.13/tomo_data/autosave_228.dat\n",
      "/eos/project/l/liu/Instrumentation/tomography/runofflinetomo /eos/project/l/liu/PS/data/2017/MD2586_InjectionEmittanceBlowup/2018.06.13/tomo_data/autosave_229.dat\n",
      "/eos/project/l/liu/Instrumentation/tomography/runofflinetomo /eos/project/l/liu/PS/data/2017/MD2586_InjectionEmittanceBlowup/2018.06.13/tomo_data/autosave_230.dat\n",
      "/eos/project/l/liu/Instrumentation/tomography/runofflinetomo /eos/project/l/liu/PS/data/2017/MD2586_InjectionEmittanceBlowup/2018.06.13/tomo_data/autosave_231.dat\n",
      "/eos/project/l/liu/Instrumentation/tomography/runofflinetomo /eos/project/l/liu/PS/data/2017/MD2586_InjectionEmittanceBlowup/2018.06.13/tomo_data/autosave_232.dat\n",
      "/eos/project/l/liu/Instrumentation/tomography/runofflinetomo /eos/project/l/liu/PS/data/2017/MD2586_InjectionEmittanceBlowup/2018.06.13/tomo_data/autosave_233.dat\n",
      "/eos/project/l/liu/Instrumentation/tomography/runofflinetomo /eos/project/l/liu/PS/data/2017/MD2586_InjectionEmittanceBlowup/2018.06.13/tomo_data/autosave_234.dat\n",
      "/eos/project/l/liu/Instrumentation/tomography/runofflinetomo /eos/project/l/liu/PS/data/2017/MD2586_InjectionEmittanceBlowup/2018.06.13/tomo_data/autosave_235.dat\n",
      "/eos/project/l/liu/Instrumentation/tomography/runofflinetomo /eos/project/l/liu/PS/data/2017/MD2586_InjectionEmittanceBlowup/2018.06.13/tomo_data/autosave_236.dat\n",
      "/eos/project/l/liu/Instrumentation/tomography/runofflinetomo /eos/project/l/liu/PS/data/2017/MD2586_InjectionEmittanceBlowup/2018.06.13/tomo_data/autosave_237.dat\n",
      "/eos/project/l/liu/Instrumentation/tomography/runofflinetomo /eos/project/l/liu/PS/data/2017/MD2586_InjectionEmittanceBlowup/2018.06.13/tomo_data/autosave_238.dat\n",
      "/eos/project/l/liu/Instrumentation/tomography/runofflinetomo /eos/project/l/liu/PS/data/2017/MD2586_InjectionEmittanceBlowup/2018.06.13/tomo_data/autosave_239.dat\n",
      "/eos/project/l/liu/Instrumentation/tomography/runofflinetomo /eos/project/l/liu/PS/data/2017/MD2586_InjectionEmittanceBlowup/2018.06.13/tomo_data/autosave_240.dat\n",
      "/eos/project/l/liu/Instrumentation/tomography/runofflinetomo /eos/project/l/liu/PS/data/2017/MD2586_InjectionEmittanceBlowup/2018.06.13/tomo_data/autosave_241.dat\n",
      "/eos/project/l/liu/Instrumentation/tomography/runofflinetomo /eos/project/l/liu/PS/data/2017/MD2586_InjectionEmittanceBlowup/2018.06.13/tomo_data/autosave_242.dat\n",
      "/eos/project/l/liu/Instrumentation/tomography/runofflinetomo /eos/project/l/liu/PS/data/2017/MD2586_InjectionEmittanceBlowup/2018.06.13/tomo_data/autosave_243.dat\n",
      "/eos/project/l/liu/Instrumentation/tomography/runofflinetomo /eos/project/l/liu/PS/data/2017/MD2586_InjectionEmittanceBlowup/2018.06.13/tomo_data/autosave_244.dat\n",
      "/eos/project/l/liu/Instrumentation/tomography/runofflinetomo /eos/project/l/liu/PS/data/2017/MD2586_InjectionEmittanceBlowup/2018.06.13/tomo_data/autosave_245.dat\n",
      "/eos/project/l/liu/Instrumentation/tomography/runofflinetomo /eos/project/l/liu/PS/data/2017/MD2586_InjectionEmittanceBlowup/2018.06.13/tomo_data/autosave_246.dat\n",
      "/eos/project/l/liu/Instrumentation/tomography/runofflinetomo /eos/project/l/liu/PS/data/2017/MD2586_InjectionEmittanceBlowup/2018.06.13/tomo_data/autosave_247.dat\n",
      "/eos/project/l/liu/Instrumentation/tomography/runofflinetomo /eos/project/l/liu/PS/data/2017/MD2586_InjectionEmittanceBlowup/2018.06.13/tomo_data/autosave_248.dat\n",
      "/eos/project/l/liu/Instrumentation/tomography/runofflinetomo /eos/project/l/liu/PS/data/2017/MD2586_InjectionEmittanceBlowup/2018.06.13/tomo_data/autosave_249.dat\n",
      "/eos/project/l/liu/Instrumentation/tomography/runofflinetomo /eos/project/l/liu/PS/data/2017/MD2586_InjectionEmittanceBlowup/2018.06.13/tomo_data/autosave_250.dat\n",
      "/eos/project/l/liu/Instrumentation/tomography/runofflinetomo /eos/project/l/liu/PS/data/2017/MD2586_InjectionEmittanceBlowup/2018.06.13/tomo_data/autosave_251.dat\n",
      "/eos/project/l/liu/Instrumentation/tomography/runofflinetomo /eos/project/l/liu/PS/data/2017/MD2586_InjectionEmittanceBlowup/2018.06.13/tomo_data/autosave_252.dat\n",
      "/eos/project/l/liu/Instrumentation/tomography/runofflinetomo /eos/project/l/liu/PS/data/2017/MD2586_InjectionEmittanceBlowup/2018.06.13/tomo_data/autosave_253.dat\n",
      "/eos/project/l/liu/Instrumentation/tomography/runofflinetomo /eos/project/l/liu/PS/data/2017/MD2586_InjectionEmittanceBlowup/2018.06.13/tomo_data/autosave_254.dat\n",
      "/eos/project/l/liu/Instrumentation/tomography/runofflinetomo /eos/project/l/liu/PS/data/2017/MD2586_InjectionEmittanceBlowup/2018.06.13/tomo_data/autosave_255.dat\n"
     ]
    },
    {
     "name": "stdout",
     "output_type": "stream",
     "text": [
      "/eos/project/l/liu/Instrumentation/tomography/runofflinetomo /eos/project/l/liu/PS/data/2017/MD2586_InjectionEmittanceBlowup/2018.06.13/tomo_data/autosave_256.dat\n",
      "/eos/project/l/liu/Instrumentation/tomography/runofflinetomo /eos/project/l/liu/PS/data/2017/MD2586_InjectionEmittanceBlowup/2018.06.13/tomo_data/autosave_257.dat\n",
      "/eos/project/l/liu/Instrumentation/tomography/runofflinetomo /eos/project/l/liu/PS/data/2017/MD2586_InjectionEmittanceBlowup/2018.06.13/tomo_data/autosave_258.dat\n",
      "/eos/project/l/liu/Instrumentation/tomography/runofflinetomo /eos/project/l/liu/PS/data/2017/MD2586_InjectionEmittanceBlowup/2018.06.13/tomo_data/autosave_259.dat\n",
      "/eos/project/l/liu/Instrumentation/tomography/runofflinetomo /eos/project/l/liu/PS/data/2017/MD2586_InjectionEmittanceBlowup/2018.06.13/tomo_data/autosave_260.dat\n",
      "/eos/project/l/liu/Instrumentation/tomography/runofflinetomo /eos/project/l/liu/PS/data/2017/MD2586_InjectionEmittanceBlowup/2018.06.13/tomo_data/autosave_261.dat\n",
      "/eos/project/l/liu/Instrumentation/tomography/runofflinetomo /eos/project/l/liu/PS/data/2017/MD2586_InjectionEmittanceBlowup/2018.06.13/tomo_data/autosave_262.dat\n",
      "/eos/project/l/liu/Instrumentation/tomography/runofflinetomo /eos/project/l/liu/PS/data/2017/MD2586_InjectionEmittanceBlowup/2018.06.13/tomo_data/autosave_263.dat\n",
      "/eos/project/l/liu/Instrumentation/tomography/runofflinetomo /eos/project/l/liu/PS/data/2017/MD2586_InjectionEmittanceBlowup/2018.06.13/tomo_data/autosave_264.dat\n",
      "/eos/project/l/liu/Instrumentation/tomography/runofflinetomo /eos/project/l/liu/PS/data/2017/MD2586_InjectionEmittanceBlowup/2018.06.13/tomo_data/autosave_265.dat\n",
      "/eos/project/l/liu/Instrumentation/tomography/runofflinetomo /eos/project/l/liu/PS/data/2017/MD2586_InjectionEmittanceBlowup/2018.06.13/tomo_data/autosave_266.dat\n",
      "/eos/project/l/liu/Instrumentation/tomography/runofflinetomo /eos/project/l/liu/PS/data/2017/MD2586_InjectionEmittanceBlowup/2018.06.13/tomo_data/autosave_267.dat\n",
      "/eos/project/l/liu/Instrumentation/tomography/runofflinetomo /eos/project/l/liu/PS/data/2017/MD2586_InjectionEmittanceBlowup/2018.06.13/tomo_data/autosave_268.dat\n",
      "/eos/project/l/liu/Instrumentation/tomography/runofflinetomo /eos/project/l/liu/PS/data/2017/MD2586_InjectionEmittanceBlowup/2018.06.13/tomo_data/autosave_269.dat\n",
      "/eos/project/l/liu/Instrumentation/tomography/runofflinetomo /eos/project/l/liu/PS/data/2017/MD2586_InjectionEmittanceBlowup/2018.06.13/tomo_data/autosave_270.dat\n",
      "/eos/project/l/liu/Instrumentation/tomography/runofflinetomo /eos/project/l/liu/PS/data/2017/MD2586_InjectionEmittanceBlowup/2018.06.13/tomo_data/autosave_271.dat\n",
      "/eos/project/l/liu/Instrumentation/tomography/runofflinetomo /eos/project/l/liu/PS/data/2017/MD2586_InjectionEmittanceBlowup/2018.06.13/tomo_data/autosave_272.dat\n",
      "/eos/project/l/liu/Instrumentation/tomography/runofflinetomo /eos/project/l/liu/PS/data/2017/MD2586_InjectionEmittanceBlowup/2018.06.13/tomo_data/autosave_273.dat\n",
      "/eos/project/l/liu/Instrumentation/tomography/runofflinetomo /eos/project/l/liu/PS/data/2017/MD2586_InjectionEmittanceBlowup/2018.06.13/tomo_data/autosave_274.dat\n",
      "/eos/project/l/liu/Instrumentation/tomography/runofflinetomo /eos/project/l/liu/PS/data/2017/MD2586_InjectionEmittanceBlowup/2018.06.13/tomo_data/autosave_275.dat\n",
      "/eos/project/l/liu/Instrumentation/tomography/runofflinetomo /eos/project/l/liu/PS/data/2017/MD2586_InjectionEmittanceBlowup/2018.06.13/tomo_data/autosave_276.dat\n",
      "/eos/project/l/liu/Instrumentation/tomography/runofflinetomo /eos/project/l/liu/PS/data/2017/MD2586_InjectionEmittanceBlowup/2018.06.13/tomo_data/autosave_277.dat\n",
      "/eos/project/l/liu/Instrumentation/tomography/runofflinetomo /eos/project/l/liu/PS/data/2017/MD2586_InjectionEmittanceBlowup/2018.06.13/tomo_data/autosave_278.dat\n",
      "/eos/project/l/liu/Instrumentation/tomography/runofflinetomo /eos/project/l/liu/PS/data/2017/MD2586_InjectionEmittanceBlowup/2018.06.13/tomo_data/autosave_279.dat\n",
      "/eos/project/l/liu/Instrumentation/tomography/runofflinetomo /eos/project/l/liu/PS/data/2017/MD2586_InjectionEmittanceBlowup/2018.06.13/tomo_data/autosave_280.dat\n",
      "/eos/project/l/liu/Instrumentation/tomography/runofflinetomo /eos/project/l/liu/PS/data/2017/MD2586_InjectionEmittanceBlowup/2018.06.13/tomo_data/autosave_281.dat\n",
      "/eos/project/l/liu/Instrumentation/tomography/runofflinetomo /eos/project/l/liu/PS/data/2017/MD2586_InjectionEmittanceBlowup/2018.06.13/tomo_data/autosave_282.dat\n",
      "/eos/project/l/liu/Instrumentation/tomography/runofflinetomo /eos/project/l/liu/PS/data/2017/MD2586_InjectionEmittanceBlowup/2018.06.13/tomo_data/autosave_283.dat\n",
      "/eos/project/l/liu/Instrumentation/tomography/runofflinetomo /eos/project/l/liu/PS/data/2017/MD2586_InjectionEmittanceBlowup/2018.06.13/tomo_data/autosave_284.dat\n",
      "/eos/project/l/liu/Instrumentation/tomography/runofflinetomo /eos/project/l/liu/PS/data/2017/MD2586_InjectionEmittanceBlowup/2018.06.13/tomo_data/autosave_285.dat\n",
      "/eos/project/l/liu/Instrumentation/tomography/runofflinetomo /eos/project/l/liu/PS/data/2017/MD2586_InjectionEmittanceBlowup/2018.06.13/tomo_data/autosave_286.dat\n",
      "/eos/project/l/liu/Instrumentation/tomography/runofflinetomo /eos/project/l/liu/PS/data/2017/MD2586_InjectionEmittanceBlowup/2018.06.13/tomo_data/autosave_287.dat\n",
      "/eos/project/l/liu/Instrumentation/tomography/runofflinetomo /eos/project/l/liu/PS/data/2017/MD2586_InjectionEmittanceBlowup/2018.06.13/tomo_data/autosave_288.dat\n",
      "/eos/project/l/liu/Instrumentation/tomography/runofflinetomo /eos/project/l/liu/PS/data/2017/MD2586_InjectionEmittanceBlowup/2018.06.13/tomo_data/autosave_289.dat\n",
      "/eos/project/l/liu/Instrumentation/tomography/runofflinetomo /eos/project/l/liu/PS/data/2017/MD2586_InjectionEmittanceBlowup/2018.06.13/tomo_data/autosave_290.dat\n",
      "/eos/project/l/liu/Instrumentation/tomography/runofflinetomo /eos/project/l/liu/PS/data/2017/MD2586_InjectionEmittanceBlowup/2018.06.13/tomo_data/autosave_291.dat\n",
      "/eos/project/l/liu/Instrumentation/tomography/runofflinetomo /eos/project/l/liu/PS/data/2017/MD2586_InjectionEmittanceBlowup/2018.06.13/tomo_data/autosave_292.dat\n",
      "/eos/project/l/liu/Instrumentation/tomography/runofflinetomo /eos/project/l/liu/PS/data/2017/MD2586_InjectionEmittanceBlowup/2018.06.13/tomo_data/autosave_293.dat\n",
      "/eos/project/l/liu/Instrumentation/tomography/runofflinetomo /eos/project/l/liu/PS/data/2017/MD2586_InjectionEmittanceBlowup/2018.06.13/tomo_data/autosave_294.dat\n",
      "/eos/project/l/liu/Instrumentation/tomography/runofflinetomo /eos/project/l/liu/PS/data/2017/MD2586_InjectionEmittanceBlowup/2018.06.13/tomo_data/autosave_295.dat\n",
      "/eos/project/l/liu/Instrumentation/tomography/runofflinetomo /eos/project/l/liu/PS/data/2017/MD2586_InjectionEmittanceBlowup/2018.06.13/tomo_data/autosave_296.dat\n",
      "/eos/project/l/liu/Instrumentation/tomography/runofflinetomo /eos/project/l/liu/PS/data/2017/MD2586_InjectionEmittanceBlowup/2018.06.13/tomo_data/autosave_297.dat\n",
      "/eos/project/l/liu/Instrumentation/tomography/runofflinetomo /eos/project/l/liu/PS/data/2017/MD2586_InjectionEmittanceBlowup/2018.06.13/tomo_data/autosave_298.dat\n",
      "/eos/project/l/liu/Instrumentation/tomography/runofflinetomo /eos/project/l/liu/PS/data/2017/MD2586_InjectionEmittanceBlowup/2018.06.13/tomo_data/autosave_299.dat\n",
      "/eos/project/l/liu/Instrumentation/tomography/runofflinetomo /eos/project/l/liu/PS/data/2017/MD2586_InjectionEmittanceBlowup/2018.06.13/tomo_data/autosave_300.dat\n",
      "/eos/project/l/liu/Instrumentation/tomography/runofflinetomo /eos/project/l/liu/PS/data/2017/MD2586_InjectionEmittanceBlowup/2018.06.13/tomo_data/autosave_301.dat\n",
      "/eos/project/l/liu/Instrumentation/tomography/runofflinetomo /eos/project/l/liu/PS/data/2017/MD2586_InjectionEmittanceBlowup/2018.06.13/tomo_data/autosave_302.dat\n",
      "/eos/project/l/liu/Instrumentation/tomography/runofflinetomo /eos/project/l/liu/PS/data/2017/MD2586_InjectionEmittanceBlowup/2018.06.13/tomo_data/autosave_303.dat\n",
      "/eos/project/l/liu/Instrumentation/tomography/runofflinetomo /eos/project/l/liu/PS/data/2017/MD2586_InjectionEmittanceBlowup/2018.06.13/tomo_data/autosave_304.dat\n",
      "/eos/project/l/liu/Instrumentation/tomography/runofflinetomo /eos/project/l/liu/PS/data/2017/MD2586_InjectionEmittanceBlowup/2018.06.13/tomo_data/autosave_305.dat\n",
      "/eos/project/l/liu/Instrumentation/tomography/runofflinetomo /eos/project/l/liu/PS/data/2017/MD2586_InjectionEmittanceBlowup/2018.06.13/tomo_data/autosave_306.dat\n"
     ]
    },
    {
     "name": "stdout",
     "output_type": "stream",
     "text": [
      "/eos/project/l/liu/Instrumentation/tomography/runofflinetomo /eos/project/l/liu/PS/data/2017/MD2586_InjectionEmittanceBlowup/2018.06.13/tomo_data/autosave_307.dat\n",
      "/eos/project/l/liu/Instrumentation/tomography/runofflinetomo /eos/project/l/liu/PS/data/2017/MD2586_InjectionEmittanceBlowup/2018.06.13/tomo_data/autosave_308.dat\n",
      "/eos/project/l/liu/Instrumentation/tomography/runofflinetomo /eos/project/l/liu/PS/data/2017/MD2586_InjectionEmittanceBlowup/2018.06.13/tomo_data/autosave_309.dat\n",
      "/eos/project/l/liu/Instrumentation/tomography/runofflinetomo /eos/project/l/liu/PS/data/2017/MD2586_InjectionEmittanceBlowup/2018.06.13/tomo_data/autosave_310.dat\n",
      "/eos/project/l/liu/Instrumentation/tomography/runofflinetomo /eos/project/l/liu/PS/data/2017/MD2586_InjectionEmittanceBlowup/2018.06.13/tomo_data/autosave_311.dat\n",
      "/eos/project/l/liu/Instrumentation/tomography/runofflinetomo /eos/project/l/liu/PS/data/2017/MD2586_InjectionEmittanceBlowup/2018.06.13/tomo_data/autosave_312.dat\n",
      "/eos/project/l/liu/Instrumentation/tomography/runofflinetomo /eos/project/l/liu/PS/data/2017/MD2586_InjectionEmittanceBlowup/2018.06.13/tomo_data/autosave_313.dat\n",
      "/eos/project/l/liu/Instrumentation/tomography/runofflinetomo /eos/project/l/liu/PS/data/2017/MD2586_InjectionEmittanceBlowup/2018.06.13/tomo_data/autosave_314.dat\n",
      "/eos/project/l/liu/Instrumentation/tomography/runofflinetomo /eos/project/l/liu/PS/data/2017/MD2586_InjectionEmittanceBlowup/2018.06.13/tomo_data/autosave_315.dat\n",
      "/eos/project/l/liu/Instrumentation/tomography/runofflinetomo /eos/project/l/liu/PS/data/2017/MD2586_InjectionEmittanceBlowup/2018.06.13/tomo_data/autosave_316.dat\n",
      "/eos/project/l/liu/Instrumentation/tomography/runofflinetomo /eos/project/l/liu/PS/data/2017/MD2586_InjectionEmittanceBlowup/2018.06.13/tomo_data/autosave_317.dat\n",
      "/eos/project/l/liu/Instrumentation/tomography/runofflinetomo /eos/project/l/liu/PS/data/2017/MD2586_InjectionEmittanceBlowup/2018.06.13/tomo_data/autosave_318.dat\n",
      "/eos/project/l/liu/Instrumentation/tomography/runofflinetomo /eos/project/l/liu/PS/data/2017/MD2586_InjectionEmittanceBlowup/2018.06.13/tomo_data/autosave_319.dat\n",
      "/eos/project/l/liu/Instrumentation/tomography/runofflinetomo /eos/project/l/liu/PS/data/2017/MD2586_InjectionEmittanceBlowup/2018.06.13/tomo_data/autosave_320.dat\n",
      "/eos/project/l/liu/Instrumentation/tomography/runofflinetomo /eos/project/l/liu/PS/data/2017/MD2586_InjectionEmittanceBlowup/2018.06.13/tomo_data/autosave_321.dat\n",
      "/eos/project/l/liu/Instrumentation/tomography/runofflinetomo /eos/project/l/liu/PS/data/2017/MD2586_InjectionEmittanceBlowup/2018.06.13/tomo_data/autosave_322.dat\n",
      "/eos/project/l/liu/Instrumentation/tomography/runofflinetomo /eos/project/l/liu/PS/data/2017/MD2586_InjectionEmittanceBlowup/2018.06.13/tomo_data/autosave_323.dat\n",
      "/eos/project/l/liu/Instrumentation/tomography/runofflinetomo /eos/project/l/liu/PS/data/2017/MD2586_InjectionEmittanceBlowup/2018.06.13/tomo_data/autosave_324.dat\n",
      "/eos/project/l/liu/Instrumentation/tomography/runofflinetomo /eos/project/l/liu/PS/data/2017/MD2586_InjectionEmittanceBlowup/2018.06.13/tomo_data/autosave_325.dat\n",
      "/eos/project/l/liu/Instrumentation/tomography/runofflinetomo /eos/project/l/liu/PS/data/2017/MD2586_InjectionEmittanceBlowup/2018.06.13/tomo_data/autosave_326.dat\n"
     ]
    }
   ],
   "source": [
    "# new tomogram analysis\n",
    "files_tomo=sorted(glob.glob(folderPath+'/tomo_data/*.dat'))\n",
    "\n",
    "tomo_data = pnd.DataFrame()\n",
    "\n",
    "for f in range(len(files_tomo)):\n",
    "    try:\n",
    "        tomo_d = extractProfile(files_tomo[f])\n",
    "        tomo_d['Filename'] = files_tomo[f]\n",
    "        if tomo_d is np.nan:\n",
    "            pass\n",
    "        else:\n",
    "            tomo_data=tomo_data.append(tomo_d,ignore_index=True)\n",
    "    except IOError:\n",
    "        print '\\nIOError\\n'"
   ]
  },
  {
   "cell_type": "code",
   "execution_count": 18,
   "metadata": {},
   "outputs": [
    {
     "name": "stderr",
     "output_type": "stream",
     "text": [
      "/cvmfs/sft.cern.ch/lcg/views/LCG_93/x86_64-slc6-gcc62-opt/lib/python2.7/site-packages/pandas/core/indexing.py:194: SettingWithCopyWarning: \n",
      "A value is trying to be set on a copy of a slice from a DataFrame\n",
      "\n",
      "See the caveats in the documentation: http://pandas.pydata.org/pandas-docs/stable/indexing.html#indexing-view-versus-copy\n",
      "  self._setitem_with_indexer(indexer, value)\n"
     ]
    },
    {
     "name": "stdout",
     "output_type": "stream",
     "text": [
      "17/326 are within the timeTolerance\n",
      "length of dataframe is: 18\n"
     ]
    }
   ],
   "source": [
    "timeTolerance = 22\n",
    "\n",
    "# ---------- Vars initialisation\n",
    "myDataFrame['tomoTimestamp']=np.nan\n",
    "myDataFrame['tomoDelta']=np.nan\n",
    "myDataFrame['tomoFilename']=np.str\n",
    "myDataFrame['deltaP_P_rms']=np.nan\n",
    "myDataFrame['peakLineDensity']=np.nan\n",
    "myDataFrame['beta']=np.nan\n",
    "myDataFrame['gamma']=np.nan\n",
    "myDataFrame['deltaP_P']=[np.empty(0,dtype=float)]*len(myDataFrame)\n",
    "myDataFrame['momentumProfile']=[np.empty(0,dtype=float)]*len(myDataFrame)\n",
    "\n",
    "\n",
    "succ_count = 0\n",
    "last_match = 0\n",
    "# loop over the tomo_timestamps\n",
    "for k in range(len(tomo_data)):\n",
    "    tomo_local_cs = tomo_data['cycleStamp'].values[k]\n",
    "    t = myToolbox.unixtime2datetime(tomo_local_cs)\n",
    "    tomo_fname = tomo_data['Filename'].iloc[k]\n",
    "    tomo_dpprms = tomo_data['deltaP_P_RMS'].iloc[k]\n",
    "#     tomo_pkldens = tomo_data['peakLineDensity'].iloc[k]\n",
    "    betar = tomo_data['beta'].iloc[k]\n",
    "    gammar = tomo_data['gamma'].iloc[k]\n",
    "    dpp_profil = tomo_data['deltaP_P'].iloc[k]\n",
    "    p_profil = tomo_data['myProfile'].iloc[k]    \n",
    "\n",
    "\n",
    "    # loop over the matlab data\n",
    "    for x in range(len(myDataFrame)):\n",
    "        c = myToolbox.unixtime2utcdatetime(myDataFrame['cycleStamp'].values[x]*1e-9)\n",
    "        d = t-c\n",
    "        d = d.total_seconds()\n",
    "\n",
    "        if np.abs(d) <= timeTolerance and x > last_match: #avoid match the same tomogram to more matlab acquisition unintentionally\n",
    "            myDataFrame['tomoTimestamp'].iloc[x] = tomo_local_cs\n",
    "            myDataFrame['tomoFilename'].iloc[x] = tomo_fname\n",
    "            myDataFrame['tomoDelta'].iloc[x] = d\n",
    "            myDataFrame['deltaP_P_rms'].iloc[x]= tomo_dpprms\n",
    "#             myDataFrame['peakLineDensity'].iloc[x]= tomo_pkldens\n",
    "            myDataFrame['beta'].iloc[x]= betar\n",
    "            myDataFrame['gamma'].iloc[x]= gammar\n",
    "            myDataFrame['deltaP_P'].iloc[x]= dpp_profil\n",
    "            myDataFrame['momentumProfile'].iloc[x]= p_profil\n",
    "\n",
    "\n",
    "            succ_count += 1 #dummy counter\n",
    "            \n",
    "print str(succ_count) +\"/\"+ str(len(tomo_data)) +\" are within the timeTolerance\"\n",
    "print 'length of dataframe is: '+ str(len(myDataFrame)) "
   ]
  },
  {
   "cell_type": "code",
   "execution_count": 19,
   "metadata": {},
   "outputs": [],
   "source": [
    "# discard the elements without tomogram\n",
    "discFlag = np.isnan(myDataFrame['tomoDelta'].values)\n",
    "myDataFrame = myDataFrame.drop(myDataFrame.loc[discFlag].index)"
   ]
  },
  {
   "cell_type": "markdown",
   "metadata": {},
   "source": [
    "# Save the imported data"
   ]
  },
  {
   "cell_type": "code",
   "execution_count": 20,
   "metadata": {},
   "outputs": [],
   "source": [
    "myDataFrame.to_pickle('imported_data_2018.06.13_reference_C1367.pkl')"
   ]
  },
  {
   "cell_type": "code",
   "execution_count": 21,
   "metadata": {},
   "outputs": [],
   "source": [
    "# myDataFrame=pnd.read_pickle('imported_data_2018.06.13.pkl')"
   ]
  },
  {
   "cell_type": "markdown",
   "metadata": {},
   "source": [
    "# Intensity"
   ]
  },
  {
   "cell_type": "code",
   "execution_count": 22,
   "metadata": {},
   "outputs": [],
   "source": [
    "myDataFrame['Intensity'] = myDataFrame['PR_BCT_ST.Samples.value.samples']\n",
    "myDataFrame['Losses'] = myDataFrame['Intensity'].apply(lambda x: 1-x[:][100]/np.max(x) )"
   ]
  },
  {
   "cell_type": "code",
   "execution_count": 23,
   "metadata": {},
   "outputs": [
    {
     "data": {
      "text/plain": [
       "Text(0,0.5,u'Peak intensity (10^10 ppb)')"
      ]
     },
     "execution_count": 23,
     "metadata": {},
     "output_type": "execute_result"
    },
    {
     "data": {
      "image/png": "[encoded data removed]",
      "text/plain": [
       "<matplotlib.figure.Figure at 0x7fa168a1a510>"
      ]
     },
     "metadata": {},
     "output_type": "display_data"
    }
   ],
   "source": [
    "plt.plot(myDataFrame['Intensity'].apply(lambda x: np.max(x)),'*')\n",
    "plt.ylabel('Peak intensity (10^10 ppb)')\n"
   ]
  },
  {
   "cell_type": "code",
   "execution_count": 24,
   "metadata": {},
   "outputs": [
    {
     "data": {
      "text/plain": [
       "Text(0,0.5,u'Losses')"
      ]
     },
     "execution_count": 24,
     "metadata": {},
     "output_type": "execute_result"
    },
    {
     "data": {
      "image/png": "[encoded data removed]",
      "text/plain": [
       "<matplotlib.figure.Figure at 0x7fa25d770d50>"
      ]
     },
     "metadata": {},
     "output_type": "display_data"
    }
   ],
   "source": [
    "plt.plot(np.linspace(0,len(myDataFrame)-1,len(myDataFrame)),myDataFrame['Losses'],'*')\n",
    "x1,x2,y1,y2 = plt.axis()\n",
    "plt.axis((x1,x2,0,0.05))\n",
    "plt.xlabel('Time ')\n",
    "plt.ylabel('Losses')"
   ]
  },
  {
   "cell_type": "code",
   "execution_count": 26,
   "metadata": {},
   "outputs": [
    {
     "data": {
      "text/plain": [
       "Text(0.5,1,u'10 shots intensity')"
      ]
     },
     "execution_count": 26,
     "metadata": {},
     "output_type": "execute_result"
    },
    {
     "data": {
      "image/png": "[encoded data removed]",
      "text/plain": [
       "<matplotlib.figure.Figure at 0x7fa1687dd610>"
      ]
     },
     "metadata": {},
     "output_type": "display_data"
    }
   ],
   "source": [
    "for ll in range(10):\n",
    "    plt.plot(myDataFrame['Intensity'].values[ll])\n",
    "    \n",
    "plt.axvline(x=100, ymin=0, ymax = 8, linewidth=2, color='k')\n",
    "plt.xlabel('Cycle time (ms)')\n",
    "plt.ylabel('BCT Intensity (*1e10 ppb)')\n",
    "plt.title('10 shots intensity')"
   ]
  },
  {
   "cell_type": "markdown",
   "metadata": {
    "collapsed": true
   },
   "source": [
    "# Calculate wire scanner emittance\n",
    "## X plane\n",
    "### Traditional method"
   ]
  },
  {
   "cell_type": "code",
   "execution_count": 27,
   "metadata": {
    "scrolled": true
   },
   "outputs": [],
   "source": [
    "# Wirescanner sigma\n",
    "#position data cleanup (sort, get unique values and the idxes) and conversion to mm\n",
    "myDataFrame['BWS65_position'] = myDataFrame['PR_BWS_65_H_ROT.Acquisition.value.projPositionSet1'].apply(lambda x: np.unique(x, return_index=True)[0]*1e-3)\n",
    "myDataFrame['BWS65_position_idx'] = myDataFrame['PR_BWS_65_H_ROT.Acquisition.value.projPositionSet1'].apply(lambda x: np.unique(x, return_index=True)[1])\n",
    "\n",
    "#instantiate an array object for the result in the frame\n",
    "myDataFrame['BWS65_data'] = myDataFrame['BWS65_position_idx'].apply(lambda x: np.empty(len(x)))\n",
    "pos = np.arange(-50, 50, 0.05)\n",
    "\n",
    "row, col = myDataFrame.shape\n",
    "\n",
    "for r in xrange(row):\n",
    "    myDataFrame['BWS65_data'].iloc[r] = np.interp(pos, myDataFrame['BWS65_position'].iloc[r], myDataFrame['PR_BWS_65_H_ROT.Acquisition.value.projDataSet1'].iloc[r][myDataFrame['BWS65_position_idx'].iloc[r]])  \n",
    "    \n",
    "#do the fit and get the sigma in mm\n",
    "myDataFrame['WS_fit_results_x'] = myDataFrame['BWS65_data'].apply(lambda x: myToolbox.makeGaussianFit_5_parameters(pos,x))\n",
    "myDataFrame['WS_sigma_x'] = myDataFrame['WS_fit_results_x'].apply(lambda x: x[0][-1])\n"
   ]
  },
  {
   "cell_type": "code",
   "execution_count": 28,
   "metadata": {},
   "outputs": [],
   "source": [
    "# Emittance calculation\n",
    "myDataFrame['WS_emittance_x'] = np.nan\n",
    "myDataFrame['WS_geom_emittance_x'] = np.nan\n",
    "\n",
    "for n in range(len(myDataFrame)):\n",
    "    myDataFrame['WS_emittance_x'].iloc[n] = normalised_emittance('65H',myDataFrame['WS_sigma_x'].values[n],dp=myDataFrame['deltaP_P_rms'].values[n])\n",
    "    myDataFrame['WS_geom_emittance_x'].iloc[n] = myDataFrame['WS_emittance_x'].iloc[n]/(myDataFrame['beta'].iloc[n]*myDataFrame['gamma'].iloc[n])"
   ]
  },
  {
   "cell_type": "markdown",
   "metadata": {},
   "source": [
    "### Dispersive profile deconvolution"
   ]
  },
  {
   "cell_type": "code",
   "execution_count": 29,
   "metadata": {},
   "outputs": [],
   "source": [
    "# BWS65\n",
    "betax = 21.77988929\n",
    "Dx = 3.24577470\n",
    "\n",
    "betax = 20.11\n",
    "Dx = 3.2\n",
    "\n",
    "def deconv_caller(row):\n",
    "    return myToolbox.computeTransverseEmittance(row['PR_BWS_65_H_ROT.Acquisition.value.projPositionSet1'],\n",
    "                              row['PR_BWS_65_H_ROT.Acquisition.value.projDataSet1'],\n",
    "                              row['momentumProfile'],\n",
    "                              row['deltaP_P'],\n",
    "                              row['beta']*row['gamma'],\n",
    "                              betaOptical_m=betax,Dispersion_m=Dx)\n",
    "\n",
    "myDataFrame['Deconvolution_result'] = myDataFrame.apply(deconv_caller,axis=1)\n",
    "\n",
    "\n",
    "\n",
    "for k in myDataFrame.index:  \n",
    "    myDataFrame.loc[k,'Emittance_x_deconv'] = myDataFrame.loc[k,('Deconvolution_result')]['emittance_um']\n"
   ]
  },
  {
   "cell_type": "markdown",
   "metadata": {},
   "source": [
    "## Y plane"
   ]
  },
  {
   "cell_type": "code",
   "execution_count": 30,
   "metadata": {},
   "outputs": [
    {
     "name": "stderr",
     "output_type": "stream",
     "text": [
      "/cvmfs/sft.cern.ch/lcg/views/LCG_93/x86_64-slc6-gcc62-opt/lib/python2.7/site-packages/scipy/optimize/minpack.py:715: OptimizeWarning: Covariance of the parameters could not be estimated\n",
      "  category=OptimizeWarning)\n"
     ]
    }
   ],
   "source": [
    "# Wirescanner sigma\n",
    "#position data cleanup (sort, get unique values and the idxes) and conversion to mm\n",
    "myDataFrame['BWS85_position'] = myDataFrame['PR_BWS_85_V_ROT.Acquisition.value.projPositionSet1'].apply(lambda x: np.unique(x, return_index=True)[0]*1e-3)\n",
    "myDataFrame['BWS85_position_idx'] = myDataFrame['PR_BWS_85_V_ROT.Acquisition.value.projPositionSet1'].apply(lambda x: np.unique(x, return_index=True)[1])\n",
    "\n",
    "#instantiate an array object for the result in the frame\n",
    "myDataFrame['BWS85_data'] = myDataFrame['BWS85_position_idx'].apply(lambda x: np.empty(len(x)))\n",
    "pos = np.arange(-50, 50, 0.05)\n",
    "\n",
    "row, col = myDataFrame.shape\n",
    "\n",
    "for r in xrange(row):\n",
    "    myDataFrame['BWS85_data'].iloc[r] = np.interp(pos, myDataFrame['BWS85_position'].iloc[r], myDataFrame['PR_BWS_85_V_ROT.Acquisition.value.projDataSet1'].iloc[r][myDataFrame['BWS85_position_idx'].iloc[r]])  \n",
    "\n",
    "#do the fit and get the sigma in mm\n",
    "myDataFrame['WS_fit_results_y'] = myDataFrame['BWS85_data'].apply(lambda x: myToolbox.makeGaussianFit_5_parameters(pos,x))\n",
    "myDataFrame['WS_sigma_y'] = myDataFrame['WS_fit_results_y'].apply(lambda x: x[0][-1])"
   ]
  },
  {
   "cell_type": "code",
   "execution_count": 31,
   "metadata": {},
   "outputs": [],
   "source": [
    "# Emittance calculation\n",
    "myDataFrame['WS_emittance_y'] = myDataFrame['WS_sigma_y'].apply(lambda x: normalised_emittance('85V',x))\n",
    "\n",
    "myDataFrame['WS_geom_emittance_y'] = np.nan\n",
    "for n in range(len(myDataFrame)):\n",
    "    myDataFrame['WS_geom_emittance_y'].iloc[n] = myDataFrame['WS_emittance_y'].iloc[n]/(myDataFrame['beta'].iloc[n]*myDataFrame['gamma'].iloc[n])"
   ]
  },
  {
   "cell_type": "markdown",
   "metadata": {},
   "source": [
    "## Calculate average emittance per measurement point"
   ]
  },
  {
   "cell_type": "code",
   "execution_count": 40,
   "metadata": {},
   "outputs": [
    {
     "name": "stdout",
     "output_type": "stream",
     "text": [
      "Emi_x =1.86334929329 +/-0.061511821183\n"
     ]
    },
    {
     "data": {
      "image/png": "[encoded data removed]",
      "text/plain": [
       "<matplotlib.figure.Figure at 0x7fa113e811d0>"
      ]
     },
     "metadata": {},
     "output_type": "display_data"
    }
   ],
   "source": [
    "fig, ax = plt.subplots(1,2,figsize=(14,7))\n",
    "ax[0].plot(myDataFrame['WS_emittance_x'],'*')\n",
    "ax[0].set_title('bump off')\n",
    "ax[0].set_ylabel('Norm. Emittance x')\n",
    "# ax[0].set_ylim(1.8,2.2)\n",
    "\n",
    "\n",
    "print('Emi_x ='+str(np.mean(myDataFrame['WS_emittance_x'].iloc[:4]))+' +/-' + str(np.std(myDataFrame['WS_emittance_x'].iloc[:4])))\n"
   ]
  },
  {
   "cell_type": "code",
   "execution_count": 42,
   "metadata": {},
   "outputs": [
    {
     "name": "stdout",
     "output_type": "stream",
     "text": [
      "Emi_x =1.27926480017 +/-0.0633708278753\n"
     ]
    },
    {
     "data": {
      "image/png": "[encoded data removed]",
      "text/plain": [
       "<matplotlib.figure.Figure at 0x7fa113d33e50>"
      ]
     },
     "metadata": {},
     "output_type": "display_data"
    }
   ],
   "source": [
    "fig, ax = plt.subplots(1,2,figsize=(14,7))\n",
    "ax[0].plot(myDataFrame['WS_emittance_y'],'*')\n",
    "ax[0].set_title('bump off')\n",
    "ax[0].set_ylabel('Norm. Emittance y')\n",
    "# ax[0].set_ylim(1.2,1.4)\n",
    "\n",
    "\n",
    "print('Emi_x ='+str(np.mean(myDataFrame['WS_emittance_y'].iloc[:4]))+' +/-' + str(np.std(myDataFrame['WS_emittance_y'].iloc[:4])))\n"
   ]
  },
  {
   "cell_type": "code",
   "execution_count": null,
   "metadata": {},
   "outputs": [],
   "source": []
  }
 ],
 "metadata": {
  "kernelspec": {
   "display_name": "Python 2",
   "language": "python",
   "name": "python2"
  },
  "language_info": {
   "codemirror_mode": {
    "name": "ipython",
    "version": 2
   },
   "file_extension": ".py",
   "mimetype": "text/x-python",
   "name": "python",
   "nbconvert_exporter": "python",
   "pygments_lexer": "ipython2",
   "version": "2.7.13"
  }
 },
 "nbformat": 4,
 "nbformat_minor": 2
}
