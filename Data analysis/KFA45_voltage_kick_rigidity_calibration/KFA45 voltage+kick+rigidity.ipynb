{
 "cells": [
  {
   "cell_type": "markdown",
   "metadata": {},
   "source": [
    "# Get some data on the momentum first ...\n"
   ]
  },
  {
   "cell_type": "code",
   "execution_count": 2,
   "metadata": {},
   "outputs": [
    {
     "name": "stderr",
     "output_type": "stream",
     "text": [
      "WARNING:cmmnbuild_dep_manager:JVM is already started\n"
     ]
    },
    {
     "name": "stdout",
     "output_type": "stream",
     "text": [
      "Version 0.03. This is the latest version.\n",
      "Please help me to improve it reporting bugs to guido.sterbini@cern.ch.\n",
      "Your platform is Linux-3.10.0-693.11.6.el7.centos.plus.x86_64-x86_64-with-redhat-6.9-Carbon\n",
      "Your folder is /eos/user/e/esenes/PS-injection-steering/Data analysis/KFA45_voltage_kick_rigidity_calibration\n",
      "Your IP is 172.17.0.6\n",
      "2018-08-13 14:10:12\n",
      "---\n",
      "Version 0.1\n",
      "Use at your own risk. Please report bugs to eugenio.senes@cern.ch\n",
      "Fork it at https://gitlab.cern.ch/esenes/PS-analysis-tools\n",
      "---\n"
     ]
    }
   ],
   "source": [
    "%run /eos/project/l/liu/Toolbox/myToolbox.py\n",
    "print '---'\n",
    "%run /eos/user/e/esenes/PS-analysis-tools/eTools.py\n",
    "print '---'"
   ]
  },
  {
   "cell_type": "code",
   "execution_count": 49,
   "metadata": {},
   "outputs": [],
   "source": [
    "folderPath = '/eos/project/l/liu/PS/data/2017/MD2586_InjectionEmittanceBlowup/2018.08.13/energy_momentum_sample'\n",
    "\n",
    "matlabVars = ['PR_BETA_ST.Samples.value.samples',\n",
    "              'PR_GAMMA_ST.Samples.value.samples',\n",
    "              'PR_MOMENTUM_ST.Samples.value.samples',\n",
    "              'PR_TOTENERGY_ST.Samples.value.samples',\n",
    "              'PR_KINENERGY_ST.Samples.value.samples']\n"
   ]
  },
  {
   "cell_type": "code",
   "execution_count": 50,
   "metadata": {},
   "outputs": [
    {
     "name": "stdout",
     "output_type": "stream",
     "text": [
      "Found 2 data files\n",
      "Found 4 data files\n",
      "Found 3 data files\n"
     ]
    }
   ],
   "source": [
    "# let's start with the matlab data\n",
    "files_fb = sorted(glob.glob(folderPath+'/BCMS_flat_bottom/2018*.mat'))\n",
    "print 'Found ' + str(len(files_fb)) + ' data files'\n",
    "files_5GeV = sorted(glob.glob(folderPath+'/5GeV/2018*.mat'))\n",
    "print 'Found ' + str(len(files_5GeV)) + ' data files'\n",
    "files_26GeV = sorted(glob.glob(folderPath+'/26GeV/2018*.mat'))\n",
    "print 'Found ' + str(len(files_26GeV)) + ' data files'\n",
    "files = files_fb + files_5GeV + files_26GeV"
   ]
  },
  {
   "cell_type": "code",
   "execution_count": 51,
   "metadata": {},
   "outputs": [],
   "source": [
    "myDataFrame = myToolbox.fromMatlabToDataFrame(files,matlabVars,verbose=False)"
   ]
  },
  {
   "cell_type": "code",
   "execution_count": 76,
   "metadata": {},
   "outputs": [
    {
     "name": "stdout",
     "output_type": "stream",
     "text": [
      "From the sampler:\n",
      " Momentum at injection energy: 2.1292959 GeV/c\n",
      " Momentum at 5GeV: 4.83214092 GeV/c\n",
      " Momentum at 26GeV: 26.366431725 GeV/c\n"
     ]
    }
   ],
   "source": [
    "p_injection = 1e-3*myDataFrame['PR_MOMENTUM_ST.Samples.value.samples'].iloc[1][5000]\n",
    "p_5GeV = 1e-3*myDataFrame['PR_MOMENTUM_ST.Samples.value.samples'].iloc[3][10000]\n",
    "p_26GeV = 1e-3*myDataFrame['PR_MOMENTUM_ST.Samples.value.samples'].iloc[7][15000]\n",
    "\n",
    "print('From the sampler:')\n",
    "print(' Momentum at injection energy: '+str(p_injection)+ ' GeV/c')\n",
    "print(' Momentum at 5GeV: '+str(p_5GeV)+ ' GeV/c')\n",
    "print(' Momentum at 26GeV: '+str(p_26GeV)+ ' GeV/c')"
   ]
  },
  {
   "cell_type": "markdown",
   "metadata": {},
   "source": [
    "# ... and now get something about the voltage-to-kick measured at injection energy"
   ]
  },
  {
   "cell_type": "code",
   "execution_count": 28,
   "metadata": {},
   "outputs": [
    {
     "name": "stdout",
     "output_type": "stream",
     "text": [
      "Found 47 data files\n"
     ]
    }
   ],
   "source": [
    "folderPath = '/eos/project/l/liu/PS/data/2017/MD2586_InjectionEmittanceBlowup/2018.08.13/voltage_to_kick/data'\n",
    "\n",
    "matlabVars = [  'PI_KFA45.AQN1.value',\n",
    "                'PI_KFA45.CCV.value', \n",
    "                'logical_PI_KFA45.K.value' # Kicker k parameter value (mrad)\n",
    "             ]\n",
    "\n",
    "files = sorted(glob.glob(folderPath+'/2018*.mat'))\n",
    "print 'Found ' + str(len(files)) + ' data files'"
   ]
  },
  {
   "cell_type": "code",
   "execution_count": 29,
   "metadata": {},
   "outputs": [],
   "source": [
    "myDataFrame = myToolbox.fromMatlabToDataFrame(files,matlabVars,verbose=False)"
   ]
  },
  {
   "cell_type": "code",
   "execution_count": 40,
   "metadata": {},
   "outputs": [
    {
     "name": "stdout",
     "output_type": "stream",
     "text": [
      "Fit params [  1.37682160e-05   1.41490089e-07]\n"
     ]
    },
    {
     "data": {
      "image/png": "[encoded data removed]",
      "text/plain": [
       "<matplotlib.figure.Figure at 0x7fa8f83dd290>"
      ]
     },
     "metadata": {},
     "output_type": "display_data"
    }
   ],
   "source": [
    "# myDataFrame[['logical_PI_KFA45.K.value','PI_KFA45.AQN1.value']]\n",
    "xx = myDataFrame['PI_KFA45.CCV.value']\n",
    "yy =  myDataFrame['logical_PI_KFA45.K.value']\n",
    "plt.plot(xx, yy, 'o')\n",
    "plt.xlabel('CCV voltage (kV)')\n",
    "plt.ylabel('KFA45 k (rad)')\n",
    "\n",
    "p = np.polyfit(xx,yy, 1)\n",
    "plt.plot(xx, p[0]*xx+p[1])\n",
    "print('Fit params '+str(p))"
   ]
  }
 ],
 "metadata": {
  "kernelspec": {
   "display_name": "Python 2",
   "language": "python",
   "name": "python2"
  },
  "language_info": {
   "codemirror_mode": {
    "name": "ipython",
    "version": 2
   },
   "file_extension": ".py",
   "mimetype": "text/x-python",
   "name": "python",
   "nbconvert_exporter": "python",
   "pygments_lexer": "ipython2",
   "version": "2.7.13"
  }
 },
 "nbformat": 4,
 "nbformat_minor": 2
}
