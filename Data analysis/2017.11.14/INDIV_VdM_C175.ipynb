{
 "cells": [
  {
   "cell_type": "code",
   "execution_count": 1,
   "metadata": {
    "scrolled": true
   },
   "outputs": [
    {
     "name": "stdout",
     "output_type": "stream",
     "text": [
      "Version 0.03. This is the latest version.\n",
      "Please help me to improve it reporting bugs to guido.sterbini@cern.ch.\n",
      "Your platform is Linux-3.10.0-693.11.6.el7.x86_64-x86_64-with-redhat-6.9-Carbon\n",
      "Your folder is /eos/user/e/esenes/Injection_missteering/2017.11.14\n",
      "Your IP is 172.17.0.18\n",
      "2018-03-08 16:01:19\n",
      "---\n",
      "Version 0.1\n",
      "Use at your own risk. Please report bugs to eugenio.senes@cern.ch\n",
      "Fork it at https://gitlab.cern.ch/esenes/PS-analysis-tools\n",
      "---\n"
     ]
    }
   ],
   "source": [
    "%run /eos/project/m/mte/Toolbox/myToolbox.py\n",
    "print '---'\n",
    "%run /eos/user/e/esenes/PS-analysis-tools/eTools.py\n",
    "print '---'\n",
    "sys.path.append('/eos/project/l/liu/Instrumentation/Scripts')\n",
    "import metaclass"
   ]
  },
  {
   "cell_type": "code",
   "execution_count": 2,
   "metadata": {
    "collapsed": true
   },
   "outputs": [],
   "source": [
    "sys.path.append('/eos/project/l/liu/Instrumentation/Scripts')\n",
    "import metaclass"
   ]
  },
  {
   "cell_type": "markdown",
   "metadata": {},
   "source": [
    "# User inputs"
   ]
  },
  {
   "cell_type": "code",
   "execution_count": 3,
   "metadata": {
    "collapsed": true
   },
   "outputs": [],
   "source": [
    "folderPath = '/eos/project/l/liu/PS/data/2017/MD2586_InjectionEmittanceBlowup/2017.11.14'\n",
    "\n",
    "matlabVars = ['PR_BWS_65_H_ROT.Acquisition.value.projDataSet1', # Wirescanner 65\n",
    "                'PR_BWS_65_H_ROT.Acquisition.value.projPositionSet1',\n",
    "                'PR_BWS_65_H_ROT.Acquisition.value.acqTimeInCycleSet1',\n",
    "                'PR_BWS_85_V_ROT.Acquisition.value.projDataSet1', # Wirescanner 85\n",
    "                'PR_BWS_85_V_ROT.Acquisition.value.projPositionSet1',\n",
    "                'PR_BWS_85_V_ROT.Acquisition.value.acqTimeInCycleSet1',\n",
    "                'logical_PI_KFA45.K.value', # Kicker k parameter value (mrad)\n",
    "                'PI_KFA45.AQN1.value',\n",
    "                'PI_KFA45.CCV.value', \n",
    "                'PR_BPM.AcquisitionOrbit.value.position', # BPMs\n",
    "                'PR_BPM.AcquisitionTrajectoryBBB.value.position',\n",
    "                'PR_BCT_ST.Samples.value.samples']\n",
    "\n"
   ]
  },
  {
   "cell_type": "code",
   "execution_count": 4,
   "metadata": {},
   "outputs": [
    {
     "name": "stdout",
     "output_type": "stream",
     "text": [
      "Found 143 data files\n",
      "First: /eos/project/l/liu/PS/data/2017/MD2586_InjectionEmittanceBlowup/2017.11.14/data_WS_175/2017.11.14.13.13.14.833.mat\n",
      "End: /eos/project/l/liu/PS/data/2017/MD2586_InjectionEmittanceBlowup/2017.11.14/data_WS_175/2017.11.14.14.41.17.154.mat\n"
     ]
    }
   ],
   "source": [
    "# let's start with the matlab data\n",
    "files = sorted(glob.glob(folderPath+'/data_WS_175/2017*.mat'))\n",
    "print 'Found ' + str(len(files)) + ' data files'\n",
    "print 'First: ' + files[0]\n",
    "print 'End: ' + files[-1]"
   ]
  },
  {
   "cell_type": "code",
   "execution_count": 5,
   "metadata": {
    "collapsed": true
   },
   "outputs": [],
   "source": [
    "myDataFrame = myToolbox.fromMatlabToDataFrame(files,matlabVars,verbose=False)"
   ]
  },
  {
   "cell_type": "markdown",
   "metadata": {},
   "source": [
    "# Data cleanup"
   ]
  },
  {
   "cell_type": "code",
   "execution_count": 6,
   "metadata": {},
   "outputs": [
    {
     "name": "stdout",
     "output_type": "stream",
     "text": [
      "No duplicates found\n",
      "---\n",
      "BPM data ok\n",
      "---\n"
     ]
    }
   ],
   "source": [
    "myDataFrame = checkDuplicates(myDataFrame) # Drop double acquisitions from matlab\n",
    "myDataFrame = checkBPMData(myDataFrame) # BPMs fault\n",
    "# manual data drop\n",
    "myDataFrame = myDataFrame.drop(myDataFrame.loc['2017-11-14 14:22:59.500000'].name) # non-phys emittance"
   ]
  },
  {
   "cell_type": "markdown",
   "metadata": {},
   "source": [
    "# Load the reference kick"
   ]
  },
  {
   "cell_type": "code",
   "execution_count": 7,
   "metadata": {
    "collapsed": true
   },
   "outputs": [],
   "source": [
    "# refPath = folderPath+'/refKicker.mat'\n",
    "# scipy.io.whosmat(refPath)\n",
    "# rk = scipy.io.loadmat(refPath)['k']"
   ]
  },
  {
   "cell_type": "markdown",
   "metadata": {},
   "source": [
    "# Import the optics model"
   ]
  },
  {
   "cell_type": "code",
   "execution_count": 8,
   "metadata": {},
   "outputs": [
    {
     "name": "stdout",
     "output_type": "stream",
     "text": [
      "Problem parsing: @ ORBIT_-CT        %le   -0.00000000\n",
      "\n",
      "Going to be parsed as string\n",
      "Problem persits, let's ignore it!\n"
     ]
    }
   ],
   "source": [
    "# get the optics functions from the model\n",
    "optics = metaclass.twiss('/eos/user/e/esenes/AnalysisTools/Injection7_optics_Qx_0.21_Qy_0.23.outx')"
   ]
  },
  {
   "cell_type": "markdown",
   "metadata": {},
   "source": [
    "# Booster emittance"
   ]
  },
  {
   "cell_type": "code",
   "execution_count": 14,
   "metadata": {
    "collapsed": true
   },
   "outputs": [],
   "source": [
    "emix_norm_PSB = 2.312\n",
    "emiy_norm_PSB = 2.143\n",
    "\n",
    "emix_geom_PSB = emix_norm_PSB/(betar*gammar)\n",
    "emiy_geom_PSB = emiy_norm_PSB/(betar*gammar)"
   ]
  },
  {
   "cell_type": "markdown",
   "metadata": {},
   "source": [
    "# Find the shift value"
   ]
  },
  {
   "cell_type": "code",
   "execution_count": 15,
   "metadata": {},
   "outputs": [
    {
     "data": {
      "text/plain": [
       "Text(0,0.5,u'KFA45 AQN')"
      ]
     },
     "execution_count": 15,
     "metadata": {},
     "output_type": "execute_result"
    },
    {
     "data": {
      "image/png": "[encoded data removed]",
      "text/plain": [
       "<matplotlib.figure.Figure at 0x7fec1b51fd10>"
      ]
     },
     "metadata": {},
     "output_type": "display_data"
    }
   ],
   "source": [
    "shiftVal=1\n",
    "plt.plot(myDataFrame['logical_PI_KFA45.K.value'].shift(shiftVal),myDataFrame['PI_KFA45.AQN1.value'],'*')\n",
    "plt.xlabel('Kicker strength')\n",
    "plt.ylabel('KFA45 AQN')"
   ]
  },
  {
   "cell_type": "markdown",
   "metadata": {},
   "source": [
    "# Match the tomogram data"
   ]
  },
  {
   "cell_type": "code",
   "execution_count": 11,
   "metadata": {
    "collapsed": true
   },
   "outputs": [],
   "source": [
    "# directly copied from one of Guido's analyses\n",
    "def extractProfile(fileName):\n",
    "    '''Give me the input file (.dat) of the tomogram and I will give you 2 output:\n",
    "        the deltaP_P and the the momentum distribution profile.\n",
    "    ''' \n",
    "\n",
    "    print('/eos/project/l/liu/Instrumentation/tomography/runofflinetomo ' + fileName)\n",
    "    a=os.system('/eos/project/l/liu/Instrumentation/tomography/runofflinetomo ' + fileName)\n",
    "    \n",
    "    convergence=np.loadtxt(fileName[0:-4] + '/d001.data')\n",
    "    image=np.loadtxt(fileName[0:-4] + '/image001.data')\n",
    "    with open(fileName[0:-4] + '/input_v2.dat','r') as stream: tomofileheader = stream.readlines()[:98]\n",
    "\n",
    "    myInput={'PLSUSER': tomofileheader[0][0:-1],\n",
    "            'NumberOfframes': np.int(tomofileheader[16][0:-1]),\n",
    "            'B_T': np.double(tomofileheader[75][0:-1]),\n",
    "            'Bdot_T_per_s': np.double(tomofileheader[77][0:-1]),\n",
    "            'machineRadius_m': np.double(tomofileheader[79][0:-1]),\n",
    "            'bendingRadius_m': np.double(tomofileheader[81][0:-1]),\n",
    "            'particleMass_eV': np.double(tomofileheader[85][0:-1]),\n",
    "            'h': np.int(np.double(tomofileheader[69][0:-1])),\n",
    "            'ctime': np.int(tomofileheader[2]),\n",
    "            'cycleStamp':np.int(tomofileheader[1]),                    # cyclestamp in unix time\n",
    "            'pickupSensitivity':np.double(tomofileheader[97])          # pickup sensitivity\n",
    "    }\n",
    "\n",
    "    with open(fileName[0:-4] + '/plotinfo.data','r') as stream: tomofileheader = stream.readlines()\n",
    "\n",
    "    myInput['profilecount']=np.int(str.split(tomofileheader[1])[2])\n",
    "    myInput['profilelength']=np.int(str.split(tomofileheader[3])[2])\n",
    "\n",
    "    myInput['dtbin']=np.double(str.split(tomofileheader[5])[2])\n",
    "    myInput['dEbin']=np.double(str.split(tomofileheader[7])[2])\n",
    "    myInput['xat0']=np.double(str.split(tomofileheader[11])[2])\n",
    "    myInput['yat0']=np.double(str.split(tomofileheader[12])[2])\n",
    "    myInput['eperimage']=np.double(str.split(tomofileheader[9])[2])\n",
    "\n",
    "    mySpeedOfLight=299792458. #TODO\n",
    "    myInput['momentum_eV']=myInput['B_T']*myInput['bendingRadius_m']/(10/mySpeedOfLight*1e8)*1.e9 #TODO\n",
    "    myInput['totalEnergy_eV']=np.sqrt(myInput['momentum_eV']**2+myInput['particleMass_eV']**2)\n",
    "    myInput['gamma']=myInput['totalEnergy_eV']/myInput['particleMass_eV']\n",
    "    myInput['beta']=np.sqrt(1-1/myInput['gamma']**2)\n",
    "\n",
    "    image=image*myInput['eperimage']/myInput['dtbin']/myInput['dEbin']\n",
    "\n",
    "    halfProfileLength=myInput['profilelength']/2.\n",
    "\n",
    "    Toffset= (myInput['xat0']-halfProfileLength)*myInput['dtbin']*1e9\n",
    "    Eoffset= (myInput['yat0']-halfProfileLength)*myInput['dEbin']/1e6\n",
    "\n",
    "    t=np.arange(-halfProfileLength,halfProfileLength)*myInput['dtbin']*1e9-Toffset\n",
    "    E=np.arange(-halfProfileLength,halfProfileLength)*myInput['dEbin']/1e6-Eoffset\n",
    "\n",
    "\n",
    "    deltaP_P= 1/myInput['beta']**2*E*1e6/myInput['totalEnergy_eV']\n",
    "    myProfile=np.sum(np.reshape(image, [myInput['profilelength'], myInput['profilelength']]),0)\n",
    "    myProfile=myProfile/np.trapz(myProfile,deltaP_P)\n",
    "    myInput['deltaP_P']=deltaP_P;\n",
    "    myInput['myProfile']=myProfile;\n",
    "    myInput['E_MeV']=E\n",
    "    myInput['t_ns']=t\n",
    "    myInput['phaseSpace_e_per_eVs']=np.reshape(image, [myInput['profilelength'], myInput['profilelength']]);\n",
    "    myProfileNormalized=myProfile/np.trapz(myProfile,deltaP_P)\n",
    "    myMean=np.trapz(deltaP_P*myProfileNormalized,deltaP_P)\n",
    "    myRMS=np.sqrt(np.trapz((deltaP_P-myMean)**2*myProfileNormalized,deltaP_P))\n",
    "    myInput['deltaP_P_RMS']=myRMS\n",
    "    return myInput"
   ]
  },
  {
   "cell_type": "code",
   "execution_count": 12,
   "metadata": {
    "scrolled": true
   },
   "outputs": [
    {
     "name": "stdout",
     "output_type": "stream",
     "text": [
      "/eos/project/l/liu/Instrumentation/tomography/runofflinetomo /eos/project/l/liu/PS/data/2017/MD2586_InjectionEmittanceBlowup/2017.11.14/tomo_data/autosave_001.dat\n",
      "/eos/project/l/liu/Instrumentation/tomography/runofflinetomo /eos/project/l/liu/PS/data/2017/MD2586_InjectionEmittanceBlowup/2017.11.14/tomo_data/autosave_002.dat\n",
      "/eos/project/l/liu/Instrumentation/tomography/runofflinetomo /eos/project/l/liu/PS/data/2017/MD2586_InjectionEmittanceBlowup/2017.11.14/tomo_data/autosave_003.dat\n",
      "/eos/project/l/liu/Instrumentation/tomography/runofflinetomo /eos/project/l/liu/PS/data/2017/MD2586_InjectionEmittanceBlowup/2017.11.14/tomo_data/autosave_004.dat\n",
      "/eos/project/l/liu/Instrumentation/tomography/runofflinetomo /eos/project/l/liu/PS/data/2017/MD2586_InjectionEmittanceBlowup/2017.11.14/tomo_data/autosave_005.dat\n",
      "/eos/project/l/liu/Instrumentation/tomography/runofflinetomo /eos/project/l/liu/PS/data/2017/MD2586_InjectionEmittanceBlowup/2017.11.14/tomo_data/autosave_006.dat\n",
      "/eos/project/l/liu/Instrumentation/tomography/runofflinetomo /eos/project/l/liu/PS/data/2017/MD2586_InjectionEmittanceBlowup/2017.11.14/tomo_data/autosave_007.dat\n",
      "/eos/project/l/liu/Instrumentation/tomography/runofflinetomo /eos/project/l/liu/PS/data/2017/MD2586_InjectionEmittanceBlowup/2017.11.14/tomo_data/autosave_008.dat\n",
      "/eos/project/l/liu/Instrumentation/tomography/runofflinetomo /eos/project/l/liu/PS/data/2017/MD2586_InjectionEmittanceBlowup/2017.11.14/tomo_data/autosave_009.dat\n",
      "/eos/project/l/liu/Instrumentation/tomography/runofflinetomo /eos/project/l/liu/PS/data/2017/MD2586_InjectionEmittanceBlowup/2017.11.14/tomo_data/autosave_010.dat\n",
      "/eos/project/l/liu/Instrumentation/tomography/runofflinetomo /eos/project/l/liu/PS/data/2017/MD2586_InjectionEmittanceBlowup/2017.11.14/tomo_data/autosave_011.dat\n",
      "/eos/project/l/liu/Instrumentation/tomography/runofflinetomo /eos/project/l/liu/PS/data/2017/MD2586_InjectionEmittanceBlowup/2017.11.14/tomo_data/autosave_012.dat\n",
      "/eos/project/l/liu/Instrumentation/tomography/runofflinetomo /eos/project/l/liu/PS/data/2017/MD2586_InjectionEmittanceBlowup/2017.11.14/tomo_data/autosave_013.dat\n",
      "/eos/project/l/liu/Instrumentation/tomography/runofflinetomo /eos/project/l/liu/PS/data/2017/MD2586_InjectionEmittanceBlowup/2017.11.14/tomo_data/autosave_014.dat\n",
      "/eos/project/l/liu/Instrumentation/tomography/runofflinetomo /eos/project/l/liu/PS/data/2017/MD2586_InjectionEmittanceBlowup/2017.11.14/tomo_data/autosave_015.dat\n",
      "/eos/project/l/liu/Instrumentation/tomography/runofflinetomo /eos/project/l/liu/PS/data/2017/MD2586_InjectionEmittanceBlowup/2017.11.14/tomo_data/autosave_016.dat\n",
      "/eos/project/l/liu/Instrumentation/tomography/runofflinetomo /eos/project/l/liu/PS/data/2017/MD2586_InjectionEmittanceBlowup/2017.11.14/tomo_data/autosave_017.dat\n",
      "/eos/project/l/liu/Instrumentation/tomography/runofflinetomo /eos/project/l/liu/PS/data/2017/MD2586_InjectionEmittanceBlowup/2017.11.14/tomo_data/autosave_018.dat\n",
      "/eos/project/l/liu/Instrumentation/tomography/runofflinetomo /eos/project/l/liu/PS/data/2017/MD2586_InjectionEmittanceBlowup/2017.11.14/tomo_data/autosave_019.dat\n",
      "/eos/project/l/liu/Instrumentation/tomography/runofflinetomo /eos/project/l/liu/PS/data/2017/MD2586_InjectionEmittanceBlowup/2017.11.14/tomo_data/autosave_020.dat\n",
      "/eos/project/l/liu/Instrumentation/tomography/runofflinetomo /eos/project/l/liu/PS/data/2017/MD2586_InjectionEmittanceBlowup/2017.11.14/tomo_data/autosave_021.dat\n",
      "/eos/project/l/liu/Instrumentation/tomography/runofflinetomo /eos/project/l/liu/PS/data/2017/MD2586_InjectionEmittanceBlowup/2017.11.14/tomo_data/autosave_022.dat\n",
      "/eos/project/l/liu/Instrumentation/tomography/runofflinetomo /eos/project/l/liu/PS/data/2017/MD2586_InjectionEmittanceBlowup/2017.11.14/tomo_data/autosave_023.dat\n",
      "/eos/project/l/liu/Instrumentation/tomography/runofflinetomo /eos/project/l/liu/PS/data/2017/MD2586_InjectionEmittanceBlowup/2017.11.14/tomo_data/autosave_024.dat\n",
      "/eos/project/l/liu/Instrumentation/tomography/runofflinetomo /eos/project/l/liu/PS/data/2017/MD2586_InjectionEmittanceBlowup/2017.11.14/tomo_data/autosave_025.dat\n",
      "/eos/project/l/liu/Instrumentation/tomography/runofflinetomo /eos/project/l/liu/PS/data/2017/MD2586_InjectionEmittanceBlowup/2017.11.14/tomo_data/autosave_026.dat\n",
      "/eos/project/l/liu/Instrumentation/tomography/runofflinetomo /eos/project/l/liu/PS/data/2017/MD2586_InjectionEmittanceBlowup/2017.11.14/tomo_data/autosave_027.dat\n",
      "/eos/project/l/liu/Instrumentation/tomography/runofflinetomo /eos/project/l/liu/PS/data/2017/MD2586_InjectionEmittanceBlowup/2017.11.14/tomo_data/autosave_028.dat\n",
      "/eos/project/l/liu/Instrumentation/tomography/runofflinetomo /eos/project/l/liu/PS/data/2017/MD2586_InjectionEmittanceBlowup/2017.11.14/tomo_data/autosave_029.dat\n",
      "/eos/project/l/liu/Instrumentation/tomography/runofflinetomo /eos/project/l/liu/PS/data/2017/MD2586_InjectionEmittanceBlowup/2017.11.14/tomo_data/autosave_030.dat\n",
      "/eos/project/l/liu/Instrumentation/tomography/runofflinetomo /eos/project/l/liu/PS/data/2017/MD2586_InjectionEmittanceBlowup/2017.11.14/tomo_data/autosave_031.dat\n",
      "/eos/project/l/liu/Instrumentation/tomography/runofflinetomo /eos/project/l/liu/PS/data/2017/MD2586_InjectionEmittanceBlowup/2017.11.14/tomo_data/autosave_032.dat\n",
      "/eos/project/l/liu/Instrumentation/tomography/runofflinetomo /eos/project/l/liu/PS/data/2017/MD2586_InjectionEmittanceBlowup/2017.11.14/tomo_data/autosave_033.dat\n",
      "/eos/project/l/liu/Instrumentation/tomography/runofflinetomo /eos/project/l/liu/PS/data/2017/MD2586_InjectionEmittanceBlowup/2017.11.14/tomo_data/autosave_034.dat\n",
      "/eos/project/l/liu/Instrumentation/tomography/runofflinetomo /eos/project/l/liu/PS/data/2017/MD2586_InjectionEmittanceBlowup/2017.11.14/tomo_data/autosave_035.dat\n",
      "/eos/project/l/liu/Instrumentation/tomography/runofflinetomo /eos/project/l/liu/PS/data/2017/MD2586_InjectionEmittanceBlowup/2017.11.14/tomo_data/autosave_036.dat\n",
      "/eos/project/l/liu/Instrumentation/tomography/runofflinetomo /eos/project/l/liu/PS/data/2017/MD2586_InjectionEmittanceBlowup/2017.11.14/tomo_data/autosave_037.dat\n",
      "/eos/project/l/liu/Instrumentation/tomography/runofflinetomo /eos/project/l/liu/PS/data/2017/MD2586_InjectionEmittanceBlowup/2017.11.14/tomo_data/autosave_038.dat\n",
      "/eos/project/l/liu/Instrumentation/tomography/runofflinetomo /eos/project/l/liu/PS/data/2017/MD2586_InjectionEmittanceBlowup/2017.11.14/tomo_data/autosave_039.dat\n",
      "/eos/project/l/liu/Instrumentation/tomography/runofflinetomo /eos/project/l/liu/PS/data/2017/MD2586_InjectionEmittanceBlowup/2017.11.14/tomo_data/autosave_040.dat\n",
      "/eos/project/l/liu/Instrumentation/tomography/runofflinetomo /eos/project/l/liu/PS/data/2017/MD2586_InjectionEmittanceBlowup/2017.11.14/tomo_data/autosave_041.dat\n",
      "/eos/project/l/liu/Instrumentation/tomography/runofflinetomo /eos/project/l/liu/PS/data/2017/MD2586_InjectionEmittanceBlowup/2017.11.14/tomo_data/autosave_042.dat\n",
      "/eos/project/l/liu/Instrumentation/tomography/runofflinetomo /eos/project/l/liu/PS/data/2017/MD2586_InjectionEmittanceBlowup/2017.11.14/tomo_data/autosave_043.dat\n",
      "/eos/project/l/liu/Instrumentation/tomography/runofflinetomo /eos/project/l/liu/PS/data/2017/MD2586_InjectionEmittanceBlowup/2017.11.14/tomo_data/autosave_044.dat\n",
      "/eos/project/l/liu/Instrumentation/tomography/runofflinetomo /eos/project/l/liu/PS/data/2017/MD2586_InjectionEmittanceBlowup/2017.11.14/tomo_data/autosave_045.dat\n",
      "/eos/project/l/liu/Instrumentation/tomography/runofflinetomo /eos/project/l/liu/PS/data/2017/MD2586_InjectionEmittanceBlowup/2017.11.14/tomo_data/autosave_046.dat\n",
      "/eos/project/l/liu/Instrumentation/tomography/runofflinetomo /eos/project/l/liu/PS/data/2017/MD2586_InjectionEmittanceBlowup/2017.11.14/tomo_data/autosave_047.dat\n",
      "/eos/project/l/liu/Instrumentation/tomography/runofflinetomo /eos/project/l/liu/PS/data/2017/MD2586_InjectionEmittanceBlowup/2017.11.14/tomo_data/autosave_048.dat\n",
      "/eos/project/l/liu/Instrumentation/tomography/runofflinetomo /eos/project/l/liu/PS/data/2017/MD2586_InjectionEmittanceBlowup/2017.11.14/tomo_data/autosave_049.dat\n",
      "/eos/project/l/liu/Instrumentation/tomography/runofflinetomo /eos/project/l/liu/PS/data/2017/MD2586_InjectionEmittanceBlowup/2017.11.14/tomo_data/autosave_050.dat\n",
      "/eos/project/l/liu/Instrumentation/tomography/runofflinetomo /eos/project/l/liu/PS/data/2017/MD2586_InjectionEmittanceBlowup/2017.11.14/tomo_data/autosave_051.dat\n"
     ]
    },
    {
     "name": "stdout",
     "output_type": "stream",
     "text": [
      "/eos/project/l/liu/Instrumentation/tomography/runofflinetomo /eos/project/l/liu/PS/data/2017/MD2586_InjectionEmittanceBlowup/2017.11.14/tomo_data/autosave_052.dat\n",
      "/eos/project/l/liu/Instrumentation/tomography/runofflinetomo /eos/project/l/liu/PS/data/2017/MD2586_InjectionEmittanceBlowup/2017.11.14/tomo_data/autosave_053.dat\n",
      "/eos/project/l/liu/Instrumentation/tomography/runofflinetomo /eos/project/l/liu/PS/data/2017/MD2586_InjectionEmittanceBlowup/2017.11.14/tomo_data/autosave_054.dat\n",
      "/eos/project/l/liu/Instrumentation/tomography/runofflinetomo /eos/project/l/liu/PS/data/2017/MD2586_InjectionEmittanceBlowup/2017.11.14/tomo_data/autosave_055.dat\n",
      "/eos/project/l/liu/Instrumentation/tomography/runofflinetomo /eos/project/l/liu/PS/data/2017/MD2586_InjectionEmittanceBlowup/2017.11.14/tomo_data/autosave_056.dat\n",
      "/eos/project/l/liu/Instrumentation/tomography/runofflinetomo /eos/project/l/liu/PS/data/2017/MD2586_InjectionEmittanceBlowup/2017.11.14/tomo_data/autosave_057.dat\n",
      "/eos/project/l/liu/Instrumentation/tomography/runofflinetomo /eos/project/l/liu/PS/data/2017/MD2586_InjectionEmittanceBlowup/2017.11.14/tomo_data/autosave_058.dat\n",
      "/eos/project/l/liu/Instrumentation/tomography/runofflinetomo /eos/project/l/liu/PS/data/2017/MD2586_InjectionEmittanceBlowup/2017.11.14/tomo_data/autosave_059.dat\n",
      "/eos/project/l/liu/Instrumentation/tomography/runofflinetomo /eos/project/l/liu/PS/data/2017/MD2586_InjectionEmittanceBlowup/2017.11.14/tomo_data/autosave_060.dat\n",
      "/eos/project/l/liu/Instrumentation/tomography/runofflinetomo /eos/project/l/liu/PS/data/2017/MD2586_InjectionEmittanceBlowup/2017.11.14/tomo_data/autosave_061.dat\n",
      "/eos/project/l/liu/Instrumentation/tomography/runofflinetomo /eos/project/l/liu/PS/data/2017/MD2586_InjectionEmittanceBlowup/2017.11.14/tomo_data/autosave_062.dat\n",
      "/eos/project/l/liu/Instrumentation/tomography/runofflinetomo /eos/project/l/liu/PS/data/2017/MD2586_InjectionEmittanceBlowup/2017.11.14/tomo_data/autosave_063.dat\n",
      "/eos/project/l/liu/Instrumentation/tomography/runofflinetomo /eos/project/l/liu/PS/data/2017/MD2586_InjectionEmittanceBlowup/2017.11.14/tomo_data/autosave_064.dat\n",
      "/eos/project/l/liu/Instrumentation/tomography/runofflinetomo /eos/project/l/liu/PS/data/2017/MD2586_InjectionEmittanceBlowup/2017.11.14/tomo_data/autosave_065.dat\n",
      "/eos/project/l/liu/Instrumentation/tomography/runofflinetomo /eos/project/l/liu/PS/data/2017/MD2586_InjectionEmittanceBlowup/2017.11.14/tomo_data/autosave_066.dat\n",
      "/eos/project/l/liu/Instrumentation/tomography/runofflinetomo /eos/project/l/liu/PS/data/2017/MD2586_InjectionEmittanceBlowup/2017.11.14/tomo_data/autosave_067.dat\n",
      "/eos/project/l/liu/Instrumentation/tomography/runofflinetomo /eos/project/l/liu/PS/data/2017/MD2586_InjectionEmittanceBlowup/2017.11.14/tomo_data/autosave_068.dat\n",
      "/eos/project/l/liu/Instrumentation/tomography/runofflinetomo /eos/project/l/liu/PS/data/2017/MD2586_InjectionEmittanceBlowup/2017.11.14/tomo_data/autosave_069.dat\n",
      "/eos/project/l/liu/Instrumentation/tomography/runofflinetomo /eos/project/l/liu/PS/data/2017/MD2586_InjectionEmittanceBlowup/2017.11.14/tomo_data/autosave_070.dat\n",
      "/eos/project/l/liu/Instrumentation/tomography/runofflinetomo /eos/project/l/liu/PS/data/2017/MD2586_InjectionEmittanceBlowup/2017.11.14/tomo_data/autosave_071.dat\n",
      "/eos/project/l/liu/Instrumentation/tomography/runofflinetomo /eos/project/l/liu/PS/data/2017/MD2586_InjectionEmittanceBlowup/2017.11.14/tomo_data/autosave_072.dat\n",
      "/eos/project/l/liu/Instrumentation/tomography/runofflinetomo /eos/project/l/liu/PS/data/2017/MD2586_InjectionEmittanceBlowup/2017.11.14/tomo_data/autosave_073.dat\n",
      "/eos/project/l/liu/Instrumentation/tomography/runofflinetomo /eos/project/l/liu/PS/data/2017/MD2586_InjectionEmittanceBlowup/2017.11.14/tomo_data/autosave_074.dat\n",
      "/eos/project/l/liu/Instrumentation/tomography/runofflinetomo /eos/project/l/liu/PS/data/2017/MD2586_InjectionEmittanceBlowup/2017.11.14/tomo_data/autosave_075.dat\n",
      "/eos/project/l/liu/Instrumentation/tomography/runofflinetomo /eos/project/l/liu/PS/data/2017/MD2586_InjectionEmittanceBlowup/2017.11.14/tomo_data/autosave_076.dat\n",
      "/eos/project/l/liu/Instrumentation/tomography/runofflinetomo /eos/project/l/liu/PS/data/2017/MD2586_InjectionEmittanceBlowup/2017.11.14/tomo_data/autosave_077.dat\n",
      "/eos/project/l/liu/Instrumentation/tomography/runofflinetomo /eos/project/l/liu/PS/data/2017/MD2586_InjectionEmittanceBlowup/2017.11.14/tomo_data/autosave_078.dat\n",
      "/eos/project/l/liu/Instrumentation/tomography/runofflinetomo /eos/project/l/liu/PS/data/2017/MD2586_InjectionEmittanceBlowup/2017.11.14/tomo_data/autosave_079.dat\n",
      "/eos/project/l/liu/Instrumentation/tomography/runofflinetomo /eos/project/l/liu/PS/data/2017/MD2586_InjectionEmittanceBlowup/2017.11.14/tomo_data/autosave_080.dat\n",
      "/eos/project/l/liu/Instrumentation/tomography/runofflinetomo /eos/project/l/liu/PS/data/2017/MD2586_InjectionEmittanceBlowup/2017.11.14/tomo_data/autosave_081.dat\n",
      "/eos/project/l/liu/Instrumentation/tomography/runofflinetomo /eos/project/l/liu/PS/data/2017/MD2586_InjectionEmittanceBlowup/2017.11.14/tomo_data/autosave_082.dat\n",
      "/eos/project/l/liu/Instrumentation/tomography/runofflinetomo /eos/project/l/liu/PS/data/2017/MD2586_InjectionEmittanceBlowup/2017.11.14/tomo_data/autosave_083.dat\n",
      "/eos/project/l/liu/Instrumentation/tomography/runofflinetomo /eos/project/l/liu/PS/data/2017/MD2586_InjectionEmittanceBlowup/2017.11.14/tomo_data/autosave_084.dat\n",
      "/eos/project/l/liu/Instrumentation/tomography/runofflinetomo /eos/project/l/liu/PS/data/2017/MD2586_InjectionEmittanceBlowup/2017.11.14/tomo_data/autosave_085.dat\n",
      "/eos/project/l/liu/Instrumentation/tomography/runofflinetomo /eos/project/l/liu/PS/data/2017/MD2586_InjectionEmittanceBlowup/2017.11.14/tomo_data/autosave_086.dat\n",
      "/eos/project/l/liu/Instrumentation/tomography/runofflinetomo /eos/project/l/liu/PS/data/2017/MD2586_InjectionEmittanceBlowup/2017.11.14/tomo_data/autosave_087.dat\n",
      "/eos/project/l/liu/Instrumentation/tomography/runofflinetomo /eos/project/l/liu/PS/data/2017/MD2586_InjectionEmittanceBlowup/2017.11.14/tomo_data/autosave_088.dat\n",
      "/eos/project/l/liu/Instrumentation/tomography/runofflinetomo /eos/project/l/liu/PS/data/2017/MD2586_InjectionEmittanceBlowup/2017.11.14/tomo_data/autosave_089.dat\n",
      "/eos/project/l/liu/Instrumentation/tomography/runofflinetomo /eos/project/l/liu/PS/data/2017/MD2586_InjectionEmittanceBlowup/2017.11.14/tomo_data/autosave_090.dat\n",
      "/eos/project/l/liu/Instrumentation/tomography/runofflinetomo /eos/project/l/liu/PS/data/2017/MD2586_InjectionEmittanceBlowup/2017.11.14/tomo_data/autosave_091.dat\n",
      "/eos/project/l/liu/Instrumentation/tomography/runofflinetomo /eos/project/l/liu/PS/data/2017/MD2586_InjectionEmittanceBlowup/2017.11.14/tomo_data/autosave_092.dat\n",
      "/eos/project/l/liu/Instrumentation/tomography/runofflinetomo /eos/project/l/liu/PS/data/2017/MD2586_InjectionEmittanceBlowup/2017.11.14/tomo_data/autosave_093.dat\n",
      "/eos/project/l/liu/Instrumentation/tomography/runofflinetomo /eos/project/l/liu/PS/data/2017/MD2586_InjectionEmittanceBlowup/2017.11.14/tomo_data/autosave_094.dat\n",
      "/eos/project/l/liu/Instrumentation/tomography/runofflinetomo /eos/project/l/liu/PS/data/2017/MD2586_InjectionEmittanceBlowup/2017.11.14/tomo_data/autosave_095.dat\n",
      "/eos/project/l/liu/Instrumentation/tomography/runofflinetomo /eos/project/l/liu/PS/data/2017/MD2586_InjectionEmittanceBlowup/2017.11.14/tomo_data/autosave_096.dat\n",
      "/eos/project/l/liu/Instrumentation/tomography/runofflinetomo /eos/project/l/liu/PS/data/2017/MD2586_InjectionEmittanceBlowup/2017.11.14/tomo_data/autosave_097.dat\n",
      "/eos/project/l/liu/Instrumentation/tomography/runofflinetomo /eos/project/l/liu/PS/data/2017/MD2586_InjectionEmittanceBlowup/2017.11.14/tomo_data/autosave_098.dat\n",
      "/eos/project/l/liu/Instrumentation/tomography/runofflinetomo /eos/project/l/liu/PS/data/2017/MD2586_InjectionEmittanceBlowup/2017.11.14/tomo_data/autosave_099.dat\n",
      "/eos/project/l/liu/Instrumentation/tomography/runofflinetomo /eos/project/l/liu/PS/data/2017/MD2586_InjectionEmittanceBlowup/2017.11.14/tomo_data/autosave_100.dat\n",
      "/eos/project/l/liu/Instrumentation/tomography/runofflinetomo /eos/project/l/liu/PS/data/2017/MD2586_InjectionEmittanceBlowup/2017.11.14/tomo_data/autosave_101.dat\n",
      "/eos/project/l/liu/Instrumentation/tomography/runofflinetomo /eos/project/l/liu/PS/data/2017/MD2586_InjectionEmittanceBlowup/2017.11.14/tomo_data/autosave_102.dat\n"
     ]
    },
    {
     "name": "stdout",
     "output_type": "stream",
     "text": [
      "/eos/project/l/liu/Instrumentation/tomography/runofflinetomo /eos/project/l/liu/PS/data/2017/MD2586_InjectionEmittanceBlowup/2017.11.14/tomo_data/autosave_103.dat\n",
      "/eos/project/l/liu/Instrumentation/tomography/runofflinetomo /eos/project/l/liu/PS/data/2017/MD2586_InjectionEmittanceBlowup/2017.11.14/tomo_data/autosave_104.dat\n",
      "/eos/project/l/liu/Instrumentation/tomography/runofflinetomo /eos/project/l/liu/PS/data/2017/MD2586_InjectionEmittanceBlowup/2017.11.14/tomo_data/autosave_105.dat\n",
      "/eos/project/l/liu/Instrumentation/tomography/runofflinetomo /eos/project/l/liu/PS/data/2017/MD2586_InjectionEmittanceBlowup/2017.11.14/tomo_data/autosave_106.dat\n",
      "/eos/project/l/liu/Instrumentation/tomography/runofflinetomo /eos/project/l/liu/PS/data/2017/MD2586_InjectionEmittanceBlowup/2017.11.14/tomo_data/autosave_107.dat\n",
      "/eos/project/l/liu/Instrumentation/tomography/runofflinetomo /eos/project/l/liu/PS/data/2017/MD2586_InjectionEmittanceBlowup/2017.11.14/tomo_data/autosave_108.dat\n",
      "/eos/project/l/liu/Instrumentation/tomography/runofflinetomo /eos/project/l/liu/PS/data/2017/MD2586_InjectionEmittanceBlowup/2017.11.14/tomo_data/autosave_109.dat\n",
      "/eos/project/l/liu/Instrumentation/tomography/runofflinetomo /eos/project/l/liu/PS/data/2017/MD2586_InjectionEmittanceBlowup/2017.11.14/tomo_data/autosave_110.dat\n",
      "/eos/project/l/liu/Instrumentation/tomography/runofflinetomo /eos/project/l/liu/PS/data/2017/MD2586_InjectionEmittanceBlowup/2017.11.14/tomo_data/autosave_111.dat\n",
      "/eos/project/l/liu/Instrumentation/tomography/runofflinetomo /eos/project/l/liu/PS/data/2017/MD2586_InjectionEmittanceBlowup/2017.11.14/tomo_data/autosave_112.dat\n",
      "/eos/project/l/liu/Instrumentation/tomography/runofflinetomo /eos/project/l/liu/PS/data/2017/MD2586_InjectionEmittanceBlowup/2017.11.14/tomo_data/autosave_113.dat\n",
      "/eos/project/l/liu/Instrumentation/tomography/runofflinetomo /eos/project/l/liu/PS/data/2017/MD2586_InjectionEmittanceBlowup/2017.11.14/tomo_data/autosave_114.dat\n",
      "/eos/project/l/liu/Instrumentation/tomography/runofflinetomo /eos/project/l/liu/PS/data/2017/MD2586_InjectionEmittanceBlowup/2017.11.14/tomo_data/autosave_115.dat\n",
      "/eos/project/l/liu/Instrumentation/tomography/runofflinetomo /eos/project/l/liu/PS/data/2017/MD2586_InjectionEmittanceBlowup/2017.11.14/tomo_data/autosave_116.dat\n",
      "/eos/project/l/liu/Instrumentation/tomography/runofflinetomo /eos/project/l/liu/PS/data/2017/MD2586_InjectionEmittanceBlowup/2017.11.14/tomo_data/autosave_117.dat\n",
      "/eos/project/l/liu/Instrumentation/tomography/runofflinetomo /eos/project/l/liu/PS/data/2017/MD2586_InjectionEmittanceBlowup/2017.11.14/tomo_data/autosave_118.dat\n",
      "/eos/project/l/liu/Instrumentation/tomography/runofflinetomo /eos/project/l/liu/PS/data/2017/MD2586_InjectionEmittanceBlowup/2017.11.14/tomo_data/autosave_119.dat\n",
      "/eos/project/l/liu/Instrumentation/tomography/runofflinetomo /eos/project/l/liu/PS/data/2017/MD2586_InjectionEmittanceBlowup/2017.11.14/tomo_data/autosave_120.dat\n",
      "/eos/project/l/liu/Instrumentation/tomography/runofflinetomo /eos/project/l/liu/PS/data/2017/MD2586_InjectionEmittanceBlowup/2017.11.14/tomo_data/autosave_121.dat\n",
      "/eos/project/l/liu/Instrumentation/tomography/runofflinetomo /eos/project/l/liu/PS/data/2017/MD2586_InjectionEmittanceBlowup/2017.11.14/tomo_data/autosave_122.dat\n",
      "/eos/project/l/liu/Instrumentation/tomography/runofflinetomo /eos/project/l/liu/PS/data/2017/MD2586_InjectionEmittanceBlowup/2017.11.14/tomo_data/autosave_123.dat\n",
      "/eos/project/l/liu/Instrumentation/tomography/runofflinetomo /eos/project/l/liu/PS/data/2017/MD2586_InjectionEmittanceBlowup/2017.11.14/tomo_data/autosave_124.dat\n",
      "/eos/project/l/liu/Instrumentation/tomography/runofflinetomo /eos/project/l/liu/PS/data/2017/MD2586_InjectionEmittanceBlowup/2017.11.14/tomo_data/autosave_125.dat\n",
      "/eos/project/l/liu/Instrumentation/tomography/runofflinetomo /eos/project/l/liu/PS/data/2017/MD2586_InjectionEmittanceBlowup/2017.11.14/tomo_data/autosave_126.dat\n",
      "/eos/project/l/liu/Instrumentation/tomography/runofflinetomo /eos/project/l/liu/PS/data/2017/MD2586_InjectionEmittanceBlowup/2017.11.14/tomo_data/autosave_127.dat\n",
      "/eos/project/l/liu/Instrumentation/tomography/runofflinetomo /eos/project/l/liu/PS/data/2017/MD2586_InjectionEmittanceBlowup/2017.11.14/tomo_data/autosave_128.dat\n",
      "/eos/project/l/liu/Instrumentation/tomography/runofflinetomo /eos/project/l/liu/PS/data/2017/MD2586_InjectionEmittanceBlowup/2017.11.14/tomo_data/autosave_129.dat\n",
      "/eos/project/l/liu/Instrumentation/tomography/runofflinetomo /eos/project/l/liu/PS/data/2017/MD2586_InjectionEmittanceBlowup/2017.11.14/tomo_data/autosave_130.dat\n",
      "/eos/project/l/liu/Instrumentation/tomography/runofflinetomo /eos/project/l/liu/PS/data/2017/MD2586_InjectionEmittanceBlowup/2017.11.14/tomo_data/autosave_131.dat\n",
      "/eos/project/l/liu/Instrumentation/tomography/runofflinetomo /eos/project/l/liu/PS/data/2017/MD2586_InjectionEmittanceBlowup/2017.11.14/tomo_data/autosave_132.dat\n",
      "/eos/project/l/liu/Instrumentation/tomography/runofflinetomo /eos/project/l/liu/PS/data/2017/MD2586_InjectionEmittanceBlowup/2017.11.14/tomo_data/autosave_133.dat\n",
      "/eos/project/l/liu/Instrumentation/tomography/runofflinetomo /eos/project/l/liu/PS/data/2017/MD2586_InjectionEmittanceBlowup/2017.11.14/tomo_data/autosave_134.dat\n",
      "/eos/project/l/liu/Instrumentation/tomography/runofflinetomo /eos/project/l/liu/PS/data/2017/MD2586_InjectionEmittanceBlowup/2017.11.14/tomo_data/autosave_135.dat\n",
      "/eos/project/l/liu/Instrumentation/tomography/runofflinetomo /eos/project/l/liu/PS/data/2017/MD2586_InjectionEmittanceBlowup/2017.11.14/tomo_data/autosave_136.dat\n",
      "/eos/project/l/liu/Instrumentation/tomography/runofflinetomo /eos/project/l/liu/PS/data/2017/MD2586_InjectionEmittanceBlowup/2017.11.14/tomo_data/autosave_137.dat\n",
      "/eos/project/l/liu/Instrumentation/tomography/runofflinetomo /eos/project/l/liu/PS/data/2017/MD2586_InjectionEmittanceBlowup/2017.11.14/tomo_data/autosave_138.dat\n",
      "/eos/project/l/liu/Instrumentation/tomography/runofflinetomo /eos/project/l/liu/PS/data/2017/MD2586_InjectionEmittanceBlowup/2017.11.14/tomo_data/autosave_139.dat\n",
      "/eos/project/l/liu/Instrumentation/tomography/runofflinetomo /eos/project/l/liu/PS/data/2017/MD2586_InjectionEmittanceBlowup/2017.11.14/tomo_data/autosave_140.dat\n",
      "/eos/project/l/liu/Instrumentation/tomography/runofflinetomo /eos/project/l/liu/PS/data/2017/MD2586_InjectionEmittanceBlowup/2017.11.14/tomo_data/autosave_141.dat\n",
      "/eos/project/l/liu/Instrumentation/tomography/runofflinetomo /eos/project/l/liu/PS/data/2017/MD2586_InjectionEmittanceBlowup/2017.11.14/tomo_data/autosave_142.dat\n",
      "/eos/project/l/liu/Instrumentation/tomography/runofflinetomo /eos/project/l/liu/PS/data/2017/MD2586_InjectionEmittanceBlowup/2017.11.14/tomo_data/autosave_143.dat\n",
      "/eos/project/l/liu/Instrumentation/tomography/runofflinetomo /eos/project/l/liu/PS/data/2017/MD2586_InjectionEmittanceBlowup/2017.11.14/tomo_data/autosave_144.dat\n",
      "/eos/project/l/liu/Instrumentation/tomography/runofflinetomo /eos/project/l/liu/PS/data/2017/MD2586_InjectionEmittanceBlowup/2017.11.14/tomo_data/autosave_145.dat\n",
      "/eos/project/l/liu/Instrumentation/tomography/runofflinetomo /eos/project/l/liu/PS/data/2017/MD2586_InjectionEmittanceBlowup/2017.11.14/tomo_data/autosave_146.dat\n",
      "/eos/project/l/liu/Instrumentation/tomography/runofflinetomo /eos/project/l/liu/PS/data/2017/MD2586_InjectionEmittanceBlowup/2017.11.14/tomo_data/autosave_147.dat\n",
      "/eos/project/l/liu/Instrumentation/tomography/runofflinetomo /eos/project/l/liu/PS/data/2017/MD2586_InjectionEmittanceBlowup/2017.11.14/tomo_data/autosave_148.dat\n",
      "/eos/project/l/liu/Instrumentation/tomography/runofflinetomo /eos/project/l/liu/PS/data/2017/MD2586_InjectionEmittanceBlowup/2017.11.14/tomo_data/autosave_149.dat\n",
      "/eos/project/l/liu/Instrumentation/tomography/runofflinetomo /eos/project/l/liu/PS/data/2017/MD2586_InjectionEmittanceBlowup/2017.11.14/tomo_data/autosave_150.dat\n",
      "/eos/project/l/liu/Instrumentation/tomography/runofflinetomo /eos/project/l/liu/PS/data/2017/MD2586_InjectionEmittanceBlowup/2017.11.14/tomo_data/autosave_151.dat\n",
      "/eos/project/l/liu/Instrumentation/tomography/runofflinetomo /eos/project/l/liu/PS/data/2017/MD2586_InjectionEmittanceBlowup/2017.11.14/tomo_data/autosave_152.dat\n",
      "/eos/project/l/liu/Instrumentation/tomography/runofflinetomo /eos/project/l/liu/PS/data/2017/MD2586_InjectionEmittanceBlowup/2017.11.14/tomo_data/autosave_153.dat\n"
     ]
    },
    {
     "name": "stdout",
     "output_type": "stream",
     "text": [
      "/eos/project/l/liu/Instrumentation/tomography/runofflinetomo /eos/project/l/liu/PS/data/2017/MD2586_InjectionEmittanceBlowup/2017.11.14/tomo_data/autosave_154.dat\n",
      "/eos/project/l/liu/Instrumentation/tomography/runofflinetomo /eos/project/l/liu/PS/data/2017/MD2586_InjectionEmittanceBlowup/2017.11.14/tomo_data/autosave_155.dat\n",
      "/eos/project/l/liu/Instrumentation/tomography/runofflinetomo /eos/project/l/liu/PS/data/2017/MD2586_InjectionEmittanceBlowup/2017.11.14/tomo_data/autosave_156.dat\n",
      "/eos/project/l/liu/Instrumentation/tomography/runofflinetomo /eos/project/l/liu/PS/data/2017/MD2586_InjectionEmittanceBlowup/2017.11.14/tomo_data/autosave_157.dat\n",
      "/eos/project/l/liu/Instrumentation/tomography/runofflinetomo /eos/project/l/liu/PS/data/2017/MD2586_InjectionEmittanceBlowup/2017.11.14/tomo_data/autosave_158.dat\n",
      "/eos/project/l/liu/Instrumentation/tomography/runofflinetomo /eos/project/l/liu/PS/data/2017/MD2586_InjectionEmittanceBlowup/2017.11.14/tomo_data/autosave_159.dat\n",
      "/eos/project/l/liu/Instrumentation/tomography/runofflinetomo /eos/project/l/liu/PS/data/2017/MD2586_InjectionEmittanceBlowup/2017.11.14/tomo_data/autosave_161.dat\n",
      "/eos/project/l/liu/Instrumentation/tomography/runofflinetomo /eos/project/l/liu/PS/data/2017/MD2586_InjectionEmittanceBlowup/2017.11.14/tomo_data/autosave_162.dat\n",
      "\n",
      "IOError\n",
      "\n",
      "/eos/project/l/liu/Instrumentation/tomography/runofflinetomo /eos/project/l/liu/PS/data/2017/MD2586_InjectionEmittanceBlowup/2017.11.14/tomo_data/autosave_163.dat\n",
      "/eos/project/l/liu/Instrumentation/tomography/runofflinetomo /eos/project/l/liu/PS/data/2017/MD2586_InjectionEmittanceBlowup/2017.11.14/tomo_data/autosave_164.dat\n",
      "/eos/project/l/liu/Instrumentation/tomography/runofflinetomo /eos/project/l/liu/PS/data/2017/MD2586_InjectionEmittanceBlowup/2017.11.14/tomo_data/autosave_165.dat\n",
      "/eos/project/l/liu/Instrumentation/tomography/runofflinetomo /eos/project/l/liu/PS/data/2017/MD2586_InjectionEmittanceBlowup/2017.11.14/tomo_data/autosave_166.dat\n",
      "/eos/project/l/liu/Instrumentation/tomography/runofflinetomo /eos/project/l/liu/PS/data/2017/MD2586_InjectionEmittanceBlowup/2017.11.14/tomo_data/autosave_167.dat\n",
      "/eos/project/l/liu/Instrumentation/tomography/runofflinetomo /eos/project/l/liu/PS/data/2017/MD2586_InjectionEmittanceBlowup/2017.11.14/tomo_data/autosave_168.dat\n",
      "/eos/project/l/liu/Instrumentation/tomography/runofflinetomo /eos/project/l/liu/PS/data/2017/MD2586_InjectionEmittanceBlowup/2017.11.14/tomo_data/autosave_169.dat\n",
      "/eos/project/l/liu/Instrumentation/tomography/runofflinetomo /eos/project/l/liu/PS/data/2017/MD2586_InjectionEmittanceBlowup/2017.11.14/tomo_data/autosave_170.dat\n",
      "/eos/project/l/liu/Instrumentation/tomography/runofflinetomo /eos/project/l/liu/PS/data/2017/MD2586_InjectionEmittanceBlowup/2017.11.14/tomo_data/autosave_171.dat\n",
      "/eos/project/l/liu/Instrumentation/tomography/runofflinetomo /eos/project/l/liu/PS/data/2017/MD2586_InjectionEmittanceBlowup/2017.11.14/tomo_data/autosave_172.dat\n",
      "/eos/project/l/liu/Instrumentation/tomography/runofflinetomo /eos/project/l/liu/PS/data/2017/MD2586_InjectionEmittanceBlowup/2017.11.14/tomo_data/autosave_173.dat\n",
      "/eos/project/l/liu/Instrumentation/tomography/runofflinetomo /eos/project/l/liu/PS/data/2017/MD2586_InjectionEmittanceBlowup/2017.11.14/tomo_data/autosave_174.dat\n",
      "/eos/project/l/liu/Instrumentation/tomography/runofflinetomo /eos/project/l/liu/PS/data/2017/MD2586_InjectionEmittanceBlowup/2017.11.14/tomo_data/autosave_175.dat\n",
      "/eos/project/l/liu/Instrumentation/tomography/runofflinetomo /eos/project/l/liu/PS/data/2017/MD2586_InjectionEmittanceBlowup/2017.11.14/tomo_data/autosave_176.dat\n",
      "/eos/project/l/liu/Instrumentation/tomography/runofflinetomo /eos/project/l/liu/PS/data/2017/MD2586_InjectionEmittanceBlowup/2017.11.14/tomo_data/autosave_177.dat\n",
      "/eos/project/l/liu/Instrumentation/tomography/runofflinetomo /eos/project/l/liu/PS/data/2017/MD2586_InjectionEmittanceBlowup/2017.11.14/tomo_data/autosave_178.dat\n",
      "/eos/project/l/liu/Instrumentation/tomography/runofflinetomo /eos/project/l/liu/PS/data/2017/MD2586_InjectionEmittanceBlowup/2017.11.14/tomo_data/autosave_179.dat\n",
      "/eos/project/l/liu/Instrumentation/tomography/runofflinetomo /eos/project/l/liu/PS/data/2017/MD2586_InjectionEmittanceBlowup/2017.11.14/tomo_data/autosave_180.dat\n",
      "/eos/project/l/liu/Instrumentation/tomography/runofflinetomo /eos/project/l/liu/PS/data/2017/MD2586_InjectionEmittanceBlowup/2017.11.14/tomo_data/autosave_181.dat\n",
      "/eos/project/l/liu/Instrumentation/tomography/runofflinetomo /eos/project/l/liu/PS/data/2017/MD2586_InjectionEmittanceBlowup/2017.11.14/tomo_data/autosave_182.dat\n",
      "/eos/project/l/liu/Instrumentation/tomography/runofflinetomo /eos/project/l/liu/PS/data/2017/MD2586_InjectionEmittanceBlowup/2017.11.14/tomo_data/autosave_183.dat\n",
      "/eos/project/l/liu/Instrumentation/tomography/runofflinetomo /eos/project/l/liu/PS/data/2017/MD2586_InjectionEmittanceBlowup/2017.11.14/tomo_data/autosave_184.dat\n",
      "/eos/project/l/liu/Instrumentation/tomography/runofflinetomo /eos/project/l/liu/PS/data/2017/MD2586_InjectionEmittanceBlowup/2017.11.14/tomo_data/autosave_185.dat\n",
      "/eos/project/l/liu/Instrumentation/tomography/runofflinetomo /eos/project/l/liu/PS/data/2017/MD2586_InjectionEmittanceBlowup/2017.11.14/tomo_data/autosave_186.dat\n",
      "/eos/project/l/liu/Instrumentation/tomography/runofflinetomo /eos/project/l/liu/PS/data/2017/MD2586_InjectionEmittanceBlowup/2017.11.14/tomo_data/autosave_187.dat\n",
      "/eos/project/l/liu/Instrumentation/tomography/runofflinetomo /eos/project/l/liu/PS/data/2017/MD2586_InjectionEmittanceBlowup/2017.11.14/tomo_data/autosave_188.dat\n",
      "/eos/project/l/liu/Instrumentation/tomography/runofflinetomo /eos/project/l/liu/PS/data/2017/MD2586_InjectionEmittanceBlowup/2017.11.14/tomo_data/autosave_189.dat\n",
      "/eos/project/l/liu/Instrumentation/tomography/runofflinetomo /eos/project/l/liu/PS/data/2017/MD2586_InjectionEmittanceBlowup/2017.11.14/tomo_data/autosave_190.dat\n",
      "/eos/project/l/liu/Instrumentation/tomography/runofflinetomo /eos/project/l/liu/PS/data/2017/MD2586_InjectionEmittanceBlowup/2017.11.14/tomo_data/autosave_191.dat\n",
      "/eos/project/l/liu/Instrumentation/tomography/runofflinetomo /eos/project/l/liu/PS/data/2017/MD2586_InjectionEmittanceBlowup/2017.11.14/tomo_data/autosave_192.dat\n",
      "/eos/project/l/liu/Instrumentation/tomography/runofflinetomo /eos/project/l/liu/PS/data/2017/MD2586_InjectionEmittanceBlowup/2017.11.14/tomo_data/autosave_193.dat\n",
      "/eos/project/l/liu/Instrumentation/tomography/runofflinetomo /eos/project/l/liu/PS/data/2017/MD2586_InjectionEmittanceBlowup/2017.11.14/tomo_data/autosave_194.dat\n",
      "/eos/project/l/liu/Instrumentation/tomography/runofflinetomo /eos/project/l/liu/PS/data/2017/MD2586_InjectionEmittanceBlowup/2017.11.14/tomo_data/autosave_195.dat\n",
      "/eos/project/l/liu/Instrumentation/tomography/runofflinetomo /eos/project/l/liu/PS/data/2017/MD2586_InjectionEmittanceBlowup/2017.11.14/tomo_data/autosave_196.dat\n",
      "/eos/project/l/liu/Instrumentation/tomography/runofflinetomo /eos/project/l/liu/PS/data/2017/MD2586_InjectionEmittanceBlowup/2017.11.14/tomo_data/autosave_197.dat\n",
      "/eos/project/l/liu/Instrumentation/tomography/runofflinetomo /eos/project/l/liu/PS/data/2017/MD2586_InjectionEmittanceBlowup/2017.11.14/tomo_data/autosave_198.dat\n",
      "/eos/project/l/liu/Instrumentation/tomography/runofflinetomo /eos/project/l/liu/PS/data/2017/MD2586_InjectionEmittanceBlowup/2017.11.14/tomo_data/autosave_199.dat\n",
      "/eos/project/l/liu/Instrumentation/tomography/runofflinetomo /eos/project/l/liu/PS/data/2017/MD2586_InjectionEmittanceBlowup/2017.11.14/tomo_data/autosave_200.dat\n",
      "/eos/project/l/liu/Instrumentation/tomography/runofflinetomo /eos/project/l/liu/PS/data/2017/MD2586_InjectionEmittanceBlowup/2017.11.14/tomo_data/autosave_201.dat\n",
      "/eos/project/l/liu/Instrumentation/tomography/runofflinetomo /eos/project/l/liu/PS/data/2017/MD2586_InjectionEmittanceBlowup/2017.11.14/tomo_data/autosave_202.dat\n",
      "/eos/project/l/liu/Instrumentation/tomography/runofflinetomo /eos/project/l/liu/PS/data/2017/MD2586_InjectionEmittanceBlowup/2017.11.14/tomo_data/autosave_203.dat\n",
      "/eos/project/l/liu/Instrumentation/tomography/runofflinetomo /eos/project/l/liu/PS/data/2017/MD2586_InjectionEmittanceBlowup/2017.11.14/tomo_data/autosave_204.dat\n",
      "/eos/project/l/liu/Instrumentation/tomography/runofflinetomo /eos/project/l/liu/PS/data/2017/MD2586_InjectionEmittanceBlowup/2017.11.14/tomo_data/autosave_205.dat\n"
     ]
    },
    {
     "name": "stdout",
     "output_type": "stream",
     "text": [
      "/eos/project/l/liu/Instrumentation/tomography/runofflinetomo /eos/project/l/liu/PS/data/2017/MD2586_InjectionEmittanceBlowup/2017.11.14/tomo_data/autosave_206.dat\n",
      "/eos/project/l/liu/Instrumentation/tomography/runofflinetomo /eos/project/l/liu/PS/data/2017/MD2586_InjectionEmittanceBlowup/2017.11.14/tomo_data/autosave_207.dat\n",
      "/eos/project/l/liu/Instrumentation/tomography/runofflinetomo /eos/project/l/liu/PS/data/2017/MD2586_InjectionEmittanceBlowup/2017.11.14/tomo_data/autosave_208.dat\n",
      "/eos/project/l/liu/Instrumentation/tomography/runofflinetomo /eos/project/l/liu/PS/data/2017/MD2586_InjectionEmittanceBlowup/2017.11.14/tomo_data/autosave_209.dat\n",
      "/eos/project/l/liu/Instrumentation/tomography/runofflinetomo /eos/project/l/liu/PS/data/2017/MD2586_InjectionEmittanceBlowup/2017.11.14/tomo_data/autosave_210.dat\n",
      "/eos/project/l/liu/Instrumentation/tomography/runofflinetomo /eos/project/l/liu/PS/data/2017/MD2586_InjectionEmittanceBlowup/2017.11.14/tomo_data/autosave_211.dat\n",
      "/eos/project/l/liu/Instrumentation/tomography/runofflinetomo /eos/project/l/liu/PS/data/2017/MD2586_InjectionEmittanceBlowup/2017.11.14/tomo_data/autosave_212.dat\n",
      "/eos/project/l/liu/Instrumentation/tomography/runofflinetomo /eos/project/l/liu/PS/data/2017/MD2586_InjectionEmittanceBlowup/2017.11.14/tomo_data/autosave_213.dat\n",
      "/eos/project/l/liu/Instrumentation/tomography/runofflinetomo /eos/project/l/liu/PS/data/2017/MD2586_InjectionEmittanceBlowup/2017.11.14/tomo_data/autosave_214.dat\n",
      "/eos/project/l/liu/Instrumentation/tomography/runofflinetomo /eos/project/l/liu/PS/data/2017/MD2586_InjectionEmittanceBlowup/2017.11.14/tomo_data/autosave_215.dat\n",
      "/eos/project/l/liu/Instrumentation/tomography/runofflinetomo /eos/project/l/liu/PS/data/2017/MD2586_InjectionEmittanceBlowup/2017.11.14/tomo_data/autosave_216.dat\n",
      "/eos/project/l/liu/Instrumentation/tomography/runofflinetomo /eos/project/l/liu/PS/data/2017/MD2586_InjectionEmittanceBlowup/2017.11.14/tomo_data/autosave_217.dat\n",
      "/eos/project/l/liu/Instrumentation/tomography/runofflinetomo /eos/project/l/liu/PS/data/2017/MD2586_InjectionEmittanceBlowup/2017.11.14/tomo_data/autosave_218.dat\n",
      "/eos/project/l/liu/Instrumentation/tomography/runofflinetomo /eos/project/l/liu/PS/data/2017/MD2586_InjectionEmittanceBlowup/2017.11.14/tomo_data/autosave_219.dat\n",
      "/eos/project/l/liu/Instrumentation/tomography/runofflinetomo /eos/project/l/liu/PS/data/2017/MD2586_InjectionEmittanceBlowup/2017.11.14/tomo_data/autosave_220.dat\n",
      "/eos/project/l/liu/Instrumentation/tomography/runofflinetomo /eos/project/l/liu/PS/data/2017/MD2586_InjectionEmittanceBlowup/2017.11.14/tomo_data/autosave_221.dat\n",
      "/eos/project/l/liu/Instrumentation/tomography/runofflinetomo /eos/project/l/liu/PS/data/2017/MD2586_InjectionEmittanceBlowup/2017.11.14/tomo_data/autosave_222.dat\n",
      "/eos/project/l/liu/Instrumentation/tomography/runofflinetomo /eos/project/l/liu/PS/data/2017/MD2586_InjectionEmittanceBlowup/2017.11.14/tomo_data/autosave_223.dat\n",
      "/eos/project/l/liu/Instrumentation/tomography/runofflinetomo /eos/project/l/liu/PS/data/2017/MD2586_InjectionEmittanceBlowup/2017.11.14/tomo_data/autosave_224.dat\n",
      "/eos/project/l/liu/Instrumentation/tomography/runofflinetomo /eos/project/l/liu/PS/data/2017/MD2586_InjectionEmittanceBlowup/2017.11.14/tomo_data/autosave_225.dat\n",
      "/eos/project/l/liu/Instrumentation/tomography/runofflinetomo /eos/project/l/liu/PS/data/2017/MD2586_InjectionEmittanceBlowup/2017.11.14/tomo_data/autosave_226.dat\n",
      "/eos/project/l/liu/Instrumentation/tomography/runofflinetomo /eos/project/l/liu/PS/data/2017/MD2586_InjectionEmittanceBlowup/2017.11.14/tomo_data/autosave_227.dat\n",
      "/eos/project/l/liu/Instrumentation/tomography/runofflinetomo /eos/project/l/liu/PS/data/2017/MD2586_InjectionEmittanceBlowup/2017.11.14/tomo_data/autosave_228.dat\n",
      "/eos/project/l/liu/Instrumentation/tomography/runofflinetomo /eos/project/l/liu/PS/data/2017/MD2586_InjectionEmittanceBlowup/2017.11.14/tomo_data/autosave_229.dat\n",
      "/eos/project/l/liu/Instrumentation/tomography/runofflinetomo /eos/project/l/liu/PS/data/2017/MD2586_InjectionEmittanceBlowup/2017.11.14/tomo_data/autosave_230.dat\n",
      "/eos/project/l/liu/Instrumentation/tomography/runofflinetomo /eos/project/l/liu/PS/data/2017/MD2586_InjectionEmittanceBlowup/2017.11.14/tomo_data/autosave_231.dat\n",
      "/eos/project/l/liu/Instrumentation/tomography/runofflinetomo /eos/project/l/liu/PS/data/2017/MD2586_InjectionEmittanceBlowup/2017.11.14/tomo_data/autosave_232.dat\n",
      "/eos/project/l/liu/Instrumentation/tomography/runofflinetomo /eos/project/l/liu/PS/data/2017/MD2586_InjectionEmittanceBlowup/2017.11.14/tomo_data/autosave_233.dat\n",
      "/eos/project/l/liu/Instrumentation/tomography/runofflinetomo /eos/project/l/liu/PS/data/2017/MD2586_InjectionEmittanceBlowup/2017.11.14/tomo_data/autosave_234.dat\n",
      "/eos/project/l/liu/Instrumentation/tomography/runofflinetomo /eos/project/l/liu/PS/data/2017/MD2586_InjectionEmittanceBlowup/2017.11.14/tomo_data/autosave_235.dat\n",
      "/eos/project/l/liu/Instrumentation/tomography/runofflinetomo /eos/project/l/liu/PS/data/2017/MD2586_InjectionEmittanceBlowup/2017.11.14/tomo_data/autosave_236.dat\n",
      "/eos/project/l/liu/Instrumentation/tomography/runofflinetomo /eos/project/l/liu/PS/data/2017/MD2586_InjectionEmittanceBlowup/2017.11.14/tomo_data/autosave_237.dat\n",
      "/eos/project/l/liu/Instrumentation/tomography/runofflinetomo /eos/project/l/liu/PS/data/2017/MD2586_InjectionEmittanceBlowup/2017.11.14/tomo_data/autosave_238.dat\n",
      "/eos/project/l/liu/Instrumentation/tomography/runofflinetomo /eos/project/l/liu/PS/data/2017/MD2586_InjectionEmittanceBlowup/2017.11.14/tomo_data/autosave_239.dat\n",
      "/eos/project/l/liu/Instrumentation/tomography/runofflinetomo /eos/project/l/liu/PS/data/2017/MD2586_InjectionEmittanceBlowup/2017.11.14/tomo_data/autosave_240.dat\n",
      "/eos/project/l/liu/Instrumentation/tomography/runofflinetomo /eos/project/l/liu/PS/data/2017/MD2586_InjectionEmittanceBlowup/2017.11.14/tomo_data/autosave_241.dat\n",
      "/eos/project/l/liu/Instrumentation/tomography/runofflinetomo /eos/project/l/liu/PS/data/2017/MD2586_InjectionEmittanceBlowup/2017.11.14/tomo_data/autosave_242.dat\n",
      "/eos/project/l/liu/Instrumentation/tomography/runofflinetomo /eos/project/l/liu/PS/data/2017/MD2586_InjectionEmittanceBlowup/2017.11.14/tomo_data/autosave_243.dat\n",
      "/eos/project/l/liu/Instrumentation/tomography/runofflinetomo /eos/project/l/liu/PS/data/2017/MD2586_InjectionEmittanceBlowup/2017.11.14/tomo_data/autosave_244.dat\n",
      "/eos/project/l/liu/Instrumentation/tomography/runofflinetomo /eos/project/l/liu/PS/data/2017/MD2586_InjectionEmittanceBlowup/2017.11.14/tomo_data/autosave_245.dat\n",
      "/eos/project/l/liu/Instrumentation/tomography/runofflinetomo /eos/project/l/liu/PS/data/2017/MD2586_InjectionEmittanceBlowup/2017.11.14/tomo_data/autosave_246.dat\n",
      "/eos/project/l/liu/Instrumentation/tomography/runofflinetomo /eos/project/l/liu/PS/data/2017/MD2586_InjectionEmittanceBlowup/2017.11.14/tomo_data/autosave_247.dat\n",
      "/eos/project/l/liu/Instrumentation/tomography/runofflinetomo /eos/project/l/liu/PS/data/2017/MD2586_InjectionEmittanceBlowup/2017.11.14/tomo_data/autosave_248.dat\n",
      "/eos/project/l/liu/Instrumentation/tomography/runofflinetomo /eos/project/l/liu/PS/data/2017/MD2586_InjectionEmittanceBlowup/2017.11.14/tomo_data/autosave_249.dat\n",
      "/eos/project/l/liu/Instrumentation/tomography/runofflinetomo /eos/project/l/liu/PS/data/2017/MD2586_InjectionEmittanceBlowup/2017.11.14/tomo_data/autosave_250.dat\n",
      "/eos/project/l/liu/Instrumentation/tomography/runofflinetomo /eos/project/l/liu/PS/data/2017/MD2586_InjectionEmittanceBlowup/2017.11.14/tomo_data/autosave_251.dat\n",
      "/eos/project/l/liu/Instrumentation/tomography/runofflinetomo /eos/project/l/liu/PS/data/2017/MD2586_InjectionEmittanceBlowup/2017.11.14/tomo_data/autosave_252.dat\n",
      "/eos/project/l/liu/Instrumentation/tomography/runofflinetomo /eos/project/l/liu/PS/data/2017/MD2586_InjectionEmittanceBlowup/2017.11.14/tomo_data/autosave_253.dat\n",
      "/eos/project/l/liu/Instrumentation/tomography/runofflinetomo /eos/project/l/liu/PS/data/2017/MD2586_InjectionEmittanceBlowup/2017.11.14/tomo_data/autosave_254.dat\n",
      "/eos/project/l/liu/Instrumentation/tomography/runofflinetomo /eos/project/l/liu/PS/data/2017/MD2586_InjectionEmittanceBlowup/2017.11.14/tomo_data/autosave_255.dat\n",
      "/eos/project/l/liu/Instrumentation/tomography/runofflinetomo /eos/project/l/liu/PS/data/2017/MD2586_InjectionEmittanceBlowup/2017.11.14/tomo_data/autosave_256.dat\n"
     ]
    },
    {
     "name": "stdout",
     "output_type": "stream",
     "text": [
      "/eos/project/l/liu/Instrumentation/tomography/runofflinetomo /eos/project/l/liu/PS/data/2017/MD2586_InjectionEmittanceBlowup/2017.11.14/tomo_data/autosave_257.dat\n",
      "/eos/project/l/liu/Instrumentation/tomography/runofflinetomo /eos/project/l/liu/PS/data/2017/MD2586_InjectionEmittanceBlowup/2017.11.14/tomo_data/autosave_258.dat\n",
      "/eos/project/l/liu/Instrumentation/tomography/runofflinetomo /eos/project/l/liu/PS/data/2017/MD2586_InjectionEmittanceBlowup/2017.11.14/tomo_data/autosave_259.dat\n",
      "/eos/project/l/liu/Instrumentation/tomography/runofflinetomo /eos/project/l/liu/PS/data/2017/MD2586_InjectionEmittanceBlowup/2017.11.14/tomo_data/autosave_260.dat\n",
      "/eos/project/l/liu/Instrumentation/tomography/runofflinetomo /eos/project/l/liu/PS/data/2017/MD2586_InjectionEmittanceBlowup/2017.11.14/tomo_data/autosave_261.dat\n",
      "/eos/project/l/liu/Instrumentation/tomography/runofflinetomo /eos/project/l/liu/PS/data/2017/MD2586_InjectionEmittanceBlowup/2017.11.14/tomo_data/autosave_262.dat\n",
      "/eos/project/l/liu/Instrumentation/tomography/runofflinetomo /eos/project/l/liu/PS/data/2017/MD2586_InjectionEmittanceBlowup/2017.11.14/tomo_data/autosave_263.dat\n",
      "/eos/project/l/liu/Instrumentation/tomography/runofflinetomo /eos/project/l/liu/PS/data/2017/MD2586_InjectionEmittanceBlowup/2017.11.14/tomo_data/autosave_264.dat\n",
      "/eos/project/l/liu/Instrumentation/tomography/runofflinetomo /eos/project/l/liu/PS/data/2017/MD2586_InjectionEmittanceBlowup/2017.11.14/tomo_data/autosave_265.dat\n",
      "/eos/project/l/liu/Instrumentation/tomography/runofflinetomo /eos/project/l/liu/PS/data/2017/MD2586_InjectionEmittanceBlowup/2017.11.14/tomo_data/autosave_266.dat\n",
      "/eos/project/l/liu/Instrumentation/tomography/runofflinetomo /eos/project/l/liu/PS/data/2017/MD2586_InjectionEmittanceBlowup/2017.11.14/tomo_data/autosave_267.dat\n",
      "/eos/project/l/liu/Instrumentation/tomography/runofflinetomo /eos/project/l/liu/PS/data/2017/MD2586_InjectionEmittanceBlowup/2017.11.14/tomo_data/autosave_268.dat\n",
      "/eos/project/l/liu/Instrumentation/tomography/runofflinetomo /eos/project/l/liu/PS/data/2017/MD2586_InjectionEmittanceBlowup/2017.11.14/tomo_data/autosave_269.dat\n",
      "/eos/project/l/liu/Instrumentation/tomography/runofflinetomo /eos/project/l/liu/PS/data/2017/MD2586_InjectionEmittanceBlowup/2017.11.14/tomo_data/autosave_270.dat\n",
      "/eos/project/l/liu/Instrumentation/tomography/runofflinetomo /eos/project/l/liu/PS/data/2017/MD2586_InjectionEmittanceBlowup/2017.11.14/tomo_data/autosave_271.dat\n",
      "/eos/project/l/liu/Instrumentation/tomography/runofflinetomo /eos/project/l/liu/PS/data/2017/MD2586_InjectionEmittanceBlowup/2017.11.14/tomo_data/autosave_272.dat\n",
      "/eos/project/l/liu/Instrumentation/tomography/runofflinetomo /eos/project/l/liu/PS/data/2017/MD2586_InjectionEmittanceBlowup/2017.11.14/tomo_data/autosave_273.dat\n",
      "/eos/project/l/liu/Instrumentation/tomography/runofflinetomo /eos/project/l/liu/PS/data/2017/MD2586_InjectionEmittanceBlowup/2017.11.14/tomo_data/autosave_274.dat\n",
      "/eos/project/l/liu/Instrumentation/tomography/runofflinetomo /eos/project/l/liu/PS/data/2017/MD2586_InjectionEmittanceBlowup/2017.11.14/tomo_data/autosave_275.dat\n",
      "/eos/project/l/liu/Instrumentation/tomography/runofflinetomo /eos/project/l/liu/PS/data/2017/MD2586_InjectionEmittanceBlowup/2017.11.14/tomo_data/autosave_276.dat\n",
      "/eos/project/l/liu/Instrumentation/tomography/runofflinetomo /eos/project/l/liu/PS/data/2017/MD2586_InjectionEmittanceBlowup/2017.11.14/tomo_data/autosave_277.dat\n",
      "/eos/project/l/liu/Instrumentation/tomography/runofflinetomo /eos/project/l/liu/PS/data/2017/MD2586_InjectionEmittanceBlowup/2017.11.14/tomo_data/autosave_278.dat\n",
      "/eos/project/l/liu/Instrumentation/tomography/runofflinetomo /eos/project/l/liu/PS/data/2017/MD2586_InjectionEmittanceBlowup/2017.11.14/tomo_data/autosave_279.dat\n",
      "/eos/project/l/liu/Instrumentation/tomography/runofflinetomo /eos/project/l/liu/PS/data/2017/MD2586_InjectionEmittanceBlowup/2017.11.14/tomo_data/autosave_280.dat\n",
      "/eos/project/l/liu/Instrumentation/tomography/runofflinetomo /eos/project/l/liu/PS/data/2017/MD2586_InjectionEmittanceBlowup/2017.11.14/tomo_data/autosave_281.dat\n",
      "/eos/project/l/liu/Instrumentation/tomography/runofflinetomo /eos/project/l/liu/PS/data/2017/MD2586_InjectionEmittanceBlowup/2017.11.14/tomo_data/autosave_282.dat\n",
      "/eos/project/l/liu/Instrumentation/tomography/runofflinetomo /eos/project/l/liu/PS/data/2017/MD2586_InjectionEmittanceBlowup/2017.11.14/tomo_data/autosave_283.dat\n",
      "/eos/project/l/liu/Instrumentation/tomography/runofflinetomo /eos/project/l/liu/PS/data/2017/MD2586_InjectionEmittanceBlowup/2017.11.14/tomo_data/autosave_284.dat\n",
      "/eos/project/l/liu/Instrumentation/tomography/runofflinetomo /eos/project/l/liu/PS/data/2017/MD2586_InjectionEmittanceBlowup/2017.11.14/tomo_data/autosave_285.dat\n",
      "/eos/project/l/liu/Instrumentation/tomography/runofflinetomo /eos/project/l/liu/PS/data/2017/MD2586_InjectionEmittanceBlowup/2017.11.14/tomo_data/autosave_286.dat\n",
      "/eos/project/l/liu/Instrumentation/tomography/runofflinetomo /eos/project/l/liu/PS/data/2017/MD2586_InjectionEmittanceBlowup/2017.11.14/tomo_data/autosave_287.dat\n",
      "/eos/project/l/liu/Instrumentation/tomography/runofflinetomo /eos/project/l/liu/PS/data/2017/MD2586_InjectionEmittanceBlowup/2017.11.14/tomo_data/autosave_288.dat\n",
      "/eos/project/l/liu/Instrumentation/tomography/runofflinetomo /eos/project/l/liu/PS/data/2017/MD2586_InjectionEmittanceBlowup/2017.11.14/tomo_data/autosave_289.dat\n",
      "/eos/project/l/liu/Instrumentation/tomography/runofflinetomo /eos/project/l/liu/PS/data/2017/MD2586_InjectionEmittanceBlowup/2017.11.14/tomo_data/autosave_290.dat\n",
      "/eos/project/l/liu/Instrumentation/tomography/runofflinetomo /eos/project/l/liu/PS/data/2017/MD2586_InjectionEmittanceBlowup/2017.11.14/tomo_data/autosave_291.dat\n",
      "/eos/project/l/liu/Instrumentation/tomography/runofflinetomo /eos/project/l/liu/PS/data/2017/MD2586_InjectionEmittanceBlowup/2017.11.14/tomo_data/autosave_292.dat\n",
      "/eos/project/l/liu/Instrumentation/tomography/runofflinetomo /eos/project/l/liu/PS/data/2017/MD2586_InjectionEmittanceBlowup/2017.11.14/tomo_data/autosave_293.dat\n",
      "/eos/project/l/liu/Instrumentation/tomography/runofflinetomo /eos/project/l/liu/PS/data/2017/MD2586_InjectionEmittanceBlowup/2017.11.14/tomo_data/autosave_294.dat\n",
      "/eos/project/l/liu/Instrumentation/tomography/runofflinetomo /eos/project/l/liu/PS/data/2017/MD2586_InjectionEmittanceBlowup/2017.11.14/tomo_data/autosave_295.dat\n",
      "/eos/project/l/liu/Instrumentation/tomography/runofflinetomo /eos/project/l/liu/PS/data/2017/MD2586_InjectionEmittanceBlowup/2017.11.14/tomo_data/autosave_296.dat\n",
      "/eos/project/l/liu/Instrumentation/tomography/runofflinetomo /eos/project/l/liu/PS/data/2017/MD2586_InjectionEmittanceBlowup/2017.11.14/tomo_data/autosave_297.dat\n",
      "/eos/project/l/liu/Instrumentation/tomography/runofflinetomo /eos/project/l/liu/PS/data/2017/MD2586_InjectionEmittanceBlowup/2017.11.14/tomo_data/autosave_298.dat\n",
      "/eos/project/l/liu/Instrumentation/tomography/runofflinetomo /eos/project/l/liu/PS/data/2017/MD2586_InjectionEmittanceBlowup/2017.11.14/tomo_data/autosave_299.dat\n",
      "/eos/project/l/liu/Instrumentation/tomography/runofflinetomo /eos/project/l/liu/PS/data/2017/MD2586_InjectionEmittanceBlowup/2017.11.14/tomo_data/autosave_300.dat\n",
      "/eos/project/l/liu/Instrumentation/tomography/runofflinetomo /eos/project/l/liu/PS/data/2017/MD2586_InjectionEmittanceBlowup/2017.11.14/tomo_data/autosave_301.dat\n",
      "/eos/project/l/liu/Instrumentation/tomography/runofflinetomo /eos/project/l/liu/PS/data/2017/MD2586_InjectionEmittanceBlowup/2017.11.14/tomo_data/autosave_302.dat\n",
      "/eos/project/l/liu/Instrumentation/tomography/runofflinetomo /eos/project/l/liu/PS/data/2017/MD2586_InjectionEmittanceBlowup/2017.11.14/tomo_data/autosave_303.dat\n",
      "/eos/project/l/liu/Instrumentation/tomography/runofflinetomo /eos/project/l/liu/PS/data/2017/MD2586_InjectionEmittanceBlowup/2017.11.14/tomo_data/autosave_304.dat\n",
      "/eos/project/l/liu/Instrumentation/tomography/runofflinetomo /eos/project/l/liu/PS/data/2017/MD2586_InjectionEmittanceBlowup/2017.11.14/tomo_data/autosave_305.dat\n",
      "/eos/project/l/liu/Instrumentation/tomography/runofflinetomo /eos/project/l/liu/PS/data/2017/MD2586_InjectionEmittanceBlowup/2017.11.14/tomo_data/autosave_306.dat\n",
      "/eos/project/l/liu/Instrumentation/tomography/runofflinetomo /eos/project/l/liu/PS/data/2017/MD2586_InjectionEmittanceBlowup/2017.11.14/tomo_data/autosave_307.dat\n"
     ]
    },
    {
     "name": "stdout",
     "output_type": "stream",
     "text": [
      "/eos/project/l/liu/Instrumentation/tomography/runofflinetomo /eos/project/l/liu/PS/data/2017/MD2586_InjectionEmittanceBlowup/2017.11.14/tomo_data/autosave_308.dat\n",
      "/eos/project/l/liu/Instrumentation/tomography/runofflinetomo /eos/project/l/liu/PS/data/2017/MD2586_InjectionEmittanceBlowup/2017.11.14/tomo_data/autosave_309.dat\n",
      "/eos/project/l/liu/Instrumentation/tomography/runofflinetomo /eos/project/l/liu/PS/data/2017/MD2586_InjectionEmittanceBlowup/2017.11.14/tomo_data/autosave_310.dat\n",
      "/eos/project/l/liu/Instrumentation/tomography/runofflinetomo /eos/project/l/liu/PS/data/2017/MD2586_InjectionEmittanceBlowup/2017.11.14/tomo_data/autosave_311.dat\n",
      "/eos/project/l/liu/Instrumentation/tomography/runofflinetomo /eos/project/l/liu/PS/data/2017/MD2586_InjectionEmittanceBlowup/2017.11.14/tomo_data/autosave_312.dat\n",
      "/eos/project/l/liu/Instrumentation/tomography/runofflinetomo /eos/project/l/liu/PS/data/2017/MD2586_InjectionEmittanceBlowup/2017.11.14/tomo_data/autosave_313.dat\n",
      "/eos/project/l/liu/Instrumentation/tomography/runofflinetomo /eos/project/l/liu/PS/data/2017/MD2586_InjectionEmittanceBlowup/2017.11.14/tomo_data/autosave_314.dat\n",
      "/eos/project/l/liu/Instrumentation/tomography/runofflinetomo /eos/project/l/liu/PS/data/2017/MD2586_InjectionEmittanceBlowup/2017.11.14/tomo_data/autosave_315.dat\n",
      "/eos/project/l/liu/Instrumentation/tomography/runofflinetomo /eos/project/l/liu/PS/data/2017/MD2586_InjectionEmittanceBlowup/2017.11.14/tomo_data/autosave_316.dat\n",
      "/eos/project/l/liu/Instrumentation/tomography/runofflinetomo /eos/project/l/liu/PS/data/2017/MD2586_InjectionEmittanceBlowup/2017.11.14/tomo_data/autosave_317.dat\n",
      "/eos/project/l/liu/Instrumentation/tomography/runofflinetomo /eos/project/l/liu/PS/data/2017/MD2586_InjectionEmittanceBlowup/2017.11.14/tomo_data/autosave_318.dat\n",
      "/eos/project/l/liu/Instrumentation/tomography/runofflinetomo /eos/project/l/liu/PS/data/2017/MD2586_InjectionEmittanceBlowup/2017.11.14/tomo_data/autosave_319.dat\n",
      "/eos/project/l/liu/Instrumentation/tomography/runofflinetomo /eos/project/l/liu/PS/data/2017/MD2586_InjectionEmittanceBlowup/2017.11.14/tomo_data/autosave_320.dat\n",
      "/eos/project/l/liu/Instrumentation/tomography/runofflinetomo /eos/project/l/liu/PS/data/2017/MD2586_InjectionEmittanceBlowup/2017.11.14/tomo_data/autosave_321.dat\n",
      "/eos/project/l/liu/Instrumentation/tomography/runofflinetomo /eos/project/l/liu/PS/data/2017/MD2586_InjectionEmittanceBlowup/2017.11.14/tomo_data/autosave_322.dat\n",
      "/eos/project/l/liu/Instrumentation/tomography/runofflinetomo /eos/project/l/liu/PS/data/2017/MD2586_InjectionEmittanceBlowup/2017.11.14/tomo_data/autosave_323.dat\n",
      "/eos/project/l/liu/Instrumentation/tomography/runofflinetomo /eos/project/l/liu/PS/data/2017/MD2586_InjectionEmittanceBlowup/2017.11.14/tomo_data/autosave_324.dat\n",
      "/eos/project/l/liu/Instrumentation/tomography/runofflinetomo /eos/project/l/liu/PS/data/2017/MD2586_InjectionEmittanceBlowup/2017.11.14/tomo_data/autosave_325.dat\n",
      "/eos/project/l/liu/Instrumentation/tomography/runofflinetomo /eos/project/l/liu/PS/data/2017/MD2586_InjectionEmittanceBlowup/2017.11.14/tomo_data/autosave_326.dat\n",
      "/eos/project/l/liu/Instrumentation/tomography/runofflinetomo /eos/project/l/liu/PS/data/2017/MD2586_InjectionEmittanceBlowup/2017.11.14/tomo_data/autosave_327.dat\n",
      "/eos/project/l/liu/Instrumentation/tomography/runofflinetomo /eos/project/l/liu/PS/data/2017/MD2586_InjectionEmittanceBlowup/2017.11.14/tomo_data/autosave_328.dat\n",
      "/eos/project/l/liu/Instrumentation/tomography/runofflinetomo /eos/project/l/liu/PS/data/2017/MD2586_InjectionEmittanceBlowup/2017.11.14/tomo_data/autosave_329.dat\n",
      "/eos/project/l/liu/Instrumentation/tomography/runofflinetomo /eos/project/l/liu/PS/data/2017/MD2586_InjectionEmittanceBlowup/2017.11.14/tomo_data/autosave_330.dat\n",
      "/eos/project/l/liu/Instrumentation/tomography/runofflinetomo /eos/project/l/liu/PS/data/2017/MD2586_InjectionEmittanceBlowup/2017.11.14/tomo_data/autosave_331.dat\n",
      "/eos/project/l/liu/Instrumentation/tomography/runofflinetomo /eos/project/l/liu/PS/data/2017/MD2586_InjectionEmittanceBlowup/2017.11.14/tomo_data/autosave_332.dat\n",
      "/eos/project/l/liu/Instrumentation/tomography/runofflinetomo /eos/project/l/liu/PS/data/2017/MD2586_InjectionEmittanceBlowup/2017.11.14/tomo_data/autosave_333.dat\n",
      "/eos/project/l/liu/Instrumentation/tomography/runofflinetomo /eos/project/l/liu/PS/data/2017/MD2586_InjectionEmittanceBlowup/2017.11.14/tomo_data/autosave_334.dat\n",
      "/eos/project/l/liu/Instrumentation/tomography/runofflinetomo /eos/project/l/liu/PS/data/2017/MD2586_InjectionEmittanceBlowup/2017.11.14/tomo_data/autosave_335.dat\n",
      "/eos/project/l/liu/Instrumentation/tomography/runofflinetomo /eos/project/l/liu/PS/data/2017/MD2586_InjectionEmittanceBlowup/2017.11.14/tomo_data/autosave_336.dat\n",
      "/eos/project/l/liu/Instrumentation/tomography/runofflinetomo /eos/project/l/liu/PS/data/2017/MD2586_InjectionEmittanceBlowup/2017.11.14/tomo_data/autosave_337.dat\n",
      "/eos/project/l/liu/Instrumentation/tomography/runofflinetomo /eos/project/l/liu/PS/data/2017/MD2586_InjectionEmittanceBlowup/2017.11.14/tomo_data/autosave_338.dat\n",
      "/eos/project/l/liu/Instrumentation/tomography/runofflinetomo /eos/project/l/liu/PS/data/2017/MD2586_InjectionEmittanceBlowup/2017.11.14/tomo_data/autosave_339.dat\n",
      "/eos/project/l/liu/Instrumentation/tomography/runofflinetomo /eos/project/l/liu/PS/data/2017/MD2586_InjectionEmittanceBlowup/2017.11.14/tomo_data/autosave_340.dat\n",
      "/eos/project/l/liu/Instrumentation/tomography/runofflinetomo /eos/project/l/liu/PS/data/2017/MD2586_InjectionEmittanceBlowup/2017.11.14/tomo_data/autosave_341.dat\n",
      "/eos/project/l/liu/Instrumentation/tomography/runofflinetomo /eos/project/l/liu/PS/data/2017/MD2586_InjectionEmittanceBlowup/2017.11.14/tomo_data/autosave_342.dat\n",
      "/eos/project/l/liu/Instrumentation/tomography/runofflinetomo /eos/project/l/liu/PS/data/2017/MD2586_InjectionEmittanceBlowup/2017.11.14/tomo_data/autosave_343.dat\n",
      "/eos/project/l/liu/Instrumentation/tomography/runofflinetomo /eos/project/l/liu/PS/data/2017/MD2586_InjectionEmittanceBlowup/2017.11.14/tomo_data/autosave_344.dat\n",
      "/eos/project/l/liu/Instrumentation/tomography/runofflinetomo /eos/project/l/liu/PS/data/2017/MD2586_InjectionEmittanceBlowup/2017.11.14/tomo_data/autosave_345.dat\n",
      "/eos/project/l/liu/Instrumentation/tomography/runofflinetomo /eos/project/l/liu/PS/data/2017/MD2586_InjectionEmittanceBlowup/2017.11.14/tomo_data/autosave_346.dat\n",
      "/eos/project/l/liu/Instrumentation/tomography/runofflinetomo /eos/project/l/liu/PS/data/2017/MD2586_InjectionEmittanceBlowup/2017.11.14/tomo_data/autosave_347.dat\n",
      "/eos/project/l/liu/Instrumentation/tomography/runofflinetomo /eos/project/l/liu/PS/data/2017/MD2586_InjectionEmittanceBlowup/2017.11.14/tomo_data/autosave_348.dat\n",
      "/eos/project/l/liu/Instrumentation/tomography/runofflinetomo /eos/project/l/liu/PS/data/2017/MD2586_InjectionEmittanceBlowup/2017.11.14/tomo_data/autosave_349.dat\n",
      "/eos/project/l/liu/Instrumentation/tomography/runofflinetomo /eos/project/l/liu/PS/data/2017/MD2586_InjectionEmittanceBlowup/2017.11.14/tomo_data/autosave_350.dat\n",
      "/eos/project/l/liu/Instrumentation/tomography/runofflinetomo /eos/project/l/liu/PS/data/2017/MD2586_InjectionEmittanceBlowup/2017.11.14/tomo_data/autosave_351.dat\n",
      "/eos/project/l/liu/Instrumentation/tomography/runofflinetomo /eos/project/l/liu/PS/data/2017/MD2586_InjectionEmittanceBlowup/2017.11.14/tomo_data/autosave_352.dat\n",
      "/eos/project/l/liu/Instrumentation/tomography/runofflinetomo /eos/project/l/liu/PS/data/2017/MD2586_InjectionEmittanceBlowup/2017.11.14/tomo_data/autosave_353.dat\n",
      "/eos/project/l/liu/Instrumentation/tomography/runofflinetomo /eos/project/l/liu/PS/data/2017/MD2586_InjectionEmittanceBlowup/2017.11.14/tomo_data/autosave_354.dat\n",
      "/eos/project/l/liu/Instrumentation/tomography/runofflinetomo /eos/project/l/liu/PS/data/2017/MD2586_InjectionEmittanceBlowup/2017.11.14/tomo_data/autosave_355.dat\n",
      "/eos/project/l/liu/Instrumentation/tomography/runofflinetomo /eos/project/l/liu/PS/data/2017/MD2586_InjectionEmittanceBlowup/2017.11.14/tomo_data/autosave_356.dat\n",
      "/eos/project/l/liu/Instrumentation/tomography/runofflinetomo /eos/project/l/liu/PS/data/2017/MD2586_InjectionEmittanceBlowup/2017.11.14/tomo_data/autosave_357.dat\n",
      "/eos/project/l/liu/Instrumentation/tomography/runofflinetomo /eos/project/l/liu/PS/data/2017/MD2586_InjectionEmittanceBlowup/2017.11.14/tomo_data/autosave_358.dat\n"
     ]
    },
    {
     "name": "stdout",
     "output_type": "stream",
     "text": [
      "/eos/project/l/liu/Instrumentation/tomography/runofflinetomo /eos/project/l/liu/PS/data/2017/MD2586_InjectionEmittanceBlowup/2017.11.14/tomo_data/autosave_359.dat\n",
      "/eos/project/l/liu/Instrumentation/tomography/runofflinetomo /eos/project/l/liu/PS/data/2017/MD2586_InjectionEmittanceBlowup/2017.11.14/tomo_data/autosave_360.dat\n",
      "/eos/project/l/liu/Instrumentation/tomography/runofflinetomo /eos/project/l/liu/PS/data/2017/MD2586_InjectionEmittanceBlowup/2017.11.14/tomo_data/autosave_361.dat\n",
      "/eos/project/l/liu/Instrumentation/tomography/runofflinetomo /eos/project/l/liu/PS/data/2017/MD2586_InjectionEmittanceBlowup/2017.11.14/tomo_data/autosave_362.dat\n",
      "/eos/project/l/liu/Instrumentation/tomography/runofflinetomo /eos/project/l/liu/PS/data/2017/MD2586_InjectionEmittanceBlowup/2017.11.14/tomo_data/autosave_363.dat\n",
      "/eos/project/l/liu/Instrumentation/tomography/runofflinetomo /eos/project/l/liu/PS/data/2017/MD2586_InjectionEmittanceBlowup/2017.11.14/tomo_data/autosave_364.dat\n",
      "/eos/project/l/liu/Instrumentation/tomography/runofflinetomo /eos/project/l/liu/PS/data/2017/MD2586_InjectionEmittanceBlowup/2017.11.14/tomo_data/autosave_365.dat\n",
      "/eos/project/l/liu/Instrumentation/tomography/runofflinetomo /eos/project/l/liu/PS/data/2017/MD2586_InjectionEmittanceBlowup/2017.11.14/tomo_data/autosave_366.dat\n",
      "/eos/project/l/liu/Instrumentation/tomography/runofflinetomo /eos/project/l/liu/PS/data/2017/MD2586_InjectionEmittanceBlowup/2017.11.14/tomo_data/autosave_367.dat\n",
      "/eos/project/l/liu/Instrumentation/tomography/runofflinetomo /eos/project/l/liu/PS/data/2017/MD2586_InjectionEmittanceBlowup/2017.11.14/tomo_data/autosave_368.dat\n",
      "/eos/project/l/liu/Instrumentation/tomography/runofflinetomo /eos/project/l/liu/PS/data/2017/MD2586_InjectionEmittanceBlowup/2017.11.14/tomo_data/autosave_369.dat\n",
      "/eos/project/l/liu/Instrumentation/tomography/runofflinetomo /eos/project/l/liu/PS/data/2017/MD2586_InjectionEmittanceBlowup/2017.11.14/tomo_data/autosave_370.dat\n",
      "/eos/project/l/liu/Instrumentation/tomography/runofflinetomo /eos/project/l/liu/PS/data/2017/MD2586_InjectionEmittanceBlowup/2017.11.14/tomo_data/autosave_371.dat\n",
      "/eos/project/l/liu/Instrumentation/tomography/runofflinetomo /eos/project/l/liu/PS/data/2017/MD2586_InjectionEmittanceBlowup/2017.11.14/tomo_data/autosave_372.dat\n",
      "/eos/project/l/liu/Instrumentation/tomography/runofflinetomo /eos/project/l/liu/PS/data/2017/MD2586_InjectionEmittanceBlowup/2017.11.14/tomo_data/autosave_373.dat\n",
      "/eos/project/l/liu/Instrumentation/tomography/runofflinetomo /eos/project/l/liu/PS/data/2017/MD2586_InjectionEmittanceBlowup/2017.11.14/tomo_data/autosave_374.dat\n",
      "/eos/project/l/liu/Instrumentation/tomography/runofflinetomo /eos/project/l/liu/PS/data/2017/MD2586_InjectionEmittanceBlowup/2017.11.14/tomo_data/autosave_375.dat\n",
      "/eos/project/l/liu/Instrumentation/tomography/runofflinetomo /eos/project/l/liu/PS/data/2017/MD2586_InjectionEmittanceBlowup/2017.11.14/tomo_data/autosave_376.dat\n",
      "/eos/project/l/liu/Instrumentation/tomography/runofflinetomo /eos/project/l/liu/PS/data/2017/MD2586_InjectionEmittanceBlowup/2017.11.14/tomo_data/autosave_377.dat\n",
      "/eos/project/l/liu/Instrumentation/tomography/runofflinetomo /eos/project/l/liu/PS/data/2017/MD2586_InjectionEmittanceBlowup/2017.11.14/tomo_data/autosave_378.dat\n",
      "/eos/project/l/liu/Instrumentation/tomography/runofflinetomo /eos/project/l/liu/PS/data/2017/MD2586_InjectionEmittanceBlowup/2017.11.14/tomo_data/autosave_379.dat\n",
      "/eos/project/l/liu/Instrumentation/tomography/runofflinetomo /eos/project/l/liu/PS/data/2017/MD2586_InjectionEmittanceBlowup/2017.11.14/tomo_data/autosave_380.dat\n",
      "/eos/project/l/liu/Instrumentation/tomography/runofflinetomo /eos/project/l/liu/PS/data/2017/MD2586_InjectionEmittanceBlowup/2017.11.14/tomo_data/autosave_381.dat\n",
      "/eos/project/l/liu/Instrumentation/tomography/runofflinetomo /eos/project/l/liu/PS/data/2017/MD2586_InjectionEmittanceBlowup/2017.11.14/tomo_data/autosave_382.dat\n"
     ]
    }
   ],
   "source": [
    "# new tomogram analysis\n",
    "files_tomo=sorted(glob.glob(folderPath+'/tomo_data/*.dat'))\n",
    "\n",
    "del(files_tomo[159])\n",
    "\n",
    "tomo_data = pnd.DataFrame()\n",
    "\n",
    "for f in range(len(files_tomo)):\n",
    "    try:\n",
    "        tomo_d = extractProfile(files_tomo[f])\n",
    "        tomo_d['Filename'] = files_tomo[f]\n",
    "        if tomo_d is np.nan:\n",
    "            pass\n",
    "        else:\n",
    "            tomo_data=tomo_data.append(tomo_d,ignore_index=True)\n",
    "    except IOError:\n",
    "        print '\\nIOError\\n'"
   ]
  },
  {
   "cell_type": "code",
   "execution_count": 13,
   "metadata": {},
   "outputs": [
    {
     "name": "stderr",
     "output_type": "stream",
     "text": [
      "/cvmfs/sft.cern.ch/lcg/views/LCG_93/x86_64-slc6-gcc62-opt/lib/python2.7/site-packages/pandas/core/indexing.py:194: SettingWithCopyWarning: \n",
      "A value is trying to be set on a copy of a slice from a DataFrame\n",
      "\n",
      "See the caveats in the documentation: http://pandas.pydata.org/pandas-docs/stable/indexing.html#indexing-view-versus-copy\n",
      "  self._setitem_with_indexer(indexer, value)\n"
     ]
    },
    {
     "name": "stdout",
     "output_type": "stream",
     "text": [
      "141/380 are within the timeTolerance\n",
      "length of dataframe is: 142\n"
     ]
    }
   ],
   "source": [
    "timeTolerance = 19\n",
    "\n",
    "# ---------- Vars initialisation\n",
    "myDataFrame['tomoTimestamp']=np.nan\n",
    "myDataFrame['tomoDelta']=np.nan\n",
    "myDataFrame['tomoFilename']=np.str\n",
    "myDataFrame['deltaP_P_rms']=np.nan\n",
    "myDataFrame['peakLineDensity']=np.nan\n",
    "myDataFrame['beta']=np.nan\n",
    "myDataFrame['gamma']=np.nan\n",
    "myDataFrame['deltaP_P']=[np.empty(0,dtype=float)]*len(myDataFrame)\n",
    "myDataFrame['momentumProfile']=[np.empty(0,dtype=float)]*len(myDataFrame)\n",
    "\n",
    "\n",
    "succ_count = 0\n",
    "last_match = 0\n",
    "# loop over the tomo_timestamps\n",
    "for k in range(len(tomo_data)):\n",
    "    tomo_local_cs = tomo_data['cycleStamp'].values[k]\n",
    "    t = myToolbox.unixtime2datetime(tomo_local_cs)\n",
    "    tomo_fname = tomo_data['Filename'].iloc[k]\n",
    "    tomo_dpprms = tomo_data['deltaP_P_RMS'].iloc[k]\n",
    "#     tomo_pkldens = tomo_data['peakLineDensity'].iloc[k]\n",
    "    betar = tomo_data['beta'].iloc[k]\n",
    "    gammar = tomo_data['gamma'].iloc[k]\n",
    "    dpp_profil = tomo_data['deltaP_P'].iloc[k]\n",
    "    p_profil = tomo_data['myProfile'].iloc[k]    \n",
    "\n",
    "\n",
    "    # loop over the matlab data\n",
    "    for x in range(len(myDataFrame)):\n",
    "        c = myToolbox.unixtime2utcdatetime(myDataFrame['cycleStamp'].values[x]*1e-9)\n",
    "        d = t-c\n",
    "        d = d.total_seconds()\n",
    "\n",
    "        if np.abs(d) <= timeTolerance and x > last_match: #avoid match the same tomogram to more matlab acquisition unintentionally\n",
    "            myDataFrame['tomoTimestamp'].iloc[x] = tomo_local_cs\n",
    "            myDataFrame['tomoFilename'].iloc[x] = tomo_fname\n",
    "            myDataFrame['tomoDelta'].iloc[x] = d\n",
    "            myDataFrame['deltaP_P_rms'].iloc[x]= tomo_dpprms\n",
    "#             myDataFrame['peakLineDensity'].iloc[x]= tomo_pkldens\n",
    "            myDataFrame['beta'].iloc[x]= betar\n",
    "            myDataFrame['gamma'].iloc[x]= gammar\n",
    "            myDataFrame['deltaP_P'].iloc[x]= dpp_profil\n",
    "            myDataFrame['momentumProfile'].iloc[x]= p_profil\n",
    "\n",
    "\n",
    "            succ_count += 1 #dummy counter\n",
    "            \n",
    "print str(succ_count) +\"/\"+ str(len(tomo_data)) +\" are within the timeTolerance\"\n",
    "print 'length of dataframe is: '+ str(len(myDataFrame)) "
   ]
  },
  {
   "cell_type": "code",
   "execution_count": 16,
   "metadata": {
    "collapsed": true
   },
   "outputs": [],
   "source": [
    "# discard the elements without tomogram\n",
    "discFlag = np.isnan(myDataFrame['tomoDelta'].values)\n",
    "myDataFrame = myDataFrame.drop(myDataFrame.loc[discFlag].index)"
   ]
  },
  {
   "cell_type": "markdown",
   "metadata": {},
   "source": [
    "# Save the imported data"
   ]
  },
  {
   "cell_type": "code",
   "execution_count": 17,
   "metadata": {
    "collapsed": true
   },
   "outputs": [],
   "source": [
    "myDataFrame.to_pickle('imported_data_C175.pkl')"
   ]
  },
  {
   "cell_type": "code",
   "execution_count": 18,
   "metadata": {
    "collapsed": true
   },
   "outputs": [],
   "source": [
    "# myDataFrame=pnd.red_pickle('imported_data.pkl')"
   ]
  },
  {
   "cell_type": "markdown",
   "metadata": {},
   "source": [
    "# Intensity"
   ]
  },
  {
   "cell_type": "code",
   "execution_count": 19,
   "metadata": {
    "collapsed": true
   },
   "outputs": [],
   "source": [
    "myDataFrame['Intensity'] = myDataFrame['PR_BCT_ST.Samples.value.samples']\n",
    "myDataFrame['Losses'] = myDataFrame['Intensity'].apply(lambda x: 1-x[:][100]/np.max(x) )"
   ]
  },
  {
   "cell_type": "code",
   "execution_count": 20,
   "metadata": {},
   "outputs": [
    {
     "data": {
      "text/plain": [
       "<matplotlib.lines.Line2D at 0x7fec1b3d7a50>"
      ]
     },
     "execution_count": 20,
     "metadata": {},
     "output_type": "execute_result"
    },
    {
     "data": {
      "image/png": "[encoded data removed]",
      "text/plain": [
       "<matplotlib.figure.Figure at 0x7fec1b417f50>"
      ]
     },
     "metadata": {},
     "output_type": "display_data"
    }
   ],
   "source": [
    "plt.plot(myDataFrame['logical_PI_KFA45.K.value'],myDataFrame['Intensity'].apply(lambda x: np.max(x)),'*')\n",
    "plt.xlabel('Kicker strength K')\n",
    "plt.ylabel('Peak intensity (10^10 ppb)')\n",
    "plt.axvline(x=0.004381000000000, ymin=0, ymax = 8, linewidth=2, color='k')"
   ]
  },
  {
   "cell_type": "code",
   "execution_count": 21,
   "metadata": {},
   "outputs": [
    {
     "data": {
      "text/plain": [
       "Text(0,0.5,u'Losses')"
      ]
     },
     "execution_count": 21,
     "metadata": {},
     "output_type": "execute_result"
    },
    {
     "data": {
      "image/png": "[encoded data removed]",
      "text/plain": [
       "<matplotlib.figure.Figure at 0x7fec1b3d7050>"
      ]
     },
     "metadata": {},
     "output_type": "display_data"
    }
   ],
   "source": [
    "plt.plot(myDataFrame['Losses'],'*')\n",
    "x1,x2,y1,y2 = plt.axis()\n",
    "plt.axis((x1,x2,0,1))\n",
    "plt.xlabel('Time ')\n",
    "plt.ylabel('Losses')"
   ]
  },
  {
   "cell_type": "code",
   "execution_count": 22,
   "metadata": {},
   "outputs": [
    {
     "data": {
      "text/plain": [
       "Text(0.5,1,u'10 shots intensity')"
      ]
     },
     "execution_count": 22,
     "metadata": {},
     "output_type": "execute_result"
    },
    {
     "data": {
      "image/png": "[encoded data removed]",
      "text/plain": [
       "<matplotlib.figure.Figure at 0x7fec1b366990>"
      ]
     },
     "metadata": {},
     "output_type": "display_data"
    }
   ],
   "source": [
    "for ll in range(10):\n",
    "    plt.plot(myDataFrame['Intensity'].values[ll])\n",
    "    \n",
    "plt.axvline(x=100, ymin=0, ymax = 8, linewidth=2, color='k')\n",
    "plt.xlabel('Cycle time (ms)')\n",
    "plt.ylabel('BCT Intensity (*1e10 ppb)')\n",
    "plt.title('10 shots intensity')"
   ]
  },
  {
   "cell_type": "markdown",
   "metadata": {
    "collapsed": true
   },
   "source": [
    "# Calculate wire scanner emittance\n",
    "## X plane\n",
    "### Traditional method"
   ]
  },
  {
   "cell_type": "code",
   "execution_count": 23,
   "metadata": {
    "collapsed": true
   },
   "outputs": [],
   "source": [
    "# Wirescanner sigma\n",
    "#position data cleanup (sort, get unique values and the idxes) and conversion to mm\n",
    "myDataFrame['BWS65_position'] = myDataFrame['PR_BWS_65_H_ROT.Acquisition.value.projPositionSet1'].apply(lambda x: np.unique(x, return_index=True)[0]*1e-3)\n",
    "myDataFrame['BWS65_position_idx'] = myDataFrame['PR_BWS_65_H_ROT.Acquisition.value.projPositionSet1'].apply(lambda x: np.unique(x, return_index=True)[1])\n",
    "\n",
    "#instantiate an array object for the result in the frame\n",
    "myDataFrame['BWS65_data'] = myDataFrame['BWS65_position_idx'].apply(lambda x: np.empty(len(x)))\n",
    "pos = np.arange(-50, 50, 0.05)\n",
    "\n",
    "row, col = myDataFrame.shape\n",
    "\n",
    "for r in xrange(row):\n",
    "    myDataFrame['BWS65_data'].iloc[r] = np.interp(pos, myDataFrame['BWS65_position'].iloc[r], myDataFrame['PR_BWS_65_H_ROT.Acquisition.value.projDataSet1'].iloc[r][myDataFrame['BWS65_position_idx'].iloc[r]])  \n",
    "    \n",
    "#do the fit and get the sigma in mm\n",
    "myDataFrame['WS_fit_results_x'] = myDataFrame['BWS65_data'].apply(lambda x: myToolbox.makeGaussianFit_5_parameters(pos,x))\n",
    "myDataFrame['WS_sigma_x'] = myDataFrame['WS_fit_results_x'].apply(lambda x: x[0][-1])"
   ]
  },
  {
   "cell_type": "code",
   "execution_count": 24,
   "metadata": {
    "collapsed": true
   },
   "outputs": [],
   "source": [
    "# Emittance calculation\n",
    "myDataFrame['WS_emittance_x'] = np.nan\n",
    "myDataFrame['WS_geom_emittance_x'] = np.nan\n",
    "\n",
    "for n in range(len(myDataFrame)):\n",
    "    myDataFrame['WS_emittance_x'].iloc[n] = normalised_emittance('65H',myDataFrame['WS_sigma_x'].values[n],dp=myDataFrame['deltaP_P_rms'].values[n])\n",
    "    myDataFrame['WS_geom_emittance_x'].iloc[n] = myDataFrame['WS_emittance_x'].iloc[n]/(myDataFrame['beta'].iloc[n]*myDataFrame['gamma'].iloc[n])"
   ]
  },
  {
   "cell_type": "markdown",
   "metadata": {},
   "source": [
    "### Dispersive profile deconvolution"
   ]
  },
  {
   "cell_type": "code",
   "execution_count": 25,
   "metadata": {
    "collapsed": true
   },
   "outputs": [],
   "source": [
    "# BWS65\n",
    "betax = 21.77988929\n",
    "Dx = 3.24577470\n",
    "\n",
    "betax = 20.11\n",
    "Dx = 3.2\n",
    "\n",
    "def deconv_caller(row):\n",
    "    return myToolbox.computeTransverseEmittance(row['PR_BWS_65_H_ROT.Acquisition.value.projPositionSet1'],\n",
    "                              row['PR_BWS_65_H_ROT.Acquisition.value.projDataSet1'],\n",
    "                              row['momentumProfile'],\n",
    "                              row['deltaP_P'],\n",
    "                              row['beta']*row['gamma'],\n",
    "                              betaOptical_m=betax,Dispersion_m=Dx)\n",
    "\n",
    "myDataFrame['Deconvolution_result'] = myDataFrame.apply(deconv_caller,axis=1)\n",
    "\n",
    "\n",
    "\n",
    "for k in myDataFrame.index:  \n",
    "    myDataFrame.loc[k,'Emittance_x_deconv'] = myDataFrame.loc[k,('Deconvolution_result')]['emittance_um']\n"
   ]
  },
  {
   "cell_type": "markdown",
   "metadata": {},
   "source": [
    "## Y plane"
   ]
  },
  {
   "cell_type": "code",
   "execution_count": 26,
   "metadata": {
    "collapsed": true
   },
   "outputs": [],
   "source": [
    "# Wirescanner sigma\n",
    "#position data cleanup (sort, get unique values and the idxes) and conversion to mm\n",
    "myDataFrame['BWS85_position'] = myDataFrame['PR_BWS_85_V_ROT.Acquisition.value.projPositionSet1'].apply(lambda x: np.unique(x, return_index=True)[0]*1e-3)\n",
    "myDataFrame['BWS85_position_idx'] = myDataFrame['PR_BWS_85_V_ROT.Acquisition.value.projPositionSet1'].apply(lambda x: np.unique(x, return_index=True)[1])\n",
    "\n",
    "#instantiate an array object for the result in the frame\n",
    "myDataFrame['BWS85_data'] = myDataFrame['BWS85_position_idx'].apply(lambda x: np.empty(len(x)))\n",
    "pos = np.arange(-50, 50, 0.05)\n",
    "\n",
    "row, col = myDataFrame.shape\n",
    "\n",
    "for r in xrange(row):\n",
    "    myDataFrame['BWS85_data'].iloc[r] = np.interp(pos, myDataFrame['BWS85_position'].iloc[r], myDataFrame['PR_BWS_85_V_ROT.Acquisition.value.projDataSet1'].iloc[r][myDataFrame['BWS85_position_idx'].iloc[r]])  \n",
    "\n",
    "#do the fit and get the sigma in mm\n",
    "myDataFrame['WS_fit_results_y'] = myDataFrame['BWS85_data'].apply(lambda x: myToolbox.makeGaussianFit_5_parameters(pos,x))\n",
    "myDataFrame['WS_sigma_y'] = myDataFrame['WS_fit_results_y'].apply(lambda x: x[0][-1])"
   ]
  },
  {
   "cell_type": "code",
   "execution_count": 27,
   "metadata": {
    "collapsed": true
   },
   "outputs": [],
   "source": [
    "# Emittance calculation\n",
    "myDataFrame['WS_emittance_y'] = myDataFrame['WS_sigma_y'].apply(lambda x: normalised_emittance('85V',x))\n",
    "\n",
    "myDataFrame['WS_geom_emittance_y'] = np.nan\n",
    "for n in range(len(myDataFrame)):\n",
    "    myDataFrame['WS_geom_emittance_y'].iloc[n] = myDataFrame['WS_emittance_y'].iloc[n]/(myDataFrame['beta'].iloc[n]*myDataFrame['gamma'].iloc[n])"
   ]
  },
  {
   "cell_type": "markdown",
   "metadata": {},
   "source": [
    "## Emittance plot"
   ]
  },
  {
   "cell_type": "code",
   "execution_count": 28,
   "metadata": {},
   "outputs": [
    {
     "data": {
      "image/png": "[encoded data removed]",
      "text/plain": [
       "<matplotlib.figure.Figure at 0x7fec1b3d7650>"
      ]
     },
     "metadata": {},
     "output_type": "display_data"
    }
   ],
   "source": [
    "fig, ax = plt.subplots(1)\n",
    "\n",
    "ax.plot(1e3*myDataFrame['logical_PI_KFA45.K.value'].shift(shiftVal),myDataFrame['WS_emittance_x'],'.',label='$\\epsilon_{x, norm}$')\n",
    "plt.xlabel('Kick strength (mrad)')\n",
    "plt.ylabel('Normalised emittance (mm.mrad)')\n",
    "# plt.axvline(x=rk, ymin=0, ymax = 8, linewidth=2, color='k')\n",
    "# set axis to get rid of some bad shots\n",
    "x1,x2,y1,y2 = plt.axis()\n",
    "# plt.axis((x1,x2,1.5,4.2))\n",
    "\n",
    "\n",
    "ax.plot(1e3*myDataFrame['logical_PI_KFA45.K.value'].shift(shiftVal),myDataFrame['WS_emittance_y'],'.',label='$\\epsilon_{y, norm}$')\n",
    "\n",
    "plt.legend(frameon=True)\n",
    "\n",
    "fig.savefig('BCMS_under_coupling_emi_xy.eps', format='eps')"
   ]
  },
  {
   "cell_type": "code",
   "execution_count": 29,
   "metadata": {},
   "outputs": [
    {
     "data": {
      "image/png": "[encoded data removed]",
      "text/plain": [
       "<matplotlib.figure.Figure at 0x7fec1869fd90>"
      ]
     },
     "metadata": {},
     "output_type": "display_data"
    }
   ],
   "source": [
    "fig2, ax2 = plt.subplots(1)\n",
    "ax2.plot(myDataFrame['WS_emittance_x'],myDataFrame['Emittance_x_deconv'],'.',markersize=10)\n",
    "plt.xlabel('Traditional normalised x emittance (mm.mrad)')\n",
    "plt.ylabel('Deconvoluted normalised \\nemittance (mm.mrad)')\n",
    "\n",
    "ax2.plot([.5,10.],[.5,10.],'-k')\n",
    "x1,x2,y1,y2 = plt.axis()\n",
    "plt.axis((2.3,4.1,2.3,4.1))\n",
    "\n",
    "fig2.savefig('BCMS_under_coupling_Wemi_vs_deconv.eps', format='eps')"
   ]
  },
  {
   "cell_type": "code",
   "execution_count": 30,
   "metadata": {},
   "outputs": [
    {
     "name": "stdout",
     "output_type": "stream",
     "text": [
      "PI.KFA45\n"
     ]
    }
   ],
   "source": [
    "# get KFA45 optics parameters\n",
    "optics_names = optics.NAME\n",
    "\n",
    "for k in range(len(optics_names)):\n",
    "    if optics_names[k].find('PI.KFA45') != -1:\n",
    "        print optics_names[k]\n",
    "        kicker_name = optics_names[k]\n",
    "        kicker_idx = k\n",
    "        kicker_betax = optics.BETA11[k]\n",
    "        kicker_alphax = optics.ALFA11[k]"
   ]
  },
  {
   "cell_type": "code",
   "execution_count": 37,
   "metadata": {},
   "outputs": [
    {
     "name": "stdout",
     "output_type": "stream",
     "text": [
      "Model function: a(x - b)^2 + c\n",
      "Fit params: a=4.86939745022 b= 0.00386844481928 c= 1.24031830937e-06\n",
      "Expected a=11.263213795\n",
      "PSB geom emix=1.01818619496\n"
     ]
    },
    {
     "data": {
      "image/png": "[encoded data removed]",
      "text/plain": [
       "<matplotlib.figure.Figure at 0x7fec182303d0>"
      ]
     },
     "metadata": {},
     "output_type": "display_data"
    }
   ],
   "source": [
    "from scipy.optimize import curve_fit\n",
    "\n",
    "def f_to_fit(x, a, b, c):\n",
    "    return a*(x - b)**2 + c\n",
    "\n",
    "xdata = myDataFrame['logical_PI_KFA45.K.value'].shift(shiftVal)[1:]\n",
    "ydata = 1e-6*myDataFrame['WS_geom_emittance_x'].values[1:]\n",
    "\n",
    "fig, ax = plt.subplots(1)\n",
    "ax.plot(1e3*xdata, 1e6*ydata,'.',label='$\\epsilon_x$') #factors are to adjust units in the plot\n",
    "\n",
    "p, cov = curve_fit(f_to_fit,xdata,ydata)\n",
    "\n",
    "xfit = np.linspace(np.min(xdata),np.max(xdata),200)\n",
    "ax.plot(1e3*xfit, 1e6*f_to_fit(xfit, *p), 'r-', label='fit') #factors are to adjust units in the plot\n",
    "\n",
    "#fit and plot fit\n",
    "print 'Model function: a(x - b)^2 + c'\n",
    "print 'Fit params: a=' + str(p[0]) + ' b= ' + str(p[1]) + ' c= '+ str(p[2])\n",
    "\n",
    "\n",
    "plt.xlabel('Kick (mrad)',fontsize=15)\n",
    "plt.ylabel('Geometrical emittance (mm.mrad)',fontsize=15)\n",
    "\n",
    "ax.text(0.3, 0.95, 'Fit function: $a(x-b)^2+c$:\\n $a=$%.2f \\n $b=$%.2E \\n $c=$%.2E'%(p[0],p[1],p[2]),\n",
    "        transform=ax.transAxes, fontsize=14,verticalalignment='top')\n",
    "\n",
    "ax.plot(1e3*myDataFrame['logical_PI_KFA45.K.value'].shift(shiftVal),myDataFrame['WS_emittance_y']/2.26936518558,'.',label='$\\epsilon_y$')\n",
    "\n",
    "print 'Expected a='+str(kicker_betax/2)\n",
    "\n",
    "# ideal curve with PSB emittance\n",
    "print 'PSB geom emix='+str(emix_geom_PSB)\n",
    "\n",
    "ax.plot(xfit*1e3, 1e6*f_to_fit(xfit,kicker_betax/2.,p[1],emix_geom_PSB*1e-6),'-',label='model') #factors are to adjust units in the plot\n",
    "\n",
    "plt.legend(bbox_to_anchor=(0.75,1),loc=2,frameon=True)\n",
    "\n",
    "\n",
    "x1,x2,y1,y2 = plt.axis()\n",
    "plt.axis((3.45,4.15,.6,2.5))\n",
    "\n",
    "fig.savefig('emi_xy_fitC175.eps', format='eps',dpi=1000)"
   ]
  },
  {
   "cell_type": "markdown",
   "metadata": {},
   "source": [
    "# BPMs"
   ]
  },
  {
   "cell_type": "code",
   "execution_count": null,
   "metadata": {
    "collapsed": true
   },
   "outputs": [],
   "source": [
    "# BPMs\n",
    "#add field for the first two turns and splitting x and y pickups\n",
    "myDataFrame['BPMx_turn1'] = myDataFrame['PR_BPM.AcquisitionTrajectoryBBB.value.position'].apply(lambda x: x[0:43,0])\n",
    "myDataFrame['BPMy_turn1'] = myDataFrame['PR_BPM.AcquisitionTrajectoryBBB.value.position'].apply(lambda x: x[-43:,0])\n",
    "myDataFrame['BPMx_turn2'] = myDataFrame['PR_BPM.AcquisitionTrajectoryBBB.value.position'].apply(lambda x: x[0:43,1])\n",
    "myDataFrame['BPMy_turn2'] = myDataFrame['PR_BPM.AcquisitionTrajectoryBBB.value.position'].apply(lambda x: x[-43:,1])\n",
    "# #turn to millimiters and cast in float\n",
    "myDataFrame['BPMx_turn1'] = myDataFrame['BPMx_turn1'].apply(lambda x: x/10.)\n",
    "myDataFrame['BPMy_turn1'] = myDataFrame['BPMy_turn1'].apply(lambda x: x/10.)\n",
    "myDataFrame['BPMx_turn2'] = myDataFrame['BPMx_turn2'].apply(lambda x: x/10.)\n",
    "myDataFrame['BPMy_turn2'] = myDataFrame['BPMy_turn2'].apply(lambda x: x/10.)\n",
    "# #add orbit\n",
    "myDataFrame['Orbit_x'] = myDataFrame['PR_BPM.AcquisitionOrbit.value.position'].apply(lambda x: x[0:43,1])\n",
    "myDataFrame['Orbit_y'] = myDataFrame['PR_BPM.AcquisitionOrbit.value.position'].apply(lambda x: x[-43:,1])\n",
    "myDataFrame['Orbit_x'] = myDataFrame['Orbit_x'].apply(lambda x: x/10.)\n",
    "myDataFrame['Orbit_y'] = myDataFrame['Orbit_y'].apply(lambda x: x/10.)"
   ]
  },
  {
   "cell_type": "markdown",
   "metadata": {},
   "source": [
    "# Calculate injection oscillation from the BPM"
   ]
  },
  {
   "cell_type": "markdown",
   "metadata": {},
   "source": [
    "## 1. Look at one BPM and calculate the oscillation over the first 50 turns"
   ]
  },
  {
   "cell_type": "code",
   "execution_count": null,
   "metadata": {
    "collapsed": true
   },
   "outputs": [],
   "source": [
    "# get the beta at the BPMs position\n",
    "optics_names = optics.NAME\n",
    "BPM_name = []\n",
    "BPM_idx = []\n",
    "BPM_betax = []\n",
    "BPM_alphax = []\n",
    "\n",
    "for k in range(len(optics_names)):\n",
    "    if optics_names[k].find('PR.BPM') != -1:\n",
    "#        print optics_names[k]\n",
    "        BPM_name.append(optics_names[k])\n",
    "        BPM_idx.append(k)\n",
    "        BPM_betax.append(optics.BETA11[k])   \n",
    "        BPM_alphax.append(optics.ALFA11[k])\n",
    "\n",
    "# for some reason the last bpm is the 00, place it back at the beginning\n",
    "BPM_name = [BPM_name[-1]] + BPM_name[:-1]\n",
    "BPM_idx = [BPM_idx[-1]] + BPM_idx[:-1]\n",
    "BPM_betax = [BPM_betax[-1]] + BPM_betax[:-1]\n",
    "BPM_alphax = [BPM_alphax[-1]] + BPM_alphax[:-1]"
   ]
  },
  {
   "cell_type": "code",
   "execution_count": null,
   "metadata": {
    "collapsed": true,
    "scrolled": true
   },
   "outputs": [],
   "source": [
    "# loop over all the BPM\n",
    "\n",
    "# fit an harmonic function through the oscillations and extrapolate the amplitude. \n",
    "# possible tunes (non integer part) have been restricted to be between .20 and .25 --> 2pi/5 and pi/2\n",
    "\n",
    "from scipy.optimize import curve_fit\n",
    "def f_to_fit(x, a, b, c, d):\n",
    "    return a*np.sin(b*x + c) + d\n",
    "\n",
    "xdata = np.linspace(0,30,30)\n",
    "osc_amplitude = np.empty([len(myDataFrame),len(BPM_name)],dtype=float); osc_amplitude[:]=np.nan\n",
    "\n",
    "# fit boundaries \n",
    "bounds=([-np.inf, 1.*pi/5, -pi, -np.inf],[np.inf,pi/2.,pi,np.inf])\n",
    "# statistical check\n",
    "chi2 = np.empty([len(myDataFrame),len(BPM_name)],dtype=float)\n",
    "\n",
    "for m in range(len(BPM_name)):\n",
    "\n",
    "    for k in range(len(myDataFrame)):\n",
    "        ydata = myDataFrame['PR_BPM.AcquisitionTrajectoryBBB.value.position'].apply(lambda x: 0.1*x[m,0:30]).values[k]\n",
    "        # starting values\n",
    "        p0 = ([2*signalRMS(ydata), 0.45*pi, pi/2, np.mean(ydata)])\n",
    "\n",
    "        try:\n",
    "            p, cov = curve_fit(f_to_fit,xdata,ydata,bounds=bounds,p0=p0)\n",
    "            osc_amplitude[k,m] = np.abs(p[0])\n",
    "\n",
    "            yfit = f_to_fit(xdata, *p)\n",
    "            chi2[k,m] = np.sum((yfit - ydata)**2)/len(yfit)\n",
    "\n",
    "        except RuntimeError:\n",
    "            print 'fit do not converge on shot '+str(k)\n",
    "            osc_amplitude[k,m] = np.nan\n",
    "            chi2[k,m] = np.nan\n",
    "        \n",
    "    print BPM_name[m] + ' processed with success '+ str(np.count_nonzero(~np.isnan(osc_amplitude[:,m]))) +'/'+str(len(myDataFrame))+' shots'\n",
    "            \n",
    "print 'Done.'"
   ]
  },
  {
   "cell_type": "code",
   "execution_count": null,
   "metadata": {
    "collapsed": true
   },
   "outputs": [],
   "source": [
    "# sanity check \n",
    "for k in range(34):\n",
    "    plt.plot(myDataFrame['logical_PI_KFA45.K.value'].shift(shiftVal),osc_amplitude[:,k],'.')\n",
    "    x1,x2,y1,y2 = plt.axis()\n",
    "    plt.axis((x1,x2,0,10))"
   ]
  },
  {
   "cell_type": "code",
   "execution_count": null,
   "metadata": {
    "collapsed": true
   },
   "outputs": [],
   "source": [
    "# manual inspection\n",
    "bpm_n = 21\n",
    "plt.plot(myDataFrame['logical_PI_KFA45.K.value'].shift(shiftVal),osc_amplitude[:,bpm_n],'.')\n",
    "x1,x2,y1,y2 = plt.axis()\n",
    "plt.axis((x1,x2,0,10))\n",
    "print 'Beta_x at '+BPM_name[bpm_n]+': '+str(BPM_betax[bpm_n])"
   ]
  },
  {
   "cell_type": "code",
   "execution_count": null,
   "metadata": {
    "collapsed": true
   },
   "outputs": [],
   "source": [
    "plt.plot(chi2[:,bpm_n],'.')"
   ]
  },
  {
   "cell_type": "raw",
   "metadata": {
    "collapsed": true
   },
   "source": [
    "# another manual inspection\n",
    "mySlice = chi2[:,bpm_n]\n",
    "ll = np.where(mySlice>.3)\n",
    "\n",
    "print chi2[ll,bpm_n]\n",
    "\n",
    "xdata = np.linspace(0,50,50)\n",
    "ydata = myDataFrame['PR_BPM.AcquisitionTrajectoryBBB.value.position'].apply(lambda x: 0.1*x[bpm_n,0:50]).values[ll]\n",
    "\n",
    "plt.plot(xdata, ydata,'-',label='data') #factors are to adjust units in the plot\n",
    "\n",
    "xfit = np.linspace(0,50,250) \n",
    "\n",
    "def f_to_fit(x, a, b, c, d):\n",
    "    return a*np.sin(b*x + c) + d\n",
    "\n",
    "p0 = ([2*signalRMS(ydata), 0.45*pi, pi/2., np.mean(ydata)])\n",
    "# # p0 = p\n",
    "\n",
    "p, cov = curve_fit(f_to_fit,xdata,ydata,bounds=bounds,p0=p0)\n",
    "plt.plot(xfit, f_to_fit(xfit, *p), 'r-', label='fit') \n",
    "plt.plot(xdata, f_to_fit(xdata, *p), 'g.', label='fit') #sanity check\n",
    "\n",
    "yfit = f_to_fit(xdata, *p)\n",
    "chi2_l = np.sum((yfit - ydata)**2)/len(yfit)\n",
    "print 'chi2= '+ str(chi2_l)\n",
    "\n",
    "#fit and plot fit\n",
    "print 'Model function: a sin(bx + c) + d'\n",
    "print 'Fit params: a=' + str(p[0]) + '±' + str(cov[0][0]) + ' b= ' + str(p[1]) + '±' + str(cov[1][1]) +' c= ' + str(p[2]) + '±' + str(cov[2][2]) + ' d= '+ str(p[3]) + '±' + str(cov[3][3]) \n",
    "print 'k='+str(myDataFrame['logical_PI_KFA45.K.value'].values[ll])\n",
    "print \" \"\n",
    "print '2RMS='+str(2*signalRMS(ydata))\n",
    "print 'avg='+str(np.mean(ydata))\n",
    "\n",
    "plt.xlabel('Number of turns')\n",
    "plt.ylabel('BPM position (mm)')\n",
    "plt.legend()"
   ]
  },
  {
   "cell_type": "code",
   "execution_count": null,
   "metadata": {
    "collapsed": true
   },
   "outputs": [],
   "source": [
    "fig=plt.figure(figsize=(10, 8), dpi= 80, facecolor='w', edgecolor='k')\n",
    "plt.imshow(osc_amplitude[:139,:],\n",
    "           cmap='hot',\n",
    "           aspect='auto'\n",
    "          )\n",
    "plt.colorbar()\n",
    "plt.xlabel('BPM number')\n",
    "plt.ylabel('Shot number')"
   ]
  },
  {
   "cell_type": "markdown",
   "metadata": {
    "collapsed": true
   },
   "source": [
    "## 2. RMS orbit deviation 1st-2nd turn and 1st turn-1ms orbit"
   ]
  },
  {
   "cell_type": "markdown",
   "metadata": {
    "collapsed": true
   },
   "source": [
    "### calculate the RMS orbit deviation\n",
    "Use difference between the first and second turn to evaluate the orbit deviation from the reference orbit, where\n",
    "\n",
    "\n",
    "$$\\Delta x_\\text{rms} =  \\sqrt{\\frac{1}{N} \\sum_{i=1}^{N} (x_\\text{turn2} - x_\\text{turn1})^2 }$$\n",
    "\n",
    "\n",
    "excluding the BPM in the bump, that would dominate the estimator.\n",
    "\n",
    "Same for the deviation from the orbit \n",
    "\n",
    "$$\\Delta x_\\text{rms, orbit} = \\sqrt{\\frac{1}{N} \\sum_{i=1}^{N} (x_\\text{turn1} - x_\\text{average_orbit_1ms})^2 }$$"
   ]
  },
  {
   "cell_type": "code",
   "execution_count": null,
   "metadata": {
    "collapsed": true
   },
   "outputs": [],
   "source": [
    "# X plane\n",
    "mySeries1 = myDataFrame['BPMx_turn1'].apply(lambda x: np.delete(x,17))\n",
    "mySeries2 = myDataFrame['BPMx_turn2'].apply(lambda x: np.delete(x,17))\n",
    "myOrbit = myDataFrame['Orbit_x'].apply(lambda x: np.delete(x,17))\n",
    "\n",
    "myDataFrame['deltaX_2turns'] = signalRMSDifference(mySeries1,mySeries2,42) # BPM43 excluded\n",
    "myDataFrame['OrbitX_dev_RMS'] = signalRMSDifference(mySeries1,myOrbit,42) # BPM43 excluded\n",
    "\n",
    "# Y plane\n",
    "mySeries1 = myDataFrame['BPMy_turn1'].apply(lambda x: np.delete(x,17))\n",
    "mySeries2 = myDataFrame['BPMy_turn2'].apply(lambda x: np.delete(x,17))\n",
    "myOrbit = myDataFrame['Orbit_y'].apply(lambda x: np.delete(x,17))\n",
    "\n",
    "myDataFrame['deltaY_2turns'] = signalRMSDifference(mySeries1,mySeries2,42) # BPM43 excluded\n",
    "myDataFrame['OrbitY_dev_RMS'] = signalRMSDifference(mySeries1,myOrbit,42) # BPM43 excluded"
   ]
  },
  {
   "cell_type": "code",
   "execution_count": null,
   "metadata": {
    "collapsed": true
   },
   "outputs": [],
   "source": [
    "plt.plot(1e3*myDataFrame['logical_PI_KFA45.K.value'].shift(shiftVal),myDataFrame['deltaX_2turns'].values,'*',label='X plane')\n",
    "\n",
    "plt.xlabel('Kick (mrad)')\n",
    "plt.ylabel('RMS orbit deviation on first 2 turns(mm)')\n",
    "plt.title('First two turn RMS orbit difference')\n",
    "\n",
    "plt.plot(1e3*myDataFrame['logical_PI_KFA45.K.value'].shift(shiftVal),myDataFrame['deltaY_2turns'].values,'*',label='Y plane')\n",
    "\n",
    "\n",
    "\n",
    "plt.legend(frameon=True)\n",
    "x1,x2,y1,y2 = plt.axis()\n",
    "plt.axis((x1,x2,0,8))\n",
    "# plt.axvline(x=0.004381000000000, ymin=0, ymax = 8, linewidth=2, color='k')"
   ]
  },
  {
   "cell_type": "code",
   "execution_count": null,
   "metadata": {
    "collapsed": true
   },
   "outputs": [],
   "source": [
    "plt.plot(1e3*myDataFrame['PI_KFA45.AQN1.value'],myDataFrame['deltaX_2turns'].values,'*',label='X plane')\n",
    "\n",
    "plt.xlabel('Kick (mrad)')\n",
    "plt.ylabel('RMS orbit deviation on first 2 turns(mm)')\n",
    "plt.title('First two turn RMS orbit difference')\n",
    "\n",
    "# plt.plot(1e3*myDataFrame['logical_PI_KFA45.K.value'].shift(shiftVal),myDataFrame['deltaY_2turns'].values,'*',label='Y plane')\n",
    "\n",
    "\n",
    "\n",
    "plt.legend(frameon=True)\n",
    "x1,x2,y1,y2 = plt.axis()\n",
    "plt.axis((x1,x2,0,8))\n",
    "# plt.axvline(x=0.004381000000000, ymin=0, ymax = 8, linewidth=2, color='k')"
   ]
  },
  {
   "cell_type": "code",
   "execution_count": null,
   "metadata": {
    "collapsed": true
   },
   "outputs": [],
   "source": [
    "myDataFrame[['deltaX_2turns','logical_PI_KFA45.K.value']].loc[np.logical_and(myDataFrame['logical_PI_KFA45.K.value']>3.7e-3, \n",
    "                                  np.logical_and(myDataFrame['logical_PI_KFA45.K.value']<3.8e-3,\n",
    "                                 myDataFrame['deltaX_2turns']>4))]\n",
    "\n",
    "\n",
    "\n"
   ]
  },
  {
   "cell_type": "code",
   "execution_count": null,
   "metadata": {
    "collapsed": true
   },
   "outputs": [],
   "source": [
    "plt.plot(1e3*myDataFrame['logical_PI_KFA45.K.value'].shift(shiftVal),myDataFrame['OrbitX_dev_RMS'].values,'*',label='X plane')\n",
    "\n",
    "plt.xlabel('Kick (mrad)')\n",
    "plt.ylabel('RMS orbit deviation 1st turn-orbit (mm)')\n",
    "plt.title('First turn RMS orbit difference from closed orbit')\n",
    "\n",
    "plt.plot(1e3*myDataFrame['logical_PI_KFA45.K.value'].shift(shiftVal),myDataFrame['OrbitY_dev_RMS'].values,'*',label='Y plane')\n",
    "\n",
    "\n",
    "plt.legend(frameon=True)\n",
    "x1,x2,y1,y2 = plt.axis()\n",
    "# plt.axis((x1,x2,0,8))\n",
    "# plt.axvline(x=0.004381000000000, ymin=0, ymax = 8, linewidth=2, color='k')"
   ]
  },
  {
   "cell_type": "markdown",
   "metadata": {},
   "source": [
    "# Methods comparison"
   ]
  },
  {
   "cell_type": "markdown",
   "metadata": {},
   "source": [
    "## 1) Single BPM method"
   ]
  },
  {
   "cell_type": "code",
   "execution_count": null,
   "metadata": {
    "collapsed": true
   },
   "outputs": [],
   "source": [
    "bpm_n1 = 25\n",
    "osc1 = osc_amplitude[:,bpm_n1]\n",
    "print 'At '+BPM_name[bpm_n1]+' betax='+str(BPM_betax[bpm_n1])+' alphax='+str(BPM_alphax[bpm_n1])\n",
    "print 'Expected value for the fit a='+str((1+BPM_alphax[bpm_n1]**2)/(2*BPM_betax[bpm_n1]))\n",
    "bpm_n2 = 21\n",
    "osc2 = osc_amplitude[:,bpm_n2]\n",
    "print 'At '+BPM_name[bpm_n2]+' betax='+str(BPM_betax[bpm_n2])+' alphax='+str(BPM_alphax[bpm_n2])\n",
    "print 'Expected value for the fit a='+str((1+BPM_alphax[bpm_n2]**2)/(2*BPM_betax[bpm_n2]))"
   ]
  },
  {
   "cell_type": "code",
   "execution_count": null,
   "metadata": {
    "collapsed": true
   },
   "outputs": [],
   "source": [
    "from scipy.optimize import curve_fit\n",
    "\n",
    "def f_to_fit(x, a, b, c):\n",
    "    return a*(x - b)**2 + c\n",
    "\n",
    "xdata = 1e-3*osc1\n",
    "ydata = 1e-6*myDataFrame['WS_geom_emittance_x']\n",
    "\n",
    "fig, ax = plt.subplots(1)\n",
    "ax.plot(1e3*xdata, 1e6*ydata,'.',label='$\\epsilon_x$') #factors are to adjust units in the plot\n",
    "\n",
    "p, cov = curve_fit(f_to_fit,xdata,ydata)\n",
    "\n",
    "xfit = np.linspace(np.min(xdata),np.max(xdata),200)\n",
    "ax.plot(1e3*xfit, 1e6*f_to_fit(xfit, *p), 'r-', label='fit') #factors are to adjust units in the plot\n",
    "\n",
    "#fit and plot fit\n",
    "print 'Model function: a(x - b)^2 + c'\n",
    "print 'Fit params: a=' + str(p[0]) + ' b= ' + str(p[1]) + ' c= '+ str(p[2])\n",
    "\n",
    "\n",
    "plt.xlabel('$\\Delta_x$ on 1 BPM (mm)')\n",
    "plt.ylabel('Geometrical emittance (mm.mrad)')\n",
    "plt.title(BPM_name[bpm_n1])\n",
    "\n",
    "ax.text(0.05, 0.95, 'Fit function: $a(x-b)^2+c$:\\n $a=$%.3f \\n $b=$%.2E \\n $c=$%.2E'%(p[0],p[1],p[2]),\n",
    "        transform=ax.transAxes, fontsize=14,verticalalignment='top')\n",
    "\n",
    "x1,x2,y1,y2 = plt.axis()\n",
    "# plt.axis((x1,x2,1.5,4.2))\n",
    "\n",
    "\n",
    "plt.legend(frameon=True)\n",
    "print ' '\n",
    "print 'At '+BPM_name[bpm_n1]+' betax='+str(BPM_betax[bpm_n1])+' alphax='+str(BPM_alphax[bpm_n1])\n",
    "print 'Expected value for the fit a='+str((1+BPM_alphax[bpm_n1]**2)/(2*BPM_betax[bpm_n1]))\n",
    "\n",
    "ax.plot(xfit*1e3, 1e6*f_to_fit(xfit,((1+BPM_alphax[bpm_n1]**2)/(2*BPM_betax[bpm_n1])),p[1],emix_geom_PSB*1e-6),'-',label='model') #factors are to adjust units in the plot\n",
    "\n",
    "plt.legend(frameon=True)\n",
    "\n",
    "x1,x2,y1,y2 = plt.axis()\n",
    "plt.axis((x1,x2,1,2.6))"
   ]
  },
  {
   "cell_type": "code",
   "execution_count": null,
   "metadata": {
    "collapsed": true
   },
   "outputs": [],
   "source": [
    "from scipy.optimize import curve_fit\n",
    "\n",
    "def f_to_fit(x, a, b, c):\n",
    "    return a*(x - b)**2 + c\n",
    "\n",
    "xdata = 1e-3*osc2\n",
    "ydata = 1e-6*myDataFrame['WS_geom_emittance_x']\n",
    "\n",
    "fig, ax = plt.subplots(1)\n",
    "ax.plot(1e3*xdata, 1e6*ydata,'.',label='$\\epsilon_x$') #factors are to adjust units in the plot\n",
    "\n",
    "p, cov = curve_fit(f_to_fit,xdata,ydata)\n",
    "\n",
    "xfit = np.linspace(np.min(xdata),np.max(xdata),200)\n",
    "ax.plot(1e3*xfit, 1e6*f_to_fit(xfit, *p), 'r-', label='fit') #factors are to adjust units in the plot\n",
    "\n",
    "#fit and plot fit\n",
    "print 'Model function: a(x - b)^2 + c'\n",
    "print 'Fit params: a=' + str(p[0]) + ' b= ' + str(p[1]) + ' c= '+ str(p[2])\n",
    "\n",
    "\n",
    "plt.xlabel('$\\Delta_x$ on 1 BPM (mm)')\n",
    "plt.ylabel('Geometrical emittance (mm.mrad)')\n",
    "plt.title(BPM_name[bpm_n2])\n",
    "\n",
    "ax.text(0.05, 0.95, 'Fit function: $a(x-b)^2+c$:\\n $a=$%.3f \\n $b=$%.2E \\n $c=$%.2E'%(p[0],p[1],p[2]),\n",
    "        transform=ax.transAxes, fontsize=14,verticalalignment='top')\n",
    "\n",
    "x1,x2,y1,y2 = plt.axis()\n",
    "# plt.axis((x1,x2,1.5,4.2))\n",
    "\n",
    "\n",
    "plt.legend(frameon=True)\n",
    "print ' '\n",
    "print 'At '+BPM_name[bpm_n2]+' betax='+str(BPM_betax[bpm_n2])+' alphax='+str(BPM_alphax[bpm_n2])\n",
    "print 'Expected value for the fit a='+str((1+BPM_alphax[bpm_n2]**2)/(2*BPM_betax[bpm_n2]))\n",
    "print 'Theoretically a=(1+alpha^2)/2beta'\n",
    "\n",
    "ax.plot(xfit*1e3, 1e6*f_to_fit(xfit,((1+BPM_alphax[bpm_n1]**2)/(2*BPM_betax[bpm_n1])),p[1],emix_geom_PSB*1e-6),'-',label='model') #factors are to adjust units in the plot\n",
    "\n",
    "plt.legend(frameon=True)\n",
    "\n",
    "\n",
    "x1,x2,y1,y2 = plt.axis()\n",
    "plt.axis((x1,x2,1,2.6))\n",
    "\n",
    "fig.savefig('single_BPM175.eps', format='eps')"
   ]
  },
  {
   "cell_type": "markdown",
   "metadata": {},
   "source": [
    "## 2) All BPM - single turn method"
   ]
  },
  {
   "cell_type": "code",
   "execution_count": null,
   "metadata": {
    "collapsed": true,
    "scrolled": false
   },
   "outputs": [],
   "source": [
    "from scipy.optimize import curve_fit\n",
    "\n",
    "def f_to_fit(x, a, b, c):\n",
    "    return a*(x - b)**2 + c\n",
    "\n",
    "xdata = 1e-3*myDataFrame['deltaX_2turns'].loc[myDataFrame['deltaX_2turns']<8] # kill a crazy value\n",
    "ydata = 1e-6*myDataFrame['WS_geom_emittance_x'].loc[myDataFrame['deltaX_2turns']<8]\n",
    "\n",
    "fig, ax = plt.subplots(1)\n",
    "ax.plot(1e3*xdata, 1e6*ydata,'.',label='$\\epsilon_x$') #factors are to adjust units in the plot\n",
    "\n",
    "p, cov = curve_fit(f_to_fit,xdata,ydata)\n",
    "\n",
    "xfit = np.linspace(np.min(xdata),np.max(xdata),200)\n",
    "ax.plot(1e3*xfit, 1e6*f_to_fit(xfit, *p), 'r-', label='fit') #factors are to adjust units in the plot\n",
    "\n",
    "#fit and plot fit\n",
    "print 'Model function: a(x - b)^2 + c'\n",
    "print 'Fit params: a=' + str(p[0]) + ' b= ' + str(p[1]) + ' c= '+ str(p[2])\n",
    "\n",
    "\n",
    "plt.xlabel('$\\Delta_{x,RMS}$ (mm)')\n",
    "plt.ylabel('Geometrical emittance (mm.mrad)')\n",
    "plt.title('First/second turn RMS difference')\n",
    "\n",
    "ax.text(0.05, 0.95, 'Fit function: $a(x-b)^2+c$:\\n $a=$%.3f \\n $b=$%.2E \\n $c=$%.2E'%(p[0],p[1],p[2]),\n",
    "        transform=ax.transAxes, fontsize=14,verticalalignment='top')\n",
    "\n",
    "x1,x2,y1,y2 = plt.axis()\n",
    "# plt.axis((x1,x2,1.5,4.2))\n",
    "\n",
    "\n",
    "plt.legend(frameon=True)\n",
    "print ' '\n",
    "print 'Expected value for the fit a='+str(1./(2.*16.))\n",
    "\n",
    "ax.plot(xfit*1e3, 1e6*f_to_fit(xfit,(1./(2.*16.)),0,emix_geom_PSB*1e-6),'-',label='model') #factors are to adjust units in the plot\n",
    "\n",
    "plt.legend(frameon=True)\n",
    "\n",
    "x1,x2,y1,y2 = plt.axis()\n",
    "# plt.axis((x1,x2,1,2.3))\n",
    "\n",
    "fig.savefig('all_BPM175.eps', format='eps')"
   ]
  },
  {
   "cell_type": "code",
   "execution_count": null,
   "metadata": {
    "collapsed": true
   },
   "outputs": [],
   "source": [
    "from scipy.optimize import curve_fit\n",
    "\n",
    "def f_to_fit(x, a, b, c):\n",
    "    return a*(x - b)**2 + c\n",
    "\n",
    "xdata = 1e-3*myDataFrame['OrbitX_dev_RMS']\n",
    "ydata = 1e-6*myDataFrame['WS_geom_emittance_x']\n",
    "\n",
    "fig, ax = plt.subplots(1)\n",
    "ax.plot(1e3*xdata, 1e6*ydata,'.',label='$\\epsilon_x$') #factors are to adjust units in the plot\n",
    "\n",
    "p, cov = curve_fit(f_to_fit,xdata,ydata)\n",
    "\n",
    "xfit = np.linspace(np.min(xdata),np.max(xdata),200)\n",
    "ax.plot(1e3*xfit, 1e6*f_to_fit(xfit, *p), 'r-', label='fit') #factors are to adjust units in the plot\n",
    "\n",
    "#fit and plot fit\n",
    "print 'Model function: a(x - b)^2 + c'\n",
    "print 'Fit params: a=' + str(p[0]) + ' b= ' + str(p[1]) + ' c= '+ str(p[2])\n",
    "\n",
    "\n",
    "plt.xlabel('$\\Delta_{x,RMS}$ (mm)')\n",
    "plt.ylabel('Geometrical emittance (mm.mrad)')\n",
    "plt.title('First turn/orbit difference')\n",
    "\n",
    "ax.text(0.35, 0.95, 'Fit function: $a(x-b)^2+c$:\\n $a=$%.3f \\n $b=$%.2E \\n $c=$%.2E'%(p[0],p[1],p[2]),\n",
    "        transform=ax.transAxes, fontsize=14,verticalalignment='top')\n",
    "\n",
    "x1,x2,y1,y2 = plt.axis()\n",
    "# plt.axis((x1,x2,1.5,4.2))\n",
    "\n",
    "\n",
    "# plt.legend(frameon=True)\n",
    "print ' '\n",
    "print 'Expected value for the fit a='+str(1./(2.*16.))"
   ]
  },
  {
   "cell_type": "markdown",
   "metadata": {},
   "source": [
    "# Laslett tune shift calculation"
   ]
  },
  {
   "cell_type": "code",
   "execution_count": null,
   "metadata": {
    "collapsed": true
   },
   "outputs": [],
   "source": [
    "myDataFrame['peakLineDensity'] = 0.39"
   ]
  },
  {
   "cell_type": "code",
   "execution_count": null,
   "metadata": {
    "collapsed": true
   },
   "outputs": [],
   "source": []
  },
  {
   "cell_type": "code",
   "execution_count": null,
   "metadata": {
    "collapsed": true
   },
   "outputs": [],
   "source": [
    "# brightness and intensity\n",
    "myDataFrame['WS_intensity'] = myDataFrame['Intensity'].apply(lambda x: x[80])\n",
    "myDataFrame['Brightness'] = myDataFrame['WS_intensity']/(0.5*(myDataFrame['WS_emittance_x']+myDataFrame['WS_emittance_y']))"
   ]
  },
  {
   "cell_type": "code",
   "execution_count": null,
   "metadata": {
    "collapsed": true
   },
   "outputs": [],
   "source": [
    "twiss_file_name = '/eos/user/e/esenes/AnalysisTools/Injection7_optics_Qx_0.21_Qy_0.23_cycled_timefalse.outx'\n",
    "\n",
    "[deltaQx, deltaQy] = laslett_sc_PS(myDataFrame['peakLineDensity'], myDataFrame['deltaP_P_rms'],\n",
    "              1e-6*myDataFrame['WS_emittance_x'], 1e-6*myDataFrame['WS_emittance_y'],\n",
    "              1400, twiss_file_name)\n",
    "\n",
    "myDataFrame['deltaQx'] = deltaQx\n",
    "myDataFrame['deltaQy'] = deltaQy"
   ]
  },
  {
   "cell_type": "code",
   "execution_count": null,
   "metadata": {
    "collapsed": true
   },
   "outputs": [],
   "source": [
    "fig, ax = plt.subplots(1)\n",
    "\n",
    "# working point\n",
    "Qx = 6.207\n",
    "Qy = 6.155\n",
    "plt.plot(Qx,Qy,'r.',markersize=10)\n",
    "\n",
    "# tune diagram lines\n",
    "ax.plot([5.8, 6.3],[5.8, 6.3],'k')\n",
    "ax.plot([6, 6],[5.8, 6.3],'k')\n",
    "ax.plot([5.8, 6.3],[6, 6],'k')\n",
    "ax.plot([6.25, 6.25],[5.8, 6.3],'k')\n",
    "ax.plot([5.8, 6.3],[6.25, 6.25],'k')\n",
    "# options\n",
    "plt.xlim([6.1, 6.26])\n",
    "plt.ylim([6.05, 6.26])\n",
    "# tune shifts\n",
    "\n",
    "\n",
    "p1 = ax.scatter(Qx+myDataFrame['deltaQx'], Qy+myDataFrame['deltaQy'], c=myDataFrame['Brightness'], cmap=plt.cm.coolwarm)\n",
    "clb = fig.colorbar(p1)\n",
    "clb.set_label('Beam brightness')\n",
    "\n",
    "# PSB point\n",
    "[deltaQxPSB, deltaQyPSB] = laslett_sc_PS(0.39, 0.5e-3,\n",
    "              1e-6*2.312, 1e-6*2.143,\n",
    "              1400, twiss_file_name)\n",
    "plt.plot(Qx+deltaQxPSB,Qy+deltaQyPSB,'*',markersize=15)\n",
    "\n",
    "\n",
    "plt.show()\n",
    "\n",
    "fig.savefig('BCMS_under_coupling_footprint.eps', format='eps')"
   ]
  },
  {
   "cell_type": "code",
   "execution_count": null,
   "metadata": {
    "collapsed": true
   },
   "outputs": [],
   "source": []
  },
  {
   "cell_type": "code",
   "execution_count": null,
   "metadata": {
    "collapsed": true
   },
   "outputs": [],
   "source": []
  },
  {
   "cell_type": "code",
   "execution_count": null,
   "metadata": {
    "collapsed": true
   },
   "outputs": [],
   "source": []
  },
  {
   "cell_type": "code",
   "execution_count": null,
   "metadata": {
    "collapsed": true
   },
   "outputs": [],
   "source": []
  },
  {
   "cell_type": "code",
   "execution_count": null,
   "metadata": {
    "collapsed": true
   },
   "outputs": [],
   "source": []
  },
  {
   "cell_type": "code",
   "execution_count": null,
   "metadata": {
    "collapsed": true
   },
   "outputs": [],
   "source": []
  },
  {
   "cell_type": "code",
   "execution_count": null,
   "metadata": {
    "collapsed": true
   },
   "outputs": [],
   "source": []
  },
  {
   "cell_type": "code",
   "execution_count": null,
   "metadata": {
    "collapsed": true
   },
   "outputs": [],
   "source": []
  },
  {
   "cell_type": "code",
   "execution_count": null,
   "metadata": {
    "collapsed": true
   },
   "outputs": [],
   "source": []
  },
  {
   "cell_type": "code",
   "execution_count": null,
   "metadata": {
    "collapsed": true
   },
   "outputs": [],
   "source": [
    "--> fix the peak line density in the tomogram function\n",
    "--> Turn your library into a class, define the methods as static methods and change all the callers as eTools.functionNaME()\n",
    "--> implementa il local indexing instaed of the iloc in the dataframe"
   ]
  }
 ],
 "metadata": {
  "kernelspec": {
   "display_name": "Python 2",
   "language": "python",
   "name": "python2"
  },
  "language_info": {
   "codemirror_mode": {
    "name": "ipython",
    "version": 2
   },
   "file_extension": ".py",
   "mimetype": "text/x-python",
   "name": "python",
   "nbconvert_exporter": "python",
   "pygments_lexer": "ipython2",
   "version": "2.7.13"
  }
 },
 "nbformat": 4,
 "nbformat_minor": 2
}
