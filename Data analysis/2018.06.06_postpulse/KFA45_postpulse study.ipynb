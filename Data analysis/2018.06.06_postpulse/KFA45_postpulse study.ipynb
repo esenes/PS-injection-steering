{
 "cells": [
  {
   "cell_type": "markdown",
   "metadata": {},
   "source": [
    "# KFA45 postpulse study\n",
    "\n",
    "See if the postpulse can be used as second kick: the pulse was set up to be 1 us long at the full power ~290 kV"
   ]
  },
  {
   "cell_type": "code",
   "execution_count": 1,
   "metadata": {
    "scrolled": true
   },
   "outputs": [
    {
     "name": "stdout",
     "output_type": "stream",
     "text": [
      "Version 0.03. This is the latest version.\n",
      "Please help me to improve it reporting bugs to guido.sterbini@cern.ch.\n",
      "Your platform is Linux-3.10.0-693.11.6.el7.x86_64-x86_64-with-redhat-6.9-Carbon\n",
      "Your folder is /eos/user/e/esenes/Injection_missteering/2018.06.06_postpulse\n",
      "Your IP is 172.17.0.12\n",
      "2018-06-20 13:45:33\n",
      "---\n",
      "Version 0.1\n",
      "Use at your own risk. Please report bugs to eugenio.senes@cern.ch\n",
      "Fork it at https://gitlab.cern.ch/esenes/PS-analysis-tools\n",
      "---\n"
     ]
    }
   ],
   "source": [
    "%run /eos/project/l/liu/Toolbox/myToolbox.py\n",
    "print '---'\n",
    "%run /eos/user/e/esenes/PS-analysis-tools/eTools.py\n",
    "print '---'\n",
    "sys.path.append('/eos/project/l/liu/Instrumentation/Scripts')\n",
    "import metaclass"
   ]
  },
  {
   "cell_type": "code",
   "execution_count": 2,
   "metadata": {},
   "outputs": [],
   "source": [
    "sys.path.append('/eos/project/l/liu/Instrumentation/Scripts')\n",
    "import metaclass"
   ]
  },
  {
   "cell_type": "markdown",
   "metadata": {},
   "source": [
    "# User inputs"
   ]
  },
  {
   "cell_type": "code",
   "execution_count": 3,
   "metadata": {},
   "outputs": [],
   "source": [
    "folderPath = '/eos/project/l/liu/PS/data/2017/MD2586_InjectionEmittanceBlowup/2018.06.06_postpulse'\n",
    "\n",
    "matlabVars = ['PI2_KFA45.AQN1.value',\n",
    "                'PI2_KFA45.CCV.value', \n",
    "                'PR_BPM.AcquisitionOrbit.value.position', # BPMs\n",
    "                'PR_BPM.AcquisitionTrajectoryBBB.value.position',\n",
    "                'PR_BCT_ST.Samples.value.samples']\n",
    "\n"
   ]
  },
  {
   "cell_type": "code",
   "execution_count": 4,
   "metadata": {},
   "outputs": [
    {
     "name": "stdout",
     "output_type": "stream",
     "text": [
      "Found 230 data files\n",
      "First: /eos/project/l/liu/PS/data/2017/MD2586_InjectionEmittanceBlowup/2018.06.06_postpulse/2018.06.07.00.04.49.055.mat\n",
      "End: /eos/project/l/liu/PS/data/2017/MD2586_InjectionEmittanceBlowup/2018.06.06_postpulse/2018.06.07.01.57.07.865.mat\n"
     ]
    }
   ],
   "source": [
    "# let's start with the matlab data\n",
    "files = sorted(glob.glob(folderPath+'/2018*.mat'))\n",
    "del files[202:204] # corrupted file\n",
    "files = files[:230]\n",
    "\n",
    "print 'Found ' + str(len(files)) + ' data files'\n",
    "print 'First: ' + files[0]\n",
    "print 'End: ' + files[-1]"
   ]
  },
  {
   "cell_type": "code",
   "execution_count": 5,
   "metadata": {
    "scrolled": true
   },
   "outputs": [
    {
     "name": "stdout",
     "output_type": "stream",
     "text": [
      "/eos/project/l/liu/PS/data/2017/MD2586_InjectionEmittanceBlowup/2018.06.06_postpulse/2018.06.07.00.04.49.055.mat\n",
      "/eos/project/l/liu/PS/data/2017/MD2586_InjectionEmittanceBlowup/2018.06.06_postpulse/2018.06.07.00.06.00.680.mat\n",
      "/eos/project/l/liu/PS/data/2017/MD2586_InjectionEmittanceBlowup/2018.06.06_postpulse/2018.06.07.00.06.37.893.mat\n",
      "/eos/project/l/liu/PS/data/2017/MD2586_InjectionEmittanceBlowup/2018.06.06_postpulse/2018.06.07.00.07.15.097.mat\n",
      "/eos/project/l/liu/PS/data/2017/MD2586_InjectionEmittanceBlowup/2018.06.06_postpulse/2018.06.07.00.07.52.278.mat\n",
      "/eos/project/l/liu/PS/data/2017/MD2586_InjectionEmittanceBlowup/2018.06.06_postpulse/2018.06.07.00.08.29.478.mat\n",
      "/eos/project/l/liu/PS/data/2017/MD2586_InjectionEmittanceBlowup/2018.06.06_postpulse/2018.06.07.00.09.06.709.mat\n",
      "/eos/project/l/liu/PS/data/2017/MD2586_InjectionEmittanceBlowup/2018.06.06_postpulse/2018.06.07.00.09.43.932.mat\n",
      "/eos/project/l/liu/PS/data/2017/MD2586_InjectionEmittanceBlowup/2018.06.06_postpulse/2018.06.07.00.10.21.114.mat\n",
      "/eos/project/l/liu/PS/data/2017/MD2586_InjectionEmittanceBlowup/2018.06.06_postpulse/2018.06.07.00.10.58.300.mat\n",
      "/eos/project/l/liu/PS/data/2017/MD2586_InjectionEmittanceBlowup/2018.06.06_postpulse/2018.06.07.00.10.58.691.mat\n",
      "/eos/project/l/liu/PS/data/2017/MD2586_InjectionEmittanceBlowup/2018.06.06_postpulse/2018.06.07.00.12.12.655.mat\n",
      "/eos/project/l/liu/PS/data/2017/MD2586_InjectionEmittanceBlowup/2018.06.06_postpulse/2018.06.07.00.12.49.862.mat\n",
      "/eos/project/l/liu/PS/data/2017/MD2586_InjectionEmittanceBlowup/2018.06.06_postpulse/2018.06.07.00.13.27.057.mat\n",
      "/eos/project/l/liu/PS/data/2017/MD2586_InjectionEmittanceBlowup/2018.06.06_postpulse/2018.06.07.00.14.04.279.mat\n",
      "/eos/project/l/liu/PS/data/2017/MD2586_InjectionEmittanceBlowup/2018.06.06_postpulse/2018.06.07.00.14.41.458.mat\n",
      "/eos/project/l/liu/PS/data/2017/MD2586_InjectionEmittanceBlowup/2018.06.06_postpulse/2018.06.07.00.15.18.670.mat\n",
      "/eos/project/l/liu/PS/data/2017/MD2586_InjectionEmittanceBlowup/2018.06.06_postpulse/2018.06.07.00.15.55.910.mat\n",
      "/eos/project/l/liu/PS/data/2017/MD2586_InjectionEmittanceBlowup/2018.06.06_postpulse/2018.06.07.00.16.33.055.mat\n",
      "/eos/project/l/liu/PS/data/2017/MD2586_InjectionEmittanceBlowup/2018.06.06_postpulse/2018.06.07.00.17.10.319.mat\n",
      "/eos/project/l/liu/PS/data/2017/MD2586_InjectionEmittanceBlowup/2018.06.06_postpulse/2018.06.07.00.17.10.772.mat\n",
      "/eos/project/l/liu/PS/data/2017/MD2586_InjectionEmittanceBlowup/2018.06.06_postpulse/2018.06.07.00.18.24.670.mat\n",
      "/eos/project/l/liu/PS/data/2017/MD2586_InjectionEmittanceBlowup/2018.06.06_postpulse/2018.06.07.00.19.01.857.mat\n",
      "/eos/project/l/liu/PS/data/2017/MD2586_InjectionEmittanceBlowup/2018.06.06_postpulse/2018.06.07.00.19.39.088.mat\n",
      "/eos/project/l/liu/PS/data/2017/MD2586_InjectionEmittanceBlowup/2018.06.06_postpulse/2018.06.07.00.20.16.265.mat\n",
      "/eos/project/l/liu/PS/data/2017/MD2586_InjectionEmittanceBlowup/2018.06.06_postpulse/2018.06.07.00.20.53.464.mat\n",
      "/eos/project/l/liu/PS/data/2017/MD2586_InjectionEmittanceBlowup/2018.06.06_postpulse/2018.06.07.00.21.30.665.mat\n",
      "/eos/project/l/liu/PS/data/2017/MD2586_InjectionEmittanceBlowup/2018.06.06_postpulse/2018.06.07.00.22.07.892.mat\n",
      "/eos/project/l/liu/PS/data/2017/MD2586_InjectionEmittanceBlowup/2018.06.06_postpulse/2018.06.07.00.22.45.069.mat\n",
      "/eos/project/l/liu/PS/data/2017/MD2586_InjectionEmittanceBlowup/2018.06.06_postpulse/2018.06.07.00.23.22.333.mat\n",
      "/eos/project/l/liu/PS/data/2017/MD2586_InjectionEmittanceBlowup/2018.06.06_postpulse/2018.06.07.00.23.22.726.mat\n",
      "/eos/project/l/liu/PS/data/2017/MD2586_InjectionEmittanceBlowup/2018.06.06_postpulse/2018.06.07.00.24.36.691.mat\n",
      "/eos/project/l/liu/PS/data/2017/MD2586_InjectionEmittanceBlowup/2018.06.06_postpulse/2018.06.07.00.25.13.898.mat\n",
      "/eos/project/l/liu/PS/data/2017/MD2586_InjectionEmittanceBlowup/2018.06.06_postpulse/2018.06.07.00.25.51.069.mat\n",
      "/eos/project/l/liu/PS/data/2017/MD2586_InjectionEmittanceBlowup/2018.06.06_postpulse/2018.06.07.00.26.28.274.mat\n",
      "/eos/project/l/liu/PS/data/2017/MD2586_InjectionEmittanceBlowup/2018.06.06_postpulse/2018.06.07.00.27.05.476.mat\n",
      "/eos/project/l/liu/PS/data/2017/MD2586_InjectionEmittanceBlowup/2018.06.06_postpulse/2018.06.07.00.27.42.667.mat\n",
      "/eos/project/l/liu/PS/data/2017/MD2586_InjectionEmittanceBlowup/2018.06.06_postpulse/2018.06.07.00.28.19.863.mat\n",
      "/eos/project/l/liu/PS/data/2017/MD2586_InjectionEmittanceBlowup/2018.06.06_postpulse/2018.06.07.00.28.57.064.mat\n",
      "/eos/project/l/liu/PS/data/2017/MD2586_InjectionEmittanceBlowup/2018.06.06_postpulse/2018.06.07.00.29.34.322.mat\n",
      "/eos/project/l/liu/PS/data/2017/MD2586_InjectionEmittanceBlowup/2018.06.06_postpulse/2018.06.07.00.29.34.751.mat\n",
      "/eos/project/l/liu/PS/data/2017/MD2586_InjectionEmittanceBlowup/2018.06.06_postpulse/2018.06.07.00.30.48.745.mat\n",
      "/eos/project/l/liu/PS/data/2017/MD2586_InjectionEmittanceBlowup/2018.06.06_postpulse/2018.06.07.00.31.25.924.mat\n",
      "/eos/project/l/liu/PS/data/2017/MD2586_InjectionEmittanceBlowup/2018.06.06_postpulse/2018.06.07.00.32.03.067.mat\n",
      "/eos/project/l/liu/PS/data/2017/MD2586_InjectionEmittanceBlowup/2018.06.06_postpulse/2018.06.07.00.32.40.264.mat\n",
      "/eos/project/l/liu/PS/data/2017/MD2586_InjectionEmittanceBlowup/2018.06.06_postpulse/2018.06.07.00.33.17.511.mat\n",
      "/eos/project/l/liu/PS/data/2017/MD2586_InjectionEmittanceBlowup/2018.06.06_postpulse/2018.06.07.00.33.54.688.mat\n",
      "/eos/project/l/liu/PS/data/2017/MD2586_InjectionEmittanceBlowup/2018.06.06_postpulse/2018.06.07.00.34.31.869.mat\n",
      "/eos/project/l/liu/PS/data/2017/MD2586_InjectionEmittanceBlowup/2018.06.06_postpulse/2018.06.07.00.35.09.064.mat\n",
      "/eos/project/l/liu/PS/data/2017/MD2586_InjectionEmittanceBlowup/2018.06.06_postpulse/2018.06.07.00.35.46.268.mat\n",
      "/eos/project/l/liu/PS/data/2017/MD2586_InjectionEmittanceBlowup/2018.06.06_postpulse/2018.06.07.00.35.46.645.mat\n",
      "/eos/project/l/liu/PS/data/2017/MD2586_InjectionEmittanceBlowup/2018.06.06_postpulse/2018.06.07.00.37.00.668.mat\n",
      "/eos/project/l/liu/PS/data/2017/MD2586_InjectionEmittanceBlowup/2018.06.06_postpulse/2018.06.07.00.37.37.921.mat\n",
      "/eos/project/l/liu/PS/data/2017/MD2586_InjectionEmittanceBlowup/2018.06.06_postpulse/2018.06.07.00.38.15.070.mat\n",
      "/eos/project/l/liu/PS/data/2017/MD2586_InjectionEmittanceBlowup/2018.06.06_postpulse/2018.06.07.00.38.52.284.mat\n",
      "/eos/project/l/liu/PS/data/2017/MD2586_InjectionEmittanceBlowup/2018.06.06_postpulse/2018.06.07.00.39.29.471.mat\n",
      "/eos/project/l/liu/PS/data/2017/MD2586_InjectionEmittanceBlowup/2018.06.06_postpulse/2018.06.07.00.40.07.949.mat\n",
      "/eos/project/l/liu/PS/data/2017/MD2586_InjectionEmittanceBlowup/2018.06.06_postpulse/2018.06.07.00.40.34.318.mat\n",
      "/eos/project/l/liu/PS/data/2017/MD2586_InjectionEmittanceBlowup/2018.06.06_postpulse/2018.06.07.00.41.00.670.mat\n",
      "/eos/project/l/liu/PS/data/2017/MD2586_InjectionEmittanceBlowup/2018.06.06_postpulse/2018.06.07.00.41.27.064.mat\n",
      "/eos/project/l/liu/PS/data/2017/MD2586_InjectionEmittanceBlowup/2018.06.06_postpulse/2018.06.07.00.41.27.413.mat\n",
      "/eos/project/l/liu/PS/data/2017/MD2586_InjectionEmittanceBlowup/2018.06.06_postpulse/2018.06.07.00.42.19.867.mat\n",
      "/eos/project/l/liu/PS/data/2017/MD2586_InjectionEmittanceBlowup/2018.06.06_postpulse/2018.06.07.00.42.46.266.mat\n",
      "/eos/project/l/liu/PS/data/2017/MD2586_InjectionEmittanceBlowup/2018.06.06_postpulse/2018.06.07.00.43.12.664.mat\n",
      "/eos/project/l/liu/PS/data/2017/MD2586_InjectionEmittanceBlowup/2018.06.06_postpulse/2018.06.07.00.43.39.115.mat\n",
      "/eos/project/l/liu/PS/data/2017/MD2586_InjectionEmittanceBlowup/2018.06.06_postpulse/2018.06.07.00.44.05.460.mat\n",
      "/eos/project/l/liu/PS/data/2017/MD2586_InjectionEmittanceBlowup/2018.06.06_postpulse/2018.06.07.00.44.31.864.mat\n",
      "/eos/project/l/liu/PS/data/2017/MD2586_InjectionEmittanceBlowup/2018.06.06_postpulse/2018.06.07.00.44.58.287.mat\n",
      "/eos/project/l/liu/PS/data/2017/MD2586_InjectionEmittanceBlowup/2018.06.06_postpulse/2018.06.07.00.45.24.668.mat\n",
      "/eos/project/l/liu/PS/data/2017/MD2586_InjectionEmittanceBlowup/2018.06.06_postpulse/2018.06.07.00.45.51.062.mat\n",
      "/eos/project/l/liu/PS/data/2017/MD2586_InjectionEmittanceBlowup/2018.06.06_postpulse/2018.06.07.00.45.51.612.mat\n",
      "/eos/project/l/liu/PS/data/2017/MD2586_InjectionEmittanceBlowup/2018.06.06_postpulse/2018.06.07.00.46.43.923.mat\n",
      "/eos/project/l/liu/PS/data/2017/MD2586_InjectionEmittanceBlowup/2018.06.06_postpulse/2018.06.07.00.47.10.264.mat\n"
     ]
    },
    {
     "name": "stdout",
     "output_type": "stream",
     "text": [
      "/eos/project/l/liu/PS/data/2017/MD2586_InjectionEmittanceBlowup/2018.06.06_postpulse/2018.06.07.00.47.36.685.mat\n",
      "/eos/project/l/liu/PS/data/2017/MD2586_InjectionEmittanceBlowup/2018.06.06_postpulse/2018.06.07.00.48.03.061.mat\n",
      "/eos/project/l/liu/PS/data/2017/MD2586_InjectionEmittanceBlowup/2018.06.06_postpulse/2018.06.07.00.48.29.459.mat\n",
      "/eos/project/l/liu/PS/data/2017/MD2586_InjectionEmittanceBlowup/2018.06.06_postpulse/2018.06.07.00.48.55.909.mat\n",
      "/eos/project/l/liu/PS/data/2017/MD2586_InjectionEmittanceBlowup/2018.06.06_postpulse/2018.06.07.00.49.22.264.mat\n",
      "/eos/project/l/liu/PS/data/2017/MD2586_InjectionEmittanceBlowup/2018.06.06_postpulse/2018.06.07.00.49.48.688.mat\n",
      "/eos/project/l/liu/PS/data/2017/MD2586_InjectionEmittanceBlowup/2018.06.06_postpulse/2018.06.07.00.50.15.106.mat\n",
      "/eos/project/l/liu/PS/data/2017/MD2586_InjectionEmittanceBlowup/2018.06.06_postpulse/2018.06.07.00.50.15.444.mat\n",
      "/eos/project/l/liu/PS/data/2017/MD2586_InjectionEmittanceBlowup/2018.06.06_postpulse/2018.06.07.00.51.07.863.mat\n",
      "/eos/project/l/liu/PS/data/2017/MD2586_InjectionEmittanceBlowup/2018.06.06_postpulse/2018.06.07.00.51.34.329.mat\n",
      "/eos/project/l/liu/PS/data/2017/MD2586_InjectionEmittanceBlowup/2018.06.06_postpulse/2018.06.07.00.52.00.663.mat\n",
      "/eos/project/l/liu/PS/data/2017/MD2586_InjectionEmittanceBlowup/2018.06.06_postpulse/2018.06.07.00.52.27.080.mat\n",
      "/eos/project/l/liu/PS/data/2017/MD2586_InjectionEmittanceBlowup/2018.06.06_postpulse/2018.06.07.00.52.53.454.mat\n",
      "/eos/project/l/liu/PS/data/2017/MD2586_InjectionEmittanceBlowup/2018.06.06_postpulse/2018.06.07.00.53.19.859.mat\n",
      "/eos/project/l/liu/PS/data/2017/MD2586_InjectionEmittanceBlowup/2018.06.06_postpulse/2018.06.07.00.53.46.252.mat\n",
      "/eos/project/l/liu/PS/data/2017/MD2586_InjectionEmittanceBlowup/2018.06.06_postpulse/2018.06.07.00.54.12.656.mat\n",
      "/eos/project/l/liu/PS/data/2017/MD2586_InjectionEmittanceBlowup/2018.06.06_postpulse/2018.06.07.00.54.39.050.mat\n",
      "/eos/project/l/liu/PS/data/2017/MD2586_InjectionEmittanceBlowup/2018.06.06_postpulse/2018.06.07.00.54.39.455.mat\n",
      "/eos/project/l/liu/PS/data/2017/MD2586_InjectionEmittanceBlowup/2018.06.06_postpulse/2018.06.07.00.55.31.922.mat\n",
      "/eos/project/l/liu/PS/data/2017/MD2586_InjectionEmittanceBlowup/2018.06.06_postpulse/2018.06.07.00.55.58.276.mat\n",
      "/eos/project/l/liu/PS/data/2017/MD2586_InjectionEmittanceBlowup/2018.06.06_postpulse/2018.06.07.00.56.24.666.mat\n",
      "/eos/project/l/liu/PS/data/2017/MD2586_InjectionEmittanceBlowup/2018.06.06_postpulse/2018.06.07.00.56.51.048.mat\n",
      "/eos/project/l/liu/PS/data/2017/MD2586_InjectionEmittanceBlowup/2018.06.06_postpulse/2018.06.07.00.57.17.453.mat\n",
      "/eos/project/l/liu/PS/data/2017/MD2586_InjectionEmittanceBlowup/2018.06.06_postpulse/2018.06.07.00.57.43.916.mat\n",
      "/eos/project/l/liu/PS/data/2017/MD2586_InjectionEmittanceBlowup/2018.06.06_postpulse/2018.06.07.00.58.10.306.mat\n",
      "/eos/project/l/liu/PS/data/2017/MD2586_InjectionEmittanceBlowup/2018.06.06_postpulse/2018.06.07.00.58.36.693.mat\n",
      "/eos/project/l/liu/PS/data/2017/MD2586_InjectionEmittanceBlowup/2018.06.06_postpulse/2018.06.07.00.59.03.050.mat\n",
      "/eos/project/l/liu/PS/data/2017/MD2586_InjectionEmittanceBlowup/2018.06.06_postpulse/2018.06.07.00.59.03.408.mat\n",
      "/eos/project/l/liu/PS/data/2017/MD2586_InjectionEmittanceBlowup/2018.06.06_postpulse/2018.06.07.00.59.55.854.mat\n",
      "/eos/project/l/liu/PS/data/2017/MD2586_InjectionEmittanceBlowup/2018.06.06_postpulse/2018.06.07.01.00.22.246.mat\n",
      "/eos/project/l/liu/PS/data/2017/MD2586_InjectionEmittanceBlowup/2018.06.06_postpulse/2018.06.07.01.00.48.663.mat\n",
      "/eos/project/l/liu/PS/data/2017/MD2586_InjectionEmittanceBlowup/2018.06.06_postpulse/2018.06.07.01.01.15.050.mat\n",
      "/eos/project/l/liu/PS/data/2017/MD2586_InjectionEmittanceBlowup/2018.06.06_postpulse/2018.06.07.01.01.41.454.mat\n",
      "/eos/project/l/liu/PS/data/2017/MD2586_InjectionEmittanceBlowup/2018.06.06_postpulse/2018.06.07.01.02.07.915.mat\n",
      "/eos/project/l/liu/PS/data/2017/MD2586_InjectionEmittanceBlowup/2018.06.06_postpulse/2018.06.07.01.02.34.315.mat\n",
      "/eos/project/l/liu/PS/data/2017/MD2586_InjectionEmittanceBlowup/2018.06.06_postpulse/2018.06.07.01.03.00.651.mat\n",
      "/eos/project/l/liu/PS/data/2017/MD2586_InjectionEmittanceBlowup/2018.06.06_postpulse/2018.06.07.01.03.27.130.mat\n",
      "/eos/project/l/liu/PS/data/2017/MD2586_InjectionEmittanceBlowup/2018.06.06_postpulse/2018.06.07.01.03.27.408.mat\n",
      "/eos/project/l/liu/PS/data/2017/MD2586_InjectionEmittanceBlowup/2018.06.06_postpulse/2018.06.07.01.04.19.859.mat\n",
      "/eos/project/l/liu/PS/data/2017/MD2586_InjectionEmittanceBlowup/2018.06.06_postpulse/2018.06.07.01.04.46.260.mat\n",
      "/eos/project/l/liu/PS/data/2017/MD2586_InjectionEmittanceBlowup/2018.06.06_postpulse/2018.06.07.01.05.12.659.mat\n",
      "/eos/project/l/liu/PS/data/2017/MD2586_InjectionEmittanceBlowup/2018.06.06_postpulse/2018.06.07.01.05.39.134.mat\n",
      "/eos/project/l/liu/PS/data/2017/MD2586_InjectionEmittanceBlowup/2018.06.06_postpulse/2018.06.07.01.06.05.462.mat\n",
      "/eos/project/l/liu/PS/data/2017/MD2586_InjectionEmittanceBlowup/2018.06.06_postpulse/2018.06.07.01.06.31.852.mat\n",
      "/eos/project/l/liu/PS/data/2017/MD2586_InjectionEmittanceBlowup/2018.06.06_postpulse/2018.06.07.01.06.58.326.mat\n",
      "/eos/project/l/liu/PS/data/2017/MD2586_InjectionEmittanceBlowup/2018.06.06_postpulse/2018.06.07.01.07.24.658.mat\n",
      "/eos/project/l/liu/PS/data/2017/MD2586_InjectionEmittanceBlowup/2018.06.06_postpulse/2018.06.07.01.07.51.058.mat\n",
      "/eos/project/l/liu/PS/data/2017/MD2586_InjectionEmittanceBlowup/2018.06.06_postpulse/2018.06.07.01.07.51.420.mat\n",
      "/eos/project/l/liu/PS/data/2017/MD2586_InjectionEmittanceBlowup/2018.06.06_postpulse/2018.06.07.01.08.43.888.mat\n",
      "/eos/project/l/liu/PS/data/2017/MD2586_InjectionEmittanceBlowup/2018.06.06_postpulse/2018.06.07.01.09.10.310.mat\n",
      "/eos/project/l/liu/PS/data/2017/MD2586_InjectionEmittanceBlowup/2018.06.06_postpulse/2018.06.07.01.09.36.653.mat\n",
      "/eos/project/l/liu/PS/data/2017/MD2586_InjectionEmittanceBlowup/2018.06.06_postpulse/2018.06.07.01.10.03.061.mat\n",
      "/eos/project/l/liu/PS/data/2017/MD2586_InjectionEmittanceBlowup/2018.06.06_postpulse/2018.06.07.01.10.29.456.mat\n",
      "/eos/project/l/liu/PS/data/2017/MD2586_InjectionEmittanceBlowup/2018.06.06_postpulse/2018.06.07.01.10.55.859.mat\n",
      "/eos/project/l/liu/PS/data/2017/MD2586_InjectionEmittanceBlowup/2018.06.06_postpulse/2018.06.07.01.11.22.313.mat\n",
      "/eos/project/l/liu/PS/data/2017/MD2586_InjectionEmittanceBlowup/2018.06.06_postpulse/2018.06.07.01.11.48.665.mat\n",
      "/eos/project/l/liu/PS/data/2017/MD2586_InjectionEmittanceBlowup/2018.06.06_postpulse/2018.06.07.01.12.15.108.mat\n",
      "/eos/project/l/liu/PS/data/2017/MD2586_InjectionEmittanceBlowup/2018.06.06_postpulse/2018.06.07.01.12.15.382.mat\n",
      "/eos/project/l/liu/PS/data/2017/MD2586_InjectionEmittanceBlowup/2018.06.06_postpulse/2018.06.07.01.13.07.852.mat\n",
      "/eos/project/l/liu/PS/data/2017/MD2586_InjectionEmittanceBlowup/2018.06.06_postpulse/2018.06.07.01.13.34.319.mat\n",
      "/eos/project/l/liu/PS/data/2017/MD2586_InjectionEmittanceBlowup/2018.06.06_postpulse/2018.06.07.01.14.00.665.mat\n",
      "/eos/project/l/liu/PS/data/2017/MD2586_InjectionEmittanceBlowup/2018.06.06_postpulse/2018.06.07.01.14.27.055.mat\n",
      "/eos/project/l/liu/PS/data/2017/MD2586_InjectionEmittanceBlowup/2018.06.06_postpulse/2018.06.07.01.14.53.461.mat\n",
      "/eos/project/l/liu/PS/data/2017/MD2586_InjectionEmittanceBlowup/2018.06.06_postpulse/2018.06.07.01.15.19.855.mat\n",
      "/eos/project/l/liu/PS/data/2017/MD2586_InjectionEmittanceBlowup/2018.06.06_postpulse/2018.06.07.01.15.46.310.mat\n",
      "/eos/project/l/liu/PS/data/2017/MD2586_InjectionEmittanceBlowup/2018.06.06_postpulse/2018.06.07.01.16.12.655.mat\n",
      "/eos/project/l/liu/PS/data/2017/MD2586_InjectionEmittanceBlowup/2018.06.06_postpulse/2018.06.07.01.16.39.122.mat\n",
      "/eos/project/l/liu/PS/data/2017/MD2586_InjectionEmittanceBlowup/2018.06.06_postpulse/2018.06.07.01.16.39.415.mat\n",
      "/eos/project/l/liu/PS/data/2017/MD2586_InjectionEmittanceBlowup/2018.06.06_postpulse/2018.06.07.01.17.31.853.mat\n",
      "/eos/project/l/liu/PS/data/2017/MD2586_InjectionEmittanceBlowup/2018.06.06_postpulse/2018.06.07.01.17.58.262.mat\n",
      "/eos/project/l/liu/PS/data/2017/MD2586_InjectionEmittanceBlowup/2018.06.06_postpulse/2018.06.07.01.18.24.653.mat\n",
      "/eos/project/l/liu/PS/data/2017/MD2586_InjectionEmittanceBlowup/2018.06.06_postpulse/2018.06.07.01.18.51.052.mat\n",
      "/eos/project/l/liu/PS/data/2017/MD2586_InjectionEmittanceBlowup/2018.06.06_postpulse/2018.06.07.01.19.17.507.mat\n",
      "/eos/project/l/liu/PS/data/2017/MD2586_InjectionEmittanceBlowup/2018.06.06_postpulse/2018.06.07.01.19.43.853.mat\n",
      "/eos/project/l/liu/PS/data/2017/MD2586_InjectionEmittanceBlowup/2018.06.06_postpulse/2018.06.07.01.20.10.257.mat\n"
     ]
    },
    {
     "name": "stdout",
     "output_type": "stream",
     "text": [
      "/eos/project/l/liu/PS/data/2017/MD2586_InjectionEmittanceBlowup/2018.06.06_postpulse/2018.06.07.01.20.36.652.mat\n",
      "/eos/project/l/liu/PS/data/2017/MD2586_InjectionEmittanceBlowup/2018.06.06_postpulse/2018.06.07.01.21.03.048.mat\n",
      "/eos/project/l/liu/PS/data/2017/MD2586_InjectionEmittanceBlowup/2018.06.06_postpulse/2018.06.07.01.21.03.397.mat\n",
      "/eos/project/l/liu/PS/data/2017/MD2586_InjectionEmittanceBlowup/2018.06.06_postpulse/2018.06.07.01.21.55.870.mat\n",
      "/eos/project/l/liu/PS/data/2017/MD2586_InjectionEmittanceBlowup/2018.06.06_postpulse/2018.06.07.01.22.22.252.mat\n",
      "/eos/project/l/liu/PS/data/2017/MD2586_InjectionEmittanceBlowup/2018.06.06_postpulse/2018.06.07.01.22.48.651.mat\n",
      "/eos/project/l/liu/PS/data/2017/MD2586_InjectionEmittanceBlowup/2018.06.06_postpulse/2018.06.07.01.23.15.124.mat\n",
      "/eos/project/l/liu/PS/data/2017/MD2586_InjectionEmittanceBlowup/2018.06.06_postpulse/2018.06.07.01.23.41.456.mat\n",
      "/eos/project/l/liu/PS/data/2017/MD2586_InjectionEmittanceBlowup/2018.06.06_postpulse/2018.06.07.01.24.07.879.mat\n",
      "/eos/project/l/liu/PS/data/2017/MD2586_InjectionEmittanceBlowup/2018.06.06_postpulse/2018.06.07.01.24.34.307.mat\n",
      "/eos/project/l/liu/PS/data/2017/MD2586_InjectionEmittanceBlowup/2018.06.06_postpulse/2018.06.07.01.25.00.653.mat\n",
      "/eos/project/l/liu/PS/data/2017/MD2586_InjectionEmittanceBlowup/2018.06.06_postpulse/2018.06.07.01.25.27.116.mat\n",
      "/eos/project/l/liu/PS/data/2017/MD2586_InjectionEmittanceBlowup/2018.06.06_postpulse/2018.06.07.01.25.27.496.mat\n",
      "/eos/project/l/liu/PS/data/2017/MD2586_InjectionEmittanceBlowup/2018.06.06_postpulse/2018.06.07.01.26.19.857.mat\n",
      "/eos/project/l/liu/PS/data/2017/MD2586_InjectionEmittanceBlowup/2018.06.06_postpulse/2018.06.07.01.26.46.261.mat\n",
      "/eos/project/l/liu/PS/data/2017/MD2586_InjectionEmittanceBlowup/2018.06.06_postpulse/2018.06.07.01.27.12.659.mat\n",
      "/eos/project/l/liu/PS/data/2017/MD2586_InjectionEmittanceBlowup/2018.06.06_postpulse/2018.06.07.01.27.39.055.mat\n",
      "/eos/project/l/liu/PS/data/2017/MD2586_InjectionEmittanceBlowup/2018.06.06_postpulse/2018.06.07.01.28.05.453.mat\n",
      "/eos/project/l/liu/PS/data/2017/MD2586_InjectionEmittanceBlowup/2018.06.06_postpulse/2018.06.07.01.28.31.862.mat\n",
      "/eos/project/l/liu/PS/data/2017/MD2586_InjectionEmittanceBlowup/2018.06.06_postpulse/2018.06.07.01.28.58.266.mat\n",
      "/eos/project/l/liu/PS/data/2017/MD2586_InjectionEmittanceBlowup/2018.06.06_postpulse/2018.06.07.01.29.24.663.mat\n",
      "/eos/project/l/liu/PS/data/2017/MD2586_InjectionEmittanceBlowup/2018.06.06_postpulse/2018.06.07.01.29.51.059.mat\n",
      "/eos/project/l/liu/PS/data/2017/MD2586_InjectionEmittanceBlowup/2018.06.06_postpulse/2018.06.07.01.29.51.380.mat\n",
      "/eos/project/l/liu/PS/data/2017/MD2586_InjectionEmittanceBlowup/2018.06.06_postpulse/2018.06.07.01.30.43.888.mat\n",
      "/eos/project/l/liu/PS/data/2017/MD2586_InjectionEmittanceBlowup/2018.06.06_postpulse/2018.06.07.01.31.10.254.mat\n",
      "/eos/project/l/liu/PS/data/2017/MD2586_InjectionEmittanceBlowup/2018.06.06_postpulse/2018.06.07.01.31.36.689.mat\n",
      "/eos/project/l/liu/PS/data/2017/MD2586_InjectionEmittanceBlowup/2018.06.06_postpulse/2018.06.07.01.32.03.055.mat\n",
      "/eos/project/l/liu/PS/data/2017/MD2586_InjectionEmittanceBlowup/2018.06.06_postpulse/2018.06.07.01.32.29.456.mat\n",
      "/eos/project/l/liu/PS/data/2017/MD2586_InjectionEmittanceBlowup/2018.06.06_postpulse/2018.06.07.01.32.55.878.mat\n",
      "/eos/project/l/liu/PS/data/2017/MD2586_InjectionEmittanceBlowup/2018.06.06_postpulse/2018.06.07.01.33.22.282.mat\n",
      "/eos/project/l/liu/PS/data/2017/MD2586_InjectionEmittanceBlowup/2018.06.06_postpulse/2018.06.07.01.33.48.696.mat\n",
      "/eos/project/l/liu/PS/data/2017/MD2586_InjectionEmittanceBlowup/2018.06.06_postpulse/2018.06.07.01.34.15.055.mat\n",
      "/eos/project/l/liu/PS/data/2017/MD2586_InjectionEmittanceBlowup/2018.06.06_postpulse/2018.06.07.01.34.15.426.mat\n",
      "/eos/project/l/liu/PS/data/2017/MD2586_InjectionEmittanceBlowup/2018.06.06_postpulse/2018.06.07.01.35.07.903.mat\n",
      "/eos/project/l/liu/PS/data/2017/MD2586_InjectionEmittanceBlowup/2018.06.06_postpulse/2018.06.07.01.35.34.261.mat\n",
      "/eos/project/l/liu/PS/data/2017/MD2586_InjectionEmittanceBlowup/2018.06.06_postpulse/2018.06.07.01.36.00.659.mat\n",
      "/eos/project/l/liu/PS/data/2017/MD2586_InjectionEmittanceBlowup/2018.06.06_postpulse/2018.06.07.01.36.27.057.mat\n",
      "/eos/project/l/liu/PS/data/2017/MD2586_InjectionEmittanceBlowup/2018.06.06_postpulse/2018.06.07.01.36.53.523.mat\n",
      "/eos/project/l/liu/PS/data/2017/MD2586_InjectionEmittanceBlowup/2018.06.06_postpulse/2018.06.07.01.37.19.904.mat\n",
      "/eos/project/l/liu/PS/data/2017/MD2586_InjectionEmittanceBlowup/2018.06.06_postpulse/2018.06.07.01.37.46.260.mat\n",
      "/eos/project/l/liu/PS/data/2017/MD2586_InjectionEmittanceBlowup/2018.06.06_postpulse/2018.06.07.01.38.12.663.mat\n",
      "/eos/project/l/liu/PS/data/2017/MD2586_InjectionEmittanceBlowup/2018.06.06_postpulse/2018.06.07.01.38.39.067.mat\n",
      "/eos/project/l/liu/PS/data/2017/MD2586_InjectionEmittanceBlowup/2018.06.06_postpulse/2018.06.07.01.38.39.423.mat\n",
      "/eos/project/l/liu/PS/data/2017/MD2586_InjectionEmittanceBlowup/2018.06.06_postpulse/2018.06.07.01.39.31.862.mat\n",
      "/eos/project/l/liu/PS/data/2017/MD2586_InjectionEmittanceBlowup/2018.06.06_postpulse/2018.06.07.01.39.58.261.mat\n",
      "/eos/project/l/liu/PS/data/2017/MD2586_InjectionEmittanceBlowup/2018.06.06_postpulse/2018.06.07.01.40.24.659.mat\n",
      "/eos/project/l/liu/PS/data/2017/MD2586_InjectionEmittanceBlowup/2018.06.06_postpulse/2018.06.07.01.40.51.062.mat\n",
      "/eos/project/l/liu/PS/data/2017/MD2586_InjectionEmittanceBlowup/2018.06.06_postpulse/2018.06.07.01.41.17.518.mat\n",
      "/eos/project/l/liu/PS/data/2017/MD2586_InjectionEmittanceBlowup/2018.06.06_postpulse/2018.06.07.01.41.43.945.mat\n",
      "/eos/project/l/liu/PS/data/2017/MD2586_InjectionEmittanceBlowup/2018.06.06_postpulse/2018.06.07.01.42.10.304.mat\n",
      "/eos/project/l/liu/PS/data/2017/MD2586_InjectionEmittanceBlowup/2018.06.06_postpulse/2018.06.07.01.42.36.663.mat\n",
      "/eos/project/l/liu/PS/data/2017/MD2586_InjectionEmittanceBlowup/2018.06.06_postpulse/2018.06.07.01.43.03.061.mat\n",
      "/eos/project/l/liu/PS/data/2017/MD2586_InjectionEmittanceBlowup/2018.06.06_postpulse/2018.06.07.01.43.03.532.mat\n",
      "/eos/project/l/liu/PS/data/2017/MD2586_InjectionEmittanceBlowup/2018.06.06_postpulse/2018.06.07.01.43.55.954.mat\n",
      "/eos/project/l/liu/PS/data/2017/MD2586_InjectionEmittanceBlowup/2018.06.06_postpulse/2018.06.07.01.45.15.122.mat\n",
      "/eos/project/l/liu/PS/data/2017/MD2586_InjectionEmittanceBlowup/2018.06.06_postpulse/2018.06.07.01.45.41.461.mat\n",
      "/eos/project/l/liu/PS/data/2017/MD2586_InjectionEmittanceBlowup/2018.06.06_postpulse/2018.06.07.01.46.07.874.mat\n",
      "/eos/project/l/liu/PS/data/2017/MD2586_InjectionEmittanceBlowup/2018.06.06_postpulse/2018.06.07.01.46.34.263.mat\n",
      "/eos/project/l/liu/PS/data/2017/MD2586_InjectionEmittanceBlowup/2018.06.06_postpulse/2018.06.07.01.47.00.665.mat\n",
      "/eos/project/l/liu/PS/data/2017/MD2586_InjectionEmittanceBlowup/2018.06.06_postpulse/2018.06.07.01.47.27.061.mat\n",
      "/eos/project/l/liu/PS/data/2017/MD2586_InjectionEmittanceBlowup/2018.06.06_postpulse/2018.06.07.01.47.53.461.mat\n",
      "/eos/project/l/liu/PS/data/2017/MD2586_InjectionEmittanceBlowup/2018.06.06_postpulse/2018.06.07.01.48.19.916.mat\n",
      "/eos/project/l/liu/PS/data/2017/MD2586_InjectionEmittanceBlowup/2018.06.06_postpulse/2018.06.07.01.48.46.260.mat\n",
      "/eos/project/l/liu/PS/data/2017/MD2586_InjectionEmittanceBlowup/2018.06.06_postpulse/2018.06.07.01.49.12.661.mat\n",
      "/eos/project/l/liu/PS/data/2017/MD2586_InjectionEmittanceBlowup/2018.06.06_postpulse/2018.06.07.01.49.39.113.mat\n",
      "/eos/project/l/liu/PS/data/2017/MD2586_InjectionEmittanceBlowup/2018.06.06_postpulse/2018.06.07.01.50.05.460.mat\n",
      "/eos/project/l/liu/PS/data/2017/MD2586_InjectionEmittanceBlowup/2018.06.06_postpulse/2018.06.07.01.50.31.918.mat\n",
      "/eos/project/l/liu/PS/data/2017/MD2586_InjectionEmittanceBlowup/2018.06.06_postpulse/2018.06.07.01.50.58.261.mat\n",
      "/eos/project/l/liu/PS/data/2017/MD2586_InjectionEmittanceBlowup/2018.06.06_postpulse/2018.06.07.01.51.24.697.mat\n",
      "/eos/project/l/liu/PS/data/2017/MD2586_InjectionEmittanceBlowup/2018.06.06_postpulse/2018.06.07.01.51.51.061.mat\n",
      "/eos/project/l/liu/PS/data/2017/MD2586_InjectionEmittanceBlowup/2018.06.06_postpulse/2018.06.07.01.52.17.468.mat\n",
      "/eos/project/l/liu/PS/data/2017/MD2586_InjectionEmittanceBlowup/2018.06.06_postpulse/2018.06.07.01.52.43.929.mat\n",
      "/eos/project/l/liu/PS/data/2017/MD2586_InjectionEmittanceBlowup/2018.06.06_postpulse/2018.06.07.01.53.10.270.mat\n",
      "/eos/project/l/liu/PS/data/2017/MD2586_InjectionEmittanceBlowup/2018.06.06_postpulse/2018.06.07.01.53.36.707.mat\n",
      "/eos/project/l/liu/PS/data/2017/MD2586_InjectionEmittanceBlowup/2018.06.06_postpulse/2018.06.07.01.54.03.072.mat\n",
      "/eos/project/l/liu/PS/data/2017/MD2586_InjectionEmittanceBlowup/2018.06.06_postpulse/2018.06.07.01.54.29.486.mat\n"
     ]
    },
    {
     "name": "stdout",
     "output_type": "stream",
     "text": [
      "/eos/project/l/liu/PS/data/2017/MD2586_InjectionEmittanceBlowup/2018.06.06_postpulse/2018.06.07.01.54.55.910.mat\n",
      "/eos/project/l/liu/PS/data/2017/MD2586_InjectionEmittanceBlowup/2018.06.06_postpulse/2018.06.07.01.55.22.264.mat\n",
      "/eos/project/l/liu/PS/data/2017/MD2586_InjectionEmittanceBlowup/2018.06.06_postpulse/2018.06.07.01.55.48.671.mat\n",
      "/eos/project/l/liu/PS/data/2017/MD2586_InjectionEmittanceBlowup/2018.06.06_postpulse/2018.06.07.01.56.15.068.mat\n",
      "/eos/project/l/liu/PS/data/2017/MD2586_InjectionEmittanceBlowup/2018.06.06_postpulse/2018.06.07.01.56.41.464.mat\n",
      "/eos/project/l/liu/PS/data/2017/MD2586_InjectionEmittanceBlowup/2018.06.06_postpulse/2018.06.07.01.57.07.865.mat\n"
     ]
    }
   ],
   "source": [
    "myDataFrame = myToolbox.fromMatlabToDataFrame(files,matlabVars,verbose=True)"
   ]
  },
  {
   "cell_type": "markdown",
   "metadata": {},
   "source": [
    "# Data cleanup"
   ]
  },
  {
   "cell_type": "code",
   "execution_count": 6,
   "metadata": {},
   "outputs": [
    {
     "name": "stdout",
     "output_type": "stream",
     "text": [
      "No duplicates found\n",
      "---\n",
      "BPM data ok\n",
      "---\n"
     ]
    }
   ],
   "source": [
    "myDataFrame = checkDuplicates(myDataFrame) # Drop double acquisitions from matlab\n",
    "myDataFrame = checkBPMData(myDataFrame) # BPMs fault\n",
    "# manual data drop\n",
    "# myDataFrame = myDataFrame.drop(myDataFrame.loc['2017-11-14 17:58:45.100000'].name) # X wirescanner fault\n",
    "# myDataFrame = myDataFrame.drop(myDataFrame.loc['2017-11-14 17:59:28.300000'].name) # non-phys emittance"
   ]
  },
  {
   "cell_type": "markdown",
   "metadata": {},
   "source": [
    "# Intensity"
   ]
  },
  {
   "cell_type": "code",
   "execution_count": 7,
   "metadata": {},
   "outputs": [],
   "source": [
    "myDataFrame['Intensity'] = myDataFrame['PR_BCT_ST.Samples.value.samples']\n",
    "myDataFrame['Losses'] = myDataFrame['Intensity'].apply(lambda x: 1-x[:][1300]/np.max(x) )"
   ]
  },
  {
   "cell_type": "code",
   "execution_count": 8,
   "metadata": {},
   "outputs": [
    {
     "data": {
      "text/plain": [
       "Text(0,0.5,u'Peak intensity (10^10 ppb)')"
      ]
     },
     "execution_count": 8,
     "metadata": {},
     "output_type": "execute_result"
    },
    {
     "data": {
      "image/png": "[encoded data removed]",
      "text/plain": [
       "<matplotlib.figure.Figure at 0x7fa860072910>"
      ]
     },
     "metadata": {},
     "output_type": "display_data"
    }
   ],
   "source": [
    "plt.plot(myDataFrame['Intensity'].apply(lambda x: np.max(x)),'*')\n",
    "plt.ylabel('Peak intensity (10^10 ppb)')"
   ]
  },
  {
   "cell_type": "markdown",
   "metadata": {},
   "source": [
    "# BPMs"
   ]
  },
  {
   "cell_type": "code",
   "execution_count": 9,
   "metadata": {},
   "outputs": [],
   "source": [
    "# BPMs\n",
    "#add field for the first two turns and splitting x and y pickups\n",
    "myDataFrame['BPMx_turn1'] = myDataFrame['PR_BPM.AcquisitionTrajectoryBBB.value.position'].apply(lambda x: x[0:43,0])\n",
    "myDataFrame['BPMy_turn1'] = myDataFrame['PR_BPM.AcquisitionTrajectoryBBB.value.position'].apply(lambda x: x[-43:,0])\n",
    "myDataFrame['BPMx_turn2'] = myDataFrame['PR_BPM.AcquisitionTrajectoryBBB.value.position'].apply(lambda x: x[0:43,1])\n",
    "myDataFrame['BPMy_turn2'] = myDataFrame['PR_BPM.AcquisitionTrajectoryBBB.value.position'].apply(lambda x: x[-43:,1])\n",
    "# #turn to millimiters and cast in float\n",
    "myDataFrame['BPMx_turn1'] = myDataFrame['BPMx_turn1'].apply(lambda x: x/10.)\n",
    "myDataFrame['BPMy_turn1'] = myDataFrame['BPMy_turn1'].apply(lambda x: x/10.)\n",
    "myDataFrame['BPMx_turn2'] = myDataFrame['BPMx_turn2'].apply(lambda x: x/10.)\n",
    "myDataFrame['BPMy_turn2'] = myDataFrame['BPMy_turn2'].apply(lambda x: x/10.)\n",
    "# #add orbit\n",
    "myDataFrame['Orbit_x'] = myDataFrame['PR_BPM.AcquisitionOrbit.value.position'].apply(lambda x: x[0:43,1])\n",
    "myDataFrame['Orbit_y'] = myDataFrame['PR_BPM.AcquisitionOrbit.value.position'].apply(lambda x: x[-43:,1])\n",
    "myDataFrame['Orbit_x'] = myDataFrame['Orbit_x'].apply(lambda x: x/10.)\n",
    "myDataFrame['Orbit_y'] = myDataFrame['Orbit_y'].apply(lambda x: x/10.)"
   ]
  },
  {
   "cell_type": "code",
   "execution_count": 10,
   "metadata": {},
   "outputs": [
    {
     "name": "stdout",
     "output_type": "stream",
     "text": [
      "Problem parsing: @ ORBIT_-CT        %le   -0.00000000\n",
      "\n",
      "Going to be parsed as string\n",
      "Problem persits, let's ignore it!\n"
     ]
    }
   ],
   "source": [
    "# get the optics functions from the model\n",
    "optics = metaclass.twiss('/eos/user/e/esenes/AnalysisTools/Injection7_optics_Qx_0.21_Qy_0.23.outx')"
   ]
  },
  {
   "cell_type": "markdown",
   "metadata": {},
   "source": [
    "# Calculate injection oscillation from the BPM"
   ]
  },
  {
   "cell_type": "code",
   "execution_count": 11,
   "metadata": {},
   "outputs": [],
   "source": [
    "def signalRMS(x):\n",
    "    return np.sqrt(np.sum((x-np.mean(x))**2) / len(x))"
   ]
  },
  {
   "cell_type": "code",
   "execution_count": 12,
   "metadata": {},
   "outputs": [
    {
     "name": "stdout",
     "output_type": "stream",
     "text": [
      "1.15174799218\n"
     ]
    },
    {
     "data": {
      "image/png": "[encoded data removed]",
      "text/plain": [
       "<matplotlib.figure.Figure at 0x7fa83404c7d0>"
      ]
     },
     "metadata": {},
     "output_type": "display_data"
    }
   ],
   "source": [
    "m=19 #BPM name\n",
    "k=50 #shot number\n",
    "xdata = np.linspace(0,80,80)\n",
    "ydata = myDataFrame['PR_BPM.AcquisitionTrajectoryBBB.value.position'].apply(lambda x: 0.1*x[m,0:80]).values[k]\n",
    "plt.plot(xdata, ydata)\n",
    "plt.axhline(y=max(ydata),color='r')\n",
    "plt.axhline(y=min(ydata),color='r')\n",
    "print(signalRMS(ydata))\n",
    "\n",
    "ampl = []\n",
    "for k in range(len(myDataFrame)):\n",
    "    ydata = myDataFrame['PR_BPM.AcquisitionTrajectoryBBB.value.position'].apply(lambda x: 0.1*x[m,0:80]).values[k]\n",
    "    ampl.append(signalRMS(ydata))\n",
    "    \n",
    "myDataFrame['orbitRMS'] = ampl"
   ]
  },
  {
   "cell_type": "code",
   "execution_count": 13,
   "metadata": {},
   "outputs": [
    {
     "data": {
      "text/plain": [
       "230"
      ]
     },
     "execution_count": 13,
     "metadata": {},
     "output_type": "execute_result"
    }
   ],
   "source": [
    "len(myDataFrame['PI2_KFA45.AQN1.value'])"
   ]
  },
  {
   "cell_type": "code",
   "execution_count": 14,
   "metadata": {},
   "outputs": [
    {
     "data": {
      "text/plain": [
       "Text(0,0.5,u'RMS orbit (mm)')"
      ]
     },
     "execution_count": 14,
     "metadata": {},
     "output_type": "execute_result"
    },
    {
     "data": {
      "image/png": "[encoded data removed]",
      "text/plain": [
       "<matplotlib.figure.Figure at 0x7fa8ac0360d0>"
      ]
     },
     "metadata": {},
     "output_type": "display_data"
    }
   ],
   "source": [
    "plt.plot(myDataFrame['PI2_KFA45.AQN1.value'],myDataFrame['orbitRMS'],'*')\n",
    "plt.xlabel('KFA45 pulse voltage (kV)')\n",
    "plt.ylabel('RMS orbit (mm)')"
   ]
  },
  {
   "cell_type": "code",
   "execution_count": 15,
   "metadata": {},
   "outputs": [],
   "source": [
    "# averaging over the same voltages\n",
    "\n",
    "# find the measurement steps\n",
    "ks = []\n",
    "ks_idx = []\n",
    "for k in range(len(myDataFrame)):\n",
    "    if k == 0 :\n",
    "        prevk = myDataFrame['PI2_KFA45.CCV.value'].iloc[k]\n",
    "        ks.append(prevk)\n",
    "        ks_idx.append(k)\n",
    "        continue\n",
    "#     print(k)\n",
    "    \n",
    "    thisk = myDataFrame['PI2_KFA45.CCV.value'].iloc[k]\n",
    "    if (prevk-thisk) != 0:\n",
    "#         print(thisk)\n",
    "        ks.append(thisk)\n",
    "        ks_idx.append(k)\n",
    "    prevk = thisk"
   ]
  },
  {
   "cell_type": "code",
   "execution_count": 17,
   "metadata": {},
   "outputs": [],
   "source": [
    "ks_idx = [0, 11, 21, 31, 41, 51, 61, 71, 81, 91, 101, 111, 121, 131, 141, 151, 161, 171, 181, 191, 201]"
   ]
  },
  {
   "cell_type": "code",
   "execution_count": 18,
   "metadata": {},
   "outputs": [
    {
     "name": "stdout",
     "output_type": "stream",
     "text": [
      "2018-06-07 00:04:43.900    44.1\n",
      "2018-06-07 00:05:21.100    43.9\n",
      "2018-06-07 00:05:58.300    43.8\n",
      "2018-06-07 00:06:35.500    43.8\n",
      "2018-06-07 00:07:12.700    42.7\n",
      "2018-06-07 00:07:49.900    42.6\n",
      "2018-06-07 00:08:27.100    42.6\n",
      "2018-06-07 00:09:04.300    42.6\n",
      "2018-06-07 00:09:41.500    42.6\n",
      "2018-06-07 00:10:18.700    42.6\n",
      "2018-06-07 00:10:55.900    42.6\n",
      "Name: PI2_KFA45.AQN1.value, dtype: float64\n",
      "2018-06-07 00:11:33.100    57.2\n",
      "2018-06-07 00:12:10.300    57.0\n",
      "2018-06-07 00:12:47.500    57.0\n",
      "2018-06-07 00:13:24.700    57.1\n",
      "2018-06-07 00:14:01.900    57.0\n",
      "2018-06-07 00:14:39.100    57.1\n",
      "2018-06-07 00:15:16.300    57.0\n",
      "2018-06-07 00:15:53.500    57.0\n",
      "2018-06-07 00:16:30.700    57.0\n",
      "2018-06-07 00:17:07.900    57.0\n",
      "Name: PI2_KFA45.AQN1.value, dtype: float64\n",
      "2018-06-07 00:17:45.100    72.0\n",
      "2018-06-07 00:18:22.300    71.9\n",
      "2018-06-07 00:18:59.500    71.9\n",
      "2018-06-07 00:19:36.700    71.9\n",
      "2018-06-07 00:20:13.900    71.9\n",
      "2018-06-07 00:20:51.100    71.9\n",
      "2018-06-07 00:21:28.300    72.0\n",
      "2018-06-07 00:22:05.500    72.0\n",
      "2018-06-07 00:22:42.700    71.9\n",
      "2018-06-07 00:23:19.900    72.0\n",
      "Name: PI2_KFA45.AQN1.value, dtype: float64\n",
      "2018-06-07 00:23:57.100    107.9\n",
      "2018-06-07 00:24:34.300     93.7\n",
      "2018-06-07 00:25:11.500     86.7\n",
      "2018-06-07 00:25:48.700     86.6\n",
      "2018-06-07 00:26:25.900     86.5\n",
      "2018-06-07 00:27:03.100     86.5\n",
      "2018-06-07 00:27:40.300     86.5\n",
      "2018-06-07 00:28:17.500     86.5\n",
      "2018-06-07 00:28:54.700     86.6\n",
      "2018-06-07 00:29:31.900     86.5\n",
      "Name: PI2_KFA45.AQN1.value, dtype: float64\n",
      "2018-06-07 00:30:09.100    101.2\n",
      "2018-06-07 00:30:46.300    101.2\n",
      "2018-06-07 00:31:23.500    101.2\n",
      "2018-06-07 00:32:00.700    101.2\n",
      "2018-06-07 00:32:37.900    101.0\n",
      "2018-06-07 00:33:15.100    101.3\n",
      "2018-06-07 00:33:52.300    100.9\n",
      "2018-06-07 00:34:29.500    101.2\n",
      "2018-06-07 00:35:06.700    101.3\n",
      "2018-06-07 00:35:43.900    101.2\n",
      "Name: PI2_KFA45.AQN1.value, dtype: float64\n",
      "2018-06-07 00:36:21.100    115.9\n",
      "2018-06-07 00:36:58.300    115.8\n",
      "2018-06-07 00:37:35.500    115.7\n",
      "2018-06-07 00:38:12.700    115.8\n",
      "2018-06-07 00:38:49.900    115.7\n",
      "2018-06-07 00:39:27.100    115.8\n",
      "2018-06-07 00:40:05.500    115.8\n",
      "2018-06-07 00:40:31.900    115.8\n",
      "2018-06-07 00:40:58.300    115.8\n",
      "2018-06-07 00:41:24.700    115.7\n",
      "Name: PI2_KFA45.AQN1.value, dtype: float64\n",
      "2018-06-07 00:41:51.100    130.7\n",
      "2018-06-07 00:42:17.500    130.9\n",
      "2018-06-07 00:42:43.900    130.6\n",
      "2018-06-07 00:43:10.300    130.6\n",
      "2018-06-07 00:43:36.700    130.2\n",
      "2018-06-07 00:44:03.100    130.5\n",
      "2018-06-07 00:44:29.500    130.4\n",
      "2018-06-07 00:44:55.900    130.5\n",
      "2018-06-07 00:45:22.300    130.5\n",
      "2018-06-07 00:45:48.700    130.5\n",
      "Name: PI2_KFA45.AQN1.value, dtype: float64\n",
      "2018-06-07 00:46:15.100    145.0\n",
      "2018-06-07 00:46:41.500    145.5\n",
      "2018-06-07 00:47:07.900    145.6\n",
      "2018-06-07 00:47:34.300    145.4\n",
      "2018-06-07 00:48:00.700    145.3\n",
      "2018-06-07 00:48:27.100    145.4\n",
      "2018-06-07 00:48:53.500    145.4\n",
      "2018-06-07 00:49:19.900    145.5\n",
      "2018-06-07 00:49:46.300    145.5\n",
      "2018-06-07 00:50:12.700    145.4\n",
      "Name: PI2_KFA45.AQN1.value, dtype: float64\n",
      "2018-06-07 00:50:39.100    160.4\n",
      "2018-06-07 00:51:05.500    160.2\n",
      "2018-06-07 00:51:31.900    160.2\n",
      "2018-06-07 00:51:58.300    160.3\n",
      "2018-06-07 00:52:24.700    160.3\n",
      "2018-06-07 00:52:51.100    160.2\n",
      "2018-06-07 00:53:17.500    160.2\n",
      "2018-06-07 00:53:43.900    160.6\n",
      "2018-06-07 00:54:10.300    160.2\n",
      "2018-06-07 00:54:36.700    160.2\n",
      "Name: PI2_KFA45.AQN1.value, dtype: float64\n",
      "2018-06-07 00:55:03.100    173.4\n",
      "2018-06-07 00:55:29.500    172.8\n",
      "2018-06-07 00:55:55.900    173.0\n",
      "2018-06-07 00:56:22.300    172.9\n",
      "2018-06-07 00:56:48.700    173.0\n",
      "2018-06-07 00:57:15.100    172.8\n",
      "2018-06-07 00:57:41.500    172.8\n",
      "2018-06-07 00:58:07.900    172.8\n",
      "2018-06-07 00:58:34.300    172.8\n",
      "2018-06-07 00:59:00.700    173.0\n",
      "Name: PI2_KFA45.AQN1.value, dtype: float64\n",
      "2018-06-07 00:59:27.100    187.7\n",
      "2018-06-07 00:59:53.500    187.6\n",
      "2018-06-07 01:00:19.900    187.5\n",
      "2018-06-07 01:00:46.300    187.5\n",
      "2018-06-07 01:01:12.700    187.3\n",
      "2018-06-07 01:01:39.100    187.5\n",
      "2018-06-07 01:02:05.500    187.2\n",
      "2018-06-07 01:02:31.900    187.2\n",
      "2018-06-07 01:02:58.300    187.7\n",
      "2018-06-07 01:03:24.700    187.7\n",
      "Name: PI2_KFA45.AQN1.value, dtype: float64\n",
      "2018-06-07 01:03:51.100    202.3\n",
      "2018-06-07 01:04:17.500    202.0\n",
      "2018-06-07 01:04:43.900    202.2\n",
      "2018-06-07 01:05:10.300    202.6\n",
      "2018-06-07 01:05:36.700    202.3\n",
      "2018-06-07 01:06:03.100    202.2\n",
      "2018-06-07 01:06:29.500    202.0\n",
      "2018-06-07 01:06:55.900    202.2\n",
      "2018-06-07 01:07:22.300    202.0\n",
      "2018-06-07 01:07:48.700    202.4\n",
      "Name: PI2_KFA45.AQN1.value, dtype: float64\n",
      "2018-06-07 01:08:15.100    217.0\n",
      "2018-06-07 01:08:41.500    217.1\n",
      "2018-06-07 01:09:07.900    217.2\n",
      "2018-06-07 01:09:34.300    217.0\n",
      "2018-06-07 01:10:00.700    217.4\n",
      "2018-06-07 01:10:27.100    217.1\n",
      "2018-06-07 01:10:53.500    217.0\n",
      "2018-06-07 01:11:19.900    217.1\n",
      "2018-06-07 01:11:46.300    217.0\n",
      "2018-06-07 01:12:12.700    217.1\n",
      "Name: PI2_KFA45.AQN1.value, dtype: float64\n",
      "2018-06-07 01:12:39.100    231.6\n",
      "2018-06-07 01:13:05.500    231.8\n",
      "2018-06-07 01:13:31.900    231.6\n",
      "2018-06-07 01:13:58.300    231.6\n",
      "2018-06-07 01:14:24.700    231.6\n",
      "2018-06-07 01:14:51.100    231.6\n",
      "2018-06-07 01:15:17.500    232.0\n",
      "2018-06-07 01:15:43.900    231.8\n",
      "2018-06-07 01:16:10.300    231.6\n",
      "2018-06-07 01:16:36.700    231.8\n",
      "Name: PI2_KFA45.AQN1.value, dtype: float64\n",
      "2018-06-07 01:17:03.100    247.0\n",
      "2018-06-07 01:17:29.500    246.7\n",
      "2018-06-07 01:17:55.900    246.7\n",
      "2018-06-07 01:18:22.300    246.8\n",
      "2018-06-07 01:18:48.700    246.8\n",
      "2018-06-07 01:19:15.100    246.8\n",
      "2018-06-07 01:19:41.500    246.7\n",
      "2018-06-07 01:20:07.900    246.7\n",
      "2018-06-07 01:20:34.300    246.7\n",
      "2018-06-07 01:21:00.700    246.6\n",
      "Name: PI2_KFA45.AQN1.value, dtype: float64\n",
      "2018-06-07 01:21:27.100    260.7\n",
      "2018-06-07 01:21:53.500    260.4\n",
      "2018-06-07 01:22:19.900    260.3\n",
      "2018-06-07 01:22:46.300    260.2\n",
      "2018-06-07 01:23:12.700    260.2\n",
      "2018-06-07 01:23:39.100    260.3\n",
      "2018-06-07 01:24:05.500    260.2\n",
      "2018-06-07 01:24:31.900    260.2\n",
      "2018-06-07 01:24:58.300    260.2\n",
      "2018-06-07 01:25:24.700    260.2\n",
      "Name: PI2_KFA45.AQN1.value, dtype: float64\n",
      "2018-06-07 01:25:51.100    275.4\n",
      "2018-06-07 01:26:17.500    274.7\n",
      "2018-06-07 01:26:43.900    274.8\n",
      "2018-06-07 01:27:10.300    275.3\n",
      "2018-06-07 01:27:36.700    274.8\n",
      "2018-06-07 01:28:03.100    275.3\n",
      "2018-06-07 01:28:29.500    275.1\n",
      "2018-06-07 01:28:55.900    275.3\n",
      "2018-06-07 01:29:22.300    275.0\n",
      "2018-06-07 01:29:48.700    275.1\n",
      "Name: PI2_KFA45.AQN1.value, dtype: float64\n",
      "2018-06-07 01:30:15.100    289.9\n",
      "2018-06-07 01:30:41.500    289.7\n",
      "2018-06-07 01:31:07.900    289.8\n",
      "2018-06-07 01:31:34.300    289.8\n",
      "2018-06-07 01:32:00.700    290.0\n",
      "2018-06-07 01:32:27.100    289.9\n",
      "2018-06-07 01:32:53.500    289.8\n",
      "2018-06-07 01:33:19.900    290.0\n",
      "2018-06-07 01:33:46.300    290.0\n",
      "2018-06-07 01:34:12.700    289.8\n",
      "Name: PI2_KFA45.AQN1.value, dtype: float64\n",
      "2018-06-07 01:34:39.100    304.3\n",
      "2018-06-07 01:35:05.500    304.7\n",
      "2018-06-07 01:35:31.900    304.7\n",
      "2018-06-07 01:35:58.300    304.6\n",
      "2018-06-07 01:36:24.700    304.8\n",
      "2018-06-07 01:36:51.100    304.6\n",
      "2018-06-07 01:37:17.500    304.9\n",
      "2018-06-07 01:37:43.900    304.6\n",
      "2018-06-07 01:38:10.300    304.6\n",
      "2018-06-07 01:38:36.700    304.9\n",
      "Name: PI2_KFA45.AQN1.value, dtype: float64\n",
      "2018-06-07 01:39:03.100    319.2\n",
      "2018-06-07 01:39:29.500    320.0\n",
      "2018-06-07 01:39:55.900    319.5\n",
      "2018-06-07 01:40:22.300    319.4\n",
      "2018-06-07 01:40:48.700    319.4\n",
      "2018-06-07 01:41:15.100    319.6\n",
      "2018-06-07 01:41:41.500    319.5\n",
      "2018-06-07 01:42:07.900    319.6\n",
      "2018-06-07 01:42:34.300    319.8\n",
      "2018-06-07 01:43:00.700    319.8\n",
      "Name: PI2_KFA45.AQN1.value, dtype: float64\n",
      "2018-06-07 01:43:27.100    329.3\n",
      "2018-06-07 01:44:46.300    329.5\n",
      "2018-06-07 01:45:12.700    330.0\n",
      "2018-06-07 01:45:39.100    329.4\n",
      "2018-06-07 01:46:05.500    329.4\n",
      "2018-06-07 01:46:31.900    329.4\n",
      "2018-06-07 01:46:58.300    329.6\n",
      "2018-06-07 01:47:24.700    329.3\n",
      "2018-06-07 01:47:51.100    329.1\n",
      "2018-06-07 01:48:17.500    329.5\n",
      "2018-06-07 01:48:43.900    329.5\n",
      "2018-06-07 01:49:10.300    329.4\n",
      "2018-06-07 01:49:36.700    329.5\n",
      "2018-06-07 01:50:03.100    329.6\n",
      "2018-06-07 01:50:29.500    329.2\n",
      "2018-06-07 01:50:55.900    329.9\n",
      "2018-06-07 01:51:22.300    329.5\n",
      "2018-06-07 01:51:48.700    329.5\n",
      "2018-06-07 01:52:15.100    329.4\n",
      "2018-06-07 01:52:41.500    329.2\n",
      "2018-06-07 01:53:07.900    329.3\n",
      "2018-06-07 01:53:34.300    329.3\n",
      "2018-06-07 01:54:00.700    329.5\n",
      "2018-06-07 01:54:27.100    329.5\n",
      "2018-06-07 01:54:53.500    329.5\n",
      "2018-06-07 01:55:19.900    329.5\n",
      "2018-06-07 01:55:46.300    329.3\n",
      "2018-06-07 01:56:12.700    329.5\n",
      "2018-06-07 01:56:39.100    329.7\n",
      "Name: PI2_KFA45.AQN1.value, dtype: float64\n"
     ]
    }
   ],
   "source": [
    "# for checking ...\n",
    "for k in range(len(ks_idx)):\n",
    "    if k==len(ks_idx)-1:\n",
    "        print(myDataFrame['PI2_KFA45.AQN1.value'].iloc[ks_idx[k]:])\n",
    "    else:\n",
    "        print(myDataFrame['PI2_KFA45.AQN1.value'].iloc[ks_idx[k]:ks_idx[k+1]])"
   ]
  },
  {
   "cell_type": "code",
   "execution_count": 21,
   "metadata": {},
   "outputs": [],
   "source": [
    "k_values = np.array((myDataFrame['PI2_KFA45.CCV.value'].iloc[ks_idx]))\n",
    "\n",
    "RMSorbit_mean = np.empty(len(ks_idx),dtype=float)\n",
    "RMSorbit_std = np.empty(len(ks_idx),dtype=float)\n",
    "\n",
    "for k in range(len(ks_idx)):\n",
    "    if k==len(ks_idx)-1:\n",
    "        RMSorbit_mean[k] = np.mean(myDataFrame['orbitRMS'].iloc[ks_idx[k]:]) # the last tranche to close the array\n",
    "        RMSorbit_std[k] = np.std(myDataFrame['orbitRMS'].iloc[ks_idx[k]:]) # the last tranche to close the array\n",
    "    else:\n",
    "        RMSorbit_mean[k] = np.mean(myDataFrame['orbitRMS'].iloc[ks_idx[k]:ks_idx[k+1]]) \n",
    "        RMSorbit_std[k] = np.std(myDataFrame['orbitRMS'].iloc[ks_idx[k]:ks_idx[k+1]])\n"
   ]
  },
  {
   "cell_type": "code",
   "execution_count": 29,
   "metadata": {},
   "outputs": [
    {
     "data": {
      "image/png": "[encoded data removed]",
      "text/plain": [
       "<matplotlib.figure.Figure at 0x7fa80d5f6490>"
      ]
     },
     "metadata": {},
     "output_type": "display_data"
    }
   ],
   "source": [
    "fig, ax = plt.subplots(1,figsize=(8,6),dpi=100)\n",
    "\n",
    "ax.errorbar(k_values, RMSorbit_mean, yerr=RMSorbit_std, fmt='o',label='RMS orbit' )\n",
    "ax.set_xlabel('KFA45 pulse voltage (kV)')\n",
    "ax.set_ylabel('RMS orbit (mm)')\n",
    "\n",
    "plt.savefig('steps.eps',format='eps',dpi=100)"
   ]
  },
  {
   "cell_type": "code",
   "execution_count": null,
   "metadata": {},
   "outputs": [],
   "source": []
  }
 ],
 "metadata": {
  "kernelspec": {
   "display_name": "Python 2",
   "language": "python",
   "name": "python2"
  }
 },
 "nbformat": 4,
 "nbformat_minor": 2
}
