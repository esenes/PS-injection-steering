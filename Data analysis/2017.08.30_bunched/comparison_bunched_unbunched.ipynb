{
 "cells": [
  {
   "cell_type": "markdown",
   "metadata": {},
   "source": [
    "# Injection missteering: beam clone of operational BCMS (3bp) using single bunch with nominal skews settings\n",
    "\n",
    "- hopefully this time with BPM logging on\n"
   ]
  },
  {
   "cell_type": "code",
   "execution_count": 1,
   "metadata": {
    "scrolled": true
   },
   "outputs": [
    {
     "name": "stdout",
     "output_type": "stream",
     "text": [
      "Version 0.03. This is the latest version.\n",
      "Please help me to improve it reporting bugs to guido.sterbini@cern.ch.\n",
      "Your platform is Linux-3.10.0-693.11.6.el7.x86_64-x86_64-with-redhat-6.9-Carbon\n",
      "Your folder is /eos/user/e/esenes/Injection_missteering/2017.08.30_bunched\n",
      "Your IP is 172.17.0.18\n",
      "2018-03-08 15:13:59\n",
      "---\n",
      "Version 0.1\n",
      "Use at your own risk. Please report bugs to eugenio.senes@cern.ch\n",
      "Fork it at https://gitlab.cern.ch/esenes/PS-analysis-tools\n"
     ]
    }
   ],
   "source": [
    "%run /eos/project/m/mte/Toolbox/myToolbox.py\n",
    "print '---'\n",
    "%run /eos/user/e/esenes/PS-analysis-tools/eTools.py"
   ]
  },
  {
   "cell_type": "code",
   "execution_count": 2,
   "metadata": {
    "scrolled": true
   },
   "outputs": [
    {
     "name": "stdout",
     "output_type": "stream",
     "text": [
      "Found 120 data files\n",
      "First: /eos/project/l/liu/PS/data/2017/MD2586_InjectionEmittanceBlowup/2017.08.30_bcms_bunched_nominal_skews/data/2017.08.30.20.33.31.773.mat\n",
      "End: /eos/project/l/liu/PS/data/2017/MD2586_InjectionEmittanceBlowup/2017.08.30_bcms_bunched_nominal_skews/data/2017.08.30.21.55.57.969.mat\n"
     ]
    }
   ],
   "source": [
    "# let's start with the matlab data\n",
    "files = sorted(glob.glob('/eos/project/l/liu/PS/data/2017/MD2586_InjectionEmittanceBlowup/2017.08.30_bcms_bunched_nominal_skews/data/2017*.mat'))\n",
    "print 'Found ' + str(len(files)) + ' data files'\n",
    "print 'First: ' + files[0]\n",
    "print 'End: ' + files[-1]"
   ]
  },
  {
   "cell_type": "code",
   "execution_count": 3,
   "metadata": {
    "scrolled": true
   },
   "outputs": [
    {
     "name": "stdout",
     "output_type": "stream",
     "text": [
      "Found 120 data files\n",
      "First: /eos/project/l/liu/PS/data/2017/MD2586_InjectionEmittanceBlowup/2017.08.30_bcms_debunched_nominal_skews/data/2017.08.30.22.49.57.953.mat\n",
      "End: /eos/project/l/liu/PS/data/2017/MD2586_InjectionEmittanceBlowup/2017.08.30_bcms_debunched_nominal_skews/data/2017.08.31.00.06.17.148.mat\n"
     ]
    }
   ],
   "source": [
    "# let's start with the matlab data\n",
    "files_unbunched = sorted(glob.glob('/eos/project/l/liu/PS/data/2017/MD2586_InjectionEmittanceBlowup/2017.08.30_bcms_debunched_nominal_skews/data/2017*.mat'))\n",
    "print 'Found ' + str(len(files_unbunched)) + ' data files'\n",
    "print 'First: ' + files_unbunched[0]\n",
    "print 'End: ' + files_unbunched[-1]"
   ]
  },
  {
   "cell_type": "markdown",
   "metadata": {},
   "source": [
    "## Load the data"
   ]
  },
  {
   "cell_type": "code",
   "execution_count": 4,
   "metadata": {
    "collapsed": true
   },
   "outputs": [],
   "source": [
    "myDataFrame_bunched = myToolbox.fromMatlabToDataFrame(files,['PR_BWS_65_H_ROT.Acquisition.value.projDataSet1','PR_BWS_65_H_ROT.Acquisition.value.projPositionSet1',\n",
    "                                                     'PR_BWS_85_V_ROT.Acquisition.value.projDataSet1','PR_BWS_85_V_ROT.Acquisition.value.projPositionSet1',\n",
    "                                                         'logical_PI_KFA45.K.value',\n",
    "                                                     'PR_BPM.AcquisitionOrbit.value.position',\n",
    "                                                    'PR_BPM.AcquisitionTrajectoryBBB.value.position',\n",
    "                                                    'PR_BCT_ST.Samples.value.samples','PI_KFA45.AQN1.value',\n",
    "                                                    'PI_KFA45.CCV.value'],verbose=False)"
   ]
  },
  {
   "cell_type": "code",
   "execution_count": 5,
   "metadata": {
    "collapsed": true
   },
   "outputs": [],
   "source": [
    "myDataFrame_unbunched = myToolbox.fromMatlabToDataFrame(files_unbunched,['PR_BWS_65_H_ROT.Acquisition.value.projDataSet1','PR_BWS_65_H_ROT.Acquisition.value.projPositionSet1',\n",
    "                                                     'PR_BWS_85_V_ROT.Acquisition.value.projDataSet1','PR_BWS_85_V_ROT.Acquisition.value.projPositionSet1',\n",
    "                                                         'logical_PI_KFA45.K.value',\n",
    "                                                     'PR_BPM.AcquisitionOrbit.value.position',\n",
    "                                                    'PR_BPM.AcquisitionTrajectoryBBB.value.position',\n",
    "                                                    'PR_BCT_ST.Samples.value.samples','PI_KFA45.AQN1.value',\n",
    "                                                    'PI_KFA45.CCV.value'],verbose=False)"
   ]
  },
  {
   "cell_type": "code",
   "execution_count": 6,
   "metadata": {
    "collapsed": true
   },
   "outputs": [],
   "source": [
    "shiftVal=1\n",
    "# plt.plot(myDataFrame['logical_PI_KFA45.K.value'].shift(shiftVal),myDataFrame['PI_KFA45.AQN1.value'],'*')"
   ]
  },
  {
   "cell_type": "markdown",
   "metadata": {},
   "source": [
    "# Tomogram\n",
    "## Bunched case"
   ]
  },
  {
   "cell_type": "code",
   "execution_count": 7,
   "metadata": {
    "collapsed": true
   },
   "outputs": [],
   "source": [
    "# directly copied from one of Guido's analyses\n",
    "def extractProfile(fileName):\n",
    "    '''Give me the input file (.dat) of the tomogram and I will give you 2 output:\n",
    "        the deltaP_P and the the momentum distribution profile.\n",
    "    ''' \n",
    "\n",
    "    print('/eos/project/l/liu/Instrumentation/tomography/runofflinetomo ' + fileName)\n",
    "    a=os.system('/eos/project/l/liu/Instrumentation/tomography/runofflinetomo ' + fileName)\n",
    "    \n",
    "    convergence=np.loadtxt(fileName[0:-4] + '/d001.data')\n",
    "    image=np.loadtxt(fileName[0:-4] + '/image001.data')\n",
    "    with open(fileName[0:-4] + '/input_v2.dat','r') as stream: tomofileheader = stream.readlines()[:98]\n",
    "\n",
    "    myInput={'PLSUSER': tomofileheader[0][0:-1],\n",
    "            'NumberOfframes': np.int(tomofileheader[16][0:-1]),\n",
    "            'B_T': np.double(tomofileheader[75][0:-1]),\n",
    "            'Bdot_T_per_s': np.double(tomofileheader[77][0:-1]),\n",
    "            'machineRadius_m': np.double(tomofileheader[79][0:-1]),\n",
    "            'bendingRadius_m': np.double(tomofileheader[81][0:-1]),\n",
    "            'particleMass_eV': np.double(tomofileheader[85][0:-1]),\n",
    "            'h': np.int(np.double(tomofileheader[69][0:-1])),\n",
    "            'ctime': np.int(tomofileheader[2]),\n",
    "            'cycleStamp':np.int(tomofileheader[1]),                    # cyclestamp in unix time\n",
    "            'pickupSensitivity':np.double(tomofileheader[97])          # pickup sensitivity\n",
    "    }\n",
    "\n",
    "    with open(fileName[0:-4] + '/plotinfo.data','r') as stream: tomofileheader = stream.readlines()\n",
    "\n",
    "    myInput['profilecount']=np.int(str.split(tomofileheader[1])[2])\n",
    "    myInput['profilelength']=np.int(str.split(tomofileheader[3])[2])\n",
    "\n",
    "    myInput['dtbin']=np.double(str.split(tomofileheader[5])[2])\n",
    "    myInput['dEbin']=np.double(str.split(tomofileheader[7])[2])\n",
    "    myInput['xat0']=np.double(str.split(tomofileheader[11])[2])\n",
    "    myInput['yat0']=np.double(str.split(tomofileheader[12])[2])\n",
    "    myInput['eperimage']=np.double(str.split(tomofileheader[9])[2])\n",
    "\n",
    "    mySpeedOfLight=299792458. #TODO\n",
    "    myInput['momentum_eV']=myInput['B_T']*myInput['bendingRadius_m']/(10/mySpeedOfLight*1e8)*1.e9 #TODO\n",
    "    myInput['totalEnergy_eV']=np.sqrt(myInput['momentum_eV']**2+myInput['particleMass_eV']**2)\n",
    "    myInput['gamma']=myInput['totalEnergy_eV']/myInput['particleMass_eV']\n",
    "    myInput['beta']=np.sqrt(1-1/myInput['gamma']**2)\n",
    "\n",
    "    image=image*myInput['eperimage']/myInput['dtbin']/myInput['dEbin']\n",
    "\n",
    "    halfProfileLength=myInput['profilelength']/2.\n",
    "\n",
    "    Toffset= (myInput['xat0']-halfProfileLength)*myInput['dtbin']*1e9\n",
    "    Eoffset= (myInput['yat0']-halfProfileLength)*myInput['dEbin']/1e6\n",
    "\n",
    "    t=np.arange(-halfProfileLength,halfProfileLength)*myInput['dtbin']*1e9-Toffset\n",
    "    E=np.arange(-halfProfileLength,halfProfileLength)*myInput['dEbin']/1e6-Eoffset\n",
    "\n",
    "\n",
    "    deltaP_P= 1/myInput['beta']**2*E*1e6/myInput['totalEnergy_eV']\n",
    "    myProfile=np.sum(np.reshape(image, [myInput['profilelength'], myInput['profilelength']]),0)\n",
    "    myProfile=myProfile/np.trapz(myProfile,deltaP_P)\n",
    "    myInput['deltaP_P']=deltaP_P;\n",
    "    myInput['myProfile']=myProfile;\n",
    "    myInput['E_MeV']=E\n",
    "    myInput['t_ns']=t\n",
    "    myInput['phaseSpace_e_per_eVs']=np.reshape(image, [myInput['profilelength'], myInput['profilelength']]);\n",
    "    myProfileNormalized=myProfile/np.trapz(myProfile,deltaP_P)\n",
    "    myMean=np.trapz(deltaP_P*myProfileNormalized,deltaP_P)\n",
    "    myRMS=np.sqrt(np.trapz((deltaP_P-myMean)**2*myProfileNormalized,deltaP_P))\n",
    "    myInput['deltaP_P_RMS']=myRMS\n",
    "    return myInput"
   ]
  },
  {
   "cell_type": "code",
   "execution_count": 9,
   "metadata": {
    "scrolled": true
   },
   "outputs": [
    {
     "name": "stdout",
     "output_type": "stream",
     "text": [
      "/eos/project/l/liu/Instrumentation/tomography/runofflinetomo /eos/project/l/liu/PS/data/2017/MD2586_InjectionEmittanceBlowup/2017.08.30_bcms_bunched_nominal_skews/tomo_data/autosave_500.dat\n",
      "/eos/project/l/liu/Instrumentation/tomography/runofflinetomo /eos/project/l/liu/PS/data/2017/MD2586_InjectionEmittanceBlowup/2017.08.30_bcms_bunched_nominal_skews/tomo_data/autosave_501.dat\n",
      "/eos/project/l/liu/Instrumentation/tomography/runofflinetomo /eos/project/l/liu/PS/data/2017/MD2586_InjectionEmittanceBlowup/2017.08.30_bcms_bunched_nominal_skews/tomo_data/autosave_502.dat\n",
      "/eos/project/l/liu/Instrumentation/tomography/runofflinetomo /eos/project/l/liu/PS/data/2017/MD2586_InjectionEmittanceBlowup/2017.08.30_bcms_bunched_nominal_skews/tomo_data/autosave_503.dat\n",
      "/eos/project/l/liu/Instrumentation/tomography/runofflinetomo /eos/project/l/liu/PS/data/2017/MD2586_InjectionEmittanceBlowup/2017.08.30_bcms_bunched_nominal_skews/tomo_data/autosave_504.dat\n",
      "/eos/project/l/liu/Instrumentation/tomography/runofflinetomo /eos/project/l/liu/PS/data/2017/MD2586_InjectionEmittanceBlowup/2017.08.30_bcms_bunched_nominal_skews/tomo_data/autosave_505.dat\n",
      "/eos/project/l/liu/Instrumentation/tomography/runofflinetomo /eos/project/l/liu/PS/data/2017/MD2586_InjectionEmittanceBlowup/2017.08.30_bcms_bunched_nominal_skews/tomo_data/autosave_506.dat\n",
      "/eos/project/l/liu/Instrumentation/tomography/runofflinetomo /eos/project/l/liu/PS/data/2017/MD2586_InjectionEmittanceBlowup/2017.08.30_bcms_bunched_nominal_skews/tomo_data/autosave_507.dat\n",
      "/eos/project/l/liu/Instrumentation/tomography/runofflinetomo /eos/project/l/liu/PS/data/2017/MD2586_InjectionEmittanceBlowup/2017.08.30_bcms_bunched_nominal_skews/tomo_data/autosave_508.dat\n",
      "/eos/project/l/liu/Instrumentation/tomography/runofflinetomo /eos/project/l/liu/PS/data/2017/MD2586_InjectionEmittanceBlowup/2017.08.30_bcms_bunched_nominal_skews/tomo_data/autosave_509.dat\n",
      "/eos/project/l/liu/Instrumentation/tomography/runofflinetomo /eos/project/l/liu/PS/data/2017/MD2586_InjectionEmittanceBlowup/2017.08.30_bcms_bunched_nominal_skews/tomo_data/autosave_510.dat\n",
      "/eos/project/l/liu/Instrumentation/tomography/runofflinetomo /eos/project/l/liu/PS/data/2017/MD2586_InjectionEmittanceBlowup/2017.08.30_bcms_bunched_nominal_skews/tomo_data/autosave_511.dat\n",
      "/eos/project/l/liu/Instrumentation/tomography/runofflinetomo /eos/project/l/liu/PS/data/2017/MD2586_InjectionEmittanceBlowup/2017.08.30_bcms_bunched_nominal_skews/tomo_data/autosave_512.dat\n",
      "/eos/project/l/liu/Instrumentation/tomography/runofflinetomo /eos/project/l/liu/PS/data/2017/MD2586_InjectionEmittanceBlowup/2017.08.30_bcms_bunched_nominal_skews/tomo_data/autosave_513.dat\n"
     ]
    },
    {
     "name": "stderr",
     "output_type": "stream",
     "text": [
      "/cvmfs/sft.cern.ch/lcg/views/LCG_93/x86_64-slc6-gcc62-opt/lib/python2.7/site-packages/ipykernel/__main__.py:10: UserWarning: loadtxt: Empty input file: \"/eos/project/l/liu/PS/data/2017/MD2586_InjectionEmittanceBlowup/2017.08.30_bcms_bunched_nominal_skews/tomo_data/autosave_513/d001.data\"\n"
     ]
    },
    {
     "name": "stdout",
     "output_type": "stream",
     "text": [
      "\n",
      "IOError\n",
      "\n",
      "/eos/project/l/liu/Instrumentation/tomography/runofflinetomo /eos/project/l/liu/PS/data/2017/MD2586_InjectionEmittanceBlowup/2017.08.30_bcms_bunched_nominal_skews/tomo_data/autosave_514.dat\n",
      "/eos/project/l/liu/Instrumentation/tomography/runofflinetomo /eos/project/l/liu/PS/data/2017/MD2586_InjectionEmittanceBlowup/2017.08.30_bcms_bunched_nominal_skews/tomo_data/autosave_515.dat\n",
      "/eos/project/l/liu/Instrumentation/tomography/runofflinetomo /eos/project/l/liu/PS/data/2017/MD2586_InjectionEmittanceBlowup/2017.08.30_bcms_bunched_nominal_skews/tomo_data/autosave_516.dat\n",
      "/eos/project/l/liu/Instrumentation/tomography/runofflinetomo /eos/project/l/liu/PS/data/2017/MD2586_InjectionEmittanceBlowup/2017.08.30_bcms_bunched_nominal_skews/tomo_data/autosave_517.dat\n",
      "/eos/project/l/liu/Instrumentation/tomography/runofflinetomo /eos/project/l/liu/PS/data/2017/MD2586_InjectionEmittanceBlowup/2017.08.30_bcms_bunched_nominal_skews/tomo_data/autosave_518.dat\n",
      "/eos/project/l/liu/Instrumentation/tomography/runofflinetomo /eos/project/l/liu/PS/data/2017/MD2586_InjectionEmittanceBlowup/2017.08.30_bcms_bunched_nominal_skews/tomo_data/autosave_519.dat\n",
      "/eos/project/l/liu/Instrumentation/tomography/runofflinetomo /eos/project/l/liu/PS/data/2017/MD2586_InjectionEmittanceBlowup/2017.08.30_bcms_bunched_nominal_skews/tomo_data/autosave_520.dat\n",
      "/eos/project/l/liu/Instrumentation/tomography/runofflinetomo /eos/project/l/liu/PS/data/2017/MD2586_InjectionEmittanceBlowup/2017.08.30_bcms_bunched_nominal_skews/tomo_data/autosave_521.dat\n",
      "/eos/project/l/liu/Instrumentation/tomography/runofflinetomo /eos/project/l/liu/PS/data/2017/MD2586_InjectionEmittanceBlowup/2017.08.30_bcms_bunched_nominal_skews/tomo_data/autosave_522.dat\n",
      "/eos/project/l/liu/Instrumentation/tomography/runofflinetomo /eos/project/l/liu/PS/data/2017/MD2586_InjectionEmittanceBlowup/2017.08.30_bcms_bunched_nominal_skews/tomo_data/autosave_523.dat\n",
      "/eos/project/l/liu/Instrumentation/tomography/runofflinetomo /eos/project/l/liu/PS/data/2017/MD2586_InjectionEmittanceBlowup/2017.08.30_bcms_bunched_nominal_skews/tomo_data/autosave_524.dat\n",
      "/eos/project/l/liu/Instrumentation/tomography/runofflinetomo /eos/project/l/liu/PS/data/2017/MD2586_InjectionEmittanceBlowup/2017.08.30_bcms_bunched_nominal_skews/tomo_data/autosave_525.dat\n",
      "/eos/project/l/liu/Instrumentation/tomography/runofflinetomo /eos/project/l/liu/PS/data/2017/MD2586_InjectionEmittanceBlowup/2017.08.30_bcms_bunched_nominal_skews/tomo_data/autosave_526.dat\n",
      "/eos/project/l/liu/Instrumentation/tomography/runofflinetomo /eos/project/l/liu/PS/data/2017/MD2586_InjectionEmittanceBlowup/2017.08.30_bcms_bunched_nominal_skews/tomo_data/autosave_527.dat\n",
      "/eos/project/l/liu/Instrumentation/tomography/runofflinetomo /eos/project/l/liu/PS/data/2017/MD2586_InjectionEmittanceBlowup/2017.08.30_bcms_bunched_nominal_skews/tomo_data/autosave_528.dat\n",
      "/eos/project/l/liu/Instrumentation/tomography/runofflinetomo /eos/project/l/liu/PS/data/2017/MD2586_InjectionEmittanceBlowup/2017.08.30_bcms_bunched_nominal_skews/tomo_data/autosave_529.dat\n",
      "/eos/project/l/liu/Instrumentation/tomography/runofflinetomo /eos/project/l/liu/PS/data/2017/MD2586_InjectionEmittanceBlowup/2017.08.30_bcms_bunched_nominal_skews/tomo_data/autosave_530.dat\n",
      "/eos/project/l/liu/Instrumentation/tomography/runofflinetomo /eos/project/l/liu/PS/data/2017/MD2586_InjectionEmittanceBlowup/2017.08.30_bcms_bunched_nominal_skews/tomo_data/autosave_531.dat\n",
      "/eos/project/l/liu/Instrumentation/tomography/runofflinetomo /eos/project/l/liu/PS/data/2017/MD2586_InjectionEmittanceBlowup/2017.08.30_bcms_bunched_nominal_skews/tomo_data/autosave_532.dat\n",
      "/eos/project/l/liu/Instrumentation/tomography/runofflinetomo /eos/project/l/liu/PS/data/2017/MD2586_InjectionEmittanceBlowup/2017.08.30_bcms_bunched_nominal_skews/tomo_data/autosave_533.dat\n",
      "/eos/project/l/liu/Instrumentation/tomography/runofflinetomo /eos/project/l/liu/PS/data/2017/MD2586_InjectionEmittanceBlowup/2017.08.30_bcms_bunched_nominal_skews/tomo_data/autosave_534.dat\n",
      "/eos/project/l/liu/Instrumentation/tomography/runofflinetomo /eos/project/l/liu/PS/data/2017/MD2586_InjectionEmittanceBlowup/2017.08.30_bcms_bunched_nominal_skews/tomo_data/autosave_535.dat\n",
      "/eos/project/l/liu/Instrumentation/tomography/runofflinetomo /eos/project/l/liu/PS/data/2017/MD2586_InjectionEmittanceBlowup/2017.08.30_bcms_bunched_nominal_skews/tomo_data/autosave_536.dat\n",
      "/eos/project/l/liu/Instrumentation/tomography/runofflinetomo /eos/project/l/liu/PS/data/2017/MD2586_InjectionEmittanceBlowup/2017.08.30_bcms_bunched_nominal_skews/tomo_data/autosave_537.dat\n",
      "/eos/project/l/liu/Instrumentation/tomography/runofflinetomo /eos/project/l/liu/PS/data/2017/MD2586_InjectionEmittanceBlowup/2017.08.30_bcms_bunched_nominal_skews/tomo_data/autosave_538.dat\n",
      "/eos/project/l/liu/Instrumentation/tomography/runofflinetomo /eos/project/l/liu/PS/data/2017/MD2586_InjectionEmittanceBlowup/2017.08.30_bcms_bunched_nominal_skews/tomo_data/autosave_539.dat\n",
      "/eos/project/l/liu/Instrumentation/tomography/runofflinetomo /eos/project/l/liu/PS/data/2017/MD2586_InjectionEmittanceBlowup/2017.08.30_bcms_bunched_nominal_skews/tomo_data/autosave_540.dat\n",
      "/eos/project/l/liu/Instrumentation/tomography/runofflinetomo /eos/project/l/liu/PS/data/2017/MD2586_InjectionEmittanceBlowup/2017.08.30_bcms_bunched_nominal_skews/tomo_data/autosave_541.dat\n",
      "/eos/project/l/liu/Instrumentation/tomography/runofflinetomo /eos/project/l/liu/PS/data/2017/MD2586_InjectionEmittanceBlowup/2017.08.30_bcms_bunched_nominal_skews/tomo_data/autosave_542.dat\n",
      "/eos/project/l/liu/Instrumentation/tomography/runofflinetomo /eos/project/l/liu/PS/data/2017/MD2586_InjectionEmittanceBlowup/2017.08.30_bcms_bunched_nominal_skews/tomo_data/autosave_543.dat\n",
      "/eos/project/l/liu/Instrumentation/tomography/runofflinetomo /eos/project/l/liu/PS/data/2017/MD2586_InjectionEmittanceBlowup/2017.08.30_bcms_bunched_nominal_skews/tomo_data/autosave_544.dat\n",
      "/eos/project/l/liu/Instrumentation/tomography/runofflinetomo /eos/project/l/liu/PS/data/2017/MD2586_InjectionEmittanceBlowup/2017.08.30_bcms_bunched_nominal_skews/tomo_data/autosave_545.dat\n",
      "/eos/project/l/liu/Instrumentation/tomography/runofflinetomo /eos/project/l/liu/PS/data/2017/MD2586_InjectionEmittanceBlowup/2017.08.30_bcms_bunched_nominal_skews/tomo_data/autosave_546.dat\n",
      "/eos/project/l/liu/Instrumentation/tomography/runofflinetomo /eos/project/l/liu/PS/data/2017/MD2586_InjectionEmittanceBlowup/2017.08.30_bcms_bunched_nominal_skews/tomo_data/autosave_547.dat\n",
      "/eos/project/l/liu/Instrumentation/tomography/runofflinetomo /eos/project/l/liu/PS/data/2017/MD2586_InjectionEmittanceBlowup/2017.08.30_bcms_bunched_nominal_skews/tomo_data/autosave_548.dat\n",
      "/eos/project/l/liu/Instrumentation/tomography/runofflinetomo /eos/project/l/liu/PS/data/2017/MD2586_InjectionEmittanceBlowup/2017.08.30_bcms_bunched_nominal_skews/tomo_data/autosave_549.dat\n",
      "/eos/project/l/liu/Instrumentation/tomography/runofflinetomo /eos/project/l/liu/PS/data/2017/MD2586_InjectionEmittanceBlowup/2017.08.30_bcms_bunched_nominal_skews/tomo_data/autosave_550.dat\n",
      "/eos/project/l/liu/Instrumentation/tomography/runofflinetomo /eos/project/l/liu/PS/data/2017/MD2586_InjectionEmittanceBlowup/2017.08.30_bcms_bunched_nominal_skews/tomo_data/autosave_551.dat\n",
      "/eos/project/l/liu/Instrumentation/tomography/runofflinetomo /eos/project/l/liu/PS/data/2017/MD2586_InjectionEmittanceBlowup/2017.08.30_bcms_bunched_nominal_skews/tomo_data/autosave_552.dat\n",
      "/eos/project/l/liu/Instrumentation/tomography/runofflinetomo /eos/project/l/liu/PS/data/2017/MD2586_InjectionEmittanceBlowup/2017.08.30_bcms_bunched_nominal_skews/tomo_data/autosave_553.dat\n",
      "/eos/project/l/liu/Instrumentation/tomography/runofflinetomo /eos/project/l/liu/PS/data/2017/MD2586_InjectionEmittanceBlowup/2017.08.30_bcms_bunched_nominal_skews/tomo_data/autosave_554.dat\n",
      "/eos/project/l/liu/Instrumentation/tomography/runofflinetomo /eos/project/l/liu/PS/data/2017/MD2586_InjectionEmittanceBlowup/2017.08.30_bcms_bunched_nominal_skews/tomo_data/autosave_555.dat\n",
      "/eos/project/l/liu/Instrumentation/tomography/runofflinetomo /eos/project/l/liu/PS/data/2017/MD2586_InjectionEmittanceBlowup/2017.08.30_bcms_bunched_nominal_skews/tomo_data/autosave_556.dat\n",
      "/eos/project/l/liu/Instrumentation/tomography/runofflinetomo /eos/project/l/liu/PS/data/2017/MD2586_InjectionEmittanceBlowup/2017.08.30_bcms_bunched_nominal_skews/tomo_data/autosave_557.dat\n"
     ]
    },
    {
     "name": "stdout",
     "output_type": "stream",
     "text": [
      "/eos/project/l/liu/Instrumentation/tomography/runofflinetomo /eos/project/l/liu/PS/data/2017/MD2586_InjectionEmittanceBlowup/2017.08.30_bcms_bunched_nominal_skews/tomo_data/autosave_558.dat\n",
      "/eos/project/l/liu/Instrumentation/tomography/runofflinetomo /eos/project/l/liu/PS/data/2017/MD2586_InjectionEmittanceBlowup/2017.08.30_bcms_bunched_nominal_skews/tomo_data/autosave_559.dat\n",
      "/eos/project/l/liu/Instrumentation/tomography/runofflinetomo /eos/project/l/liu/PS/data/2017/MD2586_InjectionEmittanceBlowup/2017.08.30_bcms_bunched_nominal_skews/tomo_data/autosave_560.dat\n",
      "/eos/project/l/liu/Instrumentation/tomography/runofflinetomo /eos/project/l/liu/PS/data/2017/MD2586_InjectionEmittanceBlowup/2017.08.30_bcms_bunched_nominal_skews/tomo_data/autosave_561.dat\n",
      "/eos/project/l/liu/Instrumentation/tomography/runofflinetomo /eos/project/l/liu/PS/data/2017/MD2586_InjectionEmittanceBlowup/2017.08.30_bcms_bunched_nominal_skews/tomo_data/autosave_562.dat\n",
      "/eos/project/l/liu/Instrumentation/tomography/runofflinetomo /eos/project/l/liu/PS/data/2017/MD2586_InjectionEmittanceBlowup/2017.08.30_bcms_bunched_nominal_skews/tomo_data/autosave_563.dat\n",
      "/eos/project/l/liu/Instrumentation/tomography/runofflinetomo /eos/project/l/liu/PS/data/2017/MD2586_InjectionEmittanceBlowup/2017.08.30_bcms_bunched_nominal_skews/tomo_data/autosave_564.dat\n",
      "/eos/project/l/liu/Instrumentation/tomography/runofflinetomo /eos/project/l/liu/PS/data/2017/MD2586_InjectionEmittanceBlowup/2017.08.30_bcms_bunched_nominal_skews/tomo_data/autosave_565.dat\n",
      "/eos/project/l/liu/Instrumentation/tomography/runofflinetomo /eos/project/l/liu/PS/data/2017/MD2586_InjectionEmittanceBlowup/2017.08.30_bcms_bunched_nominal_skews/tomo_data/autosave_566.dat\n",
      "/eos/project/l/liu/Instrumentation/tomography/runofflinetomo /eos/project/l/liu/PS/data/2017/MD2586_InjectionEmittanceBlowup/2017.08.30_bcms_bunched_nominal_skews/tomo_data/autosave_567.dat\n",
      "/eos/project/l/liu/Instrumentation/tomography/runofflinetomo /eos/project/l/liu/PS/data/2017/MD2586_InjectionEmittanceBlowup/2017.08.30_bcms_bunched_nominal_skews/tomo_data/autosave_568.dat\n",
      "/eos/project/l/liu/Instrumentation/tomography/runofflinetomo /eos/project/l/liu/PS/data/2017/MD2586_InjectionEmittanceBlowup/2017.08.30_bcms_bunched_nominal_skews/tomo_data/autosave_569.dat\n",
      "/eos/project/l/liu/Instrumentation/tomography/runofflinetomo /eos/project/l/liu/PS/data/2017/MD2586_InjectionEmittanceBlowup/2017.08.30_bcms_bunched_nominal_skews/tomo_data/autosave_570.dat\n",
      "/eos/project/l/liu/Instrumentation/tomography/runofflinetomo /eos/project/l/liu/PS/data/2017/MD2586_InjectionEmittanceBlowup/2017.08.30_bcms_bunched_nominal_skews/tomo_data/autosave_571.dat\n",
      "/eos/project/l/liu/Instrumentation/tomography/runofflinetomo /eos/project/l/liu/PS/data/2017/MD2586_InjectionEmittanceBlowup/2017.08.30_bcms_bunched_nominal_skews/tomo_data/autosave_572.dat\n",
      "/eos/project/l/liu/Instrumentation/tomography/runofflinetomo /eos/project/l/liu/PS/data/2017/MD2586_InjectionEmittanceBlowup/2017.08.30_bcms_bunched_nominal_skews/tomo_data/autosave_573.dat\n",
      "/eos/project/l/liu/Instrumentation/tomography/runofflinetomo /eos/project/l/liu/PS/data/2017/MD2586_InjectionEmittanceBlowup/2017.08.30_bcms_bunched_nominal_skews/tomo_data/autosave_574.dat\n",
      "/eos/project/l/liu/Instrumentation/tomography/runofflinetomo /eos/project/l/liu/PS/data/2017/MD2586_InjectionEmittanceBlowup/2017.08.30_bcms_bunched_nominal_skews/tomo_data/autosave_575.dat\n",
      "/eos/project/l/liu/Instrumentation/tomography/runofflinetomo /eos/project/l/liu/PS/data/2017/MD2586_InjectionEmittanceBlowup/2017.08.30_bcms_bunched_nominal_skews/tomo_data/autosave_576.dat\n",
      "/eos/project/l/liu/Instrumentation/tomography/runofflinetomo /eos/project/l/liu/PS/data/2017/MD2586_InjectionEmittanceBlowup/2017.08.30_bcms_bunched_nominal_skews/tomo_data/autosave_577.dat\n",
      "/eos/project/l/liu/Instrumentation/tomography/runofflinetomo /eos/project/l/liu/PS/data/2017/MD2586_InjectionEmittanceBlowup/2017.08.30_bcms_bunched_nominal_skews/tomo_data/autosave_578.dat\n",
      "/eos/project/l/liu/Instrumentation/tomography/runofflinetomo /eos/project/l/liu/PS/data/2017/MD2586_InjectionEmittanceBlowup/2017.08.30_bcms_bunched_nominal_skews/tomo_data/autosave_579.dat\n",
      "/eos/project/l/liu/Instrumentation/tomography/runofflinetomo /eos/project/l/liu/PS/data/2017/MD2586_InjectionEmittanceBlowup/2017.08.30_bcms_bunched_nominal_skews/tomo_data/autosave_580.dat\n",
      "/eos/project/l/liu/Instrumentation/tomography/runofflinetomo /eos/project/l/liu/PS/data/2017/MD2586_InjectionEmittanceBlowup/2017.08.30_bcms_bunched_nominal_skews/tomo_data/autosave_581.dat\n",
      "/eos/project/l/liu/Instrumentation/tomography/runofflinetomo /eos/project/l/liu/PS/data/2017/MD2586_InjectionEmittanceBlowup/2017.08.30_bcms_bunched_nominal_skews/tomo_data/autosave_582.dat\n",
      "/eos/project/l/liu/Instrumentation/tomography/runofflinetomo /eos/project/l/liu/PS/data/2017/MD2586_InjectionEmittanceBlowup/2017.08.30_bcms_bunched_nominal_skews/tomo_data/autosave_583.dat\n",
      "/eos/project/l/liu/Instrumentation/tomography/runofflinetomo /eos/project/l/liu/PS/data/2017/MD2586_InjectionEmittanceBlowup/2017.08.30_bcms_bunched_nominal_skews/tomo_data/autosave_584.dat\n",
      "/eos/project/l/liu/Instrumentation/tomography/runofflinetomo /eos/project/l/liu/PS/data/2017/MD2586_InjectionEmittanceBlowup/2017.08.30_bcms_bunched_nominal_skews/tomo_data/autosave_585.dat\n",
      "/eos/project/l/liu/Instrumentation/tomography/runofflinetomo /eos/project/l/liu/PS/data/2017/MD2586_InjectionEmittanceBlowup/2017.08.30_bcms_bunched_nominal_skews/tomo_data/autosave_586.dat\n",
      "/eos/project/l/liu/Instrumentation/tomography/runofflinetomo /eos/project/l/liu/PS/data/2017/MD2586_InjectionEmittanceBlowup/2017.08.30_bcms_bunched_nominal_skews/tomo_data/autosave_587.dat\n",
      "/eos/project/l/liu/Instrumentation/tomography/runofflinetomo /eos/project/l/liu/PS/data/2017/MD2586_InjectionEmittanceBlowup/2017.08.30_bcms_bunched_nominal_skews/tomo_data/autosave_588.dat\n",
      "/eos/project/l/liu/Instrumentation/tomography/runofflinetomo /eos/project/l/liu/PS/data/2017/MD2586_InjectionEmittanceBlowup/2017.08.30_bcms_bunched_nominal_skews/tomo_data/autosave_589.dat\n",
      "/eos/project/l/liu/Instrumentation/tomography/runofflinetomo /eos/project/l/liu/PS/data/2017/MD2586_InjectionEmittanceBlowup/2017.08.30_bcms_bunched_nominal_skews/tomo_data/autosave_590.dat\n",
      "/eos/project/l/liu/Instrumentation/tomography/runofflinetomo /eos/project/l/liu/PS/data/2017/MD2586_InjectionEmittanceBlowup/2017.08.30_bcms_bunched_nominal_skews/tomo_data/autosave_591.dat\n",
      "/eos/project/l/liu/Instrumentation/tomography/runofflinetomo /eos/project/l/liu/PS/data/2017/MD2586_InjectionEmittanceBlowup/2017.08.30_bcms_bunched_nominal_skews/tomo_data/autosave_592.dat\n",
      "/eos/project/l/liu/Instrumentation/tomography/runofflinetomo /eos/project/l/liu/PS/data/2017/MD2586_InjectionEmittanceBlowup/2017.08.30_bcms_bunched_nominal_skews/tomo_data/autosave_593.dat\n",
      "/eos/project/l/liu/Instrumentation/tomography/runofflinetomo /eos/project/l/liu/PS/data/2017/MD2586_InjectionEmittanceBlowup/2017.08.30_bcms_bunched_nominal_skews/tomo_data/autosave_594.dat\n",
      "/eos/project/l/liu/Instrumentation/tomography/runofflinetomo /eos/project/l/liu/PS/data/2017/MD2586_InjectionEmittanceBlowup/2017.08.30_bcms_bunched_nominal_skews/tomo_data/autosave_595.dat\n",
      "/eos/project/l/liu/Instrumentation/tomography/runofflinetomo /eos/project/l/liu/PS/data/2017/MD2586_InjectionEmittanceBlowup/2017.08.30_bcms_bunched_nominal_skews/tomo_data/autosave_596.dat\n",
      "/eos/project/l/liu/Instrumentation/tomography/runofflinetomo /eos/project/l/liu/PS/data/2017/MD2586_InjectionEmittanceBlowup/2017.08.30_bcms_bunched_nominal_skews/tomo_data/autosave_597.dat\n",
      "/eos/project/l/liu/Instrumentation/tomography/runofflinetomo /eos/project/l/liu/PS/data/2017/MD2586_InjectionEmittanceBlowup/2017.08.30_bcms_bunched_nominal_skews/tomo_data/autosave_598.dat\n",
      "/eos/project/l/liu/Instrumentation/tomography/runofflinetomo /eos/project/l/liu/PS/data/2017/MD2586_InjectionEmittanceBlowup/2017.08.30_bcms_bunched_nominal_skews/tomo_data/autosave_599.dat\n",
      "/eos/project/l/liu/Instrumentation/tomography/runofflinetomo /eos/project/l/liu/PS/data/2017/MD2586_InjectionEmittanceBlowup/2017.08.30_bcms_bunched_nominal_skews/tomo_data/autosave_600.dat\n",
      "/eos/project/l/liu/Instrumentation/tomography/runofflinetomo /eos/project/l/liu/PS/data/2017/MD2586_InjectionEmittanceBlowup/2017.08.30_bcms_bunched_nominal_skews/tomo_data/autosave_601.dat\n"
     ]
    },
    {
     "name": "stdout",
     "output_type": "stream",
     "text": [
      "/eos/project/l/liu/Instrumentation/tomography/runofflinetomo /eos/project/l/liu/PS/data/2017/MD2586_InjectionEmittanceBlowup/2017.08.30_bcms_bunched_nominal_skews/tomo_data/autosave_602.dat\n",
      "/eos/project/l/liu/Instrumentation/tomography/runofflinetomo /eos/project/l/liu/PS/data/2017/MD2586_InjectionEmittanceBlowup/2017.08.30_bcms_bunched_nominal_skews/tomo_data/autosave_603.dat\n",
      "/eos/project/l/liu/Instrumentation/tomography/runofflinetomo /eos/project/l/liu/PS/data/2017/MD2586_InjectionEmittanceBlowup/2017.08.30_bcms_bunched_nominal_skews/tomo_data/autosave_604.dat\n",
      "/eos/project/l/liu/Instrumentation/tomography/runofflinetomo /eos/project/l/liu/PS/data/2017/MD2586_InjectionEmittanceBlowup/2017.08.30_bcms_bunched_nominal_skews/tomo_data/autosave_605.dat\n",
      "/eos/project/l/liu/Instrumentation/tomography/runofflinetomo /eos/project/l/liu/PS/data/2017/MD2586_InjectionEmittanceBlowup/2017.08.30_bcms_bunched_nominal_skews/tomo_data/autosave_606.dat\n",
      "/eos/project/l/liu/Instrumentation/tomography/runofflinetomo /eos/project/l/liu/PS/data/2017/MD2586_InjectionEmittanceBlowup/2017.08.30_bcms_bunched_nominal_skews/tomo_data/autosave_607.dat\n",
      "\n",
      "IOError\n",
      "\n",
      "/eos/project/l/liu/Instrumentation/tomography/runofflinetomo /eos/project/l/liu/PS/data/2017/MD2586_InjectionEmittanceBlowup/2017.08.30_bcms_bunched_nominal_skews/tomo_data/autosave_608.dat\n",
      "/eos/project/l/liu/Instrumentation/tomography/runofflinetomo /eos/project/l/liu/PS/data/2017/MD2586_InjectionEmittanceBlowup/2017.08.30_bcms_bunched_nominal_skews/tomo_data/autosave_609.dat\n",
      "/eos/project/l/liu/Instrumentation/tomography/runofflinetomo /eos/project/l/liu/PS/data/2017/MD2586_InjectionEmittanceBlowup/2017.08.30_bcms_bunched_nominal_skews/tomo_data/autosave_610.dat\n",
      "/eos/project/l/liu/Instrumentation/tomography/runofflinetomo /eos/project/l/liu/PS/data/2017/MD2586_InjectionEmittanceBlowup/2017.08.30_bcms_bunched_nominal_skews/tomo_data/autosave_611.dat\n",
      "/eos/project/l/liu/Instrumentation/tomography/runofflinetomo /eos/project/l/liu/PS/data/2017/MD2586_InjectionEmittanceBlowup/2017.08.30_bcms_bunched_nominal_skews/tomo_data/autosave_612.dat\n",
      "/eos/project/l/liu/Instrumentation/tomography/runofflinetomo /eos/project/l/liu/PS/data/2017/MD2586_InjectionEmittanceBlowup/2017.08.30_bcms_bunched_nominal_skews/tomo_data/autosave_613.dat\n",
      "/eos/project/l/liu/Instrumentation/tomography/runofflinetomo /eos/project/l/liu/PS/data/2017/MD2586_InjectionEmittanceBlowup/2017.08.30_bcms_bunched_nominal_skews/tomo_data/autosave_614.dat\n",
      "/eos/project/l/liu/Instrumentation/tomography/runofflinetomo /eos/project/l/liu/PS/data/2017/MD2586_InjectionEmittanceBlowup/2017.08.30_bcms_bunched_nominal_skews/tomo_data/autosave_615.dat\n",
      "/eos/project/l/liu/Instrumentation/tomography/runofflinetomo /eos/project/l/liu/PS/data/2017/MD2586_InjectionEmittanceBlowup/2017.08.30_bcms_bunched_nominal_skews/tomo_data/autosave_616.dat\n",
      "/eos/project/l/liu/Instrumentation/tomography/runofflinetomo /eos/project/l/liu/PS/data/2017/MD2586_InjectionEmittanceBlowup/2017.08.30_bcms_bunched_nominal_skews/tomo_data/autosave_617.dat\n",
      "/eos/project/l/liu/Instrumentation/tomography/runofflinetomo /eos/project/l/liu/PS/data/2017/MD2586_InjectionEmittanceBlowup/2017.08.30_bcms_bunched_nominal_skews/tomo_data/autosave_618.dat\n",
      "/eos/project/l/liu/Instrumentation/tomography/runofflinetomo /eos/project/l/liu/PS/data/2017/MD2586_InjectionEmittanceBlowup/2017.08.30_bcms_bunched_nominal_skews/tomo_data/autosave_619.dat\n",
      "/eos/project/l/liu/Instrumentation/tomography/runofflinetomo /eos/project/l/liu/PS/data/2017/MD2586_InjectionEmittanceBlowup/2017.08.30_bcms_bunched_nominal_skews/tomo_data/autosave_620.dat\n",
      "/eos/project/l/liu/Instrumentation/tomography/runofflinetomo /eos/project/l/liu/PS/data/2017/MD2586_InjectionEmittanceBlowup/2017.08.30_bcms_bunched_nominal_skews/tomo_data/autosave_621.dat\n",
      "/eos/project/l/liu/Instrumentation/tomography/runofflinetomo /eos/project/l/liu/PS/data/2017/MD2586_InjectionEmittanceBlowup/2017.08.30_bcms_bunched_nominal_skews/tomo_data/autosave_622.dat\n",
      "/eos/project/l/liu/Instrumentation/tomography/runofflinetomo /eos/project/l/liu/PS/data/2017/MD2586_InjectionEmittanceBlowup/2017.08.30_bcms_bunched_nominal_skews/tomo_data/autosave_623.dat\n",
      "/eos/project/l/liu/Instrumentation/tomography/runofflinetomo /eos/project/l/liu/PS/data/2017/MD2586_InjectionEmittanceBlowup/2017.08.30_bcms_bunched_nominal_skews/tomo_data/autosave_624.dat\n",
      "/eos/project/l/liu/Instrumentation/tomography/runofflinetomo /eos/project/l/liu/PS/data/2017/MD2586_InjectionEmittanceBlowup/2017.08.30_bcms_bunched_nominal_skews/tomo_data/autosave_625.dat\n",
      "/eos/project/l/liu/Instrumentation/tomography/runofflinetomo /eos/project/l/liu/PS/data/2017/MD2586_InjectionEmittanceBlowup/2017.08.30_bcms_bunched_nominal_skews/tomo_data/autosave_626.dat\n",
      "/eos/project/l/liu/Instrumentation/tomography/runofflinetomo /eos/project/l/liu/PS/data/2017/MD2586_InjectionEmittanceBlowup/2017.08.30_bcms_bunched_nominal_skews/tomo_data/autosave_627.dat\n",
      "/eos/project/l/liu/Instrumentation/tomography/runofflinetomo /eos/project/l/liu/PS/data/2017/MD2586_InjectionEmittanceBlowup/2017.08.30_bcms_bunched_nominal_skews/tomo_data/autosave_628.dat\n",
      "/eos/project/l/liu/Instrumentation/tomography/runofflinetomo /eos/project/l/liu/PS/data/2017/MD2586_InjectionEmittanceBlowup/2017.08.30_bcms_bunched_nominal_skews/tomo_data/autosave_629.dat\n",
      "/eos/project/l/liu/Instrumentation/tomography/runofflinetomo /eos/project/l/liu/PS/data/2017/MD2586_InjectionEmittanceBlowup/2017.08.30_bcms_bunched_nominal_skews/tomo_data/autosave_630.dat\n"
     ]
    }
   ],
   "source": [
    "# new tomogram analysis\n",
    "files_tomo=sorted(glob.glob('/eos/project/l/liu/PS/data/2017/MD2586_InjectionEmittanceBlowup/2017.08.30_bcms_bunched_nominal_skews/tomo_data/*.dat'))\n",
    "\n",
    "# del(files_tomo[159])\n",
    "\n",
    "tomo_data = pnd.DataFrame()\n",
    "\n",
    "for f in range(len(files_tomo)):\n",
    "    try:\n",
    "        tomo_d = extractProfile(files_tomo[f])\n",
    "        tomo_d['Filename'] = files_tomo[f]\n",
    "        if tomo_d is np.nan:\n",
    "            pass\n",
    "        else:\n",
    "            tomo_data=tomo_data.append(tomo_d,ignore_index=True)\n",
    "    except IOError:\n",
    "        print '\\nIOError\\n'"
   ]
  },
  {
   "cell_type": "code",
   "execution_count": 12,
   "metadata": {},
   "outputs": [
    {
     "name": "stderr",
     "output_type": "stream",
     "text": [
      "/cvmfs/sft.cern.ch/lcg/views/LCG_93/x86_64-slc6-gcc62-opt/lib/python2.7/site-packages/pandas/core/indexing.py:194: SettingWithCopyWarning: \n",
      "A value is trying to be set on a copy of a slice from a DataFrame\n",
      "\n",
      "See the caveats in the documentation: http://pandas.pydata.org/pandas-docs/stable/indexing.html#indexing-view-versus-copy\n",
      "  self._setitem_with_indexer(indexer, value)\n"
     ]
    },
    {
     "name": "stdout",
     "output_type": "stream",
     "text": [
      "117/129 are within the timeTolerance\n",
      "length of dataframe is: 120\n"
     ]
    }
   ],
   "source": [
    "timeTolerance = 5\n",
    "\n",
    "# ---------- Vars initialisation\n",
    "myDataFrame_bunched['tomoTimestamp']=np.nan\n",
    "myDataFrame_bunched['tomoDelta']=np.nan\n",
    "myDataFrame_bunched['tomoFilename']=np.str\n",
    "myDataFrame_bunched['deltaP_P_rms']=np.nan\n",
    "myDataFrame_bunched['peakLineDensity']=np.nan\n",
    "myDataFrame_bunched['beta']=np.nan\n",
    "myDataFrame_bunched['gamma']=np.nan\n",
    "myDataFrame_bunched['deltaP_P']=[np.empty(0,dtype=float)]*len(myDataFrame_bunched)\n",
    "myDataFrame_bunched['momentumProfile']=[np.empty(0,dtype=float)]*len(myDataFrame_bunched)\n",
    "\n",
    "\n",
    "succ_count = 0\n",
    "last_match = 0\n",
    "# loop over the tomo_timestamps\n",
    "for k in range(len(tomo_data)):\n",
    "    tomo_local_cs = tomo_data['cycleStamp'].values[k]\n",
    "    t = myToolbox.unixtime2datetime(tomo_local_cs)\n",
    "    tomo_fname = tomo_data['Filename'].iloc[k]\n",
    "    tomo_dpprms = tomo_data['deltaP_P_RMS'].iloc[k]\n",
    "#     tomo_pkldens = tomo_data['peakLineDensity'].iloc[k]\n",
    "    betar = tomo_data['beta'].iloc[k]\n",
    "    gammar = tomo_data['gamma'].iloc[k]\n",
    "    dpp_profil = tomo_data['deltaP_P'].iloc[k]\n",
    "    p_profil = tomo_data['myProfile'].iloc[k]    \n",
    "\n",
    "\n",
    "    # loop over the matlab data\n",
    "    for x in range(len(myDataFrame_bunched)):\n",
    "        c = myToolbox.unixtime2utcdatetime(myDataFrame_bunched['cycleStamp'].values[x]*1e-9)\n",
    "        d = t-c\n",
    "        d = d.total_seconds()\n",
    "\n",
    "        if np.abs(d) <= timeTolerance and x > last_match: #avoid match the same tomogram to more matlab acquisition unintentionally\n",
    "            myDataFrame_bunched['tomoTimestamp'].iloc[x] = tomo_local_cs\n",
    "            myDataFrame_bunched['tomoFilename'].iloc[x] = tomo_fname\n",
    "            myDataFrame_bunched['tomoDelta'].iloc[x] = d\n",
    "            myDataFrame_bunched['deltaP_P_rms'].iloc[x]= tomo_dpprms\n",
    "#             myDataFrame_bunched['peakLineDensity'].iloc[x]= tomo_pkldens\n",
    "            myDataFrame_bunched['beta'].iloc[x]= betar\n",
    "            myDataFrame_bunched['gamma'].iloc[x]= gammar\n",
    "            myDataFrame_bunched['deltaP_P'].iloc[x]= dpp_profil\n",
    "            myDataFrame_bunched['momentumProfile'].iloc[x]= p_profil\n",
    "\n",
    "\n",
    "            succ_count += 1 #dummy counter\n",
    "            \n",
    "print str(succ_count) +\"/\"+ str(len(tomo_data)) +\" are within the timeTolerance\"\n",
    "print 'length of dataframe is: '+ str(len(myDataFrame_bunched)) "
   ]
  },
  {
   "cell_type": "markdown",
   "metadata": {},
   "source": [
    "## Unbunched beams"
   ]
  },
  {
   "cell_type": "code",
   "execution_count": 14,
   "metadata": {
    "collapsed": true
   },
   "outputs": [],
   "source": [
    "myDataFrame_unbunched['deltaP_P_rms']=8.86e-4\n",
    "myDataFrame_unbunched['peakLineDensity']=1.21"
   ]
  },
  {
   "cell_type": "markdown",
   "metadata": {},
   "source": [
    "## Wire scanner\n",
    "\n",
    "### X plane"
   ]
  },
  {
   "cell_type": "code",
   "execution_count": 15,
   "metadata": {
    "collapsed": true
   },
   "outputs": [],
   "source": [
    "# Wirescanner\n",
    "#position data cleanup (sort, get unique values and the idxes) and conversion to mm\n",
    "myDataFrame_bunched['BWS65_position'] = myDataFrame_bunched['PR_BWS_65_H_ROT.Acquisition.value.projPositionSet1'].apply(lambda x: np.unique(x, return_index=True)[0]*1e-3)\n",
    "myDataFrame_bunched['BWS65_position_idx'] = myDataFrame_bunched['PR_BWS_65_H_ROT.Acquisition.value.projPositionSet1'].apply(lambda x: np.unique(x, return_index=True)[1])"
   ]
  },
  {
   "cell_type": "code",
   "execution_count": 16,
   "metadata": {
    "collapsed": true
   },
   "outputs": [],
   "source": [
    "# Wirescanner\n",
    "#position data cleanup (sort, get unique values and the idxes) and conversion to mm\n",
    "myDataFrame_unbunched['BWS65_position'] = myDataFrame_unbunched['PR_BWS_65_H_ROT.Acquisition.value.projPositionSet1'].apply(lambda x: np.unique(x, return_index=True)[0]*1e-3)\n",
    "myDataFrame_unbunched['BWS65_position_idx'] = myDataFrame_unbunched['PR_BWS_65_H_ROT.Acquisition.value.projPositionSet1'].apply(lambda x: np.unique(x, return_index=True)[1])"
   ]
  },
  {
   "cell_type": "code",
   "execution_count": 17,
   "metadata": {},
   "outputs": [],
   "source": [
    "#instantiate an array object for the result in the frame\n",
    "myDataFrame_bunched['BWS65_data'] = myDataFrame_bunched['BWS65_position_idx'].apply(lambda x: np.empty(len(x)))\n",
    "pos = np.arange(-50, 50, 0.05)\n",
    "\n",
    "row, col = myDataFrame_bunched.shape\n",
    "\n",
    "for r in xrange(row):\n",
    "    myDataFrame_bunched['BWS65_data'].iloc[r] = np.interp(pos, myDataFrame_bunched['BWS65_position'].iloc[r], myDataFrame_bunched['PR_BWS_65_H_ROT.Acquisition.value.projDataSet1'].iloc[r][myDataFrame_bunched['BWS65_position_idx'].iloc[r]])  "
   ]
  },
  {
   "cell_type": "code",
   "execution_count": 18,
   "metadata": {
    "collapsed": true
   },
   "outputs": [],
   "source": [
    "#instantiate an array object for the result in the frame\n",
    "myDataFrame_unbunched['BWS65_data'] = myDataFrame_unbunched['BWS65_position_idx'].apply(lambda x: np.empty(len(x)))\n",
    "pos = np.arange(-50, 50, 0.05)\n",
    "\n",
    "row, col = myDataFrame_unbunched.shape\n",
    "\n",
    "for r in xrange(row):\n",
    "    myDataFrame_unbunched['BWS65_data'].iloc[r] = np.interp(pos, myDataFrame_unbunched['BWS65_position'].iloc[r], myDataFrame_unbunched['PR_BWS_65_H_ROT.Acquisition.value.projDataSet1'].iloc[r][myDataFrame_unbunched['BWS65_position_idx'].iloc[r]])  "
   ]
  },
  {
   "cell_type": "code",
   "execution_count": 19,
   "metadata": {
    "collapsed": true
   },
   "outputs": [],
   "source": [
    "#do the fit and get the sigma in mm\n",
    "myDataFrame_bunched['WS_fit_results_x'] = myDataFrame_bunched['BWS65_data'].apply(lambda x: myToolbox.makeGaussianFit_5_parameters(pos,x))\n",
    "myDataFrame_bunched['WS_sigma_x'] = myDataFrame_bunched['WS_fit_results_x'].apply(lambda x: x[0][-1])"
   ]
  },
  {
   "cell_type": "code",
   "execution_count": 20,
   "metadata": {
    "collapsed": true
   },
   "outputs": [],
   "source": [
    "#do the fit and get the sigma in mm\n",
    "myDataFrame_unbunched['WS_fit_results_x'] = myDataFrame_unbunched['BWS65_data'].apply(lambda x: myToolbox.makeGaussianFit_5_parameters(pos,x))\n",
    "myDataFrame_unbunched['WS_sigma_x'] = myDataFrame_unbunched['WS_fit_results_x'].apply(lambda x: x[0][-1])"
   ]
  },
  {
   "cell_type": "markdown",
   "metadata": {},
   "source": [
    "### Y plane"
   ]
  },
  {
   "cell_type": "code",
   "execution_count": 21,
   "metadata": {
    "collapsed": true
   },
   "outputs": [],
   "source": [
    "# Wirescanner\n",
    "#position data cleanup (sort, get unique values and the idxes) and conversion to mm\n",
    "myDataFrame_bunched['BWS85_position'] = myDataFrame_bunched['PR_BWS_85_V_ROT.Acquisition.value.projPositionSet1'].apply(lambda x: np.unique(x, return_index=True)[0]*1e-3)\n",
    "myDataFrame_bunched['BWS85_position_idx'] = myDataFrame_bunched['PR_BWS_85_V_ROT.Acquisition.value.projPositionSet1'].apply(lambda x: np.unique(x, return_index=True)[1])"
   ]
  },
  {
   "cell_type": "code",
   "execution_count": 22,
   "metadata": {
    "collapsed": true
   },
   "outputs": [],
   "source": [
    "# Wirescanner\n",
    "#position data cleanup (sort, get unique values and the idxes) and conversion to mm\n",
    "myDataFrame_unbunched['BWS85_position'] = myDataFrame_unbunched['PR_BWS_85_V_ROT.Acquisition.value.projPositionSet1'].apply(lambda x: np.unique(x, return_index=True)[0]*1e-3)\n",
    "myDataFrame_unbunched['BWS85_position_idx'] = myDataFrame_unbunched['PR_BWS_85_V_ROT.Acquisition.value.projPositionSet1'].apply(lambda x: np.unique(x, return_index=True)[1])"
   ]
  },
  {
   "cell_type": "code",
   "execution_count": 23,
   "metadata": {
    "collapsed": true
   },
   "outputs": [],
   "source": [
    "#instantiate an array object for the result in the frame\n",
    "myDataFrame_bunched['BWS85_data'] = myDataFrame_bunched['BWS85_position_idx'].apply(lambda x: np.empty(len(x)))\n",
    "pos = np.arange(-50, 50, 0.05)\n",
    "\n",
    "row, col = myDataFrame_bunched.shape\n",
    "\n",
    "for r in xrange(row):\n",
    "    myDataFrame_bunched['BWS85_data'].iloc[r] = np.interp(pos, myDataFrame_bunched['BWS85_position'].iloc[r], myDataFrame_bunched['PR_BWS_85_V_ROT.Acquisition.value.projDataSet1'].iloc[r][myDataFrame_bunched['BWS85_position_idx'].iloc[r]])  "
   ]
  },
  {
   "cell_type": "code",
   "execution_count": 24,
   "metadata": {
    "collapsed": true
   },
   "outputs": [],
   "source": [
    "#instantiate an array object for the result in the frame\n",
    "myDataFrame_unbunched['BWS85_data'] = myDataFrame_unbunched['BWS85_position_idx'].apply(lambda x: np.empty(len(x)))\n",
    "pos = np.arange(-50, 50, 0.05)\n",
    "\n",
    "row, col = myDataFrame_unbunched.shape\n",
    "\n",
    "for r in xrange(row):\n",
    "    myDataFrame_unbunched['BWS85_data'].iloc[r] = np.interp(pos, myDataFrame_unbunched['BWS85_position'].iloc[r], myDataFrame_unbunched['PR_BWS_85_V_ROT.Acquisition.value.projDataSet1'].iloc[r][myDataFrame_unbunched['BWS85_position_idx'].iloc[r]])  "
   ]
  },
  {
   "cell_type": "code",
   "execution_count": 25,
   "metadata": {
    "collapsed": true
   },
   "outputs": [],
   "source": [
    "#do the fit and get the sigma in mm\n",
    "myDataFrame_bunched['WS_fit_results_y'] = myDataFrame_bunched['BWS85_data'].apply(lambda x: myToolbox.makeGaussianFit_5_parameters(pos,x))\n",
    "myDataFrame_bunched['WS_sigma_y'] = myDataFrame_bunched['WS_fit_results_y'].apply(lambda x: x[0][-1])"
   ]
  },
  {
   "cell_type": "code",
   "execution_count": 26,
   "metadata": {
    "collapsed": true
   },
   "outputs": [],
   "source": [
    "#do the fit and get the sigma in mm\n",
    "myDataFrame_unbunched['WS_fit_results_y'] = myDataFrame_unbunched['BWS85_data'].apply(lambda x: myToolbox.makeGaussianFit_5_parameters(pos,x))\n",
    "myDataFrame_unbunched['WS_sigma_y'] = myDataFrame_unbunched['WS_fit_results_y'].apply(lambda x: x[0][-1])"
   ]
  },
  {
   "cell_type": "markdown",
   "metadata": {
    "collapsed": true
   },
   "source": [
    "## Emitance"
   ]
  },
  {
   "cell_type": "code",
   "execution_count": 27,
   "metadata": {
    "collapsed": true
   },
   "outputs": [],
   "source": [
    "def normalised_emittance(sig, dp):\n",
    "    \"Calculate the normalised emittance, where sig is in mm. dp is DeltaP/P rms\"\n",
    "    betar = 0.915095 \n",
    "#     D = 2.330216464 #at wirescanner 68\n",
    "    D = 3.24577470 #at wirescanner 65\n",
    "#     betax = 13.00860302 #at wirescanner 68\n",
    "    betax = 21.77988929 #at wirescanner 65\n",
    "#     betax = 20.11 #at wirescanner 65\n",
    "\n",
    "    \n",
    "    gammar = 1/ np.sqrt(1-betar**2)\n",
    "    \n",
    "    #normalised emittance\n",
    "    emi = ((sig*1e-3)**2 - D**2*dp**2)/betax *(betar*gammar)\n",
    "    return emi*1e6\n",
    "\n",
    "def normalised_emittance_y(sig):\n",
    "    \"Calculate the normalised emittance without the dispesive component\"\n",
    "    betar = 0.915095\n",
    "    betay = 11.44763004 #[metres] #at wirescanner 85\n",
    "#     betay = 12.35\n",
    "    gammar = 1/ np.sqrt(1-betar**2)\n",
    "    \n",
    "    #normalised emittance\n",
    "    emi = ((sig*1e-3)**2)/betay *(betar*gammar)\n",
    "    return emi*1e6\n",
    "    "
   ]
  },
  {
   "cell_type": "markdown",
   "metadata": {},
   "source": [
    "### Y plane"
   ]
  },
  {
   "cell_type": "code",
   "execution_count": 28,
   "metadata": {
    "collapsed": true
   },
   "outputs": [],
   "source": [
    "myDataFrame_bunched['WS_emittance_y'] = myDataFrame_bunched['WS_sigma_y'].apply(lambda x: normalised_emittance_y(x))"
   ]
  },
  {
   "cell_type": "code",
   "execution_count": 29,
   "metadata": {
    "collapsed": true
   },
   "outputs": [],
   "source": [
    "myDataFrame_unbunched['WS_emittance_y'] = myDataFrame_unbunched['WS_sigma_y'].apply(lambda x: normalised_emittance_y(x))"
   ]
  },
  {
   "cell_type": "code",
   "execution_count": 58,
   "metadata": {},
   "outputs": [
    {
     "data": {
      "image/png": "[encoded data removed]",
      "text/plain": [
       "<matplotlib.figure.Figure at 0x7f22a8412610>"
      ]
     },
     "metadata": {},
     "output_type": "display_data"
    }
   ],
   "source": [
    "#bunched\n",
    "fig, ax = plt.subplots(1)\n",
    "fig.dpi=100\n",
    "\n",
    "ax.plot(1e3*myDataFrame_bunched['logical_PI_KFA45.K.value'].shift(shiftVal),myDataFrame_bunched['WS_emittance_y'],'.', label='Bunched')\n",
    "ax.plot(1e3*myDataFrame_unbunched['logical_PI_KFA45.K.value'].shift(shiftVal),myDataFrame_unbunched['WS_emittance_y'],'.', label='De-bunched')\n",
    "\n",
    "ax.set_xlabel('Kicker strength K (mrad)')\n",
    "ax.set_ylabel('Normalised emittance (mm.mrad)')\n",
    "\n",
    "ax.set_\n",
    "\n",
    "plt.title('Y plane')\n",
    "\n",
    "x1,x2,y1,y2 = plt.axis()\n",
    "plt.axis((x1,x2,1,2))\n",
    "plt.legend(frameon=True)\n",
    "plt.show()\n",
    "\n",
    "fig.savefig('Y_emi_b_db.pdf', format='pdf',dpi=1000)"
   ]
  },
  {
   "cell_type": "markdown",
   "metadata": {},
   "source": [
    "### X plane"
   ]
  },
  {
   "cell_type": "code",
   "execution_count": 46,
   "metadata": {
    "collapsed": true
   },
   "outputs": [],
   "source": [
    "myDataFrame_bunched['WS_emittance_x'] = np.nan\n",
    "\n",
    "for n in range(len(myDataFrame_bunched)):\n",
    "    myDataFrame_bunched['WS_emittance_x'].iloc[n] = normalised_emittance(myDataFrame_bunched['WS_sigma_x'].values[n],myDataFrame_bunched['deltaP_P_rms'].values[n])"
   ]
  },
  {
   "cell_type": "code",
   "execution_count": 47,
   "metadata": {
    "collapsed": true
   },
   "outputs": [],
   "source": [
    "myDataFrame_unbunched['WS_emittance_x'] = np.nan\n",
    "\n",
    "for n in range(len(myDataFrame_unbunched)):\n",
    "    myDataFrame_unbunched['WS_emittance_x'].iloc[n] = normalised_emittance(myDataFrame_unbunched['WS_sigma_x'].values[n],myDataFrame_unbunched['deltaP_P_rms'].values[n])"
   ]
  },
  {
   "cell_type": "code",
   "execution_count": 59,
   "metadata": {},
   "outputs": [
    {
     "data": {
      "image/png": "[encoded data removed]",
      "text/plain": [
       "<matplotlib.figure.Figure at 0x7f22b05188d0>"
      ]
     },
     "metadata": {},
     "output_type": "display_data"
    }
   ],
   "source": [
    "#bunched\n",
    "fig, ax = plt.subplots(1)\n",
    "fig.dpi=100\n",
    "ax.plot(1e3*myDataFrame_bunched['logical_PI_KFA45.K.value'].shift(shiftVal),myDataFrame_bunched['WS_emittance_x'],'.', label='Bunched')\n",
    "ax.plot(1e3*myDataFrame_unbunched['logical_PI_KFA45.K.value'].shift(shiftVal),myDataFrame_unbunched['WS_emittance_x'],'.', label='De-bunched')\n",
    "\n",
    "ax.set_xlabel('Kicker strength K (mrad)')\n",
    "ax.set_ylabel('Normalised emittance (mm.mrad)')\n",
    "\n",
    "ax.set_title('X plane')\n",
    "\n",
    "plt.axhline(y=0.91, linewidth=2, color='k')\n",
    "plt.text(0.02, 0.08, 'PSB-R3 WS application (bunched)',\n",
    "        transform=ax.transAxes, fontsize=14,verticalalignment='top')\n",
    "\n",
    "x1,x2,y1,y2 = plt.axis()\n",
    "plt.axis((x1,x2,0.8,2))\n",
    "ax.legend(frameon=True)\n",
    "plt.show()\n",
    "\n",
    "fig.savefig('X_emi_b_db.pdf', format='pdf',dpi=1000)"
   ]
  },
  {
   "cell_type": "code",
   "execution_count": null,
   "metadata": {
    "collapsed": true
   },
   "outputs": [],
   "source": []
  },
  {
   "cell_type": "code",
   "execution_count": null,
   "metadata": {
    "collapsed": true
   },
   "outputs": [],
   "source": []
  }
 ],
 "metadata": {
  "kernelspec": {
   "display_name": "Python 2",
   "language": "python",
   "name": "python2"
  },
  "language_info": {
   "codemirror_mode": {
    "name": "ipython",
    "version": 2
   },
   "file_extension": ".py",
   "mimetype": "text/x-python",
   "name": "python",
   "nbconvert_exporter": "python",
   "pygments_lexer": "ipython2",
   "version": "2.7.13"
  }
 },
 "nbformat": 4,
 "nbformat_minor": 1
}
