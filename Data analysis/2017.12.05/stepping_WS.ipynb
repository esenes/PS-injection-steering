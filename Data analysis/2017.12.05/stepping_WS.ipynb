{
 "cells": [
  {
   "cell_type": "code",
   "execution_count": 1,
   "metadata": {
    "scrolled": true
   },
   "outputs": [
    {
     "name": "stdout",
     "output_type": "stream",
     "text": [
      "Version 0.03. This is the latest version.\n",
      "Please help me to improve it reporting bugs to guido.sterbini@cern.ch.\n"
     ]
    },
    {
     "name": "stderr",
     "output_type": "stream",
     "text": [
      "/cvmfs/sft.cern.ch/lcg/views/LCG_91/x86_64-slc6-gcc62-opt/lib/python2.7/site-packages/matplotlib/font_manager.py:273: UserWarning: Matplotlib is building the font cache using fc-list. This may take a moment.\n",
      "  warnings.warn('Matplotlib is building the font cache using fc-list. This may take a moment.')\n"
     ]
    },
    {
     "name": "stdout",
     "output_type": "stream",
     "text": [
      "Your platform is Linux-3.10.0-693.2.2.el7.x86_64-x86_64-with-redhat-6.9-Carbon\n",
      "Your folder is /eos/user/e/esenes/Injection_missteering/2017.12.05\n",
      "Your IP is 172.17.0.15\n",
      "2017-12-15 11:01:55\n",
      "---\n",
      "Version 0.1\n",
      "Use at your own risk. Please report bugs to eugenio.senes@cern.ch\n",
      "Fork it at https://gitlab.cern.ch/esenes/PS-analysis-tools\n",
      "---\n"
     ]
    }
   ],
   "source": [
    "%run /eos/project/m/mte/Toolbox/myToolbox.py\n",
    "print '---'\n",
    "%run /eos/user/e/esenes/PS-analysis-tools/eTools.py\n",
    "print '---'\n",
    "sys.path.append('/eos/project/l/liu/Instrumentation/Scripts')\n",
    "import metaclass"
   ]
  },
  {
   "cell_type": "code",
   "execution_count": 2,
   "metadata": {
    "collapsed": true
   },
   "outputs": [],
   "source": [
    "sys.path.append('/eos/project/l/liu/Instrumentation/Scripts')\n",
    "import metaclass"
   ]
  },
  {
   "cell_type": "markdown",
   "metadata": {},
   "source": [
    "# User inputs"
   ]
  },
  {
   "cell_type": "code",
   "execution_count": 42,
   "metadata": {
    "collapsed": true
   },
   "outputs": [],
   "source": [
    "folderPath = '/eos/project/l/liu/PS/data/2017/MD2586_InjectionEmittanceBlowup/2017.12.05/BGI_data/BGI_data/misstering_-0.4mrad'\n",
    "\n",
    "matlabVars = ['PR_BWS_65_H_ROT.Acquisition.value.projDataSet1', # Wirescanner 65\n",
    "                'PR_BWS_65_H_ROT.Acquisition.value.projPositionSet1',\n",
    "                'PR_BWS_65_H_ROT.Acquisition.value.acqDelay',\n",
    "                'PR_BWS_65_H_ROT.Acquisition.value.fineAcqDelay',\n",
    "                'PR_BWS_85_V_ROT.Acquisition.value.projDataSet1', # Wirescanner 85\n",
    "                'PR_BWS_85_V_ROT.Acquisition.value.projPositionSet1',\n",
    "                'PR_BWS_85_V_ROT.Acquisition.value.acqTimeInCycleSet1',\n",
    "                'logical_PI_KFA45.K.value', # Kicker k parameter value (mrad)\n",
    "                'PI_KFA45.AQN1.value',\n",
    "                'PI_KFA45.CCV.value', \n",
    "                'PR_BPM.AcquisitionOrbit.value.position', # BPMs\n",
    "                'PR_BPM.AcquisitionTrajectoryBBB.value.position',\n",
    "                'PR_BCT_ST.Samples.value.samples']\n",
    "\n"
   ]
  },
  {
   "cell_type": "code",
   "execution_count": 43,
   "metadata": {},
   "outputs": [
    {
     "name": "stdout",
     "output_type": "stream",
     "text": [
      "Found 10 data files\n",
      "First: /eos/project/l/liu/PS/data/2017/MD2586_InjectionEmittanceBlowup/2017.12.05/BGI_data/BGI_data/misstering_-0.4mrad/2017.12.05.17.42.23.656.mat\n",
      "End: /eos/project/l/liu/PS/data/2017/MD2586_InjectionEmittanceBlowup/2017.12.05/BGI_data/BGI_data/misstering_-0.4mrad/2017.12.05.17.45.35.648.mat\n"
     ]
    }
   ],
   "source": [
    "# let's start with the matlab data\n",
    "files = sorted(glob.glob(folderPath+'/2017*.mat'))\n",
    "print 'Found ' + str(len(files)) + ' data files'\n",
    "print 'First: ' + files[0]\n",
    "print 'End: ' + files[-1]"
   ]
  },
  {
   "cell_type": "code",
   "execution_count": 44,
   "metadata": {
    "collapsed": true
   },
   "outputs": [],
   "source": [
    "myDataFrame = myToolbox.fromMatlabToDataFrame(files,matlabVars,verbose=False)"
   ]
  },
  {
   "cell_type": "code",
   "execution_count": 45,
   "metadata": {},
   "outputs": [
    {
     "data": {
      "text/plain": [
       "2017-12-05 17:41:57.100    175\n",
       "2017-12-05 17:42:40.300    175\n",
       "2017-12-05 17:42:40.300    175\n",
       "2017-12-05 17:43:04.300    175\n",
       "2017-12-05 17:43:23.500    175\n",
       "2017-12-05 17:43:47.500    175\n",
       "2017-12-05 17:44:06.700    175\n",
       "2017-12-05 17:44:30.700    175\n",
       "2017-12-05 17:44:49.900    175\n",
       "2017-12-05 17:45:13.900    175\n",
       "Name: PR_BWS_65_H_ROT.Acquisition.value.acqDelay, dtype: int64"
      ]
     },
     "execution_count": 45,
     "metadata": {},
     "output_type": "execute_result"
    }
   ],
   "source": [
    "myDataFrame['PR_BWS_65_H_ROT.Acquisition.value.acqDelay']"
   ]
  },
  {
   "cell_type": "markdown",
   "metadata": {},
   "source": [
    "# Data cleanup"
   ]
  },
  {
   "cell_type": "code",
   "execution_count": 7,
   "metadata": {},
   "outputs": [
    {
     "name": "stdout",
     "output_type": "stream",
     "text": [
      "Dropped 1 duplicate(s)\n",
      "---\n",
      "BPM data ok\n",
      "---\n"
     ]
    }
   ],
   "source": [
    "myDataFrame = checkDuplicates(myDataFrame) # Drop double acquisitions from matlab\n",
    "myDataFrame = checkBPMData(myDataFrame) # BPMs fault\n",
    "# manual data drop\n",
    "# myDataFrame = myDataFrame.drop(myDataFrame.loc['2017-11-14 17:58:45.100000'].name) # X wirescanner fault\n",
    "# myDataFrame = myDataFrame.drop(myDataFrame.loc['2017-11-14 17:59:28.300000'].name) # non-phys emittance"
   ]
  },
  {
   "cell_type": "markdown",
   "metadata": {},
   "source": [
    "# Load the reference kick"
   ]
  },
  {
   "cell_type": "code",
   "execution_count": 8,
   "metadata": {
    "collapsed": true
   },
   "outputs": [],
   "source": [
    "# refPath = folderPath+'/refKicker.mat'\n",
    "# scipy.io.whosmat(refPath)\n",
    "# rk = scipy.io.loadmat(refPath)['k']"
   ]
  },
  {
   "cell_type": "markdown",
   "metadata": {},
   "source": [
    "# Import the optics model"
   ]
  },
  {
   "cell_type": "code",
   "execution_count": 9,
   "metadata": {},
   "outputs": [
    {
     "name": "stdout",
     "output_type": "stream",
     "text": [
      "Problem parsing: @ ORBIT_-CT        %le   -0.00000000\n",
      "\n",
      "Going to be parsed as string\n",
      "Problem persits, let's ignore it!\n"
     ]
    }
   ],
   "source": [
    "# get the optics functions from the model\n",
    "optics = metaclass.twiss('/eos/user/e/esenes/AnalysisTools/Injection7_optics_Qx_0.21_Qy_0.23.outx')"
   ]
  },
  {
   "cell_type": "markdown",
   "metadata": {},
   "source": [
    "# Find the shift value"
   ]
  },
  {
   "cell_type": "code",
   "execution_count": 11,
   "metadata": {},
   "outputs": [
    {
     "data": {
      "text/plain": [
       "<matplotlib.text.Text at 0x7f270cc9c6d0>"
      ]
     },
     "execution_count": 11,
     "metadata": {},
     "output_type": "execute_result"
    },
    {
     "data": {
      "image/png": "[encoded data removed]",
      "text/plain": [
       "<matplotlib.figure.Figure at 0x7f270cc2c590>"
      ]
     },
     "metadata": {},
     "output_type": "display_data"
    }
   ],
   "source": [
    "shiftVal=0\n",
    "plt.plot(myDataFrame['logical_PI_KFA45.K.value'].shift(shiftVal),myDataFrame['PI_KFA45.AQN1.value'],'*')\n",
    "plt.xlabel('Kicker strength')\n",
    "plt.ylabel('KFA45 AQN')"
   ]
  },
  {
   "cell_type": "markdown",
   "metadata": {},
   "source": [
    "# Match the tomogram data"
   ]
  },
  {
   "cell_type": "code",
   "execution_count": 13,
   "metadata": {
    "collapsed": true
   },
   "outputs": [],
   "source": [
    "myDataFrame['deltaP_P_rms'] = 0.59e-3 \n",
    "# no tomogram for these data"
   ]
  },
  {
   "cell_type": "markdown",
   "metadata": {},
   "source": [
    "# Intensity"
   ]
  },
  {
   "cell_type": "code",
   "execution_count": 14,
   "metadata": {
    "collapsed": true
   },
   "outputs": [],
   "source": [
    "myDataFrame['Intensity'] = myDataFrame['PR_BCT_ST.Samples.value.samples']\n",
    "myDataFrame['Losses'] = myDataFrame['Intensity'].apply(lambda x: 1-x[:][100]/np.max(x) )\n",
    "myDataFrame['Intensity_max'] = myDataFrame['PR_BCT_ST.Samples.value.samples'].apply(lambda x: np.max(x))"
   ]
  },
  {
   "cell_type": "code",
   "execution_count": 15,
   "metadata": {},
   "outputs": [
    {
     "data": {
      "text/plain": [
       "<matplotlib.text.Text at 0x7f4316acd690>"
      ]
     },
     "execution_count": 15,
     "metadata": {},
     "output_type": "execute_result"
    },
    {
     "data": {
      "image/png": "[encoded data removed]",
      "text/plain": [
       "<matplotlib.figure.Figure at 0x7f43240dd510>"
      ]
     },
     "metadata": {},
     "output_type": "display_data"
    }
   ],
   "source": [
    "plt.plot(myDataFrame['Intensity_max'],'*')\n",
    "x1,x2,y1,y2 = plt.axis()\n",
    "# plt.axis((x1,x2,0,1))\n",
    "plt.xlabel('Time ')\n",
    "plt.ylabel('Peak intensity')"
   ]
  },
  {
   "cell_type": "code",
   "execution_count": 16,
   "metadata": {},
   "outputs": [
    {
     "data": {
      "text/plain": [
       "<matplotlib.text.Text at 0x7f43169f3410>"
      ]
     },
     "execution_count": 16,
     "metadata": {},
     "output_type": "execute_result"
    },
    {
     "data": {
      "image/png": "[encoded data removed]",
      "text/plain": [
       "<matplotlib.figure.Figure at 0x7f4316a40d50>"
      ]
     },
     "metadata": {},
     "output_type": "display_data"
    }
   ],
   "source": [
    "plt.plot(myDataFrame['Losses'],'*')\n",
    "x1,x2,y1,y2 = plt.axis()\n",
    "plt.axis((x1,x2,0,1))\n",
    "plt.xlabel('Time ')\n",
    "plt.ylabel('Losses')"
   ]
  },
  {
   "cell_type": "code",
   "execution_count": 21,
   "metadata": {},
   "outputs": [
    {
     "data": {
      "text/plain": [
       "<matplotlib.text.Text at 0x7f270c942910>"
      ]
     },
     "execution_count": 21,
     "metadata": {},
     "output_type": "execute_result"
    },
    {
     "data": {
      "image/png": "[encoded data removed]",
      "text/plain": [
       "<matplotlib.figure.Figure at 0x7f270c9fa0d0>"
      ]
     },
     "metadata": {},
     "output_type": "display_data"
    }
   ],
   "source": [
    "for ll in range(10):\n",
    "    plt.plot(myDataFrame['Intensity'].values[ll])\n",
    "    \n",
    "plt.axvline(x=100, ymin=0, ymax = 8, linewidth=2, color='k')\n",
    "plt.xlabel('Cycle time (ms)')\n",
    "plt.ylabel('BCT Intensity (*1e10 ppb)')\n",
    "plt.title('10 shots intensity')"
   ]
  },
  {
   "cell_type": "markdown",
   "metadata": {
    "collapsed": true
   },
   "source": [
    "# Calculate wire scanner emittance\n",
    "## X plane\n",
    "### Traditional method"
   ]
  },
  {
   "cell_type": "code",
   "execution_count": 46,
   "metadata": {},
   "outputs": [],
   "source": [
    "# Wirescanner sigma\n",
    "#position data cleanup (sort, get unique values and the idxes) and conversion to mm\n",
    "myDataFrame['BWS65_position'] = myDataFrame['PR_BWS_65_H_ROT.Acquisition.value.projPositionSet1'].apply(lambda x: np.unique(x, return_index=True)[0]*1e-3)\n",
    "myDataFrame['BWS65_position_idx'] = myDataFrame['PR_BWS_65_H_ROT.Acquisition.value.projPositionSet1'].apply(lambda x: np.unique(x, return_index=True)[1])\n",
    "\n",
    "#instantiate an array object for the result in the frame\n",
    "myDataFrame['BWS65_data'] = myDataFrame['BWS65_position_idx'].apply(lambda x: np.empty(len(x)))\n",
    "pos = np.arange(-50, 50, 0.05)\n",
    "\n",
    "row, col = myDataFrame.shape\n",
    "\n",
    "for r in xrange(row):\n",
    "    myDataFrame['BWS65_data'].iloc[r] = np.interp(pos, myDataFrame['BWS65_position'].iloc[r], myDataFrame['PR_BWS_65_H_ROT.Acquisition.value.projDataSet1'].iloc[r][myDataFrame['BWS65_position_idx'].iloc[r]])  \n",
    "    \n",
    "#do the fit and get the sigma in mm\n",
    "myDataFrame['WS_fit_results_x'] = myDataFrame['BWS65_data'].apply(lambda x: myToolbox.makeGaussianFit_5_parameters(pos,x))\n",
    "myDataFrame['WS_sigma_x'] = myDataFrame['WS_fit_results_x'].apply(lambda x: x[0][-1])"
   ]
  },
  {
   "cell_type": "code",
   "execution_count": 47,
   "metadata": {},
   "outputs": [
    {
     "data": {
      "text/plain": [
       "2017-12-05 17:41:57.100    4.722264\n",
       "2017-12-05 17:42:40.300    4.805964\n",
       "2017-12-05 17:42:40.300    4.805964\n",
       "2017-12-05 17:43:04.300    4.836525\n",
       "2017-12-05 17:43:23.500    4.859208\n",
       "2017-12-05 17:43:47.500    4.723403\n",
       "2017-12-05 17:44:06.700    4.772740\n",
       "2017-12-05 17:44:30.700    4.798972\n",
       "2017-12-05 17:44:49.900    4.866543\n",
       "2017-12-05 17:45:13.900    4.795152\n",
       "Name: WS_sigma_x, dtype: float64"
      ]
     },
     "execution_count": 47,
     "metadata": {},
     "output_type": "execute_result"
    }
   ],
   "source": [
    "myDataFrame['WS_sigma_x']"
   ]
  },
  {
   "cell_type": "code",
   "execution_count": 41,
   "metadata": {
    "scrolled": true
   },
   "outputs": [
    {
     "name": "stdout",
     "output_type": "stream",
     "text": [
      "0\n"
     ]
    },
    {
     "ename": "KeyError",
     "evalue": "'deltaP_P_rms'",
     "output_type": "error",
     "traceback": [
      "\u001b[0;31m\u001b[0m",
      "\u001b[0;31mKeyError\u001b[0mTraceback (most recent call last)",
      "\u001b[0;32m<ipython-input-41-b6a0fd94ede5>\u001b[0m in \u001b[0;36m<module>\u001b[0;34m()\u001b[0m\n\u001b[1;32m      5\u001b[0m \u001b[0;32mfor\u001b[0m \u001b[0mn\u001b[0m \u001b[0;32min\u001b[0m \u001b[0mrange\u001b[0m\u001b[0;34m(\u001b[0m\u001b[0mlen\u001b[0m\u001b[0;34m(\u001b[0m\u001b[0mmyDataFrame\u001b[0m\u001b[0;34m)\u001b[0m\u001b[0;34m)\u001b[0m\u001b[0;34m:\u001b[0m\u001b[0;34m\u001b[0m\u001b[0m\n\u001b[1;32m      6\u001b[0m     \u001b[0;32mprint\u001b[0m \u001b[0mn\u001b[0m\u001b[0;34m\u001b[0m\u001b[0m\n\u001b[0;32m----> 7\u001b[0;31m     \u001b[0mmyDataFrame\u001b[0m\u001b[0;34m[\u001b[0m\u001b[0;34m'WS_emittance_x'\u001b[0m\u001b[0;34m]\u001b[0m\u001b[0;34m.\u001b[0m\u001b[0miloc\u001b[0m\u001b[0;34m[\u001b[0m\u001b[0mn\u001b[0m\u001b[0;34m]\u001b[0m \u001b[0;34m=\u001b[0m \u001b[0mnormalised_emittance\u001b[0m\u001b[0;34m(\u001b[0m\u001b[0;34m'65H'\u001b[0m\u001b[0;34m,\u001b[0m\u001b[0mmyDataFrame\u001b[0m\u001b[0;34m[\u001b[0m\u001b[0;34m'WS_sigma_x'\u001b[0m\u001b[0;34m]\u001b[0m\u001b[0;34m.\u001b[0m\u001b[0mvalues\u001b[0m\u001b[0;34m[\u001b[0m\u001b[0mn\u001b[0m\u001b[0;34m]\u001b[0m\u001b[0;34m,\u001b[0m\u001b[0mdp\u001b[0m\u001b[0;34m=\u001b[0m\u001b[0mmyDataFrame\u001b[0m\u001b[0;34m[\u001b[0m\u001b[0;34m'deltaP_P_rms'\u001b[0m\u001b[0;34m]\u001b[0m\u001b[0;34m.\u001b[0m\u001b[0mvalues\u001b[0m\u001b[0;34m[\u001b[0m\u001b[0mn\u001b[0m\u001b[0;34m]\u001b[0m\u001b[0;34m)\u001b[0m\u001b[0;34m\u001b[0m\u001b[0m\n\u001b[0m\u001b[1;32m      8\u001b[0m     \u001b[0mmyDataFrame\u001b[0m\u001b[0;34m[\u001b[0m\u001b[0;34m'WS_geom_emittance_x'\u001b[0m\u001b[0;34m]\u001b[0m\u001b[0;34m.\u001b[0m\u001b[0miloc\u001b[0m\u001b[0;34m[\u001b[0m\u001b[0mn\u001b[0m\u001b[0;34m]\u001b[0m \u001b[0;34m=\u001b[0m \u001b[0mmyDataFrame\u001b[0m\u001b[0;34m[\u001b[0m\u001b[0;34m'WS_emittance_x'\u001b[0m\u001b[0;34m]\u001b[0m\u001b[0;34m.\u001b[0m\u001b[0miloc\u001b[0m\u001b[0;34m[\u001b[0m\u001b[0mn\u001b[0m\u001b[0;34m]\u001b[0m\u001b[0;34m/\u001b[0m\u001b[0;34m(\u001b[0m\u001b[0mmyDataFrame\u001b[0m\u001b[0;34m[\u001b[0m\u001b[0;34m'beta'\u001b[0m\u001b[0;34m]\u001b[0m\u001b[0;34m.\u001b[0m\u001b[0miloc\u001b[0m\u001b[0;34m[\u001b[0m\u001b[0mn\u001b[0m\u001b[0;34m]\u001b[0m\u001b[0;34m*\u001b[0m\u001b[0mmyDataFrame\u001b[0m\u001b[0;34m[\u001b[0m\u001b[0;34m'gamma'\u001b[0m\u001b[0;34m]\u001b[0m\u001b[0;34m.\u001b[0m\u001b[0miloc\u001b[0m\u001b[0;34m[\u001b[0m\u001b[0mn\u001b[0m\u001b[0;34m]\u001b[0m\u001b[0;34m)\u001b[0m\u001b[0;34m\u001b[0m\u001b[0m\n",
      "\u001b[0;32m/cvmfs/sft.cern.ch/lcg/views/LCG_91/x86_64-slc6-gcc62-opt/lib/python2.7/site-packages/pandas/core/frame.pyc\u001b[0m in \u001b[0;36m__getitem__\u001b[0;34m(self, key)\u001b[0m\n\u001b[1;32m   2055\u001b[0m             \u001b[0;32mreturn\u001b[0m \u001b[0mself\u001b[0m\u001b[0;34m.\u001b[0m\u001b[0m_getitem_multilevel\u001b[0m\u001b[0;34m(\u001b[0m\u001b[0mkey\u001b[0m\u001b[0;34m)\u001b[0m\u001b[0;34m\u001b[0m\u001b[0m\n\u001b[1;32m   2056\u001b[0m         \u001b[0;32melse\u001b[0m\u001b[0;34m:\u001b[0m\u001b[0;34m\u001b[0m\u001b[0m\n\u001b[0;32m-> 2057\u001b[0;31m             \u001b[0;32mreturn\u001b[0m \u001b[0mself\u001b[0m\u001b[0;34m.\u001b[0m\u001b[0m_getitem_column\u001b[0m\u001b[0;34m(\u001b[0m\u001b[0mkey\u001b[0m\u001b[0;34m)\u001b[0m\u001b[0;34m\u001b[0m\u001b[0m\n\u001b[0m\u001b[1;32m   2058\u001b[0m \u001b[0;34m\u001b[0m\u001b[0m\n\u001b[1;32m   2059\u001b[0m     \u001b[0;32mdef\u001b[0m \u001b[0m_getitem_column\u001b[0m\u001b[0;34m(\u001b[0m\u001b[0mself\u001b[0m\u001b[0;34m,\u001b[0m \u001b[0mkey\u001b[0m\u001b[0;34m)\u001b[0m\u001b[0;34m:\u001b[0m\u001b[0;34m\u001b[0m\u001b[0m\n",
      "\u001b[0;32m/cvmfs/sft.cern.ch/lcg/views/LCG_91/x86_64-slc6-gcc62-opt/lib/python2.7/site-packages/pandas/core/frame.pyc\u001b[0m in \u001b[0;36m_getitem_column\u001b[0;34m(self, key)\u001b[0m\n\u001b[1;32m   2062\u001b[0m         \u001b[0;31m# get column\u001b[0m\u001b[0;34m\u001b[0m\u001b[0;34m\u001b[0m\u001b[0m\n\u001b[1;32m   2063\u001b[0m         \u001b[0;32mif\u001b[0m \u001b[0mself\u001b[0m\u001b[0;34m.\u001b[0m\u001b[0mcolumns\u001b[0m\u001b[0;34m.\u001b[0m\u001b[0mis_unique\u001b[0m\u001b[0;34m:\u001b[0m\u001b[0;34m\u001b[0m\u001b[0m\n\u001b[0;32m-> 2064\u001b[0;31m             \u001b[0;32mreturn\u001b[0m \u001b[0mself\u001b[0m\u001b[0;34m.\u001b[0m\u001b[0m_get_item_cache\u001b[0m\u001b[0;34m(\u001b[0m\u001b[0mkey\u001b[0m\u001b[0;34m)\u001b[0m\u001b[0;34m\u001b[0m\u001b[0m\n\u001b[0m\u001b[1;32m   2065\u001b[0m \u001b[0;34m\u001b[0m\u001b[0m\n\u001b[1;32m   2066\u001b[0m         \u001b[0;31m# duplicate columns & possible reduce dimensionality\u001b[0m\u001b[0;34m\u001b[0m\u001b[0;34m\u001b[0m\u001b[0m\n",
      "\u001b[0;32m/cvmfs/sft.cern.ch/lcg/views/LCG_91/x86_64-slc6-gcc62-opt/lib/python2.7/site-packages/pandas/core/generic.pyc\u001b[0m in \u001b[0;36m_get_item_cache\u001b[0;34m(self, item)\u001b[0m\n\u001b[1;32m   1384\u001b[0m         \u001b[0mres\u001b[0m \u001b[0;34m=\u001b[0m \u001b[0mcache\u001b[0m\u001b[0;34m.\u001b[0m\u001b[0mget\u001b[0m\u001b[0;34m(\u001b[0m\u001b[0mitem\u001b[0m\u001b[0;34m)\u001b[0m\u001b[0;34m\u001b[0m\u001b[0m\n\u001b[1;32m   1385\u001b[0m         \u001b[0;32mif\u001b[0m \u001b[0mres\u001b[0m \u001b[0;32mis\u001b[0m \u001b[0mNone\u001b[0m\u001b[0;34m:\u001b[0m\u001b[0;34m\u001b[0m\u001b[0m\n\u001b[0;32m-> 1386\u001b[0;31m             \u001b[0mvalues\u001b[0m \u001b[0;34m=\u001b[0m \u001b[0mself\u001b[0m\u001b[0;34m.\u001b[0m\u001b[0m_data\u001b[0m\u001b[0;34m.\u001b[0m\u001b[0mget\u001b[0m\u001b[0;34m(\u001b[0m\u001b[0mitem\u001b[0m\u001b[0;34m)\u001b[0m\u001b[0;34m\u001b[0m\u001b[0m\n\u001b[0m\u001b[1;32m   1387\u001b[0m             \u001b[0mres\u001b[0m \u001b[0;34m=\u001b[0m \u001b[0mself\u001b[0m\u001b[0;34m.\u001b[0m\u001b[0m_box_item_values\u001b[0m\u001b[0;34m(\u001b[0m\u001b[0mitem\u001b[0m\u001b[0;34m,\u001b[0m \u001b[0mvalues\u001b[0m\u001b[0;34m)\u001b[0m\u001b[0;34m\u001b[0m\u001b[0m\n\u001b[1;32m   1388\u001b[0m             \u001b[0mcache\u001b[0m\u001b[0;34m[\u001b[0m\u001b[0mitem\u001b[0m\u001b[0;34m]\u001b[0m \u001b[0;34m=\u001b[0m \u001b[0mres\u001b[0m\u001b[0;34m\u001b[0m\u001b[0m\n",
      "\u001b[0;32m/cvmfs/sft.cern.ch/lcg/views/LCG_91/x86_64-slc6-gcc62-opt/lib/python2.7/site-packages/pandas/core/internals.pyc\u001b[0m in \u001b[0;36mget\u001b[0;34m(self, item, fastpath)\u001b[0m\n\u001b[1;32m   3518\u001b[0m \u001b[0;34m\u001b[0m\u001b[0m\n\u001b[1;32m   3519\u001b[0m             \u001b[0;32mif\u001b[0m \u001b[0;32mnot\u001b[0m \u001b[0misnull\u001b[0m\u001b[0;34m(\u001b[0m\u001b[0mitem\u001b[0m\u001b[0;34m)\u001b[0m\u001b[0;34m:\u001b[0m\u001b[0;34m\u001b[0m\u001b[0m\n\u001b[0;32m-> 3520\u001b[0;31m                 \u001b[0mloc\u001b[0m \u001b[0;34m=\u001b[0m \u001b[0mself\u001b[0m\u001b[0;34m.\u001b[0m\u001b[0mitems\u001b[0m\u001b[0;34m.\u001b[0m\u001b[0mget_loc\u001b[0m\u001b[0;34m(\u001b[0m\u001b[0mitem\u001b[0m\u001b[0;34m)\u001b[0m\u001b[0;34m\u001b[0m\u001b[0m\n\u001b[0m\u001b[1;32m   3521\u001b[0m             \u001b[0;32melse\u001b[0m\u001b[0;34m:\u001b[0m\u001b[0;34m\u001b[0m\u001b[0m\n\u001b[1;32m   3522\u001b[0m                 \u001b[0mindexer\u001b[0m \u001b[0;34m=\u001b[0m \u001b[0mnp\u001b[0m\u001b[0;34m.\u001b[0m\u001b[0marange\u001b[0m\u001b[0;34m(\u001b[0m\u001b[0mlen\u001b[0m\u001b[0;34m(\u001b[0m\u001b[0mself\u001b[0m\u001b[0;34m.\u001b[0m\u001b[0mitems\u001b[0m\u001b[0;34m)\u001b[0m\u001b[0;34m)\u001b[0m\u001b[0;34m[\u001b[0m\u001b[0misnull\u001b[0m\u001b[0;34m(\u001b[0m\u001b[0mself\u001b[0m\u001b[0;34m.\u001b[0m\u001b[0mitems\u001b[0m\u001b[0;34m)\u001b[0m\u001b[0;34m]\u001b[0m\u001b[0;34m\u001b[0m\u001b[0m\n",
      "\u001b[0;32m/cvmfs/sft.cern.ch/lcg/views/LCG_91/x86_64-slc6-gcc62-opt/lib/python2.7/site-packages/pandas/indexes/base.pyc\u001b[0m in \u001b[0;36mget_loc\u001b[0;34m(self, key, method, tolerance)\u001b[0m\n\u001b[1;32m   2104\u001b[0m                 \u001b[0;32mreturn\u001b[0m \u001b[0mself\u001b[0m\u001b[0;34m.\u001b[0m\u001b[0m_engine\u001b[0m\u001b[0;34m.\u001b[0m\u001b[0mget_loc\u001b[0m\u001b[0;34m(\u001b[0m\u001b[0mkey\u001b[0m\u001b[0;34m)\u001b[0m\u001b[0;34m\u001b[0m\u001b[0m\n\u001b[1;32m   2105\u001b[0m             \u001b[0;32mexcept\u001b[0m \u001b[0mKeyError\u001b[0m\u001b[0;34m:\u001b[0m\u001b[0;34m\u001b[0m\u001b[0m\n\u001b[0;32m-> 2106\u001b[0;31m                 \u001b[0;32mreturn\u001b[0m \u001b[0mself\u001b[0m\u001b[0;34m.\u001b[0m\u001b[0m_engine\u001b[0m\u001b[0;34m.\u001b[0m\u001b[0mget_loc\u001b[0m\u001b[0;34m(\u001b[0m\u001b[0mself\u001b[0m\u001b[0;34m.\u001b[0m\u001b[0m_maybe_cast_indexer\u001b[0m\u001b[0;34m(\u001b[0m\u001b[0mkey\u001b[0m\u001b[0;34m)\u001b[0m\u001b[0;34m)\u001b[0m\u001b[0;34m\u001b[0m\u001b[0m\n\u001b[0m\u001b[1;32m   2107\u001b[0m \u001b[0;34m\u001b[0m\u001b[0m\n\u001b[1;32m   2108\u001b[0m         \u001b[0mindexer\u001b[0m \u001b[0;34m=\u001b[0m \u001b[0mself\u001b[0m\u001b[0;34m.\u001b[0m\u001b[0mget_indexer\u001b[0m\u001b[0;34m(\u001b[0m\u001b[0;34m[\u001b[0m\u001b[0mkey\u001b[0m\u001b[0;34m]\u001b[0m\u001b[0;34m,\u001b[0m \u001b[0mmethod\u001b[0m\u001b[0;34m=\u001b[0m\u001b[0mmethod\u001b[0m\u001b[0;34m,\u001b[0m \u001b[0mtolerance\u001b[0m\u001b[0;34m=\u001b[0m\u001b[0mtolerance\u001b[0m\u001b[0;34m)\u001b[0m\u001b[0;34m\u001b[0m\u001b[0m\n",
      "\u001b[0;32mpandas/index.pyx\u001b[0m in \u001b[0;36mpandas.index.IndexEngine.get_loc (pandas/index.c:4160)\u001b[0;34m()\u001b[0m\n",
      "\u001b[0;32mpandas/index.pyx\u001b[0m in \u001b[0;36mpandas.index.IndexEngine.get_loc (pandas/index.c:4024)\u001b[0;34m()\u001b[0m\n",
      "\u001b[0;32mpandas/src/hashtable_class_helper.pxi\u001b[0m in \u001b[0;36mpandas.hashtable.PyObjectHashTable.get_item (pandas/hashtable.c:13161)\u001b[0;34m()\u001b[0m\n",
      "\u001b[0;32mpandas/src/hashtable_class_helper.pxi\u001b[0m in \u001b[0;36mpandas.hashtable.PyObjectHashTable.get_item (pandas/hashtable.c:13115)\u001b[0;34m()\u001b[0m\n",
      "\u001b[0;31mKeyError\u001b[0m: 'deltaP_P_rms'"
     ]
    }
   ],
   "source": [
    "# Emittance calculation\n",
    "myDataFrame['WS_emittance_x'] = np.nan\n",
    "myDataFrame['WS_geom_emittance_x'] = np.nan\n",
    "\n",
    "for n in range(len(myDataFrame)):\n",
    "    print n\n",
    "    myDataFrame['WS_emittance_x'].iloc[n] = normalised_emittance('65H',myDataFrame['WS_sigma_x'].values[n],dp=myDataFrame['deltaP_P_rms'].values[n])\n",
    "    myDataFrame['WS_geom_emittance_x'].iloc[n] = myDataFrame['WS_emittance_x'].iloc[n]/(myDataFrame['beta'].iloc[n]*myDataFrame['gamma'].iloc[n])"
   ]
  },
  {
   "cell_type": "code",
   "execution_count": 108,
   "metadata": {},
   "outputs": [
    {
     "data": {
      "text/plain": [
       "array([-51860, -51758, -51724, ...,  51836,  51855,  51873], dtype=int32)"
      ]
     },
     "execution_count": 108,
     "metadata": {},
     "output_type": "execute_result"
    }
   ],
   "source": [
    "myDataFrame['PR_BWS_65_H_ROT.Acquisition.value.projPositionSet1'].iloc[0]"
   ]
  },
  {
   "cell_type": "code",
   "execution_count": 115,
   "metadata": {},
   "outputs": [
    {
     "data": {
      "image/png": "[encoded data removed]",
      "text/plain": [
       "<matplotlib.figure.Figure at 0x7f27069364d0>"
      ]
     },
     "metadata": {},
     "output_type": "display_data"
    }
   ],
   "source": [
    "plt.plot((1./15)*myDataFrame['PR_BWS_65_H_ROT.Acquisition.value.projPositionSet1'].iloc[80],myDataFrame['PR_BWS_65_H_ROT.Acquisition.value.projDataSet1'].iloc[80])\n",
    "\n",
    "x1,x2,y1,y2 = plt.axis()\n",
    "# plt.axis((x1,x2,1.5,4.2))\n",
    "\n",
    "\n"
   ]
  },
  {
   "cell_type": "markdown",
   "metadata": {},
   "source": [
    "## Y plane"
   ]
  },
  {
   "cell_type": "code",
   "execution_count": 27,
   "metadata": {
    "collapsed": true
   },
   "outputs": [],
   "source": [
    "# Wirescanner sigma\n",
    "#position data cleanup (sort, get unique values and the idxes) and conversion to mm\n",
    "myDataFrame['BWS85_position'] = myDataFrame['PR_BWS_85_V_ROT.Acquisition.value.projPositionSet1'].apply(lambda x: np.unique(x, return_index=True)[0]*1e-3)\n",
    "myDataFrame['BWS85_position_idx'] = myDataFrame['PR_BWS_85_V_ROT.Acquisition.value.projPositionSet1'].apply(lambda x: np.unique(x, return_index=True)[1])\n",
    "\n",
    "#instantiate an array object for the result in the frame\n",
    "myDataFrame['BWS85_data'] = myDataFrame['BWS85_position_idx'].apply(lambda x: np.empty(len(x)))\n",
    "pos = np.arange(-50, 50, 0.05)\n",
    "\n",
    "row, col = myDataFrame.shape\n",
    "\n",
    "for r in xrange(row):\n",
    "    myDataFrame['BWS85_data'].iloc[r] = np.interp(pos, myDataFrame['BWS85_position'].iloc[r], myDataFrame['PR_BWS_85_V_ROT.Acquisition.value.projDataSet1'].iloc[r][myDataFrame['BWS85_position_idx'].iloc[r]])  \n",
    "\n",
    "#do the fit and get the sigma in mm\n",
    "myDataFrame['WS_fit_results_y'] = myDataFrame['BWS85_data'].apply(lambda x: myToolbox.makeGaussianFit_5_parameters(pos,x))\n",
    "myDataFrame['WS_sigma_y'] = myDataFrame['WS_fit_results_y'].apply(lambda x: x[0][-1])"
   ]
  },
  {
   "cell_type": "code",
   "execution_count": 28,
   "metadata": {
    "collapsed": true
   },
   "outputs": [],
   "source": [
    "# Emittance calculation\n",
    "myDataFrame['WS_emittance_y'] = myDataFrame['WS_sigma_y'].apply(lambda x: normalised_emittance('85V',x))\n",
    "\n",
    "myDataFrame['WS_geom_emittance_y'] = np.nan\n",
    "for n in range(len(myDataFrame)):\n",
    "    myDataFrame['WS_geom_emittance_y'].iloc[n] = myDataFrame['WS_emittance_y'].iloc[n]/(myDataFrame['beta'].iloc[n]*myDataFrame['gamma'].iloc[n])"
   ]
  },
  {
   "cell_type": "markdown",
   "metadata": {},
   "source": [
    "## Emittance plot"
   ]
  },
  {
   "cell_type": "code",
   "execution_count": 88,
   "metadata": {},
   "outputs": [
    {
     "data": {
      "text/plain": [
       "(199,)"
      ]
     },
     "execution_count": 88,
     "metadata": {},
     "output_type": "execute_result"
    }
   ],
   "source": [
    "myDataFrame['WS_emittance_x'].shape"
   ]
  },
  {
   "cell_type": "code",
   "execution_count": 92,
   "metadata": {},
   "outputs": [
    {
     "data": {
      "image/png": "[encoded data removed]",
      "text/plain": [
       "<matplotlib.figure.Figure at 0x7f2706dc1e10>"
      ]
     },
     "metadata": {},
     "output_type": "display_data"
    }
   ],
   "source": [
    "fig, ax = plt.subplots(1)\n",
    "\n",
    "ax.scatter(myDataFrame['PR_BWS_65_H_ROT.Acquisition.value.acqTimeInCycleSet1'], myDataFrame['WS_emittance_x'], c=myDataFrame['Intensity_max'], cmap=plt.cm.coolwarm)\n",
    "\n",
    "\n",
    "# plt.plot(myDataFrame['WS_emittance_x'].values,'.')\n",
    "# plt.ylabel('Normalised emittance (mm.mrad)')\n",
    "x1,x2,y1,y2 = plt.axis()\n",
    "plt.axis((x1,x2,1.5,4.2))\n",
    "\n",
    "\n",
    "# ax.plot(myDataFrame['WS_emittance_y'],'.',label='$\\epsilon_{y, norm}$')\n",
    "\n",
    "# plt.legend(frameon=True)\n",
    "\n",
    "# fig.savefig('BCMS_under_coupling_emi_xy.eps', format='eps')"
   ]
  },
  {
   "cell_type": "code",
   "execution_count": 93,
   "metadata": {},
   "outputs": [
    {
     "data": {
      "text/plain": [
       "2017-12-05 18:08:16.300    171\n",
       "2017-12-05 18:08:59.500    171\n",
       "2017-12-05 18:09:18.700    171\n",
       "2017-12-05 18:09:42.700    171\n",
       "2017-12-05 18:10:01.900    171\n",
       "2017-12-05 18:10:25.900    171\n",
       "2017-12-05 18:10:45.100    171\n",
       "2017-12-05 18:11:09.100    171\n",
       "2017-12-05 18:11:28.300    171\n",
       "2017-12-05 18:11:52.300    171\n",
       "2017-12-05 18:12:11.500    171\n",
       "2017-12-05 18:12:35.500    171\n",
       "2017-12-05 18:12:54.700    171\n",
       "2017-12-05 18:13:18.700    171\n",
       "2017-12-05 18:13:37.900    171\n",
       "2017-12-05 18:14:01.900    171\n",
       "2017-12-05 18:14:21.100    171\n",
       "2017-12-05 18:14:45.100    171\n",
       "2017-12-05 18:15:04.300    171\n",
       "2017-12-05 18:15:28.300    171\n",
       "2017-12-05 18:15:47.500    171\n",
       "2017-12-05 18:16:11.500    171\n",
       "2017-12-05 18:16:30.700    171\n",
       "2017-12-05 18:17:06.700    171\n",
       "2017-12-05 18:17:42.700    171\n",
       "2017-12-05 18:18:18.700    171\n",
       "2017-12-05 18:18:54.700    171\n",
       "2017-12-05 18:19:30.700    171\n",
       "2017-12-05 18:20:06.700    171\n",
       "2017-12-05 18:20:42.700    171\n",
       "                          ... \n",
       "2017-12-05 19:45:41.500    171\n",
       "2017-12-05 19:46:18.700    171\n",
       "2017-12-05 19:46:55.900    171\n",
       "2017-12-05 19:47:33.100    171\n",
       "2017-12-05 19:48:10.300    171\n",
       "2017-12-05 19:48:47.500    171\n",
       "2017-12-05 19:49:24.700    171\n",
       "2017-12-05 19:50:01.900    171\n",
       "2017-12-05 19:50:39.100    171\n",
       "2017-12-05 19:51:16.300    171\n",
       "2017-12-05 19:51:53.500    171\n",
       "2017-12-05 19:52:30.700    171\n",
       "2017-12-05 19:53:07.900    171\n",
       "2017-12-05 19:53:45.100    171\n",
       "2017-12-05 19:54:22.300    171\n",
       "2017-12-05 19:54:59.500    171\n",
       "2017-12-05 19:55:36.700    171\n",
       "2017-12-05 19:56:13.900    171\n",
       "2017-12-05 19:56:51.100    171\n",
       "2017-12-05 19:57:28.300    171\n",
       "2017-12-05 19:58:05.500    171\n",
       "2017-12-05 19:58:42.700    171\n",
       "2017-12-05 19:59:19.900    171\n",
       "2017-12-05 19:59:57.100    171\n",
       "2017-12-05 20:00:34.300    171\n",
       "2017-12-05 20:01:11.500    171\n",
       "2017-12-05 20:01:48.700    171\n",
       "2017-12-05 20:02:25.900    171\n",
       "2017-12-05 20:03:03.100    171\n",
       "2017-12-05 20:03:40.300    171\n",
       "Name: PR_BWS_65_H_ROT.Acquisition.value.acqTimeInCycleSet1, dtype: int64"
      ]
     },
     "execution_count": 93,
     "metadata": {},
     "output_type": "execute_result"
    }
   ],
   "source": [
    "myDataFrame['PR_BWS_65_H_ROT.Acquisition.value.acqTimeInCycleSet1']"
   ]
  },
  {
   "cell_type": "code",
   "execution_count": null,
   "metadata": {
    "collapsed": true
   },
   "outputs": [],
   "source": [
    "fig, ax = plt.subplots(1)\n",
    "ax.scatter(np.linspace(172,175,199), myDataFrame['WS_emittance_x'], c=myDataFrame['Intensity_max'], cmap=plt.cm.coolwarm)\n"
   ]
  },
  {
   "cell_type": "markdown",
   "metadata": {},
   "source": [
    "# BPMs"
   ]
  },
  {
   "cell_type": "code",
   "execution_count": null,
   "metadata": {
    "collapsed": true
   },
   "outputs": [],
   "source": [
    "# BPMs\n",
    "#add field for the first two turns and splitting x and y pickups\n",
    "myDataFrame['BPMx_turn1'] = myDataFrame['PR_BPM.AcquisitionTrajectoryBBB.value.position'].apply(lambda x: x[0:43,0])\n",
    "myDataFrame['BPMy_turn1'] = myDataFrame['PR_BPM.AcquisitionTrajectoryBBB.value.position'].apply(lambda x: x[-43:,0])\n",
    "myDataFrame['BPMx_turn2'] = myDataFrame['PR_BPM.AcquisitionTrajectoryBBB.value.position'].apply(lambda x: x[0:43,1])\n",
    "myDataFrame['BPMy_turn2'] = myDataFrame['PR_BPM.AcquisitionTrajectoryBBB.value.position'].apply(lambda x: x[-43:,1])\n",
    "# #turn to millimiters and cast in float\n",
    "myDataFrame['BPMx_turn1'] = myDataFrame['BPMx_turn1'].apply(lambda x: x/10.)\n",
    "myDataFrame['BPMy_turn1'] = myDataFrame['BPMy_turn1'].apply(lambda x: x/10.)\n",
    "myDataFrame['BPMx_turn2'] = myDataFrame['BPMx_turn2'].apply(lambda x: x/10.)\n",
    "myDataFrame['BPMy_turn2'] = myDataFrame['BPMy_turn2'].apply(lambda x: x/10.)\n",
    "# #add orbit\n",
    "myDataFrame['Orbit_x'] = myDataFrame['PR_BPM.AcquisitionOrbit.value.position'].apply(lambda x: x[0:43,1])\n",
    "myDataFrame['Orbit_y'] = myDataFrame['PR_BPM.AcquisitionOrbit.value.position'].apply(lambda x: x[-43:,1])\n",
    "myDataFrame['Orbit_x'] = myDataFrame['Orbit_x'].apply(lambda x: x/10.)\n",
    "myDataFrame['Orbit_y'] = myDataFrame['Orbit_y'].apply(lambda x: x/10.)"
   ]
  },
  {
   "cell_type": "code",
   "execution_count": null,
   "metadata": {
    "collapsed": true
   },
   "outputs": [],
   "source": [
    "# get the optics functions from the model\n",
    "optics = metaclass.twiss('/eos/user/e/esenes/AnalysisTools/Injection7_optics_Qx_0.21_Qy_0.23.outx')"
   ]
  },
  {
   "cell_type": "markdown",
   "metadata": {},
   "source": [
    "# Calculate injection oscillation from the BPM"
   ]
  },
  {
   "cell_type": "markdown",
   "metadata": {},
   "source": [
    "## 1. Look at one BPM and calculate the oscillation over the first 50 turns"
   ]
  },
  {
   "cell_type": "code",
   "execution_count": null,
   "metadata": {
    "collapsed": true
   },
   "outputs": [],
   "source": [
    "# get the beta at the BPMs position\n",
    "optics_names = optics.NAME\n",
    "BPM_name = []\n",
    "BPM_idx = []\n",
    "BPM_betax = []\n",
    "BPM_alphax = []\n",
    "\n",
    "for k in range(len(optics_names)):\n",
    "    if optics_names[k].find('PR.BPM') != -1:\n",
    "#        print optics_names[k]\n",
    "        BPM_name.append(optics_names[k])\n",
    "        BPM_idx.append(k)\n",
    "        BPM_betax.append(optics.BETA11[k])   \n",
    "        BPM_alphax.append(optics.ALFA11[k])\n",
    "\n",
    "# for some reason the last bpm is the 00, place it back at the beginning\n",
    "BPM_name = [BPM_name[-1]] + BPM_name[:-1]\n",
    "BPM_idx = [BPM_idx[-1]] + BPM_idx[:-1]\n",
    "BPM_betax = [BPM_betax[-1]] + BPM_betax[:-1]\n",
    "BPM_alphax = [BPM_alphax[-1]] + BPM_alphax[:-1]"
   ]
  },
  {
   "cell_type": "code",
   "execution_count": null,
   "metadata": {
    "collapsed": true,
    "scrolled": true
   },
   "outputs": [],
   "source": [
    "# loop over all the BPM\n",
    "\n",
    "# fit an harmonic function through the oscillations and extrapolate the amplitude. \n",
    "# possible tunes (non integer part) have been restricted to be between .20 and .25 --> 2pi/5 and pi/2\n",
    "\n",
    "from scipy.optimize import curve_fit\n",
    "def f_to_fit(x, a, b, c, d):\n",
    "    return a*np.sin(b*x + c) + d\n",
    "\n",
    "xdata = np.linspace(0,30,30)\n",
    "osc_amplitude = np.empty([len(myDataFrame),len(BPM_name)],dtype=float); osc_amplitude[:]=np.nan\n",
    "\n",
    "# fit boundaries \n",
    "bounds=([-np.inf, 1.*pi/5, -pi, -np.inf],[np.inf,pi/2.,pi,np.inf])\n",
    "# statistical check\n",
    "chi2 = np.empty([len(myDataFrame),len(BPM_name)],dtype=float)\n",
    "\n",
    "for m in range(len(BPM_name)):\n",
    "\n",
    "    for k in range(len(myDataFrame)):\n",
    "        ydata = myDataFrame['PR_BPM.AcquisitionTrajectoryBBB.value.position'].apply(lambda x: 0.1*x[m,0:30]).values[k]\n",
    "        # starting values\n",
    "        p0 = ([2*signalRMS(ydata), 0.45*pi, pi/2, np.mean(ydata)])\n",
    "\n",
    "        try:\n",
    "            p, cov = curve_fit(f_to_fit,xdata,ydata,bounds=bounds,p0=p0)\n",
    "            osc_amplitude[k,m] = np.abs(p[0])\n",
    "\n",
    "            yfit = f_to_fit(xdata, *p)\n",
    "            chi2[k,m] = np.sum((yfit - ydata)**2)/len(yfit)\n",
    "\n",
    "        except RuntimeError:\n",
    "            print 'fit do not converge on shot '+str(k)\n",
    "            osc_amplitude[k,m] = np.nan\n",
    "            chi2[k,m] = np.nan\n",
    "        \n",
    "    print BPM_name[m] + ' processed with success '+ str(np.count_nonzero(~np.isnan(osc_amplitude[:,m]))) +'/'+str(len(myDataFrame))+' shots'\n",
    "            \n",
    "print 'Done.'"
   ]
  },
  {
   "cell_type": "code",
   "execution_count": null,
   "metadata": {
    "collapsed": true
   },
   "outputs": [],
   "source": [
    "# sanity check \n",
    "for k in range(34):\n",
    "    plt.plot(myDataFrame['logical_PI_KFA45.K.value'].shift(shiftVal),osc_amplitude[:,k],'.')\n",
    "    x1,x2,y1,y2 = plt.axis()\n",
    "    plt.axis((x1,x2,0,10))"
   ]
  },
  {
   "cell_type": "code",
   "execution_count": null,
   "metadata": {
    "collapsed": true
   },
   "outputs": [],
   "source": [
    "# manual inspection\n",
    "bpm_n = 21\n",
    "plt.plot(myDataFrame['logical_PI_KFA45.K.value'].shift(shiftVal),osc_amplitude[:,bpm_n],'.')\n",
    "x1,x2,y1,y2 = plt.axis()\n",
    "plt.axis((x1,x2,0,10))\n",
    "print 'Beta_x at '+BPM_name[bpm_n]+': '+str(BPM_betax[bpm_n])"
   ]
  },
  {
   "cell_type": "code",
   "execution_count": null,
   "metadata": {
    "collapsed": true
   },
   "outputs": [],
   "source": [
    "plt.plot(chi2[:,bpm_n],'.')"
   ]
  },
  {
   "cell_type": "raw",
   "metadata": {
    "collapsed": true
   },
   "source": [
    "# another manual inspection\n",
    "mySlice = chi2[:,bpm_n]\n",
    "ll = np.where(mySlice>.3)\n",
    "\n",
    "print chi2[ll,bpm_n]\n",
    "\n",
    "xdata = np.linspace(0,50,50)\n",
    "ydata = myDataFrame['PR_BPM.AcquisitionTrajectoryBBB.value.position'].apply(lambda x: 0.1*x[bpm_n,0:50]).values[ll]\n",
    "\n",
    "plt.plot(xdata, ydata,'-',label='data') #factors are to adjust units in the plot\n",
    "\n",
    "xfit = np.linspace(0,50,250) \n",
    "\n",
    "def f_to_fit(x, a, b, c, d):\n",
    "    return a*np.sin(b*x + c) + d\n",
    "\n",
    "p0 = ([2*signalRMS(ydata), 0.45*pi, pi/2., np.mean(ydata)])\n",
    "# # p0 = p\n",
    "\n",
    "p, cov = curve_fit(f_to_fit,xdata,ydata,bounds=bounds,p0=p0)\n",
    "plt.plot(xfit, f_to_fit(xfit, *p), 'r-', label='fit') \n",
    "plt.plot(xdata, f_to_fit(xdata, *p), 'g.', label='fit') #sanity check\n",
    "\n",
    "yfit = f_to_fit(xdata, *p)\n",
    "chi2_l = np.sum((yfit - ydata)**2)/len(yfit)\n",
    "print 'chi2= '+ str(chi2_l)\n",
    "\n",
    "#fit and plot fit\n",
    "print 'Model function: a sin(bx + c) + d'\n",
    "print 'Fit params: a=' + str(p[0]) + '±' + str(cov[0][0]) + ' b= ' + str(p[1]) + '±' + str(cov[1][1]) +' c= ' + str(p[2]) + '±' + str(cov[2][2]) + ' d= '+ str(p[3]) + '±' + str(cov[3][3]) \n",
    "print 'k='+str(myDataFrame['logical_PI_KFA45.K.value'].values[ll])\n",
    "print \" \"\n",
    "print '2RMS='+str(2*signalRMS(ydata))\n",
    "print 'avg='+str(np.mean(ydata))\n",
    "\n",
    "plt.xlabel('Number of turns')\n",
    "plt.ylabel('BPM position (mm)')\n",
    "plt.legend()"
   ]
  },
  {
   "cell_type": "code",
   "execution_count": null,
   "metadata": {
    "collapsed": true
   },
   "outputs": [],
   "source": [
    "fig=plt.figure(figsize=(10, 8), dpi= 80, facecolor='w', edgecolor='k')\n",
    "plt.imshow(osc_amplitude[:139,:],\n",
    "           cmap='hot',\n",
    "           aspect='auto'\n",
    "          )\n",
    "plt.colorbar()\n",
    "plt.xlabel('BPM number')\n",
    "plt.ylabel('Shot number')"
   ]
  },
  {
   "cell_type": "markdown",
   "metadata": {
    "collapsed": true
   },
   "source": [
    "## 2. RMS orbit deviation 1st-2nd turn and 1st turn-1ms orbit"
   ]
  },
  {
   "cell_type": "markdown",
   "metadata": {
    "collapsed": true
   },
   "source": [
    "### calculate the RMS orbit deviation\n",
    "Use difference between the first and second turn to evaluate the orbit deviation from the reference orbit, where\n",
    "\n",
    "\n",
    "$$\\Delta x_\\text{rms} =  \\sqrt{\\frac{1}{N} \\sum_{i=1}^{N} (x_\\text{turn2} - x_\\text{turn1})^2 }$$\n",
    "\n",
    "\n",
    "excluding the BPM in the bump, that would dominate the estimator.\n",
    "\n",
    "Same for the deviation from the orbit \n",
    "\n",
    "$$\\Delta x_\\text{rms, orbit} = \\sqrt{\\frac{1}{N} \\sum_{i=1}^{N} (x_\\text{turn1} - x_\\text{average_orbit_1ms})^2 }$$"
   ]
  },
  {
   "cell_type": "code",
   "execution_count": null,
   "metadata": {
    "collapsed": true
   },
   "outputs": [],
   "source": [
    "# X plane\n",
    "mySeries1 = myDataFrame['BPMx_turn1'].apply(lambda x: np.delete(x,17))\n",
    "mySeries2 = myDataFrame['BPMx_turn2'].apply(lambda x: np.delete(x,17))\n",
    "myOrbit = myDataFrame['Orbit_x'].apply(lambda x: np.delete(x,17))\n",
    "\n",
    "myDataFrame['deltaX_2turns'] = signalRMSDifference(mySeries1,mySeries2,42) # BPM43 excluded\n",
    "myDataFrame['OrbitX_dev_RMS'] = signalRMSDifference(mySeries1,myOrbit,42) # BPM43 excluded\n",
    "\n",
    "# Y plane\n",
    "mySeries1 = myDataFrame['BPMy_turn1'].apply(lambda x: np.delete(x,17))\n",
    "mySeries2 = myDataFrame['BPMy_turn2'].apply(lambda x: np.delete(x,17))\n",
    "myOrbit = myDataFrame['Orbit_y'].apply(lambda x: np.delete(x,17))\n",
    "\n",
    "myDataFrame['deltaY_2turns'] = signalRMSDifference(mySeries1,mySeries2,42) # BPM43 excluded\n",
    "myDataFrame['OrbitY_dev_RMS'] = signalRMSDifference(mySeries1,myOrbit,42) # BPM43 excluded"
   ]
  },
  {
   "cell_type": "code",
   "execution_count": null,
   "metadata": {
    "collapsed": true
   },
   "outputs": [],
   "source": [
    "plt.plot(1e3*myDataFrame['logical_PI_KFA45.K.value'].shift(shiftVal),myDataFrame['deltaX_2turns'].values,'*',label='X plane')\n",
    "\n",
    "plt.xlabel('Kick (mrad)')\n",
    "plt.ylabel('RMS orbit deviation on first 2 turns(mm)')\n",
    "plt.title('First two turn RMS orbit difference')\n",
    "\n",
    "plt.plot(1e3*myDataFrame['logical_PI_KFA45.K.value'].shift(shiftVal),myDataFrame['deltaY_2turns'].values,'*',label='Y plane')\n",
    "\n",
    "\n",
    "\n",
    "plt.legend(frameon=True)\n",
    "x1,x2,y1,y2 = plt.axis()\n",
    "plt.axis((x1,x2,0,8))\n",
    "plt.axvline(x=0.004381000000000, ymin=0, ymax = 8, linewidth=2, color='k')"
   ]
  },
  {
   "cell_type": "code",
   "execution_count": null,
   "metadata": {
    "collapsed": true
   },
   "outputs": [],
   "source": [
    "plt.plot(1e3*myDataFrame['logical_PI_KFA45.K.value'].shift(shiftVal),myDataFrame['OrbitX_dev_RMS'].values,'*',label='X plane')\n",
    "\n",
    "plt.xlabel('Kick (mrad)')\n",
    "plt.ylabel('RMS orbit deviation 1st turn-orbit (mm)')\n",
    "plt.title('First turn RMS orbit difference from closed orbit')\n",
    "\n",
    "plt.plot(1e3*myDataFrame['logical_PI_KFA45.K.value'].shift(shiftVal),myDataFrame['OrbitY_dev_RMS'].values,'*',label='Y plane')\n",
    "\n",
    "\n",
    "plt.legend(frameon=True)\n",
    "x1,x2,y1,y2 = plt.axis()\n",
    "# plt.axis((x1,x2,0,8))\n",
    "# plt.axvline(x=0.004381000000000, ymin=0, ymax = 8, linewidth=2, color='k')"
   ]
  },
  {
   "cell_type": "markdown",
   "metadata": {},
   "source": [
    "# Methods comparison"
   ]
  },
  {
   "cell_type": "markdown",
   "metadata": {},
   "source": [
    "## 1) Single BPM method"
   ]
  },
  {
   "cell_type": "code",
   "execution_count": null,
   "metadata": {
    "collapsed": true
   },
   "outputs": [],
   "source": [
    "bpm_n1 = 25\n",
    "osc1 = osc_amplitude[:,bpm_n1]\n",
    "print 'At '+BPM_name[bpm_n1]+' betax='+str(BPM_betax[bpm_n1])+' alphax='+str(BPM_alphax[bpm_n1])\n",
    "print 'Expected value for the fit a='+str((1+BPM_alphax[bpm_n1]**2)/(2*BPM_betax[bpm_n1]))\n",
    "bpm_n2 = 21\n",
    "osc2 = osc_amplitude[:,bpm_n2]\n",
    "print 'At '+BPM_name[bpm_n2]+' betax='+str(BPM_betax[bpm_n2])+' alphax='+str(BPM_alphax[bpm_n2])\n",
    "print 'Expected value for the fit a='+str((1+BPM_alphax[bpm_n2]**2)/(2*BPM_betax[bpm_n2]))"
   ]
  },
  {
   "cell_type": "code",
   "execution_count": null,
   "metadata": {
    "collapsed": true
   },
   "outputs": [],
   "source": [
    "from scipy.optimize import curve_fit\n",
    "\n",
    "def f_to_fit(x, a, b, c):\n",
    "    return a*(x - b)**2 + c\n",
    "\n",
    "xdata = 1e-3*osc1\n",
    "ydata = 1e-6*myDataFrame['WS_geom_emittance_x']\n",
    "\n",
    "fig, ax = plt.subplots(1)\n",
    "ax.plot(1e3*xdata, 1e6*ydata,'.',label='$\\epsilon_x$') #factors are to adjust units in the plot\n",
    "\n",
    "p, cov = curve_fit(f_to_fit,xdata,ydata)\n",
    "\n",
    "xfit = np.linspace(np.min(xdata),np.max(xdata),200)\n",
    "ax.plot(1e3*xfit, 1e6*f_to_fit(xfit, *p), 'r-', label='fit') #factors are to adjust units in the plot\n",
    "\n",
    "#fit and plot fit\n",
    "print 'Model function: a(x - b)^2 + c'\n",
    "print 'Fit params: a=' + str(p[0]) + ' b= ' + str(p[1]) + ' c= '+ str(p[2])\n",
    "\n",
    "\n",
    "plt.xlabel('$\\Delta_x$ on 1 BPM (mm)')\n",
    "plt.ylabel('Geometrical emittance (mm.mrad)')\n",
    "plt.title(BPM_name[bpm_n1])\n",
    "\n",
    "ax.text(0.35, 0.95, 'Fit function: $a(x-b)^2+c$:\\n $a=$%.3f \\n $b=$%.2E \\n $c=$%.2E'%(p[0],p[1],p[2]),\n",
    "        transform=ax.transAxes, fontsize=14,verticalalignment='top')\n",
    "\n",
    "x1,x2,y1,y2 = plt.axis()\n",
    "# plt.axis((x1,x2,1.5,4.2))\n",
    "\n",
    "\n",
    "plt.legend(frameon=True)\n",
    "print ' '\n",
    "print 'At '+BPM_name[bpm_n1]+' betax='+str(BPM_betax[bpm_n1])+' alphax='+str(BPM_alphax[bpm_n1])\n",
    "print 'Expected value for the fit a='+str((1+BPM_alphax[bpm_n1]**2)/(2*BPM_betax[bpm_n1]))"
   ]
  },
  {
   "cell_type": "code",
   "execution_count": null,
   "metadata": {
    "collapsed": true
   },
   "outputs": [],
   "source": [
    "from scipy.optimize import curve_fit\n",
    "\n",
    "def f_to_fit(x, a, b, c):\n",
    "    return a*(x - b)**2 + c\n",
    "\n",
    "xdata = 1e-3*osc2\n",
    "ydata = 1e-6*myDataFrame['WS_geom_emittance_x']\n",
    "\n",
    "fig, ax = plt.subplots(1)\n",
    "ax.plot(1e3*xdata, 1e6*ydata,'.',label='$\\epsilon_x$') #factors are to adjust units in the plot\n",
    "\n",
    "p, cov = curve_fit(f_to_fit,xdata,ydata)\n",
    "\n",
    "xfit = np.linspace(np.min(xdata),np.max(xdata),200)\n",
    "ax.plot(1e3*xfit, 1e6*f_to_fit(xfit, *p), 'r-', label='fit') #factors are to adjust units in the plot\n",
    "\n",
    "#fit and plot fit\n",
    "print 'Model function: a(x - b)^2 + c'\n",
    "print 'Fit params: a=' + str(p[0]) + ' b= ' + str(p[1]) + ' c= '+ str(p[2])\n",
    "\n",
    "\n",
    "plt.xlabel('$\\Delta_x$ on 1 BPM (mm)')\n",
    "plt.ylabel('Geometrical emittance (mm.mrad)')\n",
    "plt.title(BPM_name[bpm_n2])\n",
    "\n",
    "ax.text(0.35, 0.95, 'Fit function: $a(x-b)^2+c$:\\n $a=$%.3f \\n $b=$%.2E \\n $c=$%.2E'%(p[0],p[1],p[2]),\n",
    "        transform=ax.transAxes, fontsize=14,verticalalignment='top')\n",
    "\n",
    "x1,x2,y1,y2 = plt.axis()\n",
    "# plt.axis((x1,x2,1.5,4.2))\n",
    "\n",
    "\n",
    "plt.legend(frameon=True)\n",
    "print ' '\n",
    "print 'At '+BPM_name[bpm_n2]+' betax='+str(BPM_betax[bpm_n2])+' alphax='+str(BPM_alphax[bpm_n2])\n",
    "print 'Expected value for the fit a='+str((1+BPM_alphax[bpm_n2]**2)/(2*BPM_betax[bpm_n2]))\n",
    "print 'Theoretically a=(1+alpha^2)/2beta'"
   ]
  },
  {
   "cell_type": "markdown",
   "metadata": {},
   "source": [
    "## 2) All BPM - single turn method"
   ]
  },
  {
   "cell_type": "code",
   "execution_count": null,
   "metadata": {
    "collapsed": true
   },
   "outputs": [],
   "source": [
    "from scipy.optimize import curve_fit\n",
    "\n",
    "def f_to_fit(x, a, b, c):\n",
    "    return a*(x - b)**2 + c\n",
    "\n",
    "xdata = 1e-3*myDataFrame['deltaX_2turns']\n",
    "ydata = 1e-6*myDataFrame['WS_geom_emittance_x']\n",
    "\n",
    "fig, ax = plt.subplots(1)\n",
    "ax.plot(1e3*xdata, 1e6*ydata,'.',label='$\\epsilon_x$') #factors are to adjust units in the plot\n",
    "\n",
    "p, cov = curve_fit(f_to_fit,xdata,ydata)\n",
    "\n",
    "xfit = np.linspace(np.min(xdata),np.max(xdata),200)\n",
    "ax.plot(1e3*xfit, 1e6*f_to_fit(xfit, *p), 'r-', label='fit') #factors are to adjust units in the plot\n",
    "\n",
    "#fit and plot fit\n",
    "print 'Model function: a(x - b)^2 + c'\n",
    "print 'Fit params: a=' + str(p[0]) + ' b= ' + str(p[1]) + ' c= '+ str(p[2])\n",
    "\n",
    "\n",
    "plt.xlabel('$\\Delta_{x,RMS}$ (mm)')\n",
    "plt.ylabel('Geometrical emittance (mm.mrad)')\n",
    "plt.title('First/second turn RMS difference')\n",
    "\n",
    "ax.text(0.35, 0.95, 'Fit function: $a(x-b)^2+c$:\\n $a=$%.3f \\n $b=$%.2E \\n $c=$%.2E'%(p[0],p[1],p[2]),\n",
    "        transform=ax.transAxes, fontsize=14,verticalalignment='top')\n",
    "\n",
    "x1,x2,y1,y2 = plt.axis()\n",
    "# plt.axis((x1,x2,1.5,4.2))\n",
    "\n",
    "\n",
    "plt.legend(frameon=True)\n",
    "print ' '\n",
    "print 'Expected value for the fit a='+str(1./(2.*16.))"
   ]
  },
  {
   "cell_type": "code",
   "execution_count": null,
   "metadata": {
    "collapsed": true
   },
   "outputs": [],
   "source": [
    "from scipy.optimize import curve_fit\n",
    "\n",
    "def f_to_fit(x, a, b, c):\n",
    "    return a*(x - b)**2 + c\n",
    "\n",
    "xdata = 1e-3*myDataFrame['OrbitX_dev_RMS']\n",
    "ydata = 1e-6*myDataFrame['WS_geom_emittance_x']\n",
    "\n",
    "fig, ax = plt.subplots(1)\n",
    "ax.plot(1e3*xdata, 1e6*ydata,'.',label='$\\epsilon_x$') #factors are to adjust units in the plot\n",
    "\n",
    "p, cov = curve_fit(f_to_fit,xdata,ydata)\n",
    "\n",
    "xfit = np.linspace(np.min(xdata),np.max(xdata),200)\n",
    "ax.plot(1e3*xfit, 1e6*f_to_fit(xfit, *p), 'r-', label='fit') #factors are to adjust units in the plot\n",
    "\n",
    "#fit and plot fit\n",
    "print 'Model function: a(x - b)^2 + c'\n",
    "print 'Fit params: a=' + str(p[0]) + ' b= ' + str(p[1]) + ' c= '+ str(p[2])\n",
    "\n",
    "\n",
    "plt.xlabel('$\\Delta_{x,RMS}$ (mm)')\n",
    "plt.ylabel('Geometrical emittance (mm.mrad)')\n",
    "plt.title('First turn/orbit difference')\n",
    "\n",
    "ax.text(0.35, 0.95, 'Fit function: $a(x-b)^2+c$:\\n $a=$%.3f \\n $b=$%.2E \\n $c=$%.2E'%(p[0],p[1],p[2]),\n",
    "        transform=ax.transAxes, fontsize=14,verticalalignment='top')\n",
    "\n",
    "x1,x2,y1,y2 = plt.axis()\n",
    "# plt.axis((x1,x2,1.5,4.2))\n",
    "\n",
    "\n",
    "plt.legend(frameon=True)\n",
    "print ' '\n",
    "print 'Expected value for the fit a='+str(1./(2.*16.))"
   ]
  },
  {
   "cell_type": "markdown",
   "metadata": {},
   "source": [
    "# Laslett tune shift calculation"
   ]
  },
  {
   "cell_type": "code",
   "execution_count": null,
   "metadata": {
    "collapsed": true
   },
   "outputs": [],
   "source": [
    "myDataFrame['peakLineDensity'] = 0.39"
   ]
  },
  {
   "cell_type": "code",
   "execution_count": null,
   "metadata": {
    "collapsed": true
   },
   "outputs": [],
   "source": []
  },
  {
   "cell_type": "code",
   "execution_count": null,
   "metadata": {
    "collapsed": true
   },
   "outputs": [],
   "source": [
    "# brightness and intensity\n",
    "myDataFrame['WS_intensity'] = myDataFrame['Intensity'].apply(lambda x: x[80])\n",
    "myDataFrame['Brightness'] = myDataFrame['WS_intensity']/(0.5*(myDataFrame['WS_emittance_x']+myDataFrame['WS_emittance_y']))"
   ]
  },
  {
   "cell_type": "code",
   "execution_count": null,
   "metadata": {
    "collapsed": true
   },
   "outputs": [],
   "source": [
    "twiss_file_name = '/eos/user/e/esenes/AnalysisTools/Injection7_optics_Qx_0.21_Qy_0.23_cycled_timefalse.outx'\n",
    "\n",
    "[deltaQx, deltaQy] = laslett_sc_PS(myDataFrame['peakLineDensity'], myDataFrame['deltaP_P_rms'],\n",
    "              1e-6*myDataFrame['WS_emittance_x'], 1e-6*myDataFrame['WS_emittance_y'],\n",
    "              1400, twiss_file_name)\n",
    "\n",
    "myDataFrame['deltaQx'] = deltaQx\n",
    "myDataFrame['deltaQy'] = deltaQy"
   ]
  },
  {
   "cell_type": "code",
   "execution_count": null,
   "metadata": {
    "collapsed": true
   },
   "outputs": [],
   "source": [
    "fig, ax = plt.subplots(1)\n",
    "\n",
    "# working point\n",
    "Qx = 6.207\n",
    "Qy = 6.155\n",
    "plt.plot(Qx,Qy,'r.',markersize=10)\n",
    "\n",
    "# tune diagram lines\n",
    "ax.plot([5.8, 6.3],[5.8, 6.3],'k')\n",
    "ax.plot([6, 6],[5.8, 6.3],'k')\n",
    "ax.plot([5.8, 6.3],[6, 6],'k')\n",
    "ax.plot([6.25, 6.25],[5.8, 6.3],'k')\n",
    "ax.plot([5.8, 6.3],[6.25, 6.25],'k')\n",
    "# options\n",
    "plt.xlim([6.1, 6.26])\n",
    "plt.ylim([6.05, 6.26])\n",
    "# tune shifts\n",
    "\n",
    "\n",
    "p1 = ax.scatter(Qx+myDataFrame['deltaQx'], Qy+myDataFrame['deltaQy'], c=myDataFrame['Brightness'], cmap=plt.cm.coolwarm)\n",
    "clb = fig.colorbar(p1)\n",
    "clb.set_label('Beam brightness')\n",
    "\n",
    "# PSB point\n",
    "[deltaQxPSB, deltaQyPSB] = laslett_sc_PS(0.39, 0.5e-3,\n",
    "              1e-6*2.312, 1e-6*2.143,\n",
    "              1400, twiss_file_name)\n",
    "plt.plot(Qx+deltaQxPSB,Qy+deltaQyPSB,'*',markersize=15)\n",
    "\n",
    "\n",
    "plt.show()\n",
    "\n",
    "fig.savefig('BCMS_under_coupling_footprint.eps', format='eps')"
   ]
  },
  {
   "cell_type": "code",
   "execution_count": null,
   "metadata": {
    "collapsed": true
   },
   "outputs": [],
   "source": []
  },
  {
   "cell_type": "code",
   "execution_count": null,
   "metadata": {
    "collapsed": true
   },
   "outputs": [],
   "source": []
  },
  {
   "cell_type": "code",
   "execution_count": null,
   "metadata": {
    "collapsed": true
   },
   "outputs": [],
   "source": []
  },
  {
   "cell_type": "code",
   "execution_count": null,
   "metadata": {
    "collapsed": true
   },
   "outputs": [],
   "source": []
  },
  {
   "cell_type": "code",
   "execution_count": null,
   "metadata": {
    "collapsed": true
   },
   "outputs": [],
   "source": []
  },
  {
   "cell_type": "code",
   "execution_count": null,
   "metadata": {
    "collapsed": true
   },
   "outputs": [],
   "source": []
  },
  {
   "cell_type": "code",
   "execution_count": null,
   "metadata": {
    "collapsed": true
   },
   "outputs": [],
   "source": []
  },
  {
   "cell_type": "code",
   "execution_count": null,
   "metadata": {
    "collapsed": true
   },
   "outputs": [],
   "source": []
  },
  {
   "cell_type": "code",
   "execution_count": null,
   "metadata": {
    "collapsed": true
   },
   "outputs": [],
   "source": []
  },
  {
   "cell_type": "code",
   "execution_count": null,
   "metadata": {
    "collapsed": true
   },
   "outputs": [],
   "source": [
    "--> fix the peak line density in the tomogram function\n",
    "--> Turn your library into a class, define the methods as static methods and change all the callers as eTools.functionNaME()\n",
    "--> implementa il local indexing instaed of the iloc in the dataframe"
   ]
  }
 ],
 "metadata": {
  "kernelspec": {
   "display_name": "Python 2",
   "language": "python",
   "name": "python2"
  },
  "language_info": {
   "codemirror_mode": {
    "name": "ipython",
    "version": 2
   },
   "file_extension": ".py",
   "mimetype": "text/x-python",
   "name": "python",
   "nbconvert_exporter": "python",
   "pygments_lexer": "ipython2",
   "version": "2.7.13"
  }
 },
 "nbformat": 4,
 "nbformat_minor": 2
}
